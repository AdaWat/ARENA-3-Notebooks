{
  "cells": [
    {
      "cell_type": "markdown",
      "metadata": {
        "id": "view-in-github",
        "colab_type": "text"
      },
      "source": [
        "<a href=\"https://colab.research.google.com/github/AdaWat/ARENA-3-Notebooks/blob/main/Ray_Tracing.ipynb\" target=\"_parent\"><img src=\"https://colab.research.google.com/assets/colab-badge.svg\" alt=\"Open In Colab\"/></a>"
      ]
    },
    {
      "cell_type": "markdown",
      "source": [
        "# [0.1] - Ray Tracing"
      ],
      "metadata": {
        "id": "EXC4a3MyLSBU"
      }
    },
    {
      "cell_type": "markdown",
      "source": [
        "Colab: [exercises](https://colab.research.google.com/drive/1L-N_B9SyE8v2jiAsLjOMyjfogyvTtXaU) | [solutions](https://colab.research.google.com/drive/1vBjSYNahPqzGfxEaKx4ZEEGKswRRcUvo)\n",
        "\n",
        "ARENA 3.0 [Streamlit page](https://arena3-chapter0-fundamentals.streamlit.app/[0.1]_Ray_Tracing)\n",
        "\n",
        "Please send any problems / bugs on the `#errata` channel in the [Slack group](https://join.slack.com/t/arena-la82367/shared_invite/zt-1uvoagohe-JUv9xB7Vr143pdx1UBPrzQ), and ask any questions on the dedicated channels for this chapter of material.\n",
        "\n"
      ],
      "metadata": {
        "id": "aBL8Mx_fLT3S"
      }
    },
    {
      "cell_type": "markdown",
      "metadata": {
        "id": "vhNgL4Qhw1bP"
      },
      "source": [
        "<img src=\"https://raw.githubusercontent.com/callummcdougall/Fundamentals/main/images/raytracing.png\" width=\"350\">\n"
      ]
    },
    {
      "cell_type": "markdown",
      "source": [
        "# Introduction"
      ],
      "metadata": {
        "id": "niHe80GT0Sg3"
      }
    },
    {
      "cell_type": "markdown",
      "metadata": {
        "id": "XR6mqKFZCWy1"
      },
      "source": [
        "Today we'll be practicing batched matrix operations in PyTorch by writing a basic graphics renderer. We'll start with an extremely simplified case and work up to rendering your very own 3D Pikachu!\n",
        "\n",
        "We'll also be touching on some general topics which will be important going forwards in this course, such as:\n",
        "\n",
        "* Using GPT systems to assist your learning and coding\n",
        "* Typechecking, and good coding practices\n",
        "* Debugging, with VSCode's built-in run & debug features"
      ]
    },
    {
      "cell_type": "markdown",
      "source": [
        "## Content & Learning Objectives\n",
        "\n",
        "### 1️⃣ Rays & Segments\n",
        "\n",
        "This section introduces the key ideas and concepts in today's exercises, and guides you through some basic functions involving creating & using 2D rays.\n",
        "\n",
        "> ##### Learning objectives\n",
        ">\n",
        "> - Learn how to create PyTorch tensors in a variety of ways\n",
        "> - Understand how to parametrize lines and rays in 2D\n",
        "> - Learn about type annotations and linear operations in PyTorch\n",
        "\n",
        "### 2️⃣ Batched Operations\n",
        "\n",
        "In the next section, you'll extend your work from the first section to perform batched operations, i.e. operations over several different dimensions at once.\n",
        "\n",
        "> ##### Learning objectives\n",
        ">\n",
        "> - Learn about some important concepts related to batched operations, e.g. broadcasting and logical reductions\n",
        "> - Understand and use the `einops` library\n",
        "> - Apply this knowledge to create & work with a batch of rays\n",
        "\n",
        "### 3️⃣ Triangles\n",
        "\n",
        "In the final section we move into the 2D and 3D realms, and build up to rendering a full 3D mesh as a 2D image.\n",
        "\n",
        "> ##### Learning objectives\n",
        ">\n",
        "> - Understand how to parametrize triangles in 2D and 3D, and solve for their intersection with rays\n",
        "> - Put everything together, to render your mesh as a 2D image\n",
        "\n",
        "### 4️⃣ Bonus\n",
        "\n",
        "In the optional bonus exercises, you have a chance to learn about the `pytest` library, as well as implement some more mathematically complex forms of raytracing to get things like dynamic lighting & videos."
      ],
      "metadata": {
        "id": "vQ9sEMkc_nDd"
      }
    },
    {
      "cell_type": "markdown",
      "source": [
        "## Setup (don't read, just run!)\n",
        "\n"
      ],
      "metadata": {
        "id": "wt4msOEr_vCz"
      }
    },
    {
      "cell_type": "code",
      "execution_count": null,
      "metadata": {
        "id": "ETi8_F_BCWy2",
        "colab": {
          "base_uri": "https://localhost:8080/"
        },
        "outputId": "06e3541c-bc43-4e4f-c5c0-04e1e1785fd5"
      },
      "outputs": [
        {
          "output_type": "stream",
          "name": "stdout",
          "text": [
            "Imports & installations complete!\n"
          ]
        }
      ],
      "source": [
        "try:\n",
        "    import google.colab\n",
        "    IN_COLAB = True\n",
        "except:\n",
        "    IN_COLAB = False\n",
        "\n",
        "if IN_COLAB:\n",
        "    # Install packages\n",
        "    %pip install einops\n",
        "    %pip install jaxtyping\n",
        "    %pip install typeguard\n",
        "\n",
        "    # Code to make sure output widgets display\n",
        "    from google.colab import output\n",
        "    output.enable_custom_widget_manager()\n",
        "\n",
        "    # Code to download the necessary files (e.g. solutions, test funcs)\n",
        "    import os, sys\n",
        "    if not os.path.exists(\"chapter0_fundamentals\"):\n",
        "        !wget https://github.com/callummcdougall/ARENA_3.0/archive/refs/heads/main.zip\n",
        "        !unzip /content/main.zip 'ARENA_3.0-main/chapter0_fundamentals/exercises/*'\n",
        "        os.remove(\"/content/main.zip\")\n",
        "        os.rename(\"ARENA_3.0-main/chapter0_fundamentals\", \"chapter0_fundamentals\")\n",
        "        os.rmdir(\"ARENA_3.0-main\")\n",
        "        sys.path.insert(0, \"chapter0_fundamentals/exercises\")\n",
        "\n",
        "    # Clear output\n",
        "    from IPython.display import clear_output\n",
        "    clear_output()\n",
        "    print(\"Imports & installations complete!\")\n",
        "\n",
        "else:\n",
        "    from IPython import get_ipython\n",
        "    ipython = get_ipython()\n",
        "    ipython.run_line_magic(\"load_ext\", \"autoreload\")\n",
        "    ipython.run_line_magic(\"autoreload\", \"2\")"
      ]
    },
    {
      "cell_type": "code",
      "source": [
        "import os\n",
        "import sys\n",
        "import torch as t\n",
        "from torch import Tensor\n",
        "import einops\n",
        "from ipywidgets import interact\n",
        "import plotly.express as px\n",
        "from ipywidgets import interact\n",
        "from pathlib import Path\n",
        "from IPython.display import display\n",
        "from jaxtyping import Float, Int, Bool, Shaped, jaxtyped\n",
        "\n",
        "# Get file paths to this set of exercises\n",
        "exercises_dir = Path(\"chapter0_fundamentals/exercises\")\n",
        "section_dir = exercises_dir / \"part1_ray_tracing\"\n",
        "\n",
        "from plotly_utils import imshow\n",
        "from part1_ray_tracing.utils import render_lines_with_plotly, setup_widget_fig_ray, setup_widget_fig_triangle\n",
        "import part1_ray_tracing.tests as tests\n",
        "\n",
        "MAIN = __name__ == \"__main__\""
      ],
      "metadata": {
        "id": "3dBIzohx_zbs"
      },
      "execution_count": null,
      "outputs": []
    },
    {
      "cell_type": "markdown",
      "metadata": {
        "id": "jFbQc3AZCWy3"
      },
      "source": [
        "<details>\n",
        "<summary>Help - I get a NumPy-related error</summary>\n",
        "\n",
        "This is an annoying colab-related issue which I haven't been able to find a satisfying fix for. If you restart runtime (but don't delete runtime), and run just the imports cell above again (but not the `%pip install` cell), the problem should go away.\n",
        "</details>\n",
        "\n",
        "\n",
        "<details>\n",
        "<summary>Note on <code>pathlib</code></summary>\n",
        "\n",
        "We'll be using the `pathlib` library to define file paths. This is a more modern way of working with file paths than the `os` library, and is more cross-platform. You can read more about it [here](https://realpython.com/python-pathlib/).\n",
        "\n",
        "A major advantage of using `pathlib` rather than just relative path names is that it is more robust to which file / directory you happen to be running your code in. There's nothing more frustrating than failing to import or load a file, even though you can see it right there in your directory! Most of our code to load files will look something like this:\n",
        "\n",
        "```python\n",
        "with open(section_dir / \"pikachu.pt\", \"rb\") as f:\n",
        "    triangles = t.load(f)\n",
        "```\n",
        "\n",
        "since `section_dir` is the name of the `part1_ray_tracing` directory, and forward slashes are used to define files or directories within that directory.\n",
        "</details>\n"
      ]
    },
    {
      "cell_type": "code",
      "execution_count": null,
      "metadata": {
        "id": "T1iqJFCT2u8j"
      },
      "outputs": [],
      "source": [
        "def first_func(num_pixels, y_limit) -> t.Tensor:\n",
        "    rays = t.zeros((num_pixels, 2, 3), dtype=t.float32)\n",
        "    t.linspace(-y_limit, y_limit, num_pixels, out=rays[:, 1, 1])\n",
        "    rays[:, 1, 0] = 1\n",
        "    return rays\n",
        "\n",
        "segments = t.tensor([\n",
        "    [[1.0, -12.0, 0.0], [1, -6.0, 0.0]],\n",
        "    [[0.5, 0.1, 0.0], [0.5, 1.15, 0.0]],\n",
        "    [[2, 12.0, 0.0], [2, 21.0, 0.0]]\n",
        "])\n",
        "\n",
        "rays1d = first_func(9, 10.0)"
      ]
    },
    {
      "cell_type": "markdown",
      "source": [
        "# 1️⃣ Rays & Segments"
      ],
      "metadata": {
        "id": "ecQF_djAMZzk"
      }
    },
    {
      "cell_type": "markdown",
      "metadata": {
        "id": "oaXrqIWf3mM1"
      },
      "source": [
        "## 1D Image Rendering\n",
        "\n",
        "In our initial setup, the **camera** will be a single point at the origin, and the **screen** will be the plane at x=1.\n",
        "\n",
        "**Objects** in the world consist of triangles, where triangles are represented as 3 points in 3D space (so 9 floating point values per triangle). You can build any shape out of sufficiently many triangles and your Pikachu will be made from 412 triangles.\n",
        "\n",
        "The camera will emit one or more **rays**, where a ray is represented by an **origin** point and a **direction** point. Conceptually, the ray is emitted from the origin and continues in the given direction until it intersects an object.\n",
        "\n",
        "We have no concept of lighting or color yet, so for now we'll say that a pixel on our screen should show a bright color if a ray from the origin through it intersects an object, otherwise our screen should be dark.\n"
      ]
    },
    {
      "cell_type": "markdown",
      "metadata": {
        "id": "MXPxX71x3x-A"
      },
      "source": [
        "<img src=\"https://raw.githubusercontent.com/callummcdougall/computational-thread-art/master/example_images/misc/ray_tracing.png\" width=\"400\">\n"
      ]
    },
    {
      "cell_type": "markdown",
      "metadata": {
        "id": "PQThrIXN3zGW"
      },
      "source": [
        "To start, we'll let the z dimension in our `(x, y, z)` space be zero and work in the remaining two dimensions.\n"
      ]
    },
    {
      "cell_type": "markdown",
      "metadata": {
        "id": "ci1CMntaCWy4"
      },
      "source": [
        "#### Exercise - implement `make_rays_1d`\n",
        "\n",
        "```yaml\n",
        "Difficulty: 🔴🔴⚪⚪⚪\n",
        "Importance: 🔵🔵🔵⚪⚪\n",
        "\n",
        "You should spend up to 10-15 minutes on this exercise.\n",
        "```\n"
      ]
    },
    {
      "cell_type": "markdown",
      "metadata": {
        "id": "EwUeN4_5CWy4"
      },
      "source": [
        "Implement the following `make_rays_1d` function so it generates some rays coming out of the origin, which we'll take to be `(0, 0, 0)`.\n",
        "\n",
        "Calling `render_lines_with_plotly` on your rays will display them in a 3D plot.\n"
      ]
    },
    {
      "cell_type": "code",
      "execution_count": null,
      "metadata": {
        "id": "mIXtvTYw36xX",
        "colab": {
          "base_uri": "https://localhost:8080/",
          "height": 617
        },
        "outputId": "63b21e86-6356-49df-ba2d-edb869bd1156"
      },
      "outputs": [
        {
          "output_type": "display_data",
          "data": {
            "text/html": [
              "<html>\n",
              "<head><meta charset=\"utf-8\" /></head>\n",
              "<body>\n",
              "    <div>            <script src=\"https://cdnjs.cloudflare.com/ajax/libs/mathjax/2.7.5/MathJax.js?config=TeX-AMS-MML_SVG\"></script><script type=\"text/javascript\">if (window.MathJax && window.MathJax.Hub && window.MathJax.Hub.Config) {window.MathJax.Hub.Config({SVG: {font: \"STIX-Web\"}});}</script>                <script type=\"text/javascript\">window.PlotlyConfig = {MathJaxConfig: 'local'};</script>\n",
              "        <script charset=\"utf-8\" src=\"https://cdn.plot.ly/plotly-2.24.1.min.js\"></script>                <div id=\"305af4b5-6999-4361-9889-d8670ab4afd3\" class=\"plotly-graph-div\" style=\"height:600px; width:600px;\"></div>            <script type=\"text/javascript\">                                    window.PLOTLYENV=window.PLOTLYENV || {};                                    if (document.getElementById(\"305af4b5-6999-4361-9889-d8670ab4afd3\")) {                    Plotly.newPlot(                        \"305af4b5-6999-4361-9889-d8670ab4afd3\",                        [{\"mode\":\"lines\",\"x\":[0.0,1.0],\"y\":[0.0,-10.0],\"z\":[0.0,0.0],\"type\":\"scatter3d\"},{\"mode\":\"lines\",\"x\":[0.0,1.0],\"y\":[0.0,-7.5],\"z\":[0.0,0.0],\"type\":\"scatter3d\"},{\"mode\":\"lines\",\"x\":[0.0,1.0],\"y\":[0.0,-5.0],\"z\":[0.0,0.0],\"type\":\"scatter3d\"},{\"mode\":\"lines\",\"x\":[0.0,1.0],\"y\":[0.0,-2.5],\"z\":[0.0,0.0],\"type\":\"scatter3d\"},{\"mode\":\"lines\",\"x\":[0.0,1.0],\"y\":[0.0,0.0],\"z\":[0.0,0.0],\"type\":\"scatter3d\"},{\"mode\":\"lines\",\"x\":[0.0,1.0],\"y\":[0.0,2.5],\"z\":[0.0,0.0],\"type\":\"scatter3d\"},{\"mode\":\"lines\",\"x\":[0.0,1.0],\"y\":[0.0,5.0],\"z\":[0.0,0.0],\"type\":\"scatter3d\"},{\"mode\":\"lines\",\"x\":[0.0,1.0],\"y\":[0.0,7.5],\"z\":[0.0,0.0],\"type\":\"scatter3d\"},{\"mode\":\"lines\",\"x\":[0.0,1.0],\"y\":[0.0,10.0],\"z\":[0.0,0.0],\"type\":\"scatter3d\"}],                        {\"height\":600,\"showlegend\":false,\"title\":{\"text\":\"3D rays\"},\"width\":600,\"template\":{\"data\":{\"histogram2dcontour\":[{\"type\":\"histogram2dcontour\",\"colorbar\":{\"outlinewidth\":0,\"ticks\":\"\"},\"colorscale\":[[0.0,\"#0d0887\"],[0.1111111111111111,\"#46039f\"],[0.2222222222222222,\"#7201a8\"],[0.3333333333333333,\"#9c179e\"],[0.4444444444444444,\"#bd3786\"],[0.5555555555555556,\"#d8576b\"],[0.6666666666666666,\"#ed7953\"],[0.7777777777777778,\"#fb9f3a\"],[0.8888888888888888,\"#fdca26\"],[1.0,\"#f0f921\"]]}],\"choropleth\":[{\"type\":\"choropleth\",\"colorbar\":{\"outlinewidth\":0,\"ticks\":\"\"}}],\"histogram2d\":[{\"type\":\"histogram2d\",\"colorbar\":{\"outlinewidth\":0,\"ticks\":\"\"},\"colorscale\":[[0.0,\"#0d0887\"],[0.1111111111111111,\"#46039f\"],[0.2222222222222222,\"#7201a8\"],[0.3333333333333333,\"#9c179e\"],[0.4444444444444444,\"#bd3786\"],[0.5555555555555556,\"#d8576b\"],[0.6666666666666666,\"#ed7953\"],[0.7777777777777778,\"#fb9f3a\"],[0.8888888888888888,\"#fdca26\"],[1.0,\"#f0f921\"]]}],\"heatmap\":[{\"type\":\"heatmap\",\"colorbar\":{\"outlinewidth\":0,\"ticks\":\"\"},\"colorscale\":[[0.0,\"#0d0887\"],[0.1111111111111111,\"#46039f\"],[0.2222222222222222,\"#7201a8\"],[0.3333333333333333,\"#9c179e\"],[0.4444444444444444,\"#bd3786\"],[0.5555555555555556,\"#d8576b\"],[0.6666666666666666,\"#ed7953\"],[0.7777777777777778,\"#fb9f3a\"],[0.8888888888888888,\"#fdca26\"],[1.0,\"#f0f921\"]]}],\"heatmapgl\":[{\"type\":\"heatmapgl\",\"colorbar\":{\"outlinewidth\":0,\"ticks\":\"\"},\"colorscale\":[[0.0,\"#0d0887\"],[0.1111111111111111,\"#46039f\"],[0.2222222222222222,\"#7201a8\"],[0.3333333333333333,\"#9c179e\"],[0.4444444444444444,\"#bd3786\"],[0.5555555555555556,\"#d8576b\"],[0.6666666666666666,\"#ed7953\"],[0.7777777777777778,\"#fb9f3a\"],[0.8888888888888888,\"#fdca26\"],[1.0,\"#f0f921\"]]}],\"contourcarpet\":[{\"type\":\"contourcarpet\",\"colorbar\":{\"outlinewidth\":0,\"ticks\":\"\"}}],\"contour\":[{\"type\":\"contour\",\"colorbar\":{\"outlinewidth\":0,\"ticks\":\"\"},\"colorscale\":[[0.0,\"#0d0887\"],[0.1111111111111111,\"#46039f\"],[0.2222222222222222,\"#7201a8\"],[0.3333333333333333,\"#9c179e\"],[0.4444444444444444,\"#bd3786\"],[0.5555555555555556,\"#d8576b\"],[0.6666666666666666,\"#ed7953\"],[0.7777777777777778,\"#fb9f3a\"],[0.8888888888888888,\"#fdca26\"],[1.0,\"#f0f921\"]]}],\"surface\":[{\"type\":\"surface\",\"colorbar\":{\"outlinewidth\":0,\"ticks\":\"\"},\"colorscale\":[[0.0,\"#0d0887\"],[0.1111111111111111,\"#46039f\"],[0.2222222222222222,\"#7201a8\"],[0.3333333333333333,\"#9c179e\"],[0.4444444444444444,\"#bd3786\"],[0.5555555555555556,\"#d8576b\"],[0.6666666666666666,\"#ed7953\"],[0.7777777777777778,\"#fb9f3a\"],[0.8888888888888888,\"#fdca26\"],[1.0,\"#f0f921\"]]}],\"mesh3d\":[{\"type\":\"mesh3d\",\"colorbar\":{\"outlinewidth\":0,\"ticks\":\"\"}}],\"scatter\":[{\"fillpattern\":{\"fillmode\":\"overlay\",\"size\":10,\"solidity\":0.2},\"type\":\"scatter\"}],\"parcoords\":[{\"type\":\"parcoords\",\"line\":{\"colorbar\":{\"outlinewidth\":0,\"ticks\":\"\"}}}],\"scatterpolargl\":[{\"type\":\"scatterpolargl\",\"marker\":{\"colorbar\":{\"outlinewidth\":0,\"ticks\":\"\"}}}],\"bar\":[{\"error_x\":{\"color\":\"#2a3f5f\"},\"error_y\":{\"color\":\"#2a3f5f\"},\"marker\":{\"line\":{\"color\":\"#E5ECF6\",\"width\":0.5},\"pattern\":{\"fillmode\":\"overlay\",\"size\":10,\"solidity\":0.2}},\"type\":\"bar\"}],\"scattergeo\":[{\"type\":\"scattergeo\",\"marker\":{\"colorbar\":{\"outlinewidth\":0,\"ticks\":\"\"}}}],\"scatterpolar\":[{\"type\":\"scatterpolar\",\"marker\":{\"colorbar\":{\"outlinewidth\":0,\"ticks\":\"\"}}}],\"histogram\":[{\"marker\":{\"pattern\":{\"fillmode\":\"overlay\",\"size\":10,\"solidity\":0.2}},\"type\":\"histogram\"}],\"scattergl\":[{\"type\":\"scattergl\",\"marker\":{\"colorbar\":{\"outlinewidth\":0,\"ticks\":\"\"}}}],\"scatter3d\":[{\"type\":\"scatter3d\",\"line\":{\"colorbar\":{\"outlinewidth\":0,\"ticks\":\"\"}},\"marker\":{\"colorbar\":{\"outlinewidth\":0,\"ticks\":\"\"}}}],\"scattermapbox\":[{\"type\":\"scattermapbox\",\"marker\":{\"colorbar\":{\"outlinewidth\":0,\"ticks\":\"\"}}}],\"scatterternary\":[{\"type\":\"scatterternary\",\"marker\":{\"colorbar\":{\"outlinewidth\":0,\"ticks\":\"\"}}}],\"scattercarpet\":[{\"type\":\"scattercarpet\",\"marker\":{\"colorbar\":{\"outlinewidth\":0,\"ticks\":\"\"}}}],\"carpet\":[{\"aaxis\":{\"endlinecolor\":\"#2a3f5f\",\"gridcolor\":\"white\",\"linecolor\":\"white\",\"minorgridcolor\":\"white\",\"startlinecolor\":\"#2a3f5f\"},\"baxis\":{\"endlinecolor\":\"#2a3f5f\",\"gridcolor\":\"white\",\"linecolor\":\"white\",\"minorgridcolor\":\"white\",\"startlinecolor\":\"#2a3f5f\"},\"type\":\"carpet\"}],\"table\":[{\"cells\":{\"fill\":{\"color\":\"#EBF0F8\"},\"line\":{\"color\":\"white\"}},\"header\":{\"fill\":{\"color\":\"#C8D4E3\"},\"line\":{\"color\":\"white\"}},\"type\":\"table\"}],\"barpolar\":[{\"marker\":{\"line\":{\"color\":\"#E5ECF6\",\"width\":0.5},\"pattern\":{\"fillmode\":\"overlay\",\"size\":10,\"solidity\":0.2}},\"type\":\"barpolar\"}],\"pie\":[{\"automargin\":true,\"type\":\"pie\"}]},\"layout\":{\"autotypenumbers\":\"strict\",\"colorway\":[\"#636efa\",\"#EF553B\",\"#00cc96\",\"#ab63fa\",\"#FFA15A\",\"#19d3f3\",\"#FF6692\",\"#B6E880\",\"#FF97FF\",\"#FECB52\"],\"font\":{\"color\":\"#2a3f5f\"},\"hovermode\":\"closest\",\"hoverlabel\":{\"align\":\"left\"},\"paper_bgcolor\":\"white\",\"plot_bgcolor\":\"#E5ECF6\",\"polar\":{\"bgcolor\":\"#E5ECF6\",\"angularaxis\":{\"gridcolor\":\"white\",\"linecolor\":\"white\",\"ticks\":\"\"},\"radialaxis\":{\"gridcolor\":\"white\",\"linecolor\":\"white\",\"ticks\":\"\"}},\"ternary\":{\"bgcolor\":\"#E5ECF6\",\"aaxis\":{\"gridcolor\":\"white\",\"linecolor\":\"white\",\"ticks\":\"\"},\"baxis\":{\"gridcolor\":\"white\",\"linecolor\":\"white\",\"ticks\":\"\"},\"caxis\":{\"gridcolor\":\"white\",\"linecolor\":\"white\",\"ticks\":\"\"}},\"coloraxis\":{\"colorbar\":{\"outlinewidth\":0,\"ticks\":\"\"}},\"colorscale\":{\"sequential\":[[0.0,\"#0d0887\"],[0.1111111111111111,\"#46039f\"],[0.2222222222222222,\"#7201a8\"],[0.3333333333333333,\"#9c179e\"],[0.4444444444444444,\"#bd3786\"],[0.5555555555555556,\"#d8576b\"],[0.6666666666666666,\"#ed7953\"],[0.7777777777777778,\"#fb9f3a\"],[0.8888888888888888,\"#fdca26\"],[1.0,\"#f0f921\"]],\"sequentialminus\":[[0.0,\"#0d0887\"],[0.1111111111111111,\"#46039f\"],[0.2222222222222222,\"#7201a8\"],[0.3333333333333333,\"#9c179e\"],[0.4444444444444444,\"#bd3786\"],[0.5555555555555556,\"#d8576b\"],[0.6666666666666666,\"#ed7953\"],[0.7777777777777778,\"#fb9f3a\"],[0.8888888888888888,\"#fdca26\"],[1.0,\"#f0f921\"]],\"diverging\":[[0,\"#8e0152\"],[0.1,\"#c51b7d\"],[0.2,\"#de77ae\"],[0.3,\"#f1b6da\"],[0.4,\"#fde0ef\"],[0.5,\"#f7f7f7\"],[0.6,\"#e6f5d0\"],[0.7,\"#b8e186\"],[0.8,\"#7fbc41\"],[0.9,\"#4d9221\"],[1,\"#276419\"]]},\"xaxis\":{\"gridcolor\":\"white\",\"linecolor\":\"white\",\"ticks\":\"\",\"title\":{\"standoff\":15},\"zerolinecolor\":\"white\",\"automargin\":true,\"zerolinewidth\":2},\"yaxis\":{\"gridcolor\":\"white\",\"linecolor\":\"white\",\"ticks\":\"\",\"title\":{\"standoff\":15},\"zerolinecolor\":\"white\",\"automargin\":true,\"zerolinewidth\":2},\"scene\":{\"xaxis\":{\"backgroundcolor\":\"#E5ECF6\",\"gridcolor\":\"white\",\"linecolor\":\"white\",\"showbackground\":true,\"ticks\":\"\",\"zerolinecolor\":\"white\",\"gridwidth\":2},\"yaxis\":{\"backgroundcolor\":\"#E5ECF6\",\"gridcolor\":\"white\",\"linecolor\":\"white\",\"showbackground\":true,\"ticks\":\"\",\"zerolinecolor\":\"white\",\"gridwidth\":2},\"zaxis\":{\"backgroundcolor\":\"#E5ECF6\",\"gridcolor\":\"white\",\"linecolor\":\"white\",\"showbackground\":true,\"ticks\":\"\",\"zerolinecolor\":\"white\",\"gridwidth\":2}},\"shapedefaults\":{\"line\":{\"color\":\"#2a3f5f\"}},\"annotationdefaults\":{\"arrowcolor\":\"#2a3f5f\",\"arrowhead\":0,\"arrowwidth\":1},\"geo\":{\"bgcolor\":\"white\",\"landcolor\":\"#E5ECF6\",\"subunitcolor\":\"white\",\"showland\":true,\"showlakes\":true,\"lakecolor\":\"white\"},\"title\":{\"x\":0.05},\"mapbox\":{\"style\":\"light\"}}}},                        {\"responsive\": true}                    ).then(function(){\n",
              "                            \n",
              "var gd = document.getElementById('305af4b5-6999-4361-9889-d8670ab4afd3');\n",
              "var x = new MutationObserver(function (mutations, observer) {{\n",
              "        var display = window.getComputedStyle(gd).display;\n",
              "        if (!display || display === 'none') {{\n",
              "            console.log([gd, 'removed!']);\n",
              "            Plotly.purge(gd);\n",
              "            observer.disconnect();\n",
              "        }}\n",
              "}});\n",
              "\n",
              "// Listen for the removal of the full notebook cells\n",
              "var notebookContainer = gd.closest('#notebook-container');\n",
              "if (notebookContainer) {{\n",
              "    x.observe(notebookContainer, {childList: true});\n",
              "}}\n",
              "\n",
              "// Listen for the clearing of the current output cell\n",
              "var outputEl = gd.closest('.output');\n",
              "if (outputEl) {{\n",
              "    x.observe(outputEl, {childList: true});\n",
              "}}\n",
              "\n",
              "                        })                };                            </script>        </div>\n",
              "</body>\n",
              "</html>"
            ]
          },
          "metadata": {}
        }
      ],
      "source": [
        "def make_rays_1d(num_pixels: int, y_limit: float) -> t.Tensor:\n",
        "    '''\n",
        "    num_pixels: The number of pixels in the y dimension. Since there is one ray per pixel, this is also the number of rays.\n",
        "    y_limit: At x=1, the rays should extend from -y_limit to +y_limit, inclusive of both endpoints.\n",
        "\n",
        "    Returns: shape (num_pixels, num_points=2, num_dim=3) where the num_points dimension contains (origin, direction) and the num_dim dimension contains xyz.\n",
        "\n",
        "    Example of make_rays_1d(9, 1.0): [\n",
        "        [[0, 0, 0], [1, -1.0, 0]],\n",
        "        [[0, 0, 0], [1, -0.75, 0]],\n",
        "        [[0, 0, 0], [1, -0.5, 0]],\n",
        "        ...\n",
        "        [[0, 0, 0], [1, 0.75, 0]],\n",
        "        [[0, 0, 0], [1, 1, 0]],\n",
        "    ]\n",
        "    '''\n",
        "    out = t.zeros((num_pixels, 2, 3))\n",
        "    ys = t.linspace(-y_limit, y_limit, num_pixels, out=out[:, 1, 1])\n",
        "    out[:, 1, 0] = 1\n",
        "    return out\n",
        "\n",
        "rays1d = make_rays_1d(9, 10.0)\n",
        "fig = render_lines_with_plotly(rays1d)"
      ]
    },
    {
      "cell_type": "markdown",
      "metadata": {
        "id": "0TAMiLtk4ON8"
      },
      "source": [
        "### Tip - the `out` keyword argument\n",
        "\n",
        "Many PyTorch functions take an optional keyword argument `out`. If provided, instead of allocating a new tensor and returning that, the output is written directly to the `out` tensor.\n",
        "\n",
        "If you used `torch.arange` or `torch.linspace` above, try using the `out` argument. Note that a basic indexing expression like `rays[:, 1, 1]` returns a view that shares storage with `rays`, so writing to the view will modify `rays`. You'll learn more about views later today.\n",
        "\n",
        "## Ray-Object Intersection\n",
        "\n",
        "Suppose we have a line segment defined by points $L_1$ and $L_2$. Then for a given ray, we can test if the ray intersects the line segment like so:\n",
        "\n",
        "- Supposing both the ray and line segment were infinitely long, solve for their intersection point.\n",
        "- If the point exists, check whether that point is inside the line segment and the ray.\n",
        "\n",
        "Our camera ray is defined by the origin $O$ and direction $D$ and our object line is defined by points $L_1$ and $L_2$.\n",
        "\n",
        "We can write the equations for all points on the camera ray as $R(u)=O +u D$ for $u \\in [0, \\infty)$ and on the object line as $O(v)=L_1+v(L_2 - L_1)$ for $v \\in [0, 1]$.\n",
        "\n",
        "The following interactive widget lets you play with this parameterization of the problem. Run the cells one after another:\n"
      ]
    },
    {
      "cell_type": "code",
      "execution_count": null,
      "metadata": {
        "id": "A9b2y5mw8A7i",
        "colab": {
          "base_uri": "https://localhost:8080/",
          "height": 581,
          "referenced_widgets": [
            "21f2b5fdc8e442c5b24e5419969e8855",
            "82eb4a7df34c447cb41d896b3c459691",
            "bd4245be8df94506889bdf4a688a3acd",
            "111e9868349d4cdaaf1dedf6e2671e3b",
            "e7ef3ab08e3d4f798cb78647860cd94d",
            "dc66515b6c114071a8983e4c6c8638d8",
            "8af1942d4a8c4147ac26f454f7e31651",
            "5c7cae986c034aa78b86b544da9f287a",
            "37cd309bf4c1492bae7d377e128975ed",
            "940912f8e6fb4d50b45146e1e53cdcc8",
            "9af9bae6f6a9485496c26e07013068ef"
          ]
        },
        "outputId": "8331901c-538c-4835-e608-6f438a0e3f1c"
      },
      "outputs": [
        {
          "output_type": "display_data",
          "data": {
            "application/vnd.jupyter.widget-view+json": {
              "version_major": 2,
              "version_minor": 0,
              "model_id": "21f2b5fdc8e442c5b24e5419969e8855"
            },
            "text/plain": [
              "FigureWidget({\n",
              "    'data': [{'type': 'scatter', 'uid': 'e94e87e2-0b0b-4a7f-92e7-f910518d79d0', 'x': [], 'y': []},\n",
              "             {'marker': {'size': 12},\n",
              "              'mode': 'markers',\n",
              "              'type': 'scatter',\n",
              "              'uid': 'e1b8b70d-baac-4be0-b31c-d2d289bce58a',\n",
              "              'x': [],\n",
              "              'y': []},\n",
              "             {'marker': {'size': 12, 'symbol': 'x'},\n",
              "              'mode': 'markers',\n",
              "              'type': 'scatter',\n",
              "              'uid': 'e5a77c4a-edc0-4a14-9235-d01158da1b64',\n",
              "              'x': [],\n",
              "              'y': []}],\n",
              "    'layout': {'height': 500,\n",
              "               'showlegend': False,\n",
              "               'template': '...',\n",
              "               'width': 600,\n",
              "               'xaxis': {'range': [-1.5, 2.5]},\n",
              "               'yaxis': {'range': [-1.5, 2.5]}}\n",
              "})"
            ]
          },
          "metadata": {
            "application/vnd.jupyter.widget-view+json": {
              "colab": {
                "custom_widget_manager": {
                  "url": "https://ssl.gstatic.com/colaboratory-static/widgets/colab-cdn-widget-manager/2b70e893a8ba7c0f/manager.min.js"
                }
              }
            }
          }
        },
        {
          "output_type": "display_data",
          "data": {
            "text/plain": [
              "interactive(children=(IntSlider(value=5, description='seed', max=10), FloatSlider(value=0.0, description='v', …"
            ],
            "application/vnd.jupyter.widget-view+json": {
              "version_major": 2,
              "version_minor": 0,
              "model_id": "5c7cae986c034aa78b86b544da9f287a"
            }
          },
          "metadata": {
            "application/vnd.jupyter.widget-view+json": {
              "colab": {
                "custom_widget_manager": {
                  "url": "https://ssl.gstatic.com/colaboratory-static/widgets/colab-cdn-widget-manager/2b70e893a8ba7c0f/manager.min.js"
                }
              }
            }
          }
        }
      ],
      "source": [
        "fig = setup_widget_fig_ray()\n",
        "display(fig)\n",
        "\n",
        "@interact\n",
        "def response(seed=(0, 10, 1), v=(-2.0, 2.0, 0.01)):\n",
        "    t.manual_seed(seed)\n",
        "    L_1, L_2 = t.rand(2, 2)\n",
        "    P = lambda v: L_1 + v * (L_2 - L_1)\n",
        "    x, y = zip(P(-2), P(2))\n",
        "    with fig.batch_update():\n",
        "        fig.data[0].update({\"x\": x, \"y\": y})\n",
        "        fig.data[1].update({\"x\": [L_1[0], L_2[0]], \"y\": [L_1[1], L_2[1]]})\n",
        "        fig.data[2].update({\"x\": [P(v)[0]], \"y\": [P(v)[1]]})"
      ]
    },
    {
      "cell_type": "markdown",
      "metadata": {
        "id": "Wxgo9OsD7QBJ"
      },
      "source": [
        "Setting the line equations from above equal gives the solution:\n",
        "\n",
        "$$\n",
        "\\begin{aligned}O + u D &= L_1 + v(L_2 - L_1) \\\\ u D - v(L_2 - L_1) &= L_1 - O  \\\\ \\begin{pmatrix} D_x & (L_1 - L_2)_x \\\\ D_y & (L_1 - L_2)_y \\\\ \\end{pmatrix} \\begin{pmatrix} u \\\\ v \\\\ \\end{pmatrix} &=  \\begin{pmatrix} (L_1 - O)_x \\\\ (L_1 - O)_y \\\\ \\end{pmatrix} \\end{aligned}\n",
        "$$\n",
        "\n",
        "Once we've found values of $u$ and $v$ which satisfy this equation, if any (the lines could be parallel) we just need to check that $u \\geq 0$ and $v \\in [0, 1]$.\n"
      ]
    },
    {
      "cell_type": "markdown",
      "metadata": {
        "id": "AveuRVvb4RE5"
      },
      "source": [
        "### Exercise - which segments intersect with the rays?\n",
        "\n",
        "```yaml\n",
        "Difficulty: 🔴🔴🔴⚪⚪\n",
        "Importance: 🔵⚪⚪⚪⚪\n",
        "\n",
        "You should spend up to 10-15 minutes on this exercise.\n",
        "```\n",
        "\n",
        "For each of the following segments, which camera rays from earlier intersect? You can do this by inspection or using `render_lines_with_plotly`.\n"
      ]
    },
    {
      "cell_type": "code",
      "execution_count": null,
      "metadata": {
        "id": "QgocJd2r38Gu",
        "colab": {
          "base_uri": "https://localhost:8080/",
          "height": 617
        },
        "collapsed": true,
        "outputId": "f96c1bad-d325-4ae0-de25-0008ce076d08"
      },
      "outputs": [
        {
          "output_type": "display_data",
          "data": {
            "text/html": [
              "<html>\n",
              "<head><meta charset=\"utf-8\" /></head>\n",
              "<body>\n",
              "    <div>            <script src=\"https://cdnjs.cloudflare.com/ajax/libs/mathjax/2.7.5/MathJax.js?config=TeX-AMS-MML_SVG\"></script><script type=\"text/javascript\">if (window.MathJax && window.MathJax.Hub && window.MathJax.Hub.Config) {window.MathJax.Hub.Config({SVG: {font: \"STIX-Web\"}});}</script>                <script type=\"text/javascript\">window.PlotlyConfig = {MathJaxConfig: 'local'};</script>\n",
              "        <script charset=\"utf-8\" src=\"https://cdn.plot.ly/plotly-2.24.1.min.js\"></script>                <div id=\"0b717e02-f36e-490c-8219-f4458f668184\" class=\"plotly-graph-div\" style=\"height:600px; width:600px;\"></div>            <script type=\"text/javascript\">                                    window.PLOTLYENV=window.PLOTLYENV || {};                                    if (document.getElementById(\"0b717e02-f36e-490c-8219-f4458f668184\")) {                    Plotly.newPlot(                        \"0b717e02-f36e-490c-8219-f4458f668184\",                        [{\"mode\":\"lines\",\"x\":[1.0,1.0],\"y\":[-12.0,-6.0],\"z\":[0.0,0.0],\"type\":\"scatter3d\"},{\"mode\":\"lines\",\"x\":[0.5,0.5],\"y\":[0.10000000149011612,1.149999976158142],\"z\":[0.0,0.0],\"type\":\"scatter3d\"},{\"mode\":\"lines\",\"x\":[2.0,2.0],\"y\":[12.0,21.0],\"z\":[0.0,0.0],\"type\":\"scatter3d\"},{\"line\":{\"color\":\"black\",\"width\":5},\"mode\":\"lines\",\"x\":[0.0,1.0],\"y\":[0.0,-10.0],\"z\":[0.0,0.0],\"type\":\"scatter3d\"},{\"line\":{\"color\":\"black\",\"width\":5},\"mode\":\"lines\",\"x\":[0.0,1.0],\"y\":[0.0,-7.5],\"z\":[0.0,0.0],\"type\":\"scatter3d\"},{\"line\":{\"color\":\"black\",\"width\":5},\"mode\":\"lines\",\"x\":[0.0,1.0],\"y\":[0.0,-5.0],\"z\":[0.0,0.0],\"type\":\"scatter3d\"},{\"line\":{\"color\":\"black\",\"width\":5},\"mode\":\"lines\",\"x\":[0.0,1.0],\"y\":[0.0,-2.5],\"z\":[0.0,0.0],\"type\":\"scatter3d\"},{\"line\":{\"color\":\"black\",\"width\":5},\"mode\":\"lines\",\"x\":[0.0,1.0],\"y\":[0.0,0.0],\"z\":[0.0,0.0],\"type\":\"scatter3d\"},{\"line\":{\"color\":\"black\",\"width\":5},\"mode\":\"lines\",\"x\":[0.0,1.0],\"y\":[0.0,2.5],\"z\":[0.0,0.0],\"type\":\"scatter3d\"},{\"line\":{\"color\":\"black\",\"width\":5},\"mode\":\"lines\",\"x\":[0.0,1.0],\"y\":[0.0,5.0],\"z\":[0.0,0.0],\"type\":\"scatter3d\"},{\"line\":{\"color\":\"black\",\"width\":5},\"mode\":\"lines\",\"x\":[0.0,1.0],\"y\":[0.0,7.5],\"z\":[0.0,0.0],\"type\":\"scatter3d\"},{\"line\":{\"color\":\"black\",\"width\":5},\"mode\":\"lines\",\"x\":[0.0,1.0],\"y\":[0.0,10.0],\"z\":[0.0,0.0],\"type\":\"scatter3d\"}],                        {\"height\":600,\"showlegend\":false,\"title\":{\"text\":\"3D rays\"},\"width\":600,\"template\":{\"data\":{\"histogram2dcontour\":[{\"type\":\"histogram2dcontour\",\"colorbar\":{\"outlinewidth\":0,\"ticks\":\"\"},\"colorscale\":[[0.0,\"#0d0887\"],[0.1111111111111111,\"#46039f\"],[0.2222222222222222,\"#7201a8\"],[0.3333333333333333,\"#9c179e\"],[0.4444444444444444,\"#bd3786\"],[0.5555555555555556,\"#d8576b\"],[0.6666666666666666,\"#ed7953\"],[0.7777777777777778,\"#fb9f3a\"],[0.8888888888888888,\"#fdca26\"],[1.0,\"#f0f921\"]]}],\"choropleth\":[{\"type\":\"choropleth\",\"colorbar\":{\"outlinewidth\":0,\"ticks\":\"\"}}],\"histogram2d\":[{\"type\":\"histogram2d\",\"colorbar\":{\"outlinewidth\":0,\"ticks\":\"\"},\"colorscale\":[[0.0,\"#0d0887\"],[0.1111111111111111,\"#46039f\"],[0.2222222222222222,\"#7201a8\"],[0.3333333333333333,\"#9c179e\"],[0.4444444444444444,\"#bd3786\"],[0.5555555555555556,\"#d8576b\"],[0.6666666666666666,\"#ed7953\"],[0.7777777777777778,\"#fb9f3a\"],[0.8888888888888888,\"#fdca26\"],[1.0,\"#f0f921\"]]}],\"heatmap\":[{\"type\":\"heatmap\",\"colorbar\":{\"outlinewidth\":0,\"ticks\":\"\"},\"colorscale\":[[0.0,\"#0d0887\"],[0.1111111111111111,\"#46039f\"],[0.2222222222222222,\"#7201a8\"],[0.3333333333333333,\"#9c179e\"],[0.4444444444444444,\"#bd3786\"],[0.5555555555555556,\"#d8576b\"],[0.6666666666666666,\"#ed7953\"],[0.7777777777777778,\"#fb9f3a\"],[0.8888888888888888,\"#fdca26\"],[1.0,\"#f0f921\"]]}],\"heatmapgl\":[{\"type\":\"heatmapgl\",\"colorbar\":{\"outlinewidth\":0,\"ticks\":\"\"},\"colorscale\":[[0.0,\"#0d0887\"],[0.1111111111111111,\"#46039f\"],[0.2222222222222222,\"#7201a8\"],[0.3333333333333333,\"#9c179e\"],[0.4444444444444444,\"#bd3786\"],[0.5555555555555556,\"#d8576b\"],[0.6666666666666666,\"#ed7953\"],[0.7777777777777778,\"#fb9f3a\"],[0.8888888888888888,\"#fdca26\"],[1.0,\"#f0f921\"]]}],\"contourcarpet\":[{\"type\":\"contourcarpet\",\"colorbar\":{\"outlinewidth\":0,\"ticks\":\"\"}}],\"contour\":[{\"type\":\"contour\",\"colorbar\":{\"outlinewidth\":0,\"ticks\":\"\"},\"colorscale\":[[0.0,\"#0d0887\"],[0.1111111111111111,\"#46039f\"],[0.2222222222222222,\"#7201a8\"],[0.3333333333333333,\"#9c179e\"],[0.4444444444444444,\"#bd3786\"],[0.5555555555555556,\"#d8576b\"],[0.6666666666666666,\"#ed7953\"],[0.7777777777777778,\"#fb9f3a\"],[0.8888888888888888,\"#fdca26\"],[1.0,\"#f0f921\"]]}],\"surface\":[{\"type\":\"surface\",\"colorbar\":{\"outlinewidth\":0,\"ticks\":\"\"},\"colorscale\":[[0.0,\"#0d0887\"],[0.1111111111111111,\"#46039f\"],[0.2222222222222222,\"#7201a8\"],[0.3333333333333333,\"#9c179e\"],[0.4444444444444444,\"#bd3786\"],[0.5555555555555556,\"#d8576b\"],[0.6666666666666666,\"#ed7953\"],[0.7777777777777778,\"#fb9f3a\"],[0.8888888888888888,\"#fdca26\"],[1.0,\"#f0f921\"]]}],\"mesh3d\":[{\"type\":\"mesh3d\",\"colorbar\":{\"outlinewidth\":0,\"ticks\":\"\"}}],\"scatter\":[{\"fillpattern\":{\"fillmode\":\"overlay\",\"size\":10,\"solidity\":0.2},\"type\":\"scatter\"}],\"parcoords\":[{\"type\":\"parcoords\",\"line\":{\"colorbar\":{\"outlinewidth\":0,\"ticks\":\"\"}}}],\"scatterpolargl\":[{\"type\":\"scatterpolargl\",\"marker\":{\"colorbar\":{\"outlinewidth\":0,\"ticks\":\"\"}}}],\"bar\":[{\"error_x\":{\"color\":\"#2a3f5f\"},\"error_y\":{\"color\":\"#2a3f5f\"},\"marker\":{\"line\":{\"color\":\"#E5ECF6\",\"width\":0.5},\"pattern\":{\"fillmode\":\"overlay\",\"size\":10,\"solidity\":0.2}},\"type\":\"bar\"}],\"scattergeo\":[{\"type\":\"scattergeo\",\"marker\":{\"colorbar\":{\"outlinewidth\":0,\"ticks\":\"\"}}}],\"scatterpolar\":[{\"type\":\"scatterpolar\",\"marker\":{\"colorbar\":{\"outlinewidth\":0,\"ticks\":\"\"}}}],\"histogram\":[{\"marker\":{\"pattern\":{\"fillmode\":\"overlay\",\"size\":10,\"solidity\":0.2}},\"type\":\"histogram\"}],\"scattergl\":[{\"type\":\"scattergl\",\"marker\":{\"colorbar\":{\"outlinewidth\":0,\"ticks\":\"\"}}}],\"scatter3d\":[{\"type\":\"scatter3d\",\"line\":{\"colorbar\":{\"outlinewidth\":0,\"ticks\":\"\"}},\"marker\":{\"colorbar\":{\"outlinewidth\":0,\"ticks\":\"\"}}}],\"scattermapbox\":[{\"type\":\"scattermapbox\",\"marker\":{\"colorbar\":{\"outlinewidth\":0,\"ticks\":\"\"}}}],\"scatterternary\":[{\"type\":\"scatterternary\",\"marker\":{\"colorbar\":{\"outlinewidth\":0,\"ticks\":\"\"}}}],\"scattercarpet\":[{\"type\":\"scattercarpet\",\"marker\":{\"colorbar\":{\"outlinewidth\":0,\"ticks\":\"\"}}}],\"carpet\":[{\"aaxis\":{\"endlinecolor\":\"#2a3f5f\",\"gridcolor\":\"white\",\"linecolor\":\"white\",\"minorgridcolor\":\"white\",\"startlinecolor\":\"#2a3f5f\"},\"baxis\":{\"endlinecolor\":\"#2a3f5f\",\"gridcolor\":\"white\",\"linecolor\":\"white\",\"minorgridcolor\":\"white\",\"startlinecolor\":\"#2a3f5f\"},\"type\":\"carpet\"}],\"table\":[{\"cells\":{\"fill\":{\"color\":\"#EBF0F8\"},\"line\":{\"color\":\"white\"}},\"header\":{\"fill\":{\"color\":\"#C8D4E3\"},\"line\":{\"color\":\"white\"}},\"type\":\"table\"}],\"barpolar\":[{\"marker\":{\"line\":{\"color\":\"#E5ECF6\",\"width\":0.5},\"pattern\":{\"fillmode\":\"overlay\",\"size\":10,\"solidity\":0.2}},\"type\":\"barpolar\"}],\"pie\":[{\"automargin\":true,\"type\":\"pie\"}]},\"layout\":{\"autotypenumbers\":\"strict\",\"colorway\":[\"#636efa\",\"#EF553B\",\"#00cc96\",\"#ab63fa\",\"#FFA15A\",\"#19d3f3\",\"#FF6692\",\"#B6E880\",\"#FF97FF\",\"#FECB52\"],\"font\":{\"color\":\"#2a3f5f\"},\"hovermode\":\"closest\",\"hoverlabel\":{\"align\":\"left\"},\"paper_bgcolor\":\"white\",\"plot_bgcolor\":\"#E5ECF6\",\"polar\":{\"bgcolor\":\"#E5ECF6\",\"angularaxis\":{\"gridcolor\":\"white\",\"linecolor\":\"white\",\"ticks\":\"\"},\"radialaxis\":{\"gridcolor\":\"white\",\"linecolor\":\"white\",\"ticks\":\"\"}},\"ternary\":{\"bgcolor\":\"#E5ECF6\",\"aaxis\":{\"gridcolor\":\"white\",\"linecolor\":\"white\",\"ticks\":\"\"},\"baxis\":{\"gridcolor\":\"white\",\"linecolor\":\"white\",\"ticks\":\"\"},\"caxis\":{\"gridcolor\":\"white\",\"linecolor\":\"white\",\"ticks\":\"\"}},\"coloraxis\":{\"colorbar\":{\"outlinewidth\":0,\"ticks\":\"\"}},\"colorscale\":{\"sequential\":[[0.0,\"#0d0887\"],[0.1111111111111111,\"#46039f\"],[0.2222222222222222,\"#7201a8\"],[0.3333333333333333,\"#9c179e\"],[0.4444444444444444,\"#bd3786\"],[0.5555555555555556,\"#d8576b\"],[0.6666666666666666,\"#ed7953\"],[0.7777777777777778,\"#fb9f3a\"],[0.8888888888888888,\"#fdca26\"],[1.0,\"#f0f921\"]],\"sequentialminus\":[[0.0,\"#0d0887\"],[0.1111111111111111,\"#46039f\"],[0.2222222222222222,\"#7201a8\"],[0.3333333333333333,\"#9c179e\"],[0.4444444444444444,\"#bd3786\"],[0.5555555555555556,\"#d8576b\"],[0.6666666666666666,\"#ed7953\"],[0.7777777777777778,\"#fb9f3a\"],[0.8888888888888888,\"#fdca26\"],[1.0,\"#f0f921\"]],\"diverging\":[[0,\"#8e0152\"],[0.1,\"#c51b7d\"],[0.2,\"#de77ae\"],[0.3,\"#f1b6da\"],[0.4,\"#fde0ef\"],[0.5,\"#f7f7f7\"],[0.6,\"#e6f5d0\"],[0.7,\"#b8e186\"],[0.8,\"#7fbc41\"],[0.9,\"#4d9221\"],[1,\"#276419\"]]},\"xaxis\":{\"gridcolor\":\"white\",\"linecolor\":\"white\",\"ticks\":\"\",\"title\":{\"standoff\":15},\"zerolinecolor\":\"white\",\"automargin\":true,\"zerolinewidth\":2},\"yaxis\":{\"gridcolor\":\"white\",\"linecolor\":\"white\",\"ticks\":\"\",\"title\":{\"standoff\":15},\"zerolinecolor\":\"white\",\"automargin\":true,\"zerolinewidth\":2},\"scene\":{\"xaxis\":{\"backgroundcolor\":\"#E5ECF6\",\"gridcolor\":\"white\",\"linecolor\":\"white\",\"showbackground\":true,\"ticks\":\"\",\"zerolinecolor\":\"white\",\"gridwidth\":2},\"yaxis\":{\"backgroundcolor\":\"#E5ECF6\",\"gridcolor\":\"white\",\"linecolor\":\"white\",\"showbackground\":true,\"ticks\":\"\",\"zerolinecolor\":\"white\",\"gridwidth\":2},\"zaxis\":{\"backgroundcolor\":\"#E5ECF6\",\"gridcolor\":\"white\",\"linecolor\":\"white\",\"showbackground\":true,\"ticks\":\"\",\"zerolinecolor\":\"white\",\"gridwidth\":2}},\"shapedefaults\":{\"line\":{\"color\":\"#2a3f5f\"}},\"annotationdefaults\":{\"arrowcolor\":\"#2a3f5f\",\"arrowhead\":0,\"arrowwidth\":1},\"geo\":{\"bgcolor\":\"white\",\"landcolor\":\"#E5ECF6\",\"subunitcolor\":\"white\",\"showland\":true,\"showlakes\":true,\"lakecolor\":\"white\"},\"title\":{\"x\":0.05},\"mapbox\":{\"style\":\"light\"}}}},                        {\"responsive\": true}                    ).then(function(){\n",
              "                            \n",
              "var gd = document.getElementById('0b717e02-f36e-490c-8219-f4458f668184');\n",
              "var x = new MutationObserver(function (mutations, observer) {{\n",
              "        var display = window.getComputedStyle(gd).display;\n",
              "        if (!display || display === 'none') {{\n",
              "            console.log([gd, 'removed!']);\n",
              "            Plotly.purge(gd);\n",
              "            observer.disconnect();\n",
              "        }}\n",
              "}});\n",
              "\n",
              "// Listen for the removal of the full notebook cells\n",
              "var notebookContainer = gd.closest('#notebook-container');\n",
              "if (notebookContainer) {{\n",
              "    x.observe(notebookContainer, {childList: true});\n",
              "}}\n",
              "\n",
              "// Listen for the clearing of the current output cell\n",
              "var outputEl = gd.closest('.output');\n",
              "if (outputEl) {{\n",
              "    x.observe(outputEl, {childList: true});\n",
              "}}\n",
              "\n",
              "                        })                };                            </script>        </div>\n",
              "</body>\n",
              "</html>"
            ]
          },
          "metadata": {}
        }
      ],
      "source": [
        "segments = t.tensor([\n",
        "    [[1.0, -12.0, 0.0], [1, -6.0, 0.0]],\n",
        "    [[0.5, 0.1, 0.0], [0.5, 1.15, 0.0]],\n",
        "    [[2, 12.0, 0.0], [2, 21.0, 0.0]]\n",
        "])\n",
        "render_lines_with_plotly(segments, rays1d)\n"
      ]
    },
    {
      "cell_type": "markdown",
      "metadata": {
        "id": "YP_Su7ih4aPv"
      },
      "source": [
        "### Exercise - implement `intersect_ray_1d`\n",
        "\n",
        "```yaml\n",
        "Difficulty: 🔴🔴🔴⚪⚪\n",
        "Importance: 🔵🔵🔵🔵⚪\n",
        "\n",
        "You should spend up to 20-25 minutes on this exercise.\n",
        "\n",
        "It involves some of today's core concepts: tensor manipulation, linear operations, etc.\n",
        "```\n",
        "\n",
        "Using [`torch.lingalg.solve`](https://pytorch.org/docs/stable/generated/torch.linalg.solve.html) and [`torch.stack`](https://pytorch.org/docs/stable/generated/torch.stack.html), implement the `intersect_ray_1d` function to solve the above matrix equation.\n",
        "\n",
        "<details>\n",
        "<summary>Aside - difference between stack and concatenate</summary>\n",
        "\n",
        "`torch.stack` will combine tensors along a new dimension.\n",
        "\n",
        "```python\n",
        ">>> t.stack([t.ones(2, 2), t.zeros(2, 2)], dim=0)\n",
        "tensor([[[1., 1.],\n",
        "         [1., 1.]],\n",
        "\n",
        "        [[0., 0.],\n",
        "         [0., 0.]]])\n",
        "```\n",
        "\n",
        "`torch.concat` (alias `torch.cat`) will combine tensors along an existing dimension.\n",
        "\n",
        "```python\n",
        ">>> t.cat([t.ones(2, 2), t.zeros(2, 2)], dim=0)\n",
        "tensor([[1., 1.],\n",
        "        [1., 1.],\n",
        "        [0., 0.],\n",
        "        [0., 0.]])\n",
        "```\n",
        "\n",
        "Here, you should use `torch.stack` to construct e.g. the matrix on the left hand side, because you want to combine the vectors $D$ and $L_1 - L_2$ to make a matrix.\n",
        "</details>\n",
        "\n",
        "Is it possible for the solve method to fail? Give a sample input where this would happen.\n",
        "\n",
        "<details>\n",
        "<summary>Answer - Failing Solve</summary>\n",
        "\n",
        "If the ray and segment are exactly parallel, then the solve will fail because there is no solution to the system of equations. For this function, handle this by catching the exception and returning False.\n",
        "</details>\n"
      ]
    },
    {
      "cell_type": "code",
      "execution_count": null,
      "metadata": {
        "id": "u78lcQ324kBb",
        "colab": {
          "base_uri": "https://localhost:8080/"
        },
        "outputId": "414690a0-ddd7-42ba-84e3-91efbbf5078b"
      },
      "outputs": [
        {
          "output_type": "stream",
          "name": "stdout",
          "text": [
            "All tests in `test_intersect_ray_1d` passed!\n",
            "All tests in `test_intersect_ray_1d_special_case` passed!\n"
          ]
        }
      ],
      "source": [
        "def intersect_ray_1d(ray: t.Tensor, segment: t.Tensor) -> bool:\n",
        "    '''\n",
        "    ray: shape (n_points=2, n_dim=3)  # O, D points\n",
        "    segment: shape (n_points=2, n_dim=3)  # L_1, L_2 points\n",
        "\n",
        "    Return True if the ray intersects the segment.\n",
        "    '''\n",
        "\n",
        "    O, D = ray[:, :2]\n",
        "    L_1, L_2 = segment[:, :2]\n",
        "    assert L_1.shape == (2,)\n",
        "\n",
        "    try:\n",
        "      s = t.linalg.solve(t.stack([D, L_1 - L_2], dim=1), L_1 - O)\n",
        "    except RuntimeError:\n",
        "      return False\n",
        "\n",
        "    u = s[0].item()\n",
        "    v = s[1].item()\n",
        "\n",
        "    return (u >= 0.0) and (v >= 0.0) and (v <= 1.0)\n",
        "\n",
        "tests.test_intersect_ray_1d(intersect_ray_1d)\n",
        "tests.test_intersect_ray_1d_special_case(intersect_ray_1d)"
      ]
    },
    {
      "cell_type": "markdown",
      "metadata": {
        "id": "WesxzlWO4nxN"
      },
      "source": [
        "<details>\n",
        "<summary>Help! My code is failing with a 'must be batches of square matrices' exception.</summary>\n",
        "\n",
        "Our formula only uses the x and y coordinates - remember to discard the z coordinate for now.\n",
        "\n",
        "It's good practice to write asserts on the shape of things so that your asserts will fail with a helpful error message. In this case, you could assert that the `mat` argument is of shape (2, 2) and the `vec` argument is of shape (2,). Also, see the aside below on typechecking.\n",
        "</details>\n"
      ]
    },
    {
      "cell_type": "markdown",
      "metadata": {
        "id": "FLk88ucC4xAh"
      },
      "source": [
        "### Aside - typechecking\n"
      ]
    },
    {
      "cell_type": "markdown",
      "metadata": {
        "id": "1zzdKT4lCWy6"
      },
      "source": [
        "\n",
        "\n",
        "> *Note - this section was written with VSCode in mind. The formatting for this kind of typechecking doesn't seem to work very well in Colab, and strict typechecking of the kind described below also won't work (which is why it's been removed). If you're interested in using these features, we'd recommend trying to set yourself up on VSCode.*\n"
      ]
    },
    {
      "cell_type": "markdown",
      "metadata": {
        "id": "NyhzCt4gCWy6"
      },
      "source": [
        "Typechecking is a useful habit to get into. It's not strictly necessary, but it can be a great help when you're debugging.\n",
        "\n",
        "One good way to typecheck in PyTorch is with the `jaxtyping` library. In this library, we can use objects like `Float`, `Int`, `Bool`, etc object to specify the shape and data type of a tensor (or `Shaped` if we don't care about the data type).\n",
        "\n",
        "In its simplest form, this just behaves like a fancier version of a docstring or comment (signalling to you, as well as any readers, what the size of objects should be). But you can also use the `typeguard` library to strictly enforce the type signatures of your inputs and outputs. For instance, consider the following typechecked function:\n"
      ]
    },
    {
      "cell_type": "markdown",
      "metadata": {
        "id": "pMG5k_elCWy6"
      },
      "source": [
        "```python\n",
        "from jaxtyping import Float, Int, Bool, Shaped, jaxtyped\n",
        "import typeguard\n",
        "from torch import Tensor\n",
        "\n",
        "@jaxtyped\n",
        "@typeguard.typechecked\n",
        "def my_concat(x: Float[Tensor, \"a1 b\"], y: Float[Tensor, \"a2 b\"]) -> Float[Tensor, \"a1+a2 b\"]:\n",
        "    return t.concat([x, y], dim=0)\n",
        "\n",
        "x = t.ones(3, 2)\n",
        "y = t.randn(4, 2)\n",
        "z = my_concat(x, y)\n",
        "```\n"
      ]
    },
    {
      "cell_type": "markdown",
      "metadata": {
        "id": "Emd9UEvOCWy6"
      },
      "source": [
        "This cell will run without error, because the tensor `t.concat([x, y], dim=0)` has shape `(3+4, 2) = (7, 2)`, which agrees with the symbolic representation of `(a1 b), (a2 b) -> (a1+a2, b)` in the type signature. But this code will fail if the type signatures are violated in any way, for instance:\n",
        "\n",
        "* `x` or `y` are not 2D tensors\n",
        "* The last dimension of `x` and `y` doesn't match\n",
        "* The output doesn't have shape `(x.shape[0] + y.shape[0], x.shape[1])`\n",
        "* `x`, `y` or the output are of type int rather than type float\n",
        "\n",
        "You can test these out for yourself, by changing the cell above and then re-running it.\n",
        "\n",
        "Jaxtyping has many other useful features, for example:\n",
        "\n",
        "* Generic tensors can be represented with `Float[Tensor, \"...\"]`\n",
        "* Tensors with a single scalar value can be represented with `Float[Tensor, \"\"]`\n",
        "* Fixed dimensions can be represented with numbers, e.g. `Float[Tensor, \"a b 4\"]`\n",
        "* Dimensions can be named *and* fixed, e.g. `x: Float[Tensor, \"b=3\"], y: Float[Tensor, \"b\"]` will raise an error if `x` and `y` don't *both* have shape `(3,)`\n",
        "* You can even use these objects for inline assert statements, e.g. `assert isinstance(x, Float[Tensor, \"3 b\"])` asserts that `x` is a 2D tensor of type float, with first dimension `3`.\n",
        "\n",
        "You can find more features of jaxtyping [here](https://docs.kidger.site/jaxtyping/).\n",
        "\n",
        "Overall, type-checking is a really useful tool to have at your disposal, because it can help you quickly catch bugs in your code (and it helps your code be explicit and readable, both to possible collaborators / pair programming partners, and to your future self!).\n",
        "\n",
        "We won't enforce strict typechecking in general, but you should feel free to use it when you're writing or using functions. (It's usually more useful when you're in the development stage, rather than once you're already confident that a function works correctly and will always receive the correct inputs.)\n"
      ]
    },
    {
      "cell_type": "markdown",
      "metadata": {
        "id": "JF43e2wnCWy6"
      },
      "source": [
        "Exercise - can you rewrite the function `intersect_ray_1d` to use typechecking?\n",
        "\n",
        "<details>\n",
        "<summary>Answer</summary>\n",
        "\n",
        "Your typechecked function might look like:\n",
        "\n",
        "```python\n",
        "@jaxtyped\n",
        "@typeguard.typechecked\n",
        "def intersect_ray_1d(ray: Float[Tensor, \"points=2 dim=3\"], segment: Float[Tensor, \"points=2 dim=3\"]) -> bool:\n",
        "    '''\n",
        "    ray: O, D points\n",
        "    segment: L_1, L_2 points\n",
        "\n",
        "    Return True if the ray intersects the segment.\n",
        "    '''\n",
        "```\n",
        "\n",
        "This is if your solution just returned a boolean. If you left your boolean as a single-element PyTorch tensor, then a return type of `Bool[Tensor, \"\"]` would be appropriate.\n",
        "</details>\n"
      ]
    },
    {
      "cell_type": "markdown",
      "source": [
        "# 2️⃣ Batched Operations"
      ],
      "metadata": {
        "id": "CRmimPY8AQTr"
      }
    },
    {
      "cell_type": "markdown",
      "metadata": {
        "id": "DJ42k9np4ysj"
      },
      "source": [
        "## Batched Ray-Segment Intersection\n",
        "\n",
        "Next, implement a batched version that takes multiple rays, multiple line segments, and returns a boolean for each ray indicating whether **any** segment intersects with that ray.\n",
        "\n",
        "Note - in the batched version, we don't want the solver to throw an exception just because some of the equations don't have a solution - these should just return False.\n"
      ]
    },
    {
      "cell_type": "markdown",
      "metadata": {
        "id": "2S42sUag41dI"
      },
      "source": [
        "### Tip - Ellipsis\n",
        "\n",
        "You can use an ellipsis `...` in an indexing expression to avoid repeated `:` and to write indexing expressions that work on varying numbers of input dimensions.\n",
        "\n",
        "For example, `x[..., 0]` is equivalent to `x[:, :, 0]` if `x` is 3D, and equivalent to `x[:, :, :, 0]` if `x` is 4D.\n",
        "\n",
        "### Tip - Elementwise Logical Operations on Tensors\n",
        "\n",
        "For regular booleans, the keywords `and`, `or`, and `not` are used to do logical operations and the operators `&`, `|`, and `~` do and, or and not on each bit of the input numbers. For example `0b10001 | 0b11000` is `0b11001` or 25 in base 10.\n",
        "\n",
        "Tragically, Python doesn't allow classes to overload keywords, so if `x` and `y` are of type `torch.Tensor`, then `x and y` does **not** do the natural thing that you probably expect, which is compute `x[i] and y[i]` elementwise. It actually tries to coerce `x` to a regular boolean, which throws an exception.\n",
        "\n",
        "As a workaround, PyTorch (and NumPy) have chosen to overload the bitwise operators but have them actually mean logical operations, since you usually don't care to do bitwise operations on tensors. So the correct expression would be `x & y` to compute `x[i] and y[i]` elementwise.\n",
        "\n",
        "Another gotcha when it comes to logical operations - **operator precedence**. For instance, `v >= 0 & v <= 1` is actually evaluated as `(v >= (0 & v)) <= 1` (because `&` has high precedence). When in doubt, use parentheses to force the correct parsing: `(v >= 0) & (v <= 1)`.\n",
        "\n",
        "### Tip - `einops`\n",
        "\n",
        "Einops is a useful library which we'll dive deeper with tomorrow. For now, the only important function you'll need to know is `einops.repeat`. This takes as arguments a tensor and a string, and returns a new tensor which has been repeated along the specified dimensions. For example, the following code shows how we can repeat a 2D tensor along the last dimension:\n",
        "\n",
        "```python\n",
        "x = t.randn(2, 3)\n",
        "x_repeated = einops.repeat(x, 'a b -> a b c', c=4)\n",
        "\n",
        "assert x_repeated.shape == (2, 3, 4)\n",
        "for c in range(4):\n",
        "    t.testing.assert_close(x, x_repeated[:, :, c])\n",
        "```\n",
        "\n",
        "*(The function `t.testing.assert_close` checks that two tensors are the same shape, and all elements are the same value, within some very small numerical error.)*\n",
        "\n",
        "### Tip - Logical Reductions\n",
        "\n",
        "In plain Python, if you have a list of lists and want to know if any element in a row is `True`, you could use a list comprehension like `[any(row) for row in rows]`. The efficient way to do this in PyTorch is with `torch.any()` or equivalently the `.any()` method of a tensor, which accept the dimension to reduce over. Similarly, `torch.all()` or `.all()` method. Both of these methods accept a `dim` argument, which is the dimension to reduce over.\n",
        "\n",
        "<details>\n",
        "<summary>Aside - tensor methods</summary>\n",
        "\n",
        "Most functions like `torch.any(tensor, ...)` (which take a tensor as first argument) have an equivalent tensor method `tensor.any(...)`. We'll see many more examples of functions like this as we go through the course.\n",
        "</details>\n",
        "\n",
        "### Tip - Broadcasting\n",
        "\n",
        "Broadcasting is what happens when you perform an operation on two tensors, and one is a smaller size, but is copied along the dimensions of the larger one in order to apply to it. Below is an example (where `B` is copied along the first dimension of `A`):\n",
        "\n",
        "```python\n",
        "A = t.randn(2, 3)\n",
        "B = t.randn(3)\n",
        "AplusB = A + B\n",
        "\n",
        "assert AplusB.shape == (2, 3)\n",
        "for i in range(2):\n",
        "    t.testing.assert_close(AplusB[i], A[i] + B)\n",
        "```\n",
        "\n",
        "Broadcasting sematics are a bit messy, and we'll go into it in more detail later in the course. If you want to get a full picture of it then click on the dropdown below, but for now here's the important thing to know - *dimensions get appended to the **start** of the smaller tensor `B`, and it is copied along those dimensions until its shape matches the larger tensor `A`*.\n",
        "\n",
        "<details>\n",
        "<summary>Aside - details of broadcasting</summary>\n",
        "\n",
        "If you try to broadcast tensors `A` and `B`, then the following happens:\n",
        "\n",
        "* The tensor with fewer dimensions is padded with dimensions of size one on the left.\n",
        "* Once the tensors have the same number of dimensions, they are checked for compatibility.\n",
        "    * Two dimensions are compatible if they are equal, or if one of them is one (in the latter case, we repeat the size-1 tensor along that dimension until it's the same size as the larger one).\n",
        "    * If they are not compatible, then broadcasting is not allowed.\n",
        "\n",
        "For instance, in the example above, first `B` is left-padded to shape `(1, 3)`, then it is copied along the first dimension to shape `(2, 3)`, when it can be added to `A`.\n",
        "\n",
        "On the other hand, if `B` had shape `(2,)` then broadcasting would fail, because dimensions can't be added to the right of a tensor.\n",
        "</details>\n"
      ]
    },
    {
      "cell_type": "markdown",
      "metadata": {
        "id": "11HpHsjq45BE"
      },
      "source": [
        "### Summary of all these tips\n",
        "\n",
        "> * Use `...` to avoid repeated `:` in indexing expressions.\n",
        "> * Use `&`, `|`, and `~` for elementwise logical operations on tensors.\n",
        "> * Use parentheses to force the correct operator precedence.\n",
        "> * Use `torch.any()` or `.any()` to do logical reductions (you can do this over a single dimension, with the `dim` argument).\n",
        "> * If you're trying to broadcast tensors `A` and `B` (where `B` has fewer dimensions), this will work if the shape of `B` matches the ***last*** dimensions of `A` (in this case, `B` will get copied along the earlier dimensions of `A`).\n"
      ]
    },
    {
      "cell_type": "markdown",
      "metadata": {
        "id": "ZD5JSZI249TK"
      },
      "source": [
        "### Exercise - implement `intersect_rays_1d`\n",
        "\n",
        "```yaml\n",
        "Difficulty: 🔴🔴🔴🔴⚪\n",
        "Importance: 🔵🔵🔵🔵⚪\n",
        "\n",
        "You should spend up to 25-30 minutes on this exercise.\n",
        "\n",
        "It will be one of the most difficult today; certainly it has the biggest step in difficulty.\n",
        "```\n",
        "\n",
        "With all these tips in mind, now you should implement `intersect_rays_1d`, the batched version of `intersect_ray_1d` (which returns True for each ray, if it intersects *any* segment).\n"
      ]
    },
    {
      "cell_type": "code",
      "execution_count": null,
      "metadata": {
        "id": "x63U8agw4ma5",
        "colab": {
          "base_uri": "https://localhost:8080/"
        },
        "outputId": "dfb806f1-3aa3-4854-e5d9-826b1e574c43"
      },
      "outputs": [
        {
          "output_type": "stream",
          "name": "stdout",
          "text": [
            "All tests in `test_intersect_rays_1d` passed!\n",
            "All tests in `test_intersect_rays_1d_special_case` passed!\n"
          ]
        }
      ],
      "source": [
        "def intersect_rays_1d(rays: Float[Tensor, \"nrays 2 3\"], segments: Float[Tensor, \"nsegments 2 3\"]) -> Bool[Tensor, \"nrays\"]:\n",
        "    '''\n",
        "    For each ray, return True if it intersects any segment.\n",
        "    '''\n",
        "    nrays = rays.shape[0]\n",
        "    nsegments = segments.shape[0]\n",
        "\n",
        "    rays = rays[..., :2] # remove z coord\n",
        "\n",
        "    rays = einops.repeat(rays, \"a b c -> a n b c\", n=nsegments)\n",
        "\n",
        "    O = rays[:, :, 0]\n",
        "    D = rays[:, :, 1]\n",
        "    assert O.shape == (nrays, nsegments, 2)\n",
        "\n",
        "    segments = segments[..., :2] # remove z coord\n",
        "\n",
        "    segments = einops.repeat(segments, \"a b c -> n a b c\", n=nrays)\n",
        "\n",
        "    L_1 = segments[:, :, 0]\n",
        "    L_2 = segments[:, :, 1]\n",
        "\n",
        "    assert L_1.shape == (nrays, nsegments, 2)\n",
        "\n",
        "    A = t.stack([D, L_1 - L_2], dim=-1)\n",
        "    B = L_1 - O\n",
        "\n",
        "    locations_of_singular_matrices = t.isclose(t.linalg.det(A), t.tensor(0.0))\n",
        "\n",
        "    A[locations_of_singular_matrices] = t.eye(2)\n",
        "\n",
        "    sol = t.linalg.solve(A, B)\n",
        "\n",
        "    u = sol[..., 0]\n",
        "    v = sol[..., 1]\n",
        "\n",
        "    return ((u >= 0) & (v >= 0) & (v <= 1) & ~locations_of_singular_matrices).any(dim=-1)\n",
        "\n",
        "tests.test_intersect_rays_1d(intersect_rays_1d)\n",
        "tests.test_intersect_rays_1d_special_case(intersect_rays_1d)"
      ]
    },
    {
      "cell_type": "markdown",
      "metadata": {
        "id": "GB0VIrdi5BCB"
      },
      "source": [
        "<details>\n",
        "<summary>Help - I'm not sure how to implment this function without a for loop.</summary>\n",
        "\n",
        "Initially, `rays.shape == (NR, 2, 3)` and `segments.shape == (NS, 2, 3)`. Try performing `einops.repeat` on them, so both their shapes are `(NR, NS, 2, 3)`. Then you can formulate and solve the batched system of matrix equations.\n",
        "</details>\n",
        "\n",
        "<details>\n",
        "<summary>Help - I'm not sure how to deal with the cases of zero determinant.</summary>\n",
        "\n",
        "You can use `t.linalg.det` to compute the determinant of a matrix, or batch of matrices *(gotcha: the determinant won't be exactly zero, but you can check that it's very close to zero, e.g. `det.abs() < 1e-6`)*. This will give you a boolean mask for which matrices are singular.\n",
        "\n",
        "You can set all singular matrices to the identity (this avoids errors), and then at the very end you can use your boolean mask again to set the intersection to `False` for the singular matrices.\n",
        "</details>\n",
        "\n",
        "<details>\n",
        "<summary>Help - I'm still stuck on the zero determinant cases.</summary>\n",
        "\n",
        "After formulating the matrix equation, you should have a batch of matrices of shape `(NR, NS, 2, 2)`, i.e. `mat[i, j, :, :]` is a matrix which looks like:\n",
        "\n",
        "$$\n",
        "\\begin{pmatrix} D_x & (L_1 - L_2)_x \\\\ D_y & (L_1 - L_2)_y \\\\ \\end{pmatrix}\n",
        "$$\n",
        "\n",
        "Calling `t.linalg.det(mat)` will return an array of shape `(NR, NS)` containing the determinants of each matrix. You can use this to construct a mask for the singular matrices *(gotcha: the determinant won't be exactly zero, but you can check that it's very close to zero, e.g. `det.abs() < 1e-6`)*.\n",
        "\n",
        "Indexing `mat` by this mask will return an array of shape `(x, 2, 2)`, where the zeroth axis indexes the singular matrices. As we discussed in the broadcasting section earlier, this means we can use broadcasting to set all these singular matrices to the identity:\n",
        "\n",
        "```python\n",
        "mat[is_singular] = t.eye(2)\n",
        "```\n",
        "</details>"
      ]
    },
    {
      "cell_type": "markdown",
      "metadata": {
        "id": "yBwXRjaZCWy9"
      },
      "source": [
        "## Using GPT to understand code\n"
      ]
    },
    {
      "cell_type": "markdown",
      "metadata": {
        "id": "lzEIR03xCWy9"
      },
      "source": [
        "*Note, the world of LLMs moves fast, so this section is likely to get out of date at some point!*\n",
        "\n",
        "Next week we'll start learning about transformers and how to build them, but it's not too early to start using them to accelerate your own learning!\n",
        "\n",
        "We'll be discussing more advanced ways to use GPT 3 and 4 as coding partners / research assistants in the coming weeks, but for now we'll look at a simple example: **using GPT to understand code**. You're recommended to read the recent [LessWrong post](https://www.lesswrong.com/posts/ptY6X3BdW4kgqpZFo/using-gpt-4-to-understand-code) by Siddharth Hiregowdara in which he explains his process. This works best on GPT-4, but I've found GPT-3.5 works equally well for reasonably straightforward problems (see the section below).\n",
        "\n",
        "Firstly, you should get an account to use GPT with if you haven't already. Next, try asking GPT-3.5 / 4 for an explanation of the function above. You can do this e.g. via the following prompt:\n",
        "\n",
        "```\n",
        "Explain this Python function, line by line. You should break up your explanation by inserting sections of the code.\n",
        "\n",
        "def intersect_rays_1d(rays: Float[Tensor, \"nrays 2 3\"], segments: Float[Tensor, \"nsegments 2 3\"]) -> Bool[Tensor, \"nrays\"]:\n",
        "    NR = rays.size(0)\n",
        "    NS = segments.size(0)\n",
        "    rays = rays[..., :2]\n",
        "    ...\n",
        "```\n",
        "\n",
        "I've found removing comments is often more helpful, because then GPT will answer in its own words rather than just repeating the comments (and the comments can sometimes confuse it).\n",
        "\n",
        "Once you've got a response, here are a few more things you might want to consider asking:\n",
        "\n",
        "* Can you suggest ways to improve the code?\n",
        "    * GPT-4 recommended using a longer docstring and more descriptive variable names, among other things.\n",
        "* Can you explain why the line `mat[is_singular] = t.eye(2)` works?\n",
        "    * GPT-4 gave me a correct and very detailed explanation involving broadcasting and tensor shapes.\n",
        "\n",
        "Is using GPT in this way cheating? It can be, if your first instinct is to jump to GPT rather than trying to understand the code yourself. But it's important here to bring up the distinction of [playing in easy mode](https://www.lesswrong.com/posts/nJPtHHq6L7MAMBvRK/play-in-easy-mode) vs [playing in hard mode](https://www.lesswrong.com/posts/7hLWZf6kFkduecH2g/play-in-hard-mode). There are situations where it's valuable for you to think about a problem for a while before moving forward because that deliberation will directly lead to you becoming a better researcher or engineer (e.g. when you're thinking of a hypothesis for how a circuit works while doing mechanistic interpretability on a transformer, or you're pondering which datastructure best fits your use case while implementing some RL algorithm). But there are also situations (like this one) where you'll get more value from speedrunning towards an understanding of certain code or concepts, and apply your understanding in subsequent exercises. It's important to find a balance!\n",
        "\n",
        "#### When to use GPT-3.5 and GPT-4\n",
        "\n",
        "GPT-3.5 and 4 both have advantages and disadvantages in different situations. GPT-3.5 has a large advantage in speed over GPT-4, and works equally well on simple problems or functions. If it's anything that Copilot is capable of writing, then you're likely better off using it instead of GPT-4.\n",
        "\n",
        "On the other hand, GPT-4 has an advantage at generating coherent code (although we don't expect you to be using it for code generation much at this stage in the program), and is generally better at responding to complex tasks with less prompt engineering.\n",
        "\n",
        "#### Additional notes on using GPT (from Joseph Bloom)\n",
        "\n",
        "* ChatGPT is overly friendly. If you give it bad code it won't tell you it's shit so you need to encourage it to give feedback and/or show you examples of great code. Especially for beginner coders using it, it's important to realise how *under* critical it is.\n",
        "* GPT is great at writing tests (asking it to write a test for a function is often better than asking it if a function is correct), refactoring code (identifying repeated tasks and extracting them) and naming variables well. These are specific things worth doing a few times to see how useful they can be.\n",
        "* GPT-4 does well with whole modules/scripts so don't hesitate to add those. When you start managing repos on GitHub, use tracked files so that when you copy-paste edited code back, all the changes are highlighted for you as if you'd made them. (VSCode highlights changes with small blue bars next to the line numbers in your python files.)\n",
        "\n",
        "Here are some things you can play around with:\n",
        "\n",
        "* Ask GPT it to write tests for the function. You can give more specific instructions (e.g. asking it to use / not to use the `unittests` library, or to print more informative error messages).\n",
        "* Ask GPT how to refactor the function above. (When I did this, it suggested splitting the function up into subfunctions which performed the discrete tasks of \"compute intersection points\")\n"
      ]
    },
    {
      "cell_type": "markdown",
      "metadata": {
        "id": "rGtZ8hQv5R4q"
      },
      "source": [
        "## 2D Rays\n",
        "\n",
        "Now we're going to make use of the z dimension and have rays emitted from the origin in both y and z dimensions.\n"
      ]
    },
    {
      "cell_type": "markdown",
      "metadata": {
        "id": "NX4At5HX5aQC"
      },
      "source": [
        "### Exercise - implement `make_rays_2d`\n",
        "\n",
        "```yaml\n",
        "Difficulty: 🔴🔴🔴⚪⚪\n",
        "Importance: 🔵🔵⚪⚪⚪\n",
        "\n",
        "You should spend up to 10-15 minutes on this exercise.\n",
        "```\n",
        "\n",
        "Implement `make_rays_2d` analogously to `make_rays_1d`. The result should look like a pyramid with the tip at the origin.\n"
      ]
    },
    {
      "cell_type": "code",
      "execution_count": null,
      "metadata": {
        "id": "pi2tdfpn5XhQ",
        "colab": {
          "base_uri": "https://localhost:8080/",
          "height": 617
        },
        "outputId": "a09604c2-e57d-4653-fa72-1e2188a654d3"
      },
      "outputs": [
        {
          "output_type": "display_data",
          "data": {
            "text/html": [
              "<html>\n",
              "<head><meta charset=\"utf-8\" /></head>\n",
              "<body>\n",
              "    <div>            <script src=\"https://cdnjs.cloudflare.com/ajax/libs/mathjax/2.7.5/MathJax.js?config=TeX-AMS-MML_SVG\"></script><script type=\"text/javascript\">if (window.MathJax && window.MathJax.Hub && window.MathJax.Hub.Config) {window.MathJax.Hub.Config({SVG: {font: \"STIX-Web\"}});}</script>                <script type=\"text/javascript\">window.PlotlyConfig = {MathJaxConfig: 'local'};</script>\n",
              "        <script charset=\"utf-8\" src=\"https://cdn.plot.ly/plotly-2.24.1.min.js\"></script>                <div id=\"542df5f1-880a-411a-aaa5-740eae1a587e\" class=\"plotly-graph-div\" style=\"height:600px; width:600px;\"></div>            <script type=\"text/javascript\">                                    window.PLOTLYENV=window.PLOTLYENV || {};                                    if (document.getElementById(\"542df5f1-880a-411a-aaa5-740eae1a587e\")) {                    Plotly.newPlot(                        \"542df5f1-880a-411a-aaa5-740eae1a587e\",                        [{\"mode\":\"lines\",\"x\":[0.0,1.0],\"y\":[0.0,-0.30000001192092896],\"z\":[0.0,-0.30000001192092896],\"type\":\"scatter3d\"},{\"mode\":\"lines\",\"x\":[0.0,1.0],\"y\":[0.0,-0.30000001192092896],\"z\":[0.0,-0.23333334922790527],\"type\":\"scatter3d\"},{\"mode\":\"lines\",\"x\":[0.0,1.0],\"y\":[0.0,-0.30000001192092896],\"z\":[0.0,-0.1666666716337204],\"type\":\"scatter3d\"},{\"mode\":\"lines\",\"x\":[0.0,1.0],\"y\":[0.0,-0.30000001192092896],\"z\":[0.0,-0.10000000149011612],\"type\":\"scatter3d\"},{\"mode\":\"lines\",\"x\":[0.0,1.0],\"y\":[0.0,-0.30000001192092896],\"z\":[0.0,-0.03333333134651184],\"type\":\"scatter3d\"},{\"mode\":\"lines\",\"x\":[0.0,1.0],\"y\":[0.0,-0.30000001192092896],\"z\":[0.0,0.03333333134651184],\"type\":\"scatter3d\"},{\"mode\":\"lines\",\"x\":[0.0,1.0],\"y\":[0.0,-0.30000001192092896],\"z\":[0.0,0.10000000149011612],\"type\":\"scatter3d\"},{\"mode\":\"lines\",\"x\":[0.0,1.0],\"y\":[0.0,-0.30000001192092896],\"z\":[0.0,0.1666666716337204],\"type\":\"scatter3d\"},{\"mode\":\"lines\",\"x\":[0.0,1.0],\"y\":[0.0,-0.30000001192092896],\"z\":[0.0,0.23333334922790527],\"type\":\"scatter3d\"},{\"mode\":\"lines\",\"x\":[0.0,1.0],\"y\":[0.0,-0.30000001192092896],\"z\":[0.0,0.30000001192092896],\"type\":\"scatter3d\"},{\"mode\":\"lines\",\"x\":[0.0,1.0],\"y\":[0.0,-0.23333334922790527],\"z\":[0.0,-0.30000001192092896],\"type\":\"scatter3d\"},{\"mode\":\"lines\",\"x\":[0.0,1.0],\"y\":[0.0,-0.23333334922790527],\"z\":[0.0,-0.23333334922790527],\"type\":\"scatter3d\"},{\"mode\":\"lines\",\"x\":[0.0,1.0],\"y\":[0.0,-0.23333334922790527],\"z\":[0.0,-0.1666666716337204],\"type\":\"scatter3d\"},{\"mode\":\"lines\",\"x\":[0.0,1.0],\"y\":[0.0,-0.23333334922790527],\"z\":[0.0,-0.10000000149011612],\"type\":\"scatter3d\"},{\"mode\":\"lines\",\"x\":[0.0,1.0],\"y\":[0.0,-0.23333334922790527],\"z\":[0.0,-0.03333333134651184],\"type\":\"scatter3d\"},{\"mode\":\"lines\",\"x\":[0.0,1.0],\"y\":[0.0,-0.23333334922790527],\"z\":[0.0,0.03333333134651184],\"type\":\"scatter3d\"},{\"mode\":\"lines\",\"x\":[0.0,1.0],\"y\":[0.0,-0.23333334922790527],\"z\":[0.0,0.10000000149011612],\"type\":\"scatter3d\"},{\"mode\":\"lines\",\"x\":[0.0,1.0],\"y\":[0.0,-0.23333334922790527],\"z\":[0.0,0.1666666716337204],\"type\":\"scatter3d\"},{\"mode\":\"lines\",\"x\":[0.0,1.0],\"y\":[0.0,-0.23333334922790527],\"z\":[0.0,0.23333334922790527],\"type\":\"scatter3d\"},{\"mode\":\"lines\",\"x\":[0.0,1.0],\"y\":[0.0,-0.23333334922790527],\"z\":[0.0,0.30000001192092896],\"type\":\"scatter3d\"},{\"mode\":\"lines\",\"x\":[0.0,1.0],\"y\":[0.0,-0.1666666716337204],\"z\":[0.0,-0.30000001192092896],\"type\":\"scatter3d\"},{\"mode\":\"lines\",\"x\":[0.0,1.0],\"y\":[0.0,-0.1666666716337204],\"z\":[0.0,-0.23333334922790527],\"type\":\"scatter3d\"},{\"mode\":\"lines\",\"x\":[0.0,1.0],\"y\":[0.0,-0.1666666716337204],\"z\":[0.0,-0.1666666716337204],\"type\":\"scatter3d\"},{\"mode\":\"lines\",\"x\":[0.0,1.0],\"y\":[0.0,-0.1666666716337204],\"z\":[0.0,-0.10000000149011612],\"type\":\"scatter3d\"},{\"mode\":\"lines\",\"x\":[0.0,1.0],\"y\":[0.0,-0.1666666716337204],\"z\":[0.0,-0.03333333134651184],\"type\":\"scatter3d\"},{\"mode\":\"lines\",\"x\":[0.0,1.0],\"y\":[0.0,-0.1666666716337204],\"z\":[0.0,0.03333333134651184],\"type\":\"scatter3d\"},{\"mode\":\"lines\",\"x\":[0.0,1.0],\"y\":[0.0,-0.1666666716337204],\"z\":[0.0,0.10000000149011612],\"type\":\"scatter3d\"},{\"mode\":\"lines\",\"x\":[0.0,1.0],\"y\":[0.0,-0.1666666716337204],\"z\":[0.0,0.1666666716337204],\"type\":\"scatter3d\"},{\"mode\":\"lines\",\"x\":[0.0,1.0],\"y\":[0.0,-0.1666666716337204],\"z\":[0.0,0.23333334922790527],\"type\":\"scatter3d\"},{\"mode\":\"lines\",\"x\":[0.0,1.0],\"y\":[0.0,-0.1666666716337204],\"z\":[0.0,0.30000001192092896],\"type\":\"scatter3d\"},{\"mode\":\"lines\",\"x\":[0.0,1.0],\"y\":[0.0,-0.10000000149011612],\"z\":[0.0,-0.30000001192092896],\"type\":\"scatter3d\"},{\"mode\":\"lines\",\"x\":[0.0,1.0],\"y\":[0.0,-0.10000000149011612],\"z\":[0.0,-0.23333334922790527],\"type\":\"scatter3d\"},{\"mode\":\"lines\",\"x\":[0.0,1.0],\"y\":[0.0,-0.10000000149011612],\"z\":[0.0,-0.1666666716337204],\"type\":\"scatter3d\"},{\"mode\":\"lines\",\"x\":[0.0,1.0],\"y\":[0.0,-0.10000000149011612],\"z\":[0.0,-0.10000000149011612],\"type\":\"scatter3d\"},{\"mode\":\"lines\",\"x\":[0.0,1.0],\"y\":[0.0,-0.10000000149011612],\"z\":[0.0,-0.03333333134651184],\"type\":\"scatter3d\"},{\"mode\":\"lines\",\"x\":[0.0,1.0],\"y\":[0.0,-0.10000000149011612],\"z\":[0.0,0.03333333134651184],\"type\":\"scatter3d\"},{\"mode\":\"lines\",\"x\":[0.0,1.0],\"y\":[0.0,-0.10000000149011612],\"z\":[0.0,0.10000000149011612],\"type\":\"scatter3d\"},{\"mode\":\"lines\",\"x\":[0.0,1.0],\"y\":[0.0,-0.10000000149011612],\"z\":[0.0,0.1666666716337204],\"type\":\"scatter3d\"},{\"mode\":\"lines\",\"x\":[0.0,1.0],\"y\":[0.0,-0.10000000149011612],\"z\":[0.0,0.23333334922790527],\"type\":\"scatter3d\"},{\"mode\":\"lines\",\"x\":[0.0,1.0],\"y\":[0.0,-0.10000000149011612],\"z\":[0.0,0.30000001192092896],\"type\":\"scatter3d\"},{\"mode\":\"lines\",\"x\":[0.0,1.0],\"y\":[0.0,-0.03333333134651184],\"z\":[0.0,-0.30000001192092896],\"type\":\"scatter3d\"},{\"mode\":\"lines\",\"x\":[0.0,1.0],\"y\":[0.0,-0.03333333134651184],\"z\":[0.0,-0.23333334922790527],\"type\":\"scatter3d\"},{\"mode\":\"lines\",\"x\":[0.0,1.0],\"y\":[0.0,-0.03333333134651184],\"z\":[0.0,-0.1666666716337204],\"type\":\"scatter3d\"},{\"mode\":\"lines\",\"x\":[0.0,1.0],\"y\":[0.0,-0.03333333134651184],\"z\":[0.0,-0.10000000149011612],\"type\":\"scatter3d\"},{\"mode\":\"lines\",\"x\":[0.0,1.0],\"y\":[0.0,-0.03333333134651184],\"z\":[0.0,-0.03333333134651184],\"type\":\"scatter3d\"},{\"mode\":\"lines\",\"x\":[0.0,1.0],\"y\":[0.0,-0.03333333134651184],\"z\":[0.0,0.03333333134651184],\"type\":\"scatter3d\"},{\"mode\":\"lines\",\"x\":[0.0,1.0],\"y\":[0.0,-0.03333333134651184],\"z\":[0.0,0.10000000149011612],\"type\":\"scatter3d\"},{\"mode\":\"lines\",\"x\":[0.0,1.0],\"y\":[0.0,-0.03333333134651184],\"z\":[0.0,0.1666666716337204],\"type\":\"scatter3d\"},{\"mode\":\"lines\",\"x\":[0.0,1.0],\"y\":[0.0,-0.03333333134651184],\"z\":[0.0,0.23333334922790527],\"type\":\"scatter3d\"},{\"mode\":\"lines\",\"x\":[0.0,1.0],\"y\":[0.0,-0.03333333134651184],\"z\":[0.0,0.30000001192092896],\"type\":\"scatter3d\"},{\"mode\":\"lines\",\"x\":[0.0,1.0],\"y\":[0.0,0.03333333134651184],\"z\":[0.0,-0.30000001192092896],\"type\":\"scatter3d\"},{\"mode\":\"lines\",\"x\":[0.0,1.0],\"y\":[0.0,0.03333333134651184],\"z\":[0.0,-0.23333334922790527],\"type\":\"scatter3d\"},{\"mode\":\"lines\",\"x\":[0.0,1.0],\"y\":[0.0,0.03333333134651184],\"z\":[0.0,-0.1666666716337204],\"type\":\"scatter3d\"},{\"mode\":\"lines\",\"x\":[0.0,1.0],\"y\":[0.0,0.03333333134651184],\"z\":[0.0,-0.10000000149011612],\"type\":\"scatter3d\"},{\"mode\":\"lines\",\"x\":[0.0,1.0],\"y\":[0.0,0.03333333134651184],\"z\":[0.0,-0.03333333134651184],\"type\":\"scatter3d\"},{\"mode\":\"lines\",\"x\":[0.0,1.0],\"y\":[0.0,0.03333333134651184],\"z\":[0.0,0.03333333134651184],\"type\":\"scatter3d\"},{\"mode\":\"lines\",\"x\":[0.0,1.0],\"y\":[0.0,0.03333333134651184],\"z\":[0.0,0.10000000149011612],\"type\":\"scatter3d\"},{\"mode\":\"lines\",\"x\":[0.0,1.0],\"y\":[0.0,0.03333333134651184],\"z\":[0.0,0.1666666716337204],\"type\":\"scatter3d\"},{\"mode\":\"lines\",\"x\":[0.0,1.0],\"y\":[0.0,0.03333333134651184],\"z\":[0.0,0.23333334922790527],\"type\":\"scatter3d\"},{\"mode\":\"lines\",\"x\":[0.0,1.0],\"y\":[0.0,0.03333333134651184],\"z\":[0.0,0.30000001192092896],\"type\":\"scatter3d\"},{\"mode\":\"lines\",\"x\":[0.0,1.0],\"y\":[0.0,0.10000000149011612],\"z\":[0.0,-0.30000001192092896],\"type\":\"scatter3d\"},{\"mode\":\"lines\",\"x\":[0.0,1.0],\"y\":[0.0,0.10000000149011612],\"z\":[0.0,-0.23333334922790527],\"type\":\"scatter3d\"},{\"mode\":\"lines\",\"x\":[0.0,1.0],\"y\":[0.0,0.10000000149011612],\"z\":[0.0,-0.1666666716337204],\"type\":\"scatter3d\"},{\"mode\":\"lines\",\"x\":[0.0,1.0],\"y\":[0.0,0.10000000149011612],\"z\":[0.0,-0.10000000149011612],\"type\":\"scatter3d\"},{\"mode\":\"lines\",\"x\":[0.0,1.0],\"y\":[0.0,0.10000000149011612],\"z\":[0.0,-0.03333333134651184],\"type\":\"scatter3d\"},{\"mode\":\"lines\",\"x\":[0.0,1.0],\"y\":[0.0,0.10000000149011612],\"z\":[0.0,0.03333333134651184],\"type\":\"scatter3d\"},{\"mode\":\"lines\",\"x\":[0.0,1.0],\"y\":[0.0,0.10000000149011612],\"z\":[0.0,0.10000000149011612],\"type\":\"scatter3d\"},{\"mode\":\"lines\",\"x\":[0.0,1.0],\"y\":[0.0,0.10000000149011612],\"z\":[0.0,0.1666666716337204],\"type\":\"scatter3d\"},{\"mode\":\"lines\",\"x\":[0.0,1.0],\"y\":[0.0,0.10000000149011612],\"z\":[0.0,0.23333334922790527],\"type\":\"scatter3d\"},{\"mode\":\"lines\",\"x\":[0.0,1.0],\"y\":[0.0,0.10000000149011612],\"z\":[0.0,0.30000001192092896],\"type\":\"scatter3d\"},{\"mode\":\"lines\",\"x\":[0.0,1.0],\"y\":[0.0,0.1666666716337204],\"z\":[0.0,-0.30000001192092896],\"type\":\"scatter3d\"},{\"mode\":\"lines\",\"x\":[0.0,1.0],\"y\":[0.0,0.1666666716337204],\"z\":[0.0,-0.23333334922790527],\"type\":\"scatter3d\"},{\"mode\":\"lines\",\"x\":[0.0,1.0],\"y\":[0.0,0.1666666716337204],\"z\":[0.0,-0.1666666716337204],\"type\":\"scatter3d\"},{\"mode\":\"lines\",\"x\":[0.0,1.0],\"y\":[0.0,0.1666666716337204],\"z\":[0.0,-0.10000000149011612],\"type\":\"scatter3d\"},{\"mode\":\"lines\",\"x\":[0.0,1.0],\"y\":[0.0,0.1666666716337204],\"z\":[0.0,-0.03333333134651184],\"type\":\"scatter3d\"},{\"mode\":\"lines\",\"x\":[0.0,1.0],\"y\":[0.0,0.1666666716337204],\"z\":[0.0,0.03333333134651184],\"type\":\"scatter3d\"},{\"mode\":\"lines\",\"x\":[0.0,1.0],\"y\":[0.0,0.1666666716337204],\"z\":[0.0,0.10000000149011612],\"type\":\"scatter3d\"},{\"mode\":\"lines\",\"x\":[0.0,1.0],\"y\":[0.0,0.1666666716337204],\"z\":[0.0,0.1666666716337204],\"type\":\"scatter3d\"},{\"mode\":\"lines\",\"x\":[0.0,1.0],\"y\":[0.0,0.1666666716337204],\"z\":[0.0,0.23333334922790527],\"type\":\"scatter3d\"},{\"mode\":\"lines\",\"x\":[0.0,1.0],\"y\":[0.0,0.1666666716337204],\"z\":[0.0,0.30000001192092896],\"type\":\"scatter3d\"},{\"mode\":\"lines\",\"x\":[0.0,1.0],\"y\":[0.0,0.23333334922790527],\"z\":[0.0,-0.30000001192092896],\"type\":\"scatter3d\"},{\"mode\":\"lines\",\"x\":[0.0,1.0],\"y\":[0.0,0.23333334922790527],\"z\":[0.0,-0.23333334922790527],\"type\":\"scatter3d\"},{\"mode\":\"lines\",\"x\":[0.0,1.0],\"y\":[0.0,0.23333334922790527],\"z\":[0.0,-0.1666666716337204],\"type\":\"scatter3d\"},{\"mode\":\"lines\",\"x\":[0.0,1.0],\"y\":[0.0,0.23333334922790527],\"z\":[0.0,-0.10000000149011612],\"type\":\"scatter3d\"},{\"mode\":\"lines\",\"x\":[0.0,1.0],\"y\":[0.0,0.23333334922790527],\"z\":[0.0,-0.03333333134651184],\"type\":\"scatter3d\"},{\"mode\":\"lines\",\"x\":[0.0,1.0],\"y\":[0.0,0.23333334922790527],\"z\":[0.0,0.03333333134651184],\"type\":\"scatter3d\"},{\"mode\":\"lines\",\"x\":[0.0,1.0],\"y\":[0.0,0.23333334922790527],\"z\":[0.0,0.10000000149011612],\"type\":\"scatter3d\"},{\"mode\":\"lines\",\"x\":[0.0,1.0],\"y\":[0.0,0.23333334922790527],\"z\":[0.0,0.1666666716337204],\"type\":\"scatter3d\"},{\"mode\":\"lines\",\"x\":[0.0,1.0],\"y\":[0.0,0.23333334922790527],\"z\":[0.0,0.23333334922790527],\"type\":\"scatter3d\"},{\"mode\":\"lines\",\"x\":[0.0,1.0],\"y\":[0.0,0.23333334922790527],\"z\":[0.0,0.30000001192092896],\"type\":\"scatter3d\"},{\"mode\":\"lines\",\"x\":[0.0,1.0],\"y\":[0.0,0.30000001192092896],\"z\":[0.0,-0.30000001192092896],\"type\":\"scatter3d\"},{\"mode\":\"lines\",\"x\":[0.0,1.0],\"y\":[0.0,0.30000001192092896],\"z\":[0.0,-0.23333334922790527],\"type\":\"scatter3d\"},{\"mode\":\"lines\",\"x\":[0.0,1.0],\"y\":[0.0,0.30000001192092896],\"z\":[0.0,-0.1666666716337204],\"type\":\"scatter3d\"},{\"mode\":\"lines\",\"x\":[0.0,1.0],\"y\":[0.0,0.30000001192092896],\"z\":[0.0,-0.10000000149011612],\"type\":\"scatter3d\"},{\"mode\":\"lines\",\"x\":[0.0,1.0],\"y\":[0.0,0.30000001192092896],\"z\":[0.0,-0.03333333134651184],\"type\":\"scatter3d\"},{\"mode\":\"lines\",\"x\":[0.0,1.0],\"y\":[0.0,0.30000001192092896],\"z\":[0.0,0.03333333134651184],\"type\":\"scatter3d\"},{\"mode\":\"lines\",\"x\":[0.0,1.0],\"y\":[0.0,0.30000001192092896],\"z\":[0.0,0.10000000149011612],\"type\":\"scatter3d\"},{\"mode\":\"lines\",\"x\":[0.0,1.0],\"y\":[0.0,0.30000001192092896],\"z\":[0.0,0.1666666716337204],\"type\":\"scatter3d\"},{\"mode\":\"lines\",\"x\":[0.0,1.0],\"y\":[0.0,0.30000001192092896],\"z\":[0.0,0.23333334922790527],\"type\":\"scatter3d\"},{\"mode\":\"lines\",\"x\":[0.0,1.0],\"y\":[0.0,0.30000001192092896],\"z\":[0.0,0.30000001192092896],\"type\":\"scatter3d\"}],                        {\"height\":600,\"showlegend\":false,\"title\":{\"text\":\"3D rays\"},\"width\":600,\"template\":{\"data\":{\"histogram2dcontour\":[{\"type\":\"histogram2dcontour\",\"colorbar\":{\"outlinewidth\":0,\"ticks\":\"\"},\"colorscale\":[[0.0,\"#0d0887\"],[0.1111111111111111,\"#46039f\"],[0.2222222222222222,\"#7201a8\"],[0.3333333333333333,\"#9c179e\"],[0.4444444444444444,\"#bd3786\"],[0.5555555555555556,\"#d8576b\"],[0.6666666666666666,\"#ed7953\"],[0.7777777777777778,\"#fb9f3a\"],[0.8888888888888888,\"#fdca26\"],[1.0,\"#f0f921\"]]}],\"choropleth\":[{\"type\":\"choropleth\",\"colorbar\":{\"outlinewidth\":0,\"ticks\":\"\"}}],\"histogram2d\":[{\"type\":\"histogram2d\",\"colorbar\":{\"outlinewidth\":0,\"ticks\":\"\"},\"colorscale\":[[0.0,\"#0d0887\"],[0.1111111111111111,\"#46039f\"],[0.2222222222222222,\"#7201a8\"],[0.3333333333333333,\"#9c179e\"],[0.4444444444444444,\"#bd3786\"],[0.5555555555555556,\"#d8576b\"],[0.6666666666666666,\"#ed7953\"],[0.7777777777777778,\"#fb9f3a\"],[0.8888888888888888,\"#fdca26\"],[1.0,\"#f0f921\"]]}],\"heatmap\":[{\"type\":\"heatmap\",\"colorbar\":{\"outlinewidth\":0,\"ticks\":\"\"},\"colorscale\":[[0.0,\"#0d0887\"],[0.1111111111111111,\"#46039f\"],[0.2222222222222222,\"#7201a8\"],[0.3333333333333333,\"#9c179e\"],[0.4444444444444444,\"#bd3786\"],[0.5555555555555556,\"#d8576b\"],[0.6666666666666666,\"#ed7953\"],[0.7777777777777778,\"#fb9f3a\"],[0.8888888888888888,\"#fdca26\"],[1.0,\"#f0f921\"]]}],\"heatmapgl\":[{\"type\":\"heatmapgl\",\"colorbar\":{\"outlinewidth\":0,\"ticks\":\"\"},\"colorscale\":[[0.0,\"#0d0887\"],[0.1111111111111111,\"#46039f\"],[0.2222222222222222,\"#7201a8\"],[0.3333333333333333,\"#9c179e\"],[0.4444444444444444,\"#bd3786\"],[0.5555555555555556,\"#d8576b\"],[0.6666666666666666,\"#ed7953\"],[0.7777777777777778,\"#fb9f3a\"],[0.8888888888888888,\"#fdca26\"],[1.0,\"#f0f921\"]]}],\"contourcarpet\":[{\"type\":\"contourcarpet\",\"colorbar\":{\"outlinewidth\":0,\"ticks\":\"\"}}],\"contour\":[{\"type\":\"contour\",\"colorbar\":{\"outlinewidth\":0,\"ticks\":\"\"},\"colorscale\":[[0.0,\"#0d0887\"],[0.1111111111111111,\"#46039f\"],[0.2222222222222222,\"#7201a8\"],[0.3333333333333333,\"#9c179e\"],[0.4444444444444444,\"#bd3786\"],[0.5555555555555556,\"#d8576b\"],[0.6666666666666666,\"#ed7953\"],[0.7777777777777778,\"#fb9f3a\"],[0.8888888888888888,\"#fdca26\"],[1.0,\"#f0f921\"]]}],\"surface\":[{\"type\":\"surface\",\"colorbar\":{\"outlinewidth\":0,\"ticks\":\"\"},\"colorscale\":[[0.0,\"#0d0887\"],[0.1111111111111111,\"#46039f\"],[0.2222222222222222,\"#7201a8\"],[0.3333333333333333,\"#9c179e\"],[0.4444444444444444,\"#bd3786\"],[0.5555555555555556,\"#d8576b\"],[0.6666666666666666,\"#ed7953\"],[0.7777777777777778,\"#fb9f3a\"],[0.8888888888888888,\"#fdca26\"],[1.0,\"#f0f921\"]]}],\"mesh3d\":[{\"type\":\"mesh3d\",\"colorbar\":{\"outlinewidth\":0,\"ticks\":\"\"}}],\"scatter\":[{\"fillpattern\":{\"fillmode\":\"overlay\",\"size\":10,\"solidity\":0.2},\"type\":\"scatter\"}],\"parcoords\":[{\"type\":\"parcoords\",\"line\":{\"colorbar\":{\"outlinewidth\":0,\"ticks\":\"\"}}}],\"scatterpolargl\":[{\"type\":\"scatterpolargl\",\"marker\":{\"colorbar\":{\"outlinewidth\":0,\"ticks\":\"\"}}}],\"bar\":[{\"error_x\":{\"color\":\"#2a3f5f\"},\"error_y\":{\"color\":\"#2a3f5f\"},\"marker\":{\"line\":{\"color\":\"#E5ECF6\",\"width\":0.5},\"pattern\":{\"fillmode\":\"overlay\",\"size\":10,\"solidity\":0.2}},\"type\":\"bar\"}],\"scattergeo\":[{\"type\":\"scattergeo\",\"marker\":{\"colorbar\":{\"outlinewidth\":0,\"ticks\":\"\"}}}],\"scatterpolar\":[{\"type\":\"scatterpolar\",\"marker\":{\"colorbar\":{\"outlinewidth\":0,\"ticks\":\"\"}}}],\"histogram\":[{\"marker\":{\"pattern\":{\"fillmode\":\"overlay\",\"size\":10,\"solidity\":0.2}},\"type\":\"histogram\"}],\"scattergl\":[{\"type\":\"scattergl\",\"marker\":{\"colorbar\":{\"outlinewidth\":0,\"ticks\":\"\"}}}],\"scatter3d\":[{\"type\":\"scatter3d\",\"line\":{\"colorbar\":{\"outlinewidth\":0,\"ticks\":\"\"}},\"marker\":{\"colorbar\":{\"outlinewidth\":0,\"ticks\":\"\"}}}],\"scattermapbox\":[{\"type\":\"scattermapbox\",\"marker\":{\"colorbar\":{\"outlinewidth\":0,\"ticks\":\"\"}}}],\"scatterternary\":[{\"type\":\"scatterternary\",\"marker\":{\"colorbar\":{\"outlinewidth\":0,\"ticks\":\"\"}}}],\"scattercarpet\":[{\"type\":\"scattercarpet\",\"marker\":{\"colorbar\":{\"outlinewidth\":0,\"ticks\":\"\"}}}],\"carpet\":[{\"aaxis\":{\"endlinecolor\":\"#2a3f5f\",\"gridcolor\":\"white\",\"linecolor\":\"white\",\"minorgridcolor\":\"white\",\"startlinecolor\":\"#2a3f5f\"},\"baxis\":{\"endlinecolor\":\"#2a3f5f\",\"gridcolor\":\"white\",\"linecolor\":\"white\",\"minorgridcolor\":\"white\",\"startlinecolor\":\"#2a3f5f\"},\"type\":\"carpet\"}],\"table\":[{\"cells\":{\"fill\":{\"color\":\"#EBF0F8\"},\"line\":{\"color\":\"white\"}},\"header\":{\"fill\":{\"color\":\"#C8D4E3\"},\"line\":{\"color\":\"white\"}},\"type\":\"table\"}],\"barpolar\":[{\"marker\":{\"line\":{\"color\":\"#E5ECF6\",\"width\":0.5},\"pattern\":{\"fillmode\":\"overlay\",\"size\":10,\"solidity\":0.2}},\"type\":\"barpolar\"}],\"pie\":[{\"automargin\":true,\"type\":\"pie\"}]},\"layout\":{\"autotypenumbers\":\"strict\",\"colorway\":[\"#636efa\",\"#EF553B\",\"#00cc96\",\"#ab63fa\",\"#FFA15A\",\"#19d3f3\",\"#FF6692\",\"#B6E880\",\"#FF97FF\",\"#FECB52\"],\"font\":{\"color\":\"#2a3f5f\"},\"hovermode\":\"closest\",\"hoverlabel\":{\"align\":\"left\"},\"paper_bgcolor\":\"white\",\"plot_bgcolor\":\"#E5ECF6\",\"polar\":{\"bgcolor\":\"#E5ECF6\",\"angularaxis\":{\"gridcolor\":\"white\",\"linecolor\":\"white\",\"ticks\":\"\"},\"radialaxis\":{\"gridcolor\":\"white\",\"linecolor\":\"white\",\"ticks\":\"\"}},\"ternary\":{\"bgcolor\":\"#E5ECF6\",\"aaxis\":{\"gridcolor\":\"white\",\"linecolor\":\"white\",\"ticks\":\"\"},\"baxis\":{\"gridcolor\":\"white\",\"linecolor\":\"white\",\"ticks\":\"\"},\"caxis\":{\"gridcolor\":\"white\",\"linecolor\":\"white\",\"ticks\":\"\"}},\"coloraxis\":{\"colorbar\":{\"outlinewidth\":0,\"ticks\":\"\"}},\"colorscale\":{\"sequential\":[[0.0,\"#0d0887\"],[0.1111111111111111,\"#46039f\"],[0.2222222222222222,\"#7201a8\"],[0.3333333333333333,\"#9c179e\"],[0.4444444444444444,\"#bd3786\"],[0.5555555555555556,\"#d8576b\"],[0.6666666666666666,\"#ed7953\"],[0.7777777777777778,\"#fb9f3a\"],[0.8888888888888888,\"#fdca26\"],[1.0,\"#f0f921\"]],\"sequentialminus\":[[0.0,\"#0d0887\"],[0.1111111111111111,\"#46039f\"],[0.2222222222222222,\"#7201a8\"],[0.3333333333333333,\"#9c179e\"],[0.4444444444444444,\"#bd3786\"],[0.5555555555555556,\"#d8576b\"],[0.6666666666666666,\"#ed7953\"],[0.7777777777777778,\"#fb9f3a\"],[0.8888888888888888,\"#fdca26\"],[1.0,\"#f0f921\"]],\"diverging\":[[0,\"#8e0152\"],[0.1,\"#c51b7d\"],[0.2,\"#de77ae\"],[0.3,\"#f1b6da\"],[0.4,\"#fde0ef\"],[0.5,\"#f7f7f7\"],[0.6,\"#e6f5d0\"],[0.7,\"#b8e186\"],[0.8,\"#7fbc41\"],[0.9,\"#4d9221\"],[1,\"#276419\"]]},\"xaxis\":{\"gridcolor\":\"white\",\"linecolor\":\"white\",\"ticks\":\"\",\"title\":{\"standoff\":15},\"zerolinecolor\":\"white\",\"automargin\":true,\"zerolinewidth\":2},\"yaxis\":{\"gridcolor\":\"white\",\"linecolor\":\"white\",\"ticks\":\"\",\"title\":{\"standoff\":15},\"zerolinecolor\":\"white\",\"automargin\":true,\"zerolinewidth\":2},\"scene\":{\"xaxis\":{\"backgroundcolor\":\"#E5ECF6\",\"gridcolor\":\"white\",\"linecolor\":\"white\",\"showbackground\":true,\"ticks\":\"\",\"zerolinecolor\":\"white\",\"gridwidth\":2},\"yaxis\":{\"backgroundcolor\":\"#E5ECF6\",\"gridcolor\":\"white\",\"linecolor\":\"white\",\"showbackground\":true,\"ticks\":\"\",\"zerolinecolor\":\"white\",\"gridwidth\":2},\"zaxis\":{\"backgroundcolor\":\"#E5ECF6\",\"gridcolor\":\"white\",\"linecolor\":\"white\",\"showbackground\":true,\"ticks\":\"\",\"zerolinecolor\":\"white\",\"gridwidth\":2}},\"shapedefaults\":{\"line\":{\"color\":\"#2a3f5f\"}},\"annotationdefaults\":{\"arrowcolor\":\"#2a3f5f\",\"arrowhead\":0,\"arrowwidth\":1},\"geo\":{\"bgcolor\":\"white\",\"landcolor\":\"#E5ECF6\",\"subunitcolor\":\"white\",\"showland\":true,\"showlakes\":true,\"lakecolor\":\"white\"},\"title\":{\"x\":0.05},\"mapbox\":{\"style\":\"light\"}}}},                        {\"responsive\": true}                    ).then(function(){\n",
              "                            \n",
              "var gd = document.getElementById('542df5f1-880a-411a-aaa5-740eae1a587e');\n",
              "var x = new MutationObserver(function (mutations, observer) {{\n",
              "        var display = window.getComputedStyle(gd).display;\n",
              "        if (!display || display === 'none') {{\n",
              "            console.log([gd, 'removed!']);\n",
              "            Plotly.purge(gd);\n",
              "            observer.disconnect();\n",
              "        }}\n",
              "}});\n",
              "\n",
              "// Listen for the removal of the full notebook cells\n",
              "var notebookContainer = gd.closest('#notebook-container');\n",
              "if (notebookContainer) {{\n",
              "    x.observe(notebookContainer, {childList: true});\n",
              "}}\n",
              "\n",
              "// Listen for the clearing of the current output cell\n",
              "var outputEl = gd.closest('.output');\n",
              "if (outputEl) {{\n",
              "    x.observe(outputEl, {childList: true});\n",
              "}}\n",
              "\n",
              "                        })                };                            </script>        </div>\n",
              "</body>\n",
              "</html>"
            ]
          },
          "metadata": {}
        }
      ],
      "source": [
        "def make_rays_2d(num_pixels_y: int, num_pixels_z: int, y_limit: float, z_limit: float) -> Float[t.Tensor, \"nrays 2 3\"]:\n",
        "    '''\n",
        "    num_pixels_y: The number of pixels in the y dimension\n",
        "    num_pixels_z: The number of pixels in the z dimension\n",
        "\n",
        "    y_limit: At x=1, the rays should extend from -y_limit to +y_limit, inclusive of both.\n",
        "    z_limit: At x=1, the rays should extend from -z_limit to +z_limit, inclusive of both.\n",
        "\n",
        "    Returns: shape (num_rays=num_pixels_y * num_pixels_z, num_points=2, num_dims=3).\n",
        "    '''\n",
        "    # ys, zs = t.meshgrid(t.linspace(-y_limit, y_limit, num_pixels_y), t.linspace(-z_limit, z_limit, num_pixels_z))\n",
        "\n",
        "    # ys = ys.flatten()\n",
        "    # zs = zs.flatten()\n",
        "    # xs = t.ones(num_pixels_y * num_pixels_z)[..., None]\n",
        "\n",
        "    # D_without_xs = t.stack([ys, zs], dim=-1)\n",
        "    # D = t.concatenate([xs, D_without_xs], dim=-1)\n",
        "\n",
        "    # O = t.zeros((num_pixels_y * num_pixels_z, 3))\n",
        "\n",
        "    # return t.stack([O, D], dim=1)\n",
        "\n",
        "    grid = t.zeros(num_pixels_y * num_pixels_z, 2, 3)\n",
        "    ys = t.linspace(-y_limit, y_limit, num_pixels_y)\n",
        "    zs = t.linspace(-z_limit, z_limit, num_pixels_z)\n",
        "\n",
        "    grid[:, 1, 0] = 1\n",
        "    grid[:, 1, 1] = einops.repeat(ys, \"y -> (y z)\", z=num_pixels_z)\n",
        "    grid[:, 1, 2] = einops.repeat(zs, \"z -> (y z)\", y=num_pixels_y)\n",
        "\n",
        "    return grid\n",
        "\n",
        "\n",
        "rays_2d = make_rays_2d(10, 10, 0.3, 0.3)\n",
        "render_lines_with_plotly(rays_2d)"
      ]
    },
    {
      "cell_type": "markdown",
      "metadata": {
        "id": "3H9pKA7z5VB8"
      },
      "source": [
        "<details>\n",
        "<summary>Help - I'm not sure how to implement this function.</summary>\n",
        "\n",
        "Don't write it as a function right away. The most efficient way is to write and test each line individually in the REPL to verify it does what you expect before proceeding.\n",
        "\n",
        "You can either build up the output tensor using `torch.stack`, or you can initialize the output tensor to its final size and then assign to slices like `rays[:, 1, 1] = ...`. It's good practice to be able to do it both ways.\n",
        "\n",
        "Each y coordinate needs a ray with each corresponding z coordinate - in other words this is an outer product. The most elegant way to do this is with two calls to `einops.repeat`. You can also accomplish this with `unsqueeze`, `expand`, and `reshape` combined.\n",
        "</details>"
      ]
    },
    {
      "cell_type": "markdown",
      "source": [
        "# 3️⃣ Triangles"
      ],
      "metadata": {
        "id": "jRZtC2_-AYtD"
      }
    },
    {
      "cell_type": "markdown",
      "metadata": {
        "id": "qEnX8SPX5l8J"
      },
      "source": [
        "## Triangle Coordinates\n",
        "\n",
        "The area inside a triangle can be defined by three (non-collinear) points $A$, $B$ and $C$, and can be written algebraically as a **convex combination** of those three points:\n",
        "\n",
        "$$\n",
        "\\begin{align*}\n",
        "P(w, u, v) &= wA + uB + vC \\quad\\quad \\\\\n",
        "    \\\\\n",
        "s.t. \\quad 0 &\\leq w,u,v \\\\\n",
        "1 &= w + u + v\n",
        "\\end{align*}\n",
        "$$\n",
        "\n",
        "Or equivalently:\n",
        "\n",
        "$$\n",
        "\\begin{align*}\n",
        "\\quad\\quad\\quad\\quad P(u, v) &= (1 - u - v)A + uB + vC \\\\\n",
        "&= A + u(B - A) + v(C - A) \\\\\n",
        "\\\\\n",
        "s.t. \\quad 0 &\\leq u,v \\\\\n",
        "u + v &\\leq 1\n",
        "\\end{align*}\n",
        "$$\n",
        "\n",
        "These $u, v$ are called \"barycentric coordinates\".\n",
        "\n",
        "If we remove the bounds on $u$ and $v$, we get an equation for the plane containing the triangle. Play with the widget to understand the behavior of $u, v$.\n"
      ]
    },
    {
      "cell_type": "code",
      "execution_count": null,
      "metadata": {
        "id": "Mr7qmCqb5mk0",
        "colab": {
          "base_uri": "https://localhost:8080/",
          "height": 681,
          "referenced_widgets": [
            "9a3ebd03cec94cf99c8d62e45552e8c6",
            "c0adf0aa34964d3b9f28ef8f0f246110",
            "fa394b7e98cb4a29a6d28e01274e8662",
            "1bb197498c754a68aa79abec6756a9d3",
            "07522799439847edbc88e1863e674e6c",
            "02b3db8ead8f4a2db335409e8edab543",
            "a157075ae662422082e7a7a340ade264",
            "5fdc913318de41c18226c624f862b7df",
            "767adcb902ee4657891370ab2d9bb7df",
            "6f6c269efbed4f828121b876a5bfc8c7",
            "5baa3c0dc2d548ecaf515a227b02a5c3"
          ]
        },
        "outputId": "d6e66e6d-793b-4845-924d-e6ad21839a87"
      },
      "outputs": [
        {
          "output_type": "display_data",
          "data": {
            "text/plain": [
              "interactive(children=(FloatSlider(value=0.0, description='u', max=1.5, min=-0.5, step=0.01), FloatSlider(value…"
            ],
            "application/vnd.jupyter.widget-view+json": {
              "version_major": 2,
              "version_minor": 0,
              "model_id": "9a3ebd03cec94cf99c8d62e45552e8c6"
            }
          },
          "metadata": {
            "application/vnd.jupyter.widget-view+json": {
              "colab": {
                "custom_widget_manager": {
                  "url": "https://ssl.gstatic.com/colaboratory-static/widgets/colab-cdn-widget-manager/2b70e893a8ba7c0f/manager.min.js"
                }
              }
            }
          }
        },
        {
          "output_type": "display_data",
          "data": {
            "application/vnd.jupyter.widget-view+json": {
              "version_major": 2,
              "version_minor": 0,
              "model_id": "5baa3c0dc2d548ecaf515a227b02a5c3"
            },
            "text/plain": [
              "FigureWidget({\n",
              "    'data': [{'marker': {'size': 12},\n",
              "              'mode': 'markers+text',\n",
              "              'text': [A, B, C],\n",
              "              'textfont': {'size': 18},\n",
              "              'textposition': 'middle left',\n",
              "              'type': 'scatter',\n",
              "              'uid': 'c0a99bfa-a7bd-44cc-96cf-6587d404733a',\n",
              "              'x': array([0., 3., 2.], dtype=float32),\n",
              "              'y': array([0. , 0.5, 3. ], dtype=float32)},\n",
              "             {'mode': 'lines',\n",
              "              'type': 'scatter',\n",
              "              'uid': '0e91dd9f-5b3c-4357-b4f9-98f13652e50f',\n",
              "              'x': [0.0, 3.0, 2.0, 0.0],\n",
              "              'y': [0.0, 0.5, 3.0, 0.0]},\n",
              "             {'marker': {'size': 12, 'symbol': 'x'},\n",
              "              'mode': 'markers',\n",
              "              'type': 'scatter',\n",
              "              'uid': '92104066-b429-4bbe-b4c3-3c76aad6f78f',\n",
              "              'x': [0.0],\n",
              "              'y': [0.0]}],\n",
              "    'layout': {'height': 600,\n",
              "               'showlegend': False,\n",
              "               'template': '...',\n",
              "               'title': {'text': 'Barycentric coordinates illustration'},\n",
              "               'width': 800,\n",
              "               'xaxis': {'range': [-3, 8]},\n",
              "               'yaxis': {'range': [-2, 5.5]}}\n",
              "})"
            ]
          },
          "metadata": {
            "application/vnd.jupyter.widget-view+json": {
              "colab": {
                "custom_widget_manager": {
                  "url": "https://ssl.gstatic.com/colaboratory-static/widgets/colab-cdn-widget-manager/2b70e893a8ba7c0f/manager.min.js"
                }
              }
            }
          }
        }
      ],
      "source": [
        "one_triangle = t.tensor([[0, 0, 0], [3, 0.5, 0], [2, 3, 0]])\n",
        "A, B, C = one_triangle\n",
        "x, y, z = one_triangle.T\n",
        "\n",
        "fig = setup_widget_fig_triangle(x, y, z)\n",
        "\n",
        "@interact(u=(-0.5, 1.5, 0.01), v=(-0.5, 1.5, 0.01))\n",
        "def response(u=0.0, v=0.0):\n",
        "    P = A + u * (B - A) + v * (C - A)\n",
        "    fig.data[2].update({\"x\": [P[0]], \"y\": [P[1]]})\n",
        "\n",
        "display(fig)"
      ]
    },
    {
      "cell_type": "markdown",
      "metadata": {
        "id": "7TAa9_oA5q1X"
      },
      "source": [
        "### Triangle-Ray Intersection\n",
        "\n",
        "Given a ray with origin $O$ and direction $D$, our intersection algorithm will consist of two steps:\n",
        "\n",
        "- Finding the intersection between the line and the plane containing the triangle, by solving the equation $P(u, v) = P(s)$;\n",
        "- Checking if $u$ and $v$ are within the bounds of the triangle.\n",
        "\n",
        "Expanding the equation $P(u, v) = P(s)$, we have:\n",
        "\n",
        "$$\n",
        "\\begin{align*}\n",
        "A + u(B - A) + v(C - A) &= O + sD \\\\\n",
        "\\Rightarrow\n",
        "\\begin{pmatrix}\n",
        "    -D & (B - A) & (C - A) \\\\\n",
        "\\end{pmatrix}\n",
        "\\begin{pmatrix}\n",
        "    s \\\\\n",
        "    u \\\\\n",
        "    v  \n",
        "\\end{pmatrix}\n",
        "&= \\begin{pmatrix} O - A \\end{pmatrix} \\\\\n",
        "\\Rightarrow \\begin{pmatrix}\n",
        "    -D_x & (B - A)_x & (C - A)_x \\\\\n",
        "    -D_y & (B - A)_y & (C - A)_y \\\\\n",
        "    -D_z & (B - A)_z & (C - A)_z \\\\\n",
        "\\end{pmatrix}\n",
        "\\begin{pmatrix}\n",
        "    s \\\\\n",
        "    u \\\\\n",
        "    v  \n",
        "\\end{pmatrix} &= \\begin{pmatrix}\n",
        "    (O - A)_x \\\\\n",
        "    (O - A)_y \\\\\n",
        "    (O - A)_z \\\\\n",
        "\\end{pmatrix}\n",
        "\\end{align*}\n",
        "$$\n",
        "\n",
        "$$\n",
        "$$\n",
        "\n",
        "We can therefore find the coordinates `s`, `u`, `v` of the intersection point by solving the linear system above.\n"
      ]
    },
    {
      "cell_type": "markdown",
      "metadata": {
        "id": "T60GH0jg5s-1"
      },
      "source": [
        "### Exercise - implement `triangle_ray_intersects`\n",
        "\n",
        "```yaml\n",
        "Difficulty: 🔴🔴🔴⚪⚪\n",
        "Importance: 🔵🔵🔵⚪⚪\n",
        "\n",
        "You should spend up to 15-20 minutes on this exercise.\n",
        "```\n",
        "\n",
        "Using `torch.linalg.solve` and `torch.stack`, implement `triangle_ray_intersects(A, B, C, O, D)`.\n",
        "\n",
        "A few tips:\n",
        "\n",
        "* If you have a 0-dimensional tensor with shape `()` containing a single value, use the `item()` method to convert it to a plain Python value.\n",
        "* If you have a tensor of shape `tensor.shape = (3, ...)`, then you can unpack it along the first dimension into three separate tensors the same way that you'd unpack a normal python list: `s, u, v = tensor`.\n",
        "    * Note - if the dimension you want to unpack isn't at the start, a nice alternative is `s, u, v = tensor.unbind(dim)`, which does the same thing but along the dimension given by `dim` rather than the first dimension.\n",
        "* If your function isn't working, try making a simple ray and triangle with nice round numbers where you can work out manually if it should intersect or not, then debug from there.\n"
      ]
    },
    {
      "cell_type": "code",
      "execution_count": null,
      "metadata": {
        "id": "UJM0sTPE5vBV",
        "colab": {
          "base_uri": "https://localhost:8080/"
        },
        "outputId": "7edbdb30-dcf8-47c0-bb76-28898ae3241e"
      },
      "outputs": [
        {
          "output_type": "stream",
          "name": "stdout",
          "text": [
            "All tests in `test_triangle_ray_intersects` passed!\n"
          ]
        }
      ],
      "source": [
        "Point = Float[Tensor, \"points=3\"]\n",
        "\n",
        "def triangle_ray_intersects(A: Point, B: Point, C: Point, O: Point, D: Point) -> bool:\n",
        "    '''\n",
        "    A: shape (3,), one vertex of the triangle\n",
        "    B: shape (3,), second vertex of the triangle\n",
        "    C: shape (3,), third vertex of the triangle\n",
        "    O: shape (3,), origin point\n",
        "    D: shape (3,), direction point\n",
        "\n",
        "    Return True if the ray and the triangle intersect.\n",
        "    '''\n",
        "\n",
        "    mat = t.stack([-D, B-A, C-A], dim=-1)\n",
        "    vec = O - A\n",
        "\n",
        "    try:\n",
        "      s, u, v = t.linalg.solve(mat, vec)\n",
        "    except RuntimeError:\n",
        "      return False\n",
        "\n",
        "    return (s >= 0) & (u >= 0) & (v >= 0) & (u + v <= 1)\n",
        "\n",
        "\n",
        "\n",
        "tests.test_triangle_ray_intersects(triangle_ray_intersects)"
      ]
    },
    {
      "cell_type": "markdown",
      "metadata": {
        "id": "J5CDa-qX52Mk"
      },
      "source": [
        "## Single-Triangle Rendering\n",
        "\n",
        "Implement `raytrace_triangle` using only one call to `torch.linalg.solve`.\n",
        "\n",
        "Reshape the output and visualize with `plt.imshow`. It's normal for the edges to look pixelated and jagged - using a small number of pixels is a good way to debug quickly.\n",
        "\n",
        "If you think it's working, increase the number of pixels and verify that it looks less pixelated at higher resolution.\n"
      ]
    },
    {
      "cell_type": "markdown",
      "metadata": {
        "id": "6_0o5Vng53-E"
      },
      "source": [
        "### Views and Copies\n",
        "\n",
        "It's critical to know when you are making a copy of a `Tensor`, versus making a view of it that shares the data with the original tensor. It's preferable to use a view whenever possible to avoid copying memory unnecessarily. On the other hand, modifying a view modifies the original tensor which can be unintended and surprising. Consult [the documentation](https://pytorch.org/docs/stable/tensor_view.html) if you're unsure if a function returns a view. A short reference of common functions:\n",
        "\n",
        "- `torch.expand`: always returns a view\n",
        "- `torch.view`: always returns a view\n",
        "- `torch.detach`: always returns a view\n",
        "- `torch.repeat`: always copies\n",
        "- `torch.clone`: always copies\n",
        "- `torch.flip`: always copies (different than numpy.flip which returns a view)\n",
        "- `torch.tensor`: always copies, but PyTorch recommends using `.clone().detach()` instead.\n",
        "- `torch.Tensor.contiguous`: returns self if possible, otherwise a copy\n",
        "- `torch.transpose`: returns a view if possible, otherwise (sparse tensor) a copy\n",
        "- `torch.reshape`: returns a view if possible, otherwise a copy\n",
        "- `torch.flatten`: returns a view if possible, otherwise a copy (different than numpy.flatten which returns a copy)\n",
        "- `einops.repeat`: returns a view if possible, otherwise a copy\n",
        "- `einops.rearrange`: returns a view if possible, otherwise a copy\n",
        "- Basic indexing returns a view, while advanced indexing returns a copy.\n"
      ]
    },
    {
      "cell_type": "markdown",
      "metadata": {
        "id": "XDm8vbGA55UP"
      },
      "source": [
        "### Storage Objects\n",
        "\n",
        "Calling `storage()` on a `Tensor` returns a Python object wrapping the underlying C++ array. This array is 1D regardless of the dimensionality of the `Tensor`. This allows you to look inside the `Tensor` abstraction and see how the actual data is laid out in RAM.\n",
        "\n",
        "Note that a new Python wrapper object is generated each time you call `storage()`, and both `x.storage() == x.storage()` and `x.storage() is x.storage()` evaluates to False.\n",
        "\n",
        "If you want to check if two `Tensor`s share an underlying C++ array, you can compare their `storage().data_ptr()` fields. This can be useful for debugging.\n"
      ]
    },
    {
      "cell_type": "markdown",
      "metadata": {
        "id": "TpsV-Jh756S7"
      },
      "source": [
        "### `Tensor._base`\n",
        "\n",
        "If `x` is a view, you can access the original `Tensor` with `x._base`. This is an undocumented internal feature that's useful to know. Consider the following code:\n",
        "\n",
        "```python\n",
        "x = t.zeros(1024*1024*1024)\n",
        "y = x[0]\n",
        "del x\n",
        "```\n",
        "\n",
        "Here, `y` was created through basic indexing, so `y` is a view and `y._base` refers to `x`. This means `del x` won't actually deallocate the 4GB of memory, and that memory will remain in use which can be quite surprising. `y = x[0].clone()` would be an alternative here that does allow reclaiming the memory.\n"
      ]
    },
    {
      "cell_type": "markdown",
      "metadata": {
        "id": "nJr4dMtl57qb"
      },
      "source": [
        "### Exercise - implement `raytrace_triangle`\n",
        "\n",
        "```yaml\n",
        "Difficulty: 🔴🔴🔴🔴⚪\n",
        "Importance: 🔵🔵🔵🔵⚪\n",
        "\n",
        "You should spend up to 15-20 minutes on this exercise.\n",
        "\n",
        "This is about as hard as `intersect_rays_1d`, although hopefully you should find it more familiar.\n",
        "```\n",
        "\n",
        "Below, you should implement `raytrace_triangle`, a funtion which checks whether each ray in `ray` intersects a single given triangle.\n"
      ]
    },
    {
      "cell_type": "code",
      "execution_count": null,
      "metadata": {
        "id": "jrEuOXdd58cQ",
        "colab": {
          "base_uri": "https://localhost:8080/",
          "height": 1000
        },
        "outputId": "b59f4361-e7f5-41b6-c0d4-0f4412ec9afa"
      },
      "outputs": [
        {
          "output_type": "display_data",
          "data": {
            "text/html": [
              "<html>\n",
              "<head><meta charset=\"utf-8\" /></head>\n",
              "<body>\n",
              "    <div>            <script src=\"https://cdnjs.cloudflare.com/ajax/libs/mathjax/2.7.5/MathJax.js?config=TeX-AMS-MML_SVG\"></script><script type=\"text/javascript\">if (window.MathJax && window.MathJax.Hub && window.MathJax.Hub.Config) {window.MathJax.Hub.Config({SVG: {font: \"STIX-Web\"}});}</script>                <script type=\"text/javascript\">window.PlotlyConfig = {MathJaxConfig: 'local'};</script>\n",
              "        <script charset=\"utf-8\" src=\"https://cdn.plot.ly/plotly-2.24.1.min.js\"></script>                <div id=\"ef26d18c-64a7-4137-9a9d-9564462bb668\" class=\"plotly-graph-div\" style=\"height:600px; width:600px;\"></div>            <script type=\"text/javascript\">                                    window.PLOTLYENV=window.PLOTLYENV || {};                                    if (document.getElementById(\"ef26d18c-64a7-4137-9a9d-9564462bb668\")) {                    Plotly.newPlot(                        \"ef26d18c-64a7-4137-9a9d-9564462bb668\",                        [{\"mode\":\"lines\",\"x\":[0.0,1.0],\"y\":[0.0,-0.5],\"z\":[0.0,-0.5],\"type\":\"scatter3d\"},{\"mode\":\"lines\",\"x\":[0.0,1.0],\"y\":[0.0,-0.5],\"z\":[0.0,-0.4655172526836395],\"type\":\"scatter3d\"},{\"mode\":\"lines\",\"x\":[0.0,1.0],\"y\":[0.0,-0.5],\"z\":[0.0,-0.43103447556495667],\"type\":\"scatter3d\"},{\"mode\":\"lines\",\"x\":[0.0,1.0],\"y\":[0.0,-0.5],\"z\":[0.0,-0.3965517282485962],\"type\":\"scatter3d\"},{\"mode\":\"lines\",\"x\":[0.0,1.0],\"y\":[0.0,-0.5],\"z\":[0.0,-0.36206895112991333],\"type\":\"scatter3d\"},{\"mode\":\"lines\",\"x\":[0.0,1.0],\"y\":[0.0,-0.5],\"z\":[0.0,-0.32758620381355286],\"type\":\"scatter3d\"},{\"mode\":\"lines\",\"x\":[0.0,1.0],\"y\":[0.0,-0.5],\"z\":[0.0,-0.2931034564971924],\"type\":\"scatter3d\"},{\"mode\":\"lines\",\"x\":[0.0,1.0],\"y\":[0.0,-0.5],\"z\":[0.0,-0.2586206793785095],\"type\":\"scatter3d\"},{\"mode\":\"lines\",\"x\":[0.0,1.0],\"y\":[0.0,-0.5],\"z\":[0.0,-0.22413793206214905],\"type\":\"scatter3d\"},{\"mode\":\"lines\",\"x\":[0.0,1.0],\"y\":[0.0,-0.5],\"z\":[0.0,-0.18965516984462738],\"type\":\"scatter3d\"},{\"mode\":\"lines\",\"x\":[0.0,1.0],\"y\":[0.0,-0.5],\"z\":[0.0,-0.1551724076271057],\"type\":\"scatter3d\"},{\"mode\":\"lines\",\"x\":[0.0,1.0],\"y\":[0.0,-0.5],\"z\":[0.0,-0.12068966031074524],\"type\":\"scatter3d\"},{\"mode\":\"lines\",\"x\":[0.0,1.0],\"y\":[0.0,-0.5],\"z\":[0.0,-0.08620689809322357],\"type\":\"scatter3d\"},{\"mode\":\"lines\",\"x\":[0.0,1.0],\"y\":[0.0,-0.5],\"z\":[0.0,-0.0517241396009922],\"type\":\"scatter3d\"},{\"mode\":\"lines\",\"x\":[0.0,1.0],\"y\":[0.0,-0.5],\"z\":[0.0,-0.017241381108760834],\"type\":\"scatter3d\"},{\"mode\":\"lines\",\"x\":[0.0,1.0],\"y\":[0.0,-0.5],\"z\":[0.0,0.017241381108760834],\"type\":\"scatter3d\"},{\"mode\":\"lines\",\"x\":[0.0,1.0],\"y\":[0.0,-0.5],\"z\":[0.0,0.0517241396009922],\"type\":\"scatter3d\"},{\"mode\":\"lines\",\"x\":[0.0,1.0],\"y\":[0.0,-0.5],\"z\":[0.0,0.08620689809322357],\"type\":\"scatter3d\"},{\"mode\":\"lines\",\"x\":[0.0,1.0],\"y\":[0.0,-0.5],\"z\":[0.0,0.12068966031074524],\"type\":\"scatter3d\"},{\"mode\":\"lines\",\"x\":[0.0,1.0],\"y\":[0.0,-0.5],\"z\":[0.0,0.1551724076271057],\"type\":\"scatter3d\"},{\"mode\":\"lines\",\"x\":[0.0,1.0],\"y\":[0.0,-0.5],\"z\":[0.0,0.18965516984462738],\"type\":\"scatter3d\"},{\"mode\":\"lines\",\"x\":[0.0,1.0],\"y\":[0.0,-0.5],\"z\":[0.0,0.22413793206214905],\"type\":\"scatter3d\"},{\"mode\":\"lines\",\"x\":[0.0,1.0],\"y\":[0.0,-0.5],\"z\":[0.0,0.2586206793785095],\"type\":\"scatter3d\"},{\"mode\":\"lines\",\"x\":[0.0,1.0],\"y\":[0.0,-0.5],\"z\":[0.0,0.2931034564971924],\"type\":\"scatter3d\"},{\"mode\":\"lines\",\"x\":[0.0,1.0],\"y\":[0.0,-0.5],\"z\":[0.0,0.32758620381355286],\"type\":\"scatter3d\"},{\"mode\":\"lines\",\"x\":[0.0,1.0],\"y\":[0.0,-0.5],\"z\":[0.0,0.36206895112991333],\"type\":\"scatter3d\"},{\"mode\":\"lines\",\"x\":[0.0,1.0],\"y\":[0.0,-0.5],\"z\":[0.0,0.3965517282485962],\"type\":\"scatter3d\"},{\"mode\":\"lines\",\"x\":[0.0,1.0],\"y\":[0.0,-0.5],\"z\":[0.0,0.43103447556495667],\"type\":\"scatter3d\"},{\"mode\":\"lines\",\"x\":[0.0,1.0],\"y\":[0.0,-0.5],\"z\":[0.0,0.4655172526836395],\"type\":\"scatter3d\"},{\"mode\":\"lines\",\"x\":[0.0,1.0],\"y\":[0.0,-0.5],\"z\":[0.0,0.5],\"type\":\"scatter3d\"},{\"mode\":\"lines\",\"x\":[0.0,1.0],\"y\":[0.0,-0.4655172526836395],\"z\":[0.0,-0.5],\"type\":\"scatter3d\"},{\"mode\":\"lines\",\"x\":[0.0,1.0],\"y\":[0.0,-0.4655172526836395],\"z\":[0.0,-0.4655172526836395],\"type\":\"scatter3d\"},{\"mode\":\"lines\",\"x\":[0.0,1.0],\"y\":[0.0,-0.4655172526836395],\"z\":[0.0,-0.43103447556495667],\"type\":\"scatter3d\"},{\"mode\":\"lines\",\"x\":[0.0,1.0],\"y\":[0.0,-0.4655172526836395],\"z\":[0.0,-0.3965517282485962],\"type\":\"scatter3d\"},{\"mode\":\"lines\",\"x\":[0.0,1.0],\"y\":[0.0,-0.4655172526836395],\"z\":[0.0,-0.36206895112991333],\"type\":\"scatter3d\"},{\"mode\":\"lines\",\"x\":[0.0,1.0],\"y\":[0.0,-0.4655172526836395],\"z\":[0.0,-0.32758620381355286],\"type\":\"scatter3d\"},{\"mode\":\"lines\",\"x\":[0.0,1.0],\"y\":[0.0,-0.4655172526836395],\"z\":[0.0,-0.2931034564971924],\"type\":\"scatter3d\"},{\"mode\":\"lines\",\"x\":[0.0,1.0],\"y\":[0.0,-0.4655172526836395],\"z\":[0.0,-0.2586206793785095],\"type\":\"scatter3d\"},{\"mode\":\"lines\",\"x\":[0.0,1.0],\"y\":[0.0,-0.4655172526836395],\"z\":[0.0,-0.22413793206214905],\"type\":\"scatter3d\"},{\"mode\":\"lines\",\"x\":[0.0,1.0],\"y\":[0.0,-0.4655172526836395],\"z\":[0.0,-0.18965516984462738],\"type\":\"scatter3d\"},{\"mode\":\"lines\",\"x\":[0.0,1.0],\"y\":[0.0,-0.4655172526836395],\"z\":[0.0,-0.1551724076271057],\"type\":\"scatter3d\"},{\"mode\":\"lines\",\"x\":[0.0,1.0],\"y\":[0.0,-0.4655172526836395],\"z\":[0.0,-0.12068966031074524],\"type\":\"scatter3d\"},{\"mode\":\"lines\",\"x\":[0.0,1.0],\"y\":[0.0,-0.4655172526836395],\"z\":[0.0,-0.08620689809322357],\"type\":\"scatter3d\"},{\"mode\":\"lines\",\"x\":[0.0,1.0],\"y\":[0.0,-0.4655172526836395],\"z\":[0.0,-0.0517241396009922],\"type\":\"scatter3d\"},{\"mode\":\"lines\",\"x\":[0.0,1.0],\"y\":[0.0,-0.4655172526836395],\"z\":[0.0,-0.017241381108760834],\"type\":\"scatter3d\"},{\"mode\":\"lines\",\"x\":[0.0,1.0],\"y\":[0.0,-0.4655172526836395],\"z\":[0.0,0.017241381108760834],\"type\":\"scatter3d\"},{\"mode\":\"lines\",\"x\":[0.0,1.0],\"y\":[0.0,-0.4655172526836395],\"z\":[0.0,0.0517241396009922],\"type\":\"scatter3d\"},{\"mode\":\"lines\",\"x\":[0.0,1.0],\"y\":[0.0,-0.4655172526836395],\"z\":[0.0,0.08620689809322357],\"type\":\"scatter3d\"},{\"mode\":\"lines\",\"x\":[0.0,1.0],\"y\":[0.0,-0.4655172526836395],\"z\":[0.0,0.12068966031074524],\"type\":\"scatter3d\"},{\"mode\":\"lines\",\"x\":[0.0,1.0],\"y\":[0.0,-0.4655172526836395],\"z\":[0.0,0.1551724076271057],\"type\":\"scatter3d\"},{\"mode\":\"lines\",\"x\":[0.0,1.0],\"y\":[0.0,-0.4655172526836395],\"z\":[0.0,0.18965516984462738],\"type\":\"scatter3d\"},{\"mode\":\"lines\",\"x\":[0.0,1.0],\"y\":[0.0,-0.4655172526836395],\"z\":[0.0,0.22413793206214905],\"type\":\"scatter3d\"},{\"mode\":\"lines\",\"x\":[0.0,1.0],\"y\":[0.0,-0.4655172526836395],\"z\":[0.0,0.2586206793785095],\"type\":\"scatter3d\"},{\"mode\":\"lines\",\"x\":[0.0,1.0],\"y\":[0.0,-0.4655172526836395],\"z\":[0.0,0.2931034564971924],\"type\":\"scatter3d\"},{\"mode\":\"lines\",\"x\":[0.0,1.0],\"y\":[0.0,-0.4655172526836395],\"z\":[0.0,0.32758620381355286],\"type\":\"scatter3d\"},{\"mode\":\"lines\",\"x\":[0.0,1.0],\"y\":[0.0,-0.4655172526836395],\"z\":[0.0,0.36206895112991333],\"type\":\"scatter3d\"},{\"mode\":\"lines\",\"x\":[0.0,1.0],\"y\":[0.0,-0.4655172526836395],\"z\":[0.0,0.3965517282485962],\"type\":\"scatter3d\"},{\"mode\":\"lines\",\"x\":[0.0,1.0],\"y\":[0.0,-0.4655172526836395],\"z\":[0.0,0.43103447556495667],\"type\":\"scatter3d\"},{\"mode\":\"lines\",\"x\":[0.0,1.0],\"y\":[0.0,-0.4655172526836395],\"z\":[0.0,0.4655172526836395],\"type\":\"scatter3d\"},{\"mode\":\"lines\",\"x\":[0.0,1.0],\"y\":[0.0,-0.4655172526836395],\"z\":[0.0,0.5],\"type\":\"scatter3d\"},{\"mode\":\"lines\",\"x\":[0.0,1.0],\"y\":[0.0,-0.43103447556495667],\"z\":[0.0,-0.5],\"type\":\"scatter3d\"},{\"mode\":\"lines\",\"x\":[0.0,1.0],\"y\":[0.0,-0.43103447556495667],\"z\":[0.0,-0.4655172526836395],\"type\":\"scatter3d\"},{\"mode\":\"lines\",\"x\":[0.0,1.0],\"y\":[0.0,-0.43103447556495667],\"z\":[0.0,-0.43103447556495667],\"type\":\"scatter3d\"},{\"mode\":\"lines\",\"x\":[0.0,1.0],\"y\":[0.0,-0.43103447556495667],\"z\":[0.0,-0.3965517282485962],\"type\":\"scatter3d\"},{\"mode\":\"lines\",\"x\":[0.0,1.0],\"y\":[0.0,-0.43103447556495667],\"z\":[0.0,-0.36206895112991333],\"type\":\"scatter3d\"},{\"mode\":\"lines\",\"x\":[0.0,1.0],\"y\":[0.0,-0.43103447556495667],\"z\":[0.0,-0.32758620381355286],\"type\":\"scatter3d\"},{\"mode\":\"lines\",\"x\":[0.0,1.0],\"y\":[0.0,-0.43103447556495667],\"z\":[0.0,-0.2931034564971924],\"type\":\"scatter3d\"},{\"mode\":\"lines\",\"x\":[0.0,1.0],\"y\":[0.0,-0.43103447556495667],\"z\":[0.0,-0.2586206793785095],\"type\":\"scatter3d\"},{\"mode\":\"lines\",\"x\":[0.0,1.0],\"y\":[0.0,-0.43103447556495667],\"z\":[0.0,-0.22413793206214905],\"type\":\"scatter3d\"},{\"mode\":\"lines\",\"x\":[0.0,1.0],\"y\":[0.0,-0.43103447556495667],\"z\":[0.0,-0.18965516984462738],\"type\":\"scatter3d\"},{\"mode\":\"lines\",\"x\":[0.0,1.0],\"y\":[0.0,-0.43103447556495667],\"z\":[0.0,-0.1551724076271057],\"type\":\"scatter3d\"},{\"mode\":\"lines\",\"x\":[0.0,1.0],\"y\":[0.0,-0.43103447556495667],\"z\":[0.0,-0.12068966031074524],\"type\":\"scatter3d\"},{\"mode\":\"lines\",\"x\":[0.0,1.0],\"y\":[0.0,-0.43103447556495667],\"z\":[0.0,-0.08620689809322357],\"type\":\"scatter3d\"},{\"mode\":\"lines\",\"x\":[0.0,1.0],\"y\":[0.0,-0.43103447556495667],\"z\":[0.0,-0.0517241396009922],\"type\":\"scatter3d\"},{\"mode\":\"lines\",\"x\":[0.0,1.0],\"y\":[0.0,-0.43103447556495667],\"z\":[0.0,-0.017241381108760834],\"type\":\"scatter3d\"},{\"mode\":\"lines\",\"x\":[0.0,1.0],\"y\":[0.0,-0.43103447556495667],\"z\":[0.0,0.017241381108760834],\"type\":\"scatter3d\"},{\"mode\":\"lines\",\"x\":[0.0,1.0],\"y\":[0.0,-0.43103447556495667],\"z\":[0.0,0.0517241396009922],\"type\":\"scatter3d\"},{\"mode\":\"lines\",\"x\":[0.0,1.0],\"y\":[0.0,-0.43103447556495667],\"z\":[0.0,0.08620689809322357],\"type\":\"scatter3d\"},{\"mode\":\"lines\",\"x\":[0.0,1.0],\"y\":[0.0,-0.43103447556495667],\"z\":[0.0,0.12068966031074524],\"type\":\"scatter3d\"},{\"mode\":\"lines\",\"x\":[0.0,1.0],\"y\":[0.0,-0.43103447556495667],\"z\":[0.0,0.1551724076271057],\"type\":\"scatter3d\"},{\"mode\":\"lines\",\"x\":[0.0,1.0],\"y\":[0.0,-0.43103447556495667],\"z\":[0.0,0.18965516984462738],\"type\":\"scatter3d\"},{\"mode\":\"lines\",\"x\":[0.0,1.0],\"y\":[0.0,-0.43103447556495667],\"z\":[0.0,0.22413793206214905],\"type\":\"scatter3d\"},{\"mode\":\"lines\",\"x\":[0.0,1.0],\"y\":[0.0,-0.43103447556495667],\"z\":[0.0,0.2586206793785095],\"type\":\"scatter3d\"},{\"mode\":\"lines\",\"x\":[0.0,1.0],\"y\":[0.0,-0.43103447556495667],\"z\":[0.0,0.2931034564971924],\"type\":\"scatter3d\"},{\"mode\":\"lines\",\"x\":[0.0,1.0],\"y\":[0.0,-0.43103447556495667],\"z\":[0.0,0.32758620381355286],\"type\":\"scatter3d\"},{\"mode\":\"lines\",\"x\":[0.0,1.0],\"y\":[0.0,-0.43103447556495667],\"z\":[0.0,0.36206895112991333],\"type\":\"scatter3d\"},{\"mode\":\"lines\",\"x\":[0.0,1.0],\"y\":[0.0,-0.43103447556495667],\"z\":[0.0,0.3965517282485962],\"type\":\"scatter3d\"},{\"mode\":\"lines\",\"x\":[0.0,1.0],\"y\":[0.0,-0.43103447556495667],\"z\":[0.0,0.43103447556495667],\"type\":\"scatter3d\"},{\"mode\":\"lines\",\"x\":[0.0,1.0],\"y\":[0.0,-0.43103447556495667],\"z\":[0.0,0.4655172526836395],\"type\":\"scatter3d\"},{\"mode\":\"lines\",\"x\":[0.0,1.0],\"y\":[0.0,-0.43103447556495667],\"z\":[0.0,0.5],\"type\":\"scatter3d\"},{\"mode\":\"lines\",\"x\":[0.0,1.0],\"y\":[0.0,-0.3965517282485962],\"z\":[0.0,-0.5],\"type\":\"scatter3d\"},{\"mode\":\"lines\",\"x\":[0.0,1.0],\"y\":[0.0,-0.3965517282485962],\"z\":[0.0,-0.4655172526836395],\"type\":\"scatter3d\"},{\"mode\":\"lines\",\"x\":[0.0,1.0],\"y\":[0.0,-0.3965517282485962],\"z\":[0.0,-0.43103447556495667],\"type\":\"scatter3d\"},{\"mode\":\"lines\",\"x\":[0.0,1.0],\"y\":[0.0,-0.3965517282485962],\"z\":[0.0,-0.3965517282485962],\"type\":\"scatter3d\"},{\"mode\":\"lines\",\"x\":[0.0,1.0],\"y\":[0.0,-0.3965517282485962],\"z\":[0.0,-0.36206895112991333],\"type\":\"scatter3d\"},{\"mode\":\"lines\",\"x\":[0.0,1.0],\"y\":[0.0,-0.3965517282485962],\"z\":[0.0,-0.32758620381355286],\"type\":\"scatter3d\"},{\"mode\":\"lines\",\"x\":[0.0,1.0],\"y\":[0.0,-0.3965517282485962],\"z\":[0.0,-0.2931034564971924],\"type\":\"scatter3d\"},{\"mode\":\"lines\",\"x\":[0.0,1.0],\"y\":[0.0,-0.3965517282485962],\"z\":[0.0,-0.2586206793785095],\"type\":\"scatter3d\"},{\"mode\":\"lines\",\"x\":[0.0,1.0],\"y\":[0.0,-0.3965517282485962],\"z\":[0.0,-0.22413793206214905],\"type\":\"scatter3d\"},{\"mode\":\"lines\",\"x\":[0.0,1.0],\"y\":[0.0,-0.3965517282485962],\"z\":[0.0,-0.18965516984462738],\"type\":\"scatter3d\"},{\"mode\":\"lines\",\"x\":[0.0,1.0],\"y\":[0.0,-0.3965517282485962],\"z\":[0.0,-0.1551724076271057],\"type\":\"scatter3d\"},{\"mode\":\"lines\",\"x\":[0.0,1.0],\"y\":[0.0,-0.3965517282485962],\"z\":[0.0,-0.12068966031074524],\"type\":\"scatter3d\"},{\"mode\":\"lines\",\"x\":[0.0,1.0],\"y\":[0.0,-0.3965517282485962],\"z\":[0.0,-0.08620689809322357],\"type\":\"scatter3d\"},{\"mode\":\"lines\",\"x\":[0.0,1.0],\"y\":[0.0,-0.3965517282485962],\"z\":[0.0,-0.0517241396009922],\"type\":\"scatter3d\"},{\"mode\":\"lines\",\"x\":[0.0,1.0],\"y\":[0.0,-0.3965517282485962],\"z\":[0.0,-0.017241381108760834],\"type\":\"scatter3d\"},{\"mode\":\"lines\",\"x\":[0.0,1.0],\"y\":[0.0,-0.3965517282485962],\"z\":[0.0,0.017241381108760834],\"type\":\"scatter3d\"},{\"mode\":\"lines\",\"x\":[0.0,1.0],\"y\":[0.0,-0.3965517282485962],\"z\":[0.0,0.0517241396009922],\"type\":\"scatter3d\"},{\"mode\":\"lines\",\"x\":[0.0,1.0],\"y\":[0.0,-0.3965517282485962],\"z\":[0.0,0.08620689809322357],\"type\":\"scatter3d\"},{\"mode\":\"lines\",\"x\":[0.0,1.0],\"y\":[0.0,-0.3965517282485962],\"z\":[0.0,0.12068966031074524],\"type\":\"scatter3d\"},{\"mode\":\"lines\",\"x\":[0.0,1.0],\"y\":[0.0,-0.3965517282485962],\"z\":[0.0,0.1551724076271057],\"type\":\"scatter3d\"},{\"mode\":\"lines\",\"x\":[0.0,1.0],\"y\":[0.0,-0.3965517282485962],\"z\":[0.0,0.18965516984462738],\"type\":\"scatter3d\"},{\"mode\":\"lines\",\"x\":[0.0,1.0],\"y\":[0.0,-0.3965517282485962],\"z\":[0.0,0.22413793206214905],\"type\":\"scatter3d\"},{\"mode\":\"lines\",\"x\":[0.0,1.0],\"y\":[0.0,-0.3965517282485962],\"z\":[0.0,0.2586206793785095],\"type\":\"scatter3d\"},{\"mode\":\"lines\",\"x\":[0.0,1.0],\"y\":[0.0,-0.3965517282485962],\"z\":[0.0,0.2931034564971924],\"type\":\"scatter3d\"},{\"mode\":\"lines\",\"x\":[0.0,1.0],\"y\":[0.0,-0.3965517282485962],\"z\":[0.0,0.32758620381355286],\"type\":\"scatter3d\"},{\"mode\":\"lines\",\"x\":[0.0,1.0],\"y\":[0.0,-0.3965517282485962],\"z\":[0.0,0.36206895112991333],\"type\":\"scatter3d\"},{\"mode\":\"lines\",\"x\":[0.0,1.0],\"y\":[0.0,-0.3965517282485962],\"z\":[0.0,0.3965517282485962],\"type\":\"scatter3d\"},{\"mode\":\"lines\",\"x\":[0.0,1.0],\"y\":[0.0,-0.3965517282485962],\"z\":[0.0,0.43103447556495667],\"type\":\"scatter3d\"},{\"mode\":\"lines\",\"x\":[0.0,1.0],\"y\":[0.0,-0.3965517282485962],\"z\":[0.0,0.4655172526836395],\"type\":\"scatter3d\"},{\"mode\":\"lines\",\"x\":[0.0,1.0],\"y\":[0.0,-0.3965517282485962],\"z\":[0.0,0.5],\"type\":\"scatter3d\"},{\"mode\":\"lines\",\"x\":[0.0,1.0],\"y\":[0.0,-0.36206895112991333],\"z\":[0.0,-0.5],\"type\":\"scatter3d\"},{\"mode\":\"lines\",\"x\":[0.0,1.0],\"y\":[0.0,-0.36206895112991333],\"z\":[0.0,-0.4655172526836395],\"type\":\"scatter3d\"},{\"mode\":\"lines\",\"x\":[0.0,1.0],\"y\":[0.0,-0.36206895112991333],\"z\":[0.0,-0.43103447556495667],\"type\":\"scatter3d\"},{\"mode\":\"lines\",\"x\":[0.0,1.0],\"y\":[0.0,-0.36206895112991333],\"z\":[0.0,-0.3965517282485962],\"type\":\"scatter3d\"},{\"mode\":\"lines\",\"x\":[0.0,1.0],\"y\":[0.0,-0.36206895112991333],\"z\":[0.0,-0.36206895112991333],\"type\":\"scatter3d\"},{\"mode\":\"lines\",\"x\":[0.0,1.0],\"y\":[0.0,-0.36206895112991333],\"z\":[0.0,-0.32758620381355286],\"type\":\"scatter3d\"},{\"mode\":\"lines\",\"x\":[0.0,1.0],\"y\":[0.0,-0.36206895112991333],\"z\":[0.0,-0.2931034564971924],\"type\":\"scatter3d\"},{\"mode\":\"lines\",\"x\":[0.0,1.0],\"y\":[0.0,-0.36206895112991333],\"z\":[0.0,-0.2586206793785095],\"type\":\"scatter3d\"},{\"mode\":\"lines\",\"x\":[0.0,1.0],\"y\":[0.0,-0.36206895112991333],\"z\":[0.0,-0.22413793206214905],\"type\":\"scatter3d\"},{\"mode\":\"lines\",\"x\":[0.0,1.0],\"y\":[0.0,-0.36206895112991333],\"z\":[0.0,-0.18965516984462738],\"type\":\"scatter3d\"},{\"mode\":\"lines\",\"x\":[0.0,1.0],\"y\":[0.0,-0.36206895112991333],\"z\":[0.0,-0.1551724076271057],\"type\":\"scatter3d\"},{\"mode\":\"lines\",\"x\":[0.0,1.0],\"y\":[0.0,-0.36206895112991333],\"z\":[0.0,-0.12068966031074524],\"type\":\"scatter3d\"},{\"mode\":\"lines\",\"x\":[0.0,1.0],\"y\":[0.0,-0.36206895112991333],\"z\":[0.0,-0.08620689809322357],\"type\":\"scatter3d\"},{\"mode\":\"lines\",\"x\":[0.0,1.0],\"y\":[0.0,-0.36206895112991333],\"z\":[0.0,-0.0517241396009922],\"type\":\"scatter3d\"},{\"mode\":\"lines\",\"x\":[0.0,1.0],\"y\":[0.0,-0.36206895112991333],\"z\":[0.0,-0.017241381108760834],\"type\":\"scatter3d\"},{\"mode\":\"lines\",\"x\":[0.0,1.0],\"y\":[0.0,-0.36206895112991333],\"z\":[0.0,0.017241381108760834],\"type\":\"scatter3d\"},{\"mode\":\"lines\",\"x\":[0.0,1.0],\"y\":[0.0,-0.36206895112991333],\"z\":[0.0,0.0517241396009922],\"type\":\"scatter3d\"},{\"mode\":\"lines\",\"x\":[0.0,1.0],\"y\":[0.0,-0.36206895112991333],\"z\":[0.0,0.08620689809322357],\"type\":\"scatter3d\"},{\"mode\":\"lines\",\"x\":[0.0,1.0],\"y\":[0.0,-0.36206895112991333],\"z\":[0.0,0.12068966031074524],\"type\":\"scatter3d\"},{\"mode\":\"lines\",\"x\":[0.0,1.0],\"y\":[0.0,-0.36206895112991333],\"z\":[0.0,0.1551724076271057],\"type\":\"scatter3d\"},{\"mode\":\"lines\",\"x\":[0.0,1.0],\"y\":[0.0,-0.36206895112991333],\"z\":[0.0,0.18965516984462738],\"type\":\"scatter3d\"},{\"mode\":\"lines\",\"x\":[0.0,1.0],\"y\":[0.0,-0.36206895112991333],\"z\":[0.0,0.22413793206214905],\"type\":\"scatter3d\"},{\"mode\":\"lines\",\"x\":[0.0,1.0],\"y\":[0.0,-0.36206895112991333],\"z\":[0.0,0.2586206793785095],\"type\":\"scatter3d\"},{\"mode\":\"lines\",\"x\":[0.0,1.0],\"y\":[0.0,-0.36206895112991333],\"z\":[0.0,0.2931034564971924],\"type\":\"scatter3d\"},{\"mode\":\"lines\",\"x\":[0.0,1.0],\"y\":[0.0,-0.36206895112991333],\"z\":[0.0,0.32758620381355286],\"type\":\"scatter3d\"},{\"mode\":\"lines\",\"x\":[0.0,1.0],\"y\":[0.0,-0.36206895112991333],\"z\":[0.0,0.36206895112991333],\"type\":\"scatter3d\"},{\"mode\":\"lines\",\"x\":[0.0,1.0],\"y\":[0.0,-0.36206895112991333],\"z\":[0.0,0.3965517282485962],\"type\":\"scatter3d\"},{\"mode\":\"lines\",\"x\":[0.0,1.0],\"y\":[0.0,-0.36206895112991333],\"z\":[0.0,0.43103447556495667],\"type\":\"scatter3d\"},{\"mode\":\"lines\",\"x\":[0.0,1.0],\"y\":[0.0,-0.36206895112991333],\"z\":[0.0,0.4655172526836395],\"type\":\"scatter3d\"},{\"mode\":\"lines\",\"x\":[0.0,1.0],\"y\":[0.0,-0.36206895112991333],\"z\":[0.0,0.5],\"type\":\"scatter3d\"},{\"mode\":\"lines\",\"x\":[0.0,1.0],\"y\":[0.0,-0.32758620381355286],\"z\":[0.0,-0.5],\"type\":\"scatter3d\"},{\"mode\":\"lines\",\"x\":[0.0,1.0],\"y\":[0.0,-0.32758620381355286],\"z\":[0.0,-0.4655172526836395],\"type\":\"scatter3d\"},{\"mode\":\"lines\",\"x\":[0.0,1.0],\"y\":[0.0,-0.32758620381355286],\"z\":[0.0,-0.43103447556495667],\"type\":\"scatter3d\"},{\"mode\":\"lines\",\"x\":[0.0,1.0],\"y\":[0.0,-0.32758620381355286],\"z\":[0.0,-0.3965517282485962],\"type\":\"scatter3d\"},{\"mode\":\"lines\",\"x\":[0.0,1.0],\"y\":[0.0,-0.32758620381355286],\"z\":[0.0,-0.36206895112991333],\"type\":\"scatter3d\"},{\"mode\":\"lines\",\"x\":[0.0,1.0],\"y\":[0.0,-0.32758620381355286],\"z\":[0.0,-0.32758620381355286],\"type\":\"scatter3d\"},{\"mode\":\"lines\",\"x\":[0.0,1.0],\"y\":[0.0,-0.32758620381355286],\"z\":[0.0,-0.2931034564971924],\"type\":\"scatter3d\"},{\"mode\":\"lines\",\"x\":[0.0,1.0],\"y\":[0.0,-0.32758620381355286],\"z\":[0.0,-0.2586206793785095],\"type\":\"scatter3d\"},{\"mode\":\"lines\",\"x\":[0.0,1.0],\"y\":[0.0,-0.32758620381355286],\"z\":[0.0,-0.22413793206214905],\"type\":\"scatter3d\"},{\"mode\":\"lines\",\"x\":[0.0,1.0],\"y\":[0.0,-0.32758620381355286],\"z\":[0.0,-0.18965516984462738],\"type\":\"scatter3d\"},{\"mode\":\"lines\",\"x\":[0.0,1.0],\"y\":[0.0,-0.32758620381355286],\"z\":[0.0,-0.1551724076271057],\"type\":\"scatter3d\"},{\"mode\":\"lines\",\"x\":[0.0,1.0],\"y\":[0.0,-0.32758620381355286],\"z\":[0.0,-0.12068966031074524],\"type\":\"scatter3d\"},{\"mode\":\"lines\",\"x\":[0.0,1.0],\"y\":[0.0,-0.32758620381355286],\"z\":[0.0,-0.08620689809322357],\"type\":\"scatter3d\"},{\"mode\":\"lines\",\"x\":[0.0,1.0],\"y\":[0.0,-0.32758620381355286],\"z\":[0.0,-0.0517241396009922],\"type\":\"scatter3d\"},{\"mode\":\"lines\",\"x\":[0.0,1.0],\"y\":[0.0,-0.32758620381355286],\"z\":[0.0,-0.017241381108760834],\"type\":\"scatter3d\"},{\"mode\":\"lines\",\"x\":[0.0,1.0],\"y\":[0.0,-0.32758620381355286],\"z\":[0.0,0.017241381108760834],\"type\":\"scatter3d\"},{\"mode\":\"lines\",\"x\":[0.0,1.0],\"y\":[0.0,-0.32758620381355286],\"z\":[0.0,0.0517241396009922],\"type\":\"scatter3d\"},{\"mode\":\"lines\",\"x\":[0.0,1.0],\"y\":[0.0,-0.32758620381355286],\"z\":[0.0,0.08620689809322357],\"type\":\"scatter3d\"},{\"mode\":\"lines\",\"x\":[0.0,1.0],\"y\":[0.0,-0.32758620381355286],\"z\":[0.0,0.12068966031074524],\"type\":\"scatter3d\"},{\"mode\":\"lines\",\"x\":[0.0,1.0],\"y\":[0.0,-0.32758620381355286],\"z\":[0.0,0.1551724076271057],\"type\":\"scatter3d\"},{\"mode\":\"lines\",\"x\":[0.0,1.0],\"y\":[0.0,-0.32758620381355286],\"z\":[0.0,0.18965516984462738],\"type\":\"scatter3d\"},{\"mode\":\"lines\",\"x\":[0.0,1.0],\"y\":[0.0,-0.32758620381355286],\"z\":[0.0,0.22413793206214905],\"type\":\"scatter3d\"},{\"mode\":\"lines\",\"x\":[0.0,1.0],\"y\":[0.0,-0.32758620381355286],\"z\":[0.0,0.2586206793785095],\"type\":\"scatter3d\"},{\"mode\":\"lines\",\"x\":[0.0,1.0],\"y\":[0.0,-0.32758620381355286],\"z\":[0.0,0.2931034564971924],\"type\":\"scatter3d\"},{\"mode\":\"lines\",\"x\":[0.0,1.0],\"y\":[0.0,-0.32758620381355286],\"z\":[0.0,0.32758620381355286],\"type\":\"scatter3d\"},{\"mode\":\"lines\",\"x\":[0.0,1.0],\"y\":[0.0,-0.32758620381355286],\"z\":[0.0,0.36206895112991333],\"type\":\"scatter3d\"},{\"mode\":\"lines\",\"x\":[0.0,1.0],\"y\":[0.0,-0.32758620381355286],\"z\":[0.0,0.3965517282485962],\"type\":\"scatter3d\"},{\"mode\":\"lines\",\"x\":[0.0,1.0],\"y\":[0.0,-0.32758620381355286],\"z\":[0.0,0.43103447556495667],\"type\":\"scatter3d\"},{\"mode\":\"lines\",\"x\":[0.0,1.0],\"y\":[0.0,-0.32758620381355286],\"z\":[0.0,0.4655172526836395],\"type\":\"scatter3d\"},{\"mode\":\"lines\",\"x\":[0.0,1.0],\"y\":[0.0,-0.32758620381355286],\"z\":[0.0,0.5],\"type\":\"scatter3d\"},{\"mode\":\"lines\",\"x\":[0.0,1.0],\"y\":[0.0,-0.2931034564971924],\"z\":[0.0,-0.5],\"type\":\"scatter3d\"},{\"mode\":\"lines\",\"x\":[0.0,1.0],\"y\":[0.0,-0.2931034564971924],\"z\":[0.0,-0.4655172526836395],\"type\":\"scatter3d\"},{\"mode\":\"lines\",\"x\":[0.0,1.0],\"y\":[0.0,-0.2931034564971924],\"z\":[0.0,-0.43103447556495667],\"type\":\"scatter3d\"},{\"mode\":\"lines\",\"x\":[0.0,1.0],\"y\":[0.0,-0.2931034564971924],\"z\":[0.0,-0.3965517282485962],\"type\":\"scatter3d\"},{\"mode\":\"lines\",\"x\":[0.0,1.0],\"y\":[0.0,-0.2931034564971924],\"z\":[0.0,-0.36206895112991333],\"type\":\"scatter3d\"},{\"mode\":\"lines\",\"x\":[0.0,1.0],\"y\":[0.0,-0.2931034564971924],\"z\":[0.0,-0.32758620381355286],\"type\":\"scatter3d\"},{\"mode\":\"lines\",\"x\":[0.0,1.0],\"y\":[0.0,-0.2931034564971924],\"z\":[0.0,-0.2931034564971924],\"type\":\"scatter3d\"},{\"mode\":\"lines\",\"x\":[0.0,1.0],\"y\":[0.0,-0.2931034564971924],\"z\":[0.0,-0.2586206793785095],\"type\":\"scatter3d\"},{\"mode\":\"lines\",\"x\":[0.0,1.0],\"y\":[0.0,-0.2931034564971924],\"z\":[0.0,-0.22413793206214905],\"type\":\"scatter3d\"},{\"mode\":\"lines\",\"x\":[0.0,1.0],\"y\":[0.0,-0.2931034564971924],\"z\":[0.0,-0.18965516984462738],\"type\":\"scatter3d\"},{\"mode\":\"lines\",\"x\":[0.0,1.0],\"y\":[0.0,-0.2931034564971924],\"z\":[0.0,-0.1551724076271057],\"type\":\"scatter3d\"},{\"mode\":\"lines\",\"x\":[0.0,1.0],\"y\":[0.0,-0.2931034564971924],\"z\":[0.0,-0.12068966031074524],\"type\":\"scatter3d\"},{\"mode\":\"lines\",\"x\":[0.0,1.0],\"y\":[0.0,-0.2931034564971924],\"z\":[0.0,-0.08620689809322357],\"type\":\"scatter3d\"},{\"mode\":\"lines\",\"x\":[0.0,1.0],\"y\":[0.0,-0.2931034564971924],\"z\":[0.0,-0.0517241396009922],\"type\":\"scatter3d\"},{\"mode\":\"lines\",\"x\":[0.0,1.0],\"y\":[0.0,-0.2931034564971924],\"z\":[0.0,-0.017241381108760834],\"type\":\"scatter3d\"},{\"mode\":\"lines\",\"x\":[0.0,1.0],\"y\":[0.0,-0.2931034564971924],\"z\":[0.0,0.017241381108760834],\"type\":\"scatter3d\"},{\"mode\":\"lines\",\"x\":[0.0,1.0],\"y\":[0.0,-0.2931034564971924],\"z\":[0.0,0.0517241396009922],\"type\":\"scatter3d\"},{\"mode\":\"lines\",\"x\":[0.0,1.0],\"y\":[0.0,-0.2931034564971924],\"z\":[0.0,0.08620689809322357],\"type\":\"scatter3d\"},{\"mode\":\"lines\",\"x\":[0.0,1.0],\"y\":[0.0,-0.2931034564971924],\"z\":[0.0,0.12068966031074524],\"type\":\"scatter3d\"},{\"mode\":\"lines\",\"x\":[0.0,1.0],\"y\":[0.0,-0.2931034564971924],\"z\":[0.0,0.1551724076271057],\"type\":\"scatter3d\"},{\"mode\":\"lines\",\"x\":[0.0,1.0],\"y\":[0.0,-0.2931034564971924],\"z\":[0.0,0.18965516984462738],\"type\":\"scatter3d\"},{\"mode\":\"lines\",\"x\":[0.0,1.0],\"y\":[0.0,-0.2931034564971924],\"z\":[0.0,0.22413793206214905],\"type\":\"scatter3d\"},{\"mode\":\"lines\",\"x\":[0.0,1.0],\"y\":[0.0,-0.2931034564971924],\"z\":[0.0,0.2586206793785095],\"type\":\"scatter3d\"},{\"mode\":\"lines\",\"x\":[0.0,1.0],\"y\":[0.0,-0.2931034564971924],\"z\":[0.0,0.2931034564971924],\"type\":\"scatter3d\"},{\"mode\":\"lines\",\"x\":[0.0,1.0],\"y\":[0.0,-0.2931034564971924],\"z\":[0.0,0.32758620381355286],\"type\":\"scatter3d\"},{\"mode\":\"lines\",\"x\":[0.0,1.0],\"y\":[0.0,-0.2931034564971924],\"z\":[0.0,0.36206895112991333],\"type\":\"scatter3d\"},{\"mode\":\"lines\",\"x\":[0.0,1.0],\"y\":[0.0,-0.2931034564971924],\"z\":[0.0,0.3965517282485962],\"type\":\"scatter3d\"},{\"mode\":\"lines\",\"x\":[0.0,1.0],\"y\":[0.0,-0.2931034564971924],\"z\":[0.0,0.43103447556495667],\"type\":\"scatter3d\"},{\"mode\":\"lines\",\"x\":[0.0,1.0],\"y\":[0.0,-0.2931034564971924],\"z\":[0.0,0.4655172526836395],\"type\":\"scatter3d\"},{\"mode\":\"lines\",\"x\":[0.0,1.0],\"y\":[0.0,-0.2931034564971924],\"z\":[0.0,0.5],\"type\":\"scatter3d\"},{\"mode\":\"lines\",\"x\":[0.0,1.0],\"y\":[0.0,-0.2586206793785095],\"z\":[0.0,-0.5],\"type\":\"scatter3d\"},{\"mode\":\"lines\",\"x\":[0.0,1.0],\"y\":[0.0,-0.2586206793785095],\"z\":[0.0,-0.4655172526836395],\"type\":\"scatter3d\"},{\"mode\":\"lines\",\"x\":[0.0,1.0],\"y\":[0.0,-0.2586206793785095],\"z\":[0.0,-0.43103447556495667],\"type\":\"scatter3d\"},{\"mode\":\"lines\",\"x\":[0.0,1.0],\"y\":[0.0,-0.2586206793785095],\"z\":[0.0,-0.3965517282485962],\"type\":\"scatter3d\"},{\"mode\":\"lines\",\"x\":[0.0,1.0],\"y\":[0.0,-0.2586206793785095],\"z\":[0.0,-0.36206895112991333],\"type\":\"scatter3d\"},{\"mode\":\"lines\",\"x\":[0.0,1.0],\"y\":[0.0,-0.2586206793785095],\"z\":[0.0,-0.32758620381355286],\"type\":\"scatter3d\"},{\"mode\":\"lines\",\"x\":[0.0,1.0],\"y\":[0.0,-0.2586206793785095],\"z\":[0.0,-0.2931034564971924],\"type\":\"scatter3d\"},{\"mode\":\"lines\",\"x\":[0.0,1.0],\"y\":[0.0,-0.2586206793785095],\"z\":[0.0,-0.2586206793785095],\"type\":\"scatter3d\"},{\"mode\":\"lines\",\"x\":[0.0,1.0],\"y\":[0.0,-0.2586206793785095],\"z\":[0.0,-0.22413793206214905],\"type\":\"scatter3d\"},{\"mode\":\"lines\",\"x\":[0.0,1.0],\"y\":[0.0,-0.2586206793785095],\"z\":[0.0,-0.18965516984462738],\"type\":\"scatter3d\"},{\"mode\":\"lines\",\"x\":[0.0,1.0],\"y\":[0.0,-0.2586206793785095],\"z\":[0.0,-0.1551724076271057],\"type\":\"scatter3d\"},{\"mode\":\"lines\",\"x\":[0.0,1.0],\"y\":[0.0,-0.2586206793785095],\"z\":[0.0,-0.12068966031074524],\"type\":\"scatter3d\"},{\"mode\":\"lines\",\"x\":[0.0,1.0],\"y\":[0.0,-0.2586206793785095],\"z\":[0.0,-0.08620689809322357],\"type\":\"scatter3d\"},{\"mode\":\"lines\",\"x\":[0.0,1.0],\"y\":[0.0,-0.2586206793785095],\"z\":[0.0,-0.0517241396009922],\"type\":\"scatter3d\"},{\"mode\":\"lines\",\"x\":[0.0,1.0],\"y\":[0.0,-0.2586206793785095],\"z\":[0.0,-0.017241381108760834],\"type\":\"scatter3d\"},{\"mode\":\"lines\",\"x\":[0.0,1.0],\"y\":[0.0,-0.2586206793785095],\"z\":[0.0,0.017241381108760834],\"type\":\"scatter3d\"},{\"mode\":\"lines\",\"x\":[0.0,1.0],\"y\":[0.0,-0.2586206793785095],\"z\":[0.0,0.0517241396009922],\"type\":\"scatter3d\"},{\"mode\":\"lines\",\"x\":[0.0,1.0],\"y\":[0.0,-0.2586206793785095],\"z\":[0.0,0.08620689809322357],\"type\":\"scatter3d\"},{\"mode\":\"lines\",\"x\":[0.0,1.0],\"y\":[0.0,-0.2586206793785095],\"z\":[0.0,0.12068966031074524],\"type\":\"scatter3d\"},{\"mode\":\"lines\",\"x\":[0.0,1.0],\"y\":[0.0,-0.2586206793785095],\"z\":[0.0,0.1551724076271057],\"type\":\"scatter3d\"},{\"mode\":\"lines\",\"x\":[0.0,1.0],\"y\":[0.0,-0.2586206793785095],\"z\":[0.0,0.18965516984462738],\"type\":\"scatter3d\"},{\"mode\":\"lines\",\"x\":[0.0,1.0],\"y\":[0.0,-0.2586206793785095],\"z\":[0.0,0.22413793206214905],\"type\":\"scatter3d\"},{\"mode\":\"lines\",\"x\":[0.0,1.0],\"y\":[0.0,-0.2586206793785095],\"z\":[0.0,0.2586206793785095],\"type\":\"scatter3d\"},{\"mode\":\"lines\",\"x\":[0.0,1.0],\"y\":[0.0,-0.2586206793785095],\"z\":[0.0,0.2931034564971924],\"type\":\"scatter3d\"},{\"mode\":\"lines\",\"x\":[0.0,1.0],\"y\":[0.0,-0.2586206793785095],\"z\":[0.0,0.32758620381355286],\"type\":\"scatter3d\"},{\"mode\":\"lines\",\"x\":[0.0,1.0],\"y\":[0.0,-0.2586206793785095],\"z\":[0.0,0.36206895112991333],\"type\":\"scatter3d\"},{\"mode\":\"lines\",\"x\":[0.0,1.0],\"y\":[0.0,-0.2586206793785095],\"z\":[0.0,0.3965517282485962],\"type\":\"scatter3d\"},{\"mode\":\"lines\",\"x\":[0.0,1.0],\"y\":[0.0,-0.2586206793785095],\"z\":[0.0,0.43103447556495667],\"type\":\"scatter3d\"},{\"mode\":\"lines\",\"x\":[0.0,1.0],\"y\":[0.0,-0.2586206793785095],\"z\":[0.0,0.4655172526836395],\"type\":\"scatter3d\"},{\"mode\":\"lines\",\"x\":[0.0,1.0],\"y\":[0.0,-0.2586206793785095],\"z\":[0.0,0.5],\"type\":\"scatter3d\"},{\"mode\":\"lines\",\"x\":[0.0,1.0],\"y\":[0.0,-0.22413793206214905],\"z\":[0.0,-0.5],\"type\":\"scatter3d\"},{\"mode\":\"lines\",\"x\":[0.0,1.0],\"y\":[0.0,-0.22413793206214905],\"z\":[0.0,-0.4655172526836395],\"type\":\"scatter3d\"},{\"mode\":\"lines\",\"x\":[0.0,1.0],\"y\":[0.0,-0.22413793206214905],\"z\":[0.0,-0.43103447556495667],\"type\":\"scatter3d\"},{\"mode\":\"lines\",\"x\":[0.0,1.0],\"y\":[0.0,-0.22413793206214905],\"z\":[0.0,-0.3965517282485962],\"type\":\"scatter3d\"},{\"mode\":\"lines\",\"x\":[0.0,1.0],\"y\":[0.0,-0.22413793206214905],\"z\":[0.0,-0.36206895112991333],\"type\":\"scatter3d\"},{\"mode\":\"lines\",\"x\":[0.0,1.0],\"y\":[0.0,-0.22413793206214905],\"z\":[0.0,-0.32758620381355286],\"type\":\"scatter3d\"},{\"mode\":\"lines\",\"x\":[0.0,1.0],\"y\":[0.0,-0.22413793206214905],\"z\":[0.0,-0.2931034564971924],\"type\":\"scatter3d\"},{\"mode\":\"lines\",\"x\":[0.0,1.0],\"y\":[0.0,-0.22413793206214905],\"z\":[0.0,-0.2586206793785095],\"type\":\"scatter3d\"},{\"mode\":\"lines\",\"x\":[0.0,1.0],\"y\":[0.0,-0.22413793206214905],\"z\":[0.0,-0.22413793206214905],\"type\":\"scatter3d\"},{\"mode\":\"lines\",\"x\":[0.0,1.0],\"y\":[0.0,-0.22413793206214905],\"z\":[0.0,-0.18965516984462738],\"type\":\"scatter3d\"},{\"mode\":\"lines\",\"x\":[0.0,1.0],\"y\":[0.0,-0.22413793206214905],\"z\":[0.0,-0.1551724076271057],\"type\":\"scatter3d\"},{\"mode\":\"lines\",\"x\":[0.0,1.0],\"y\":[0.0,-0.22413793206214905],\"z\":[0.0,-0.12068966031074524],\"type\":\"scatter3d\"},{\"mode\":\"lines\",\"x\":[0.0,1.0],\"y\":[0.0,-0.22413793206214905],\"z\":[0.0,-0.08620689809322357],\"type\":\"scatter3d\"},{\"mode\":\"lines\",\"x\":[0.0,1.0],\"y\":[0.0,-0.22413793206214905],\"z\":[0.0,-0.0517241396009922],\"type\":\"scatter3d\"},{\"mode\":\"lines\",\"x\":[0.0,1.0],\"y\":[0.0,-0.22413793206214905],\"z\":[0.0,-0.017241381108760834],\"type\":\"scatter3d\"},{\"mode\":\"lines\",\"x\":[0.0,1.0],\"y\":[0.0,-0.22413793206214905],\"z\":[0.0,0.017241381108760834],\"type\":\"scatter3d\"},{\"mode\":\"lines\",\"x\":[0.0,1.0],\"y\":[0.0,-0.22413793206214905],\"z\":[0.0,0.0517241396009922],\"type\":\"scatter3d\"},{\"mode\":\"lines\",\"x\":[0.0,1.0],\"y\":[0.0,-0.22413793206214905],\"z\":[0.0,0.08620689809322357],\"type\":\"scatter3d\"},{\"mode\":\"lines\",\"x\":[0.0,1.0],\"y\":[0.0,-0.22413793206214905],\"z\":[0.0,0.12068966031074524],\"type\":\"scatter3d\"},{\"mode\":\"lines\",\"x\":[0.0,1.0],\"y\":[0.0,-0.22413793206214905],\"z\":[0.0,0.1551724076271057],\"type\":\"scatter3d\"},{\"mode\":\"lines\",\"x\":[0.0,1.0],\"y\":[0.0,-0.22413793206214905],\"z\":[0.0,0.18965516984462738],\"type\":\"scatter3d\"},{\"mode\":\"lines\",\"x\":[0.0,1.0],\"y\":[0.0,-0.22413793206214905],\"z\":[0.0,0.22413793206214905],\"type\":\"scatter3d\"},{\"mode\":\"lines\",\"x\":[0.0,1.0],\"y\":[0.0,-0.22413793206214905],\"z\":[0.0,0.2586206793785095],\"type\":\"scatter3d\"},{\"mode\":\"lines\",\"x\":[0.0,1.0],\"y\":[0.0,-0.22413793206214905],\"z\":[0.0,0.2931034564971924],\"type\":\"scatter3d\"},{\"mode\":\"lines\",\"x\":[0.0,1.0],\"y\":[0.0,-0.22413793206214905],\"z\":[0.0,0.32758620381355286],\"type\":\"scatter3d\"},{\"mode\":\"lines\",\"x\":[0.0,1.0],\"y\":[0.0,-0.22413793206214905],\"z\":[0.0,0.36206895112991333],\"type\":\"scatter3d\"},{\"mode\":\"lines\",\"x\":[0.0,1.0],\"y\":[0.0,-0.22413793206214905],\"z\":[0.0,0.3965517282485962],\"type\":\"scatter3d\"},{\"mode\":\"lines\",\"x\":[0.0,1.0],\"y\":[0.0,-0.22413793206214905],\"z\":[0.0,0.43103447556495667],\"type\":\"scatter3d\"},{\"mode\":\"lines\",\"x\":[0.0,1.0],\"y\":[0.0,-0.22413793206214905],\"z\":[0.0,0.4655172526836395],\"type\":\"scatter3d\"},{\"mode\":\"lines\",\"x\":[0.0,1.0],\"y\":[0.0,-0.22413793206214905],\"z\":[0.0,0.5],\"type\":\"scatter3d\"},{\"mode\":\"lines\",\"x\":[0.0,1.0],\"y\":[0.0,-0.18965516984462738],\"z\":[0.0,-0.5],\"type\":\"scatter3d\"},{\"mode\":\"lines\",\"x\":[0.0,1.0],\"y\":[0.0,-0.18965516984462738],\"z\":[0.0,-0.4655172526836395],\"type\":\"scatter3d\"},{\"mode\":\"lines\",\"x\":[0.0,1.0],\"y\":[0.0,-0.18965516984462738],\"z\":[0.0,-0.43103447556495667],\"type\":\"scatter3d\"},{\"mode\":\"lines\",\"x\":[0.0,1.0],\"y\":[0.0,-0.18965516984462738],\"z\":[0.0,-0.3965517282485962],\"type\":\"scatter3d\"},{\"mode\":\"lines\",\"x\":[0.0,1.0],\"y\":[0.0,-0.18965516984462738],\"z\":[0.0,-0.36206895112991333],\"type\":\"scatter3d\"},{\"mode\":\"lines\",\"x\":[0.0,1.0],\"y\":[0.0,-0.18965516984462738],\"z\":[0.0,-0.32758620381355286],\"type\":\"scatter3d\"},{\"mode\":\"lines\",\"x\":[0.0,1.0],\"y\":[0.0,-0.18965516984462738],\"z\":[0.0,-0.2931034564971924],\"type\":\"scatter3d\"},{\"mode\":\"lines\",\"x\":[0.0,1.0],\"y\":[0.0,-0.18965516984462738],\"z\":[0.0,-0.2586206793785095],\"type\":\"scatter3d\"},{\"mode\":\"lines\",\"x\":[0.0,1.0],\"y\":[0.0,-0.18965516984462738],\"z\":[0.0,-0.22413793206214905],\"type\":\"scatter3d\"},{\"mode\":\"lines\",\"x\":[0.0,1.0],\"y\":[0.0,-0.18965516984462738],\"z\":[0.0,-0.18965516984462738],\"type\":\"scatter3d\"},{\"mode\":\"lines\",\"x\":[0.0,1.0],\"y\":[0.0,-0.18965516984462738],\"z\":[0.0,-0.1551724076271057],\"type\":\"scatter3d\"},{\"mode\":\"lines\",\"x\":[0.0,1.0],\"y\":[0.0,-0.18965516984462738],\"z\":[0.0,-0.12068966031074524],\"type\":\"scatter3d\"},{\"mode\":\"lines\",\"x\":[0.0,1.0],\"y\":[0.0,-0.18965516984462738],\"z\":[0.0,-0.08620689809322357],\"type\":\"scatter3d\"},{\"mode\":\"lines\",\"x\":[0.0,1.0],\"y\":[0.0,-0.18965516984462738],\"z\":[0.0,-0.0517241396009922],\"type\":\"scatter3d\"},{\"mode\":\"lines\",\"x\":[0.0,1.0],\"y\":[0.0,-0.18965516984462738],\"z\":[0.0,-0.017241381108760834],\"type\":\"scatter3d\"},{\"mode\":\"lines\",\"x\":[0.0,1.0],\"y\":[0.0,-0.18965516984462738],\"z\":[0.0,0.017241381108760834],\"type\":\"scatter3d\"},{\"mode\":\"lines\",\"x\":[0.0,1.0],\"y\":[0.0,-0.18965516984462738],\"z\":[0.0,0.0517241396009922],\"type\":\"scatter3d\"},{\"mode\":\"lines\",\"x\":[0.0,1.0],\"y\":[0.0,-0.18965516984462738],\"z\":[0.0,0.08620689809322357],\"type\":\"scatter3d\"},{\"mode\":\"lines\",\"x\":[0.0,1.0],\"y\":[0.0,-0.18965516984462738],\"z\":[0.0,0.12068966031074524],\"type\":\"scatter3d\"},{\"mode\":\"lines\",\"x\":[0.0,1.0],\"y\":[0.0,-0.18965516984462738],\"z\":[0.0,0.1551724076271057],\"type\":\"scatter3d\"},{\"mode\":\"lines\",\"x\":[0.0,1.0],\"y\":[0.0,-0.18965516984462738],\"z\":[0.0,0.18965516984462738],\"type\":\"scatter3d\"},{\"mode\":\"lines\",\"x\":[0.0,1.0],\"y\":[0.0,-0.18965516984462738],\"z\":[0.0,0.22413793206214905],\"type\":\"scatter3d\"},{\"mode\":\"lines\",\"x\":[0.0,1.0],\"y\":[0.0,-0.18965516984462738],\"z\":[0.0,0.2586206793785095],\"type\":\"scatter3d\"},{\"mode\":\"lines\",\"x\":[0.0,1.0],\"y\":[0.0,-0.18965516984462738],\"z\":[0.0,0.2931034564971924],\"type\":\"scatter3d\"},{\"mode\":\"lines\",\"x\":[0.0,1.0],\"y\":[0.0,-0.18965516984462738],\"z\":[0.0,0.32758620381355286],\"type\":\"scatter3d\"},{\"mode\":\"lines\",\"x\":[0.0,1.0],\"y\":[0.0,-0.18965516984462738],\"z\":[0.0,0.36206895112991333],\"type\":\"scatter3d\"},{\"mode\":\"lines\",\"x\":[0.0,1.0],\"y\":[0.0,-0.18965516984462738],\"z\":[0.0,0.3965517282485962],\"type\":\"scatter3d\"},{\"mode\":\"lines\",\"x\":[0.0,1.0],\"y\":[0.0,-0.18965516984462738],\"z\":[0.0,0.43103447556495667],\"type\":\"scatter3d\"},{\"mode\":\"lines\",\"x\":[0.0,1.0],\"y\":[0.0,-0.18965516984462738],\"z\":[0.0,0.4655172526836395],\"type\":\"scatter3d\"},{\"mode\":\"lines\",\"x\":[0.0,1.0],\"y\":[0.0,-0.18965516984462738],\"z\":[0.0,0.5],\"type\":\"scatter3d\"},{\"mode\":\"lines\",\"x\":[0.0,1.0],\"y\":[0.0,-0.1551724076271057],\"z\":[0.0,-0.5],\"type\":\"scatter3d\"},{\"mode\":\"lines\",\"x\":[0.0,1.0],\"y\":[0.0,-0.1551724076271057],\"z\":[0.0,-0.4655172526836395],\"type\":\"scatter3d\"},{\"mode\":\"lines\",\"x\":[0.0,1.0],\"y\":[0.0,-0.1551724076271057],\"z\":[0.0,-0.43103447556495667],\"type\":\"scatter3d\"},{\"mode\":\"lines\",\"x\":[0.0,1.0],\"y\":[0.0,-0.1551724076271057],\"z\":[0.0,-0.3965517282485962],\"type\":\"scatter3d\"},{\"mode\":\"lines\",\"x\":[0.0,1.0],\"y\":[0.0,-0.1551724076271057],\"z\":[0.0,-0.36206895112991333],\"type\":\"scatter3d\"},{\"mode\":\"lines\",\"x\":[0.0,1.0],\"y\":[0.0,-0.1551724076271057],\"z\":[0.0,-0.32758620381355286],\"type\":\"scatter3d\"},{\"mode\":\"lines\",\"x\":[0.0,1.0],\"y\":[0.0,-0.1551724076271057],\"z\":[0.0,-0.2931034564971924],\"type\":\"scatter3d\"},{\"mode\":\"lines\",\"x\":[0.0,1.0],\"y\":[0.0,-0.1551724076271057],\"z\":[0.0,-0.2586206793785095],\"type\":\"scatter3d\"},{\"mode\":\"lines\",\"x\":[0.0,1.0],\"y\":[0.0,-0.1551724076271057],\"z\":[0.0,-0.22413793206214905],\"type\":\"scatter3d\"},{\"mode\":\"lines\",\"x\":[0.0,1.0],\"y\":[0.0,-0.1551724076271057],\"z\":[0.0,-0.18965516984462738],\"type\":\"scatter3d\"},{\"mode\":\"lines\",\"x\":[0.0,1.0],\"y\":[0.0,-0.1551724076271057],\"z\":[0.0,-0.1551724076271057],\"type\":\"scatter3d\"},{\"mode\":\"lines\",\"x\":[0.0,1.0],\"y\":[0.0,-0.1551724076271057],\"z\":[0.0,-0.12068966031074524],\"type\":\"scatter3d\"},{\"mode\":\"lines\",\"x\":[0.0,1.0],\"y\":[0.0,-0.1551724076271057],\"z\":[0.0,-0.08620689809322357],\"type\":\"scatter3d\"},{\"mode\":\"lines\",\"x\":[0.0,1.0],\"y\":[0.0,-0.1551724076271057],\"z\":[0.0,-0.0517241396009922],\"type\":\"scatter3d\"},{\"mode\":\"lines\",\"x\":[0.0,1.0],\"y\":[0.0,-0.1551724076271057],\"z\":[0.0,-0.017241381108760834],\"type\":\"scatter3d\"},{\"mode\":\"lines\",\"x\":[0.0,1.0],\"y\":[0.0,-0.1551724076271057],\"z\":[0.0,0.017241381108760834],\"type\":\"scatter3d\"},{\"mode\":\"lines\",\"x\":[0.0,1.0],\"y\":[0.0,-0.1551724076271057],\"z\":[0.0,0.0517241396009922],\"type\":\"scatter3d\"},{\"mode\":\"lines\",\"x\":[0.0,1.0],\"y\":[0.0,-0.1551724076271057],\"z\":[0.0,0.08620689809322357],\"type\":\"scatter3d\"},{\"mode\":\"lines\",\"x\":[0.0,1.0],\"y\":[0.0,-0.1551724076271057],\"z\":[0.0,0.12068966031074524],\"type\":\"scatter3d\"},{\"mode\":\"lines\",\"x\":[0.0,1.0],\"y\":[0.0,-0.1551724076271057],\"z\":[0.0,0.1551724076271057],\"type\":\"scatter3d\"},{\"mode\":\"lines\",\"x\":[0.0,1.0],\"y\":[0.0,-0.1551724076271057],\"z\":[0.0,0.18965516984462738],\"type\":\"scatter3d\"},{\"mode\":\"lines\",\"x\":[0.0,1.0],\"y\":[0.0,-0.1551724076271057],\"z\":[0.0,0.22413793206214905],\"type\":\"scatter3d\"},{\"mode\":\"lines\",\"x\":[0.0,1.0],\"y\":[0.0,-0.1551724076271057],\"z\":[0.0,0.2586206793785095],\"type\":\"scatter3d\"},{\"mode\":\"lines\",\"x\":[0.0,1.0],\"y\":[0.0,-0.1551724076271057],\"z\":[0.0,0.2931034564971924],\"type\":\"scatter3d\"},{\"mode\":\"lines\",\"x\":[0.0,1.0],\"y\":[0.0,-0.1551724076271057],\"z\":[0.0,0.32758620381355286],\"type\":\"scatter3d\"},{\"mode\":\"lines\",\"x\":[0.0,1.0],\"y\":[0.0,-0.1551724076271057],\"z\":[0.0,0.36206895112991333],\"type\":\"scatter3d\"},{\"mode\":\"lines\",\"x\":[0.0,1.0],\"y\":[0.0,-0.1551724076271057],\"z\":[0.0,0.3965517282485962],\"type\":\"scatter3d\"},{\"mode\":\"lines\",\"x\":[0.0,1.0],\"y\":[0.0,-0.1551724076271057],\"z\":[0.0,0.43103447556495667],\"type\":\"scatter3d\"},{\"mode\":\"lines\",\"x\":[0.0,1.0],\"y\":[0.0,-0.1551724076271057],\"z\":[0.0,0.4655172526836395],\"type\":\"scatter3d\"},{\"mode\":\"lines\",\"x\":[0.0,1.0],\"y\":[0.0,-0.1551724076271057],\"z\":[0.0,0.5],\"type\":\"scatter3d\"},{\"mode\":\"lines\",\"x\":[0.0,1.0],\"y\":[0.0,-0.12068966031074524],\"z\":[0.0,-0.5],\"type\":\"scatter3d\"},{\"mode\":\"lines\",\"x\":[0.0,1.0],\"y\":[0.0,-0.12068966031074524],\"z\":[0.0,-0.4655172526836395],\"type\":\"scatter3d\"},{\"mode\":\"lines\",\"x\":[0.0,1.0],\"y\":[0.0,-0.12068966031074524],\"z\":[0.0,-0.43103447556495667],\"type\":\"scatter3d\"},{\"mode\":\"lines\",\"x\":[0.0,1.0],\"y\":[0.0,-0.12068966031074524],\"z\":[0.0,-0.3965517282485962],\"type\":\"scatter3d\"},{\"mode\":\"lines\",\"x\":[0.0,1.0],\"y\":[0.0,-0.12068966031074524],\"z\":[0.0,-0.36206895112991333],\"type\":\"scatter3d\"},{\"mode\":\"lines\",\"x\":[0.0,1.0],\"y\":[0.0,-0.12068966031074524],\"z\":[0.0,-0.32758620381355286],\"type\":\"scatter3d\"},{\"mode\":\"lines\",\"x\":[0.0,1.0],\"y\":[0.0,-0.12068966031074524],\"z\":[0.0,-0.2931034564971924],\"type\":\"scatter3d\"},{\"mode\":\"lines\",\"x\":[0.0,1.0],\"y\":[0.0,-0.12068966031074524],\"z\":[0.0,-0.2586206793785095],\"type\":\"scatter3d\"},{\"mode\":\"lines\",\"x\":[0.0,1.0],\"y\":[0.0,-0.12068966031074524],\"z\":[0.0,-0.22413793206214905],\"type\":\"scatter3d\"},{\"mode\":\"lines\",\"x\":[0.0,1.0],\"y\":[0.0,-0.12068966031074524],\"z\":[0.0,-0.18965516984462738],\"type\":\"scatter3d\"},{\"mode\":\"lines\",\"x\":[0.0,1.0],\"y\":[0.0,-0.12068966031074524],\"z\":[0.0,-0.1551724076271057],\"type\":\"scatter3d\"},{\"mode\":\"lines\",\"x\":[0.0,1.0],\"y\":[0.0,-0.12068966031074524],\"z\":[0.0,-0.12068966031074524],\"type\":\"scatter3d\"},{\"mode\":\"lines\",\"x\":[0.0,1.0],\"y\":[0.0,-0.12068966031074524],\"z\":[0.0,-0.08620689809322357],\"type\":\"scatter3d\"},{\"mode\":\"lines\",\"x\":[0.0,1.0],\"y\":[0.0,-0.12068966031074524],\"z\":[0.0,-0.0517241396009922],\"type\":\"scatter3d\"},{\"mode\":\"lines\",\"x\":[0.0,1.0],\"y\":[0.0,-0.12068966031074524],\"z\":[0.0,-0.017241381108760834],\"type\":\"scatter3d\"},{\"mode\":\"lines\",\"x\":[0.0,1.0],\"y\":[0.0,-0.12068966031074524],\"z\":[0.0,0.017241381108760834],\"type\":\"scatter3d\"},{\"mode\":\"lines\",\"x\":[0.0,1.0],\"y\":[0.0,-0.12068966031074524],\"z\":[0.0,0.0517241396009922],\"type\":\"scatter3d\"},{\"mode\":\"lines\",\"x\":[0.0,1.0],\"y\":[0.0,-0.12068966031074524],\"z\":[0.0,0.08620689809322357],\"type\":\"scatter3d\"},{\"mode\":\"lines\",\"x\":[0.0,1.0],\"y\":[0.0,-0.12068966031074524],\"z\":[0.0,0.12068966031074524],\"type\":\"scatter3d\"},{\"mode\":\"lines\",\"x\":[0.0,1.0],\"y\":[0.0,-0.12068966031074524],\"z\":[0.0,0.1551724076271057],\"type\":\"scatter3d\"},{\"mode\":\"lines\",\"x\":[0.0,1.0],\"y\":[0.0,-0.12068966031074524],\"z\":[0.0,0.18965516984462738],\"type\":\"scatter3d\"},{\"mode\":\"lines\",\"x\":[0.0,1.0],\"y\":[0.0,-0.12068966031074524],\"z\":[0.0,0.22413793206214905],\"type\":\"scatter3d\"},{\"mode\":\"lines\",\"x\":[0.0,1.0],\"y\":[0.0,-0.12068966031074524],\"z\":[0.0,0.2586206793785095],\"type\":\"scatter3d\"},{\"mode\":\"lines\",\"x\":[0.0,1.0],\"y\":[0.0,-0.12068966031074524],\"z\":[0.0,0.2931034564971924],\"type\":\"scatter3d\"},{\"mode\":\"lines\",\"x\":[0.0,1.0],\"y\":[0.0,-0.12068966031074524],\"z\":[0.0,0.32758620381355286],\"type\":\"scatter3d\"},{\"mode\":\"lines\",\"x\":[0.0,1.0],\"y\":[0.0,-0.12068966031074524],\"z\":[0.0,0.36206895112991333],\"type\":\"scatter3d\"},{\"mode\":\"lines\",\"x\":[0.0,1.0],\"y\":[0.0,-0.12068966031074524],\"z\":[0.0,0.3965517282485962],\"type\":\"scatter3d\"},{\"mode\":\"lines\",\"x\":[0.0,1.0],\"y\":[0.0,-0.12068966031074524],\"z\":[0.0,0.43103447556495667],\"type\":\"scatter3d\"},{\"mode\":\"lines\",\"x\":[0.0,1.0],\"y\":[0.0,-0.12068966031074524],\"z\":[0.0,0.4655172526836395],\"type\":\"scatter3d\"},{\"mode\":\"lines\",\"x\":[0.0,1.0],\"y\":[0.0,-0.12068966031074524],\"z\":[0.0,0.5],\"type\":\"scatter3d\"},{\"mode\":\"lines\",\"x\":[0.0,1.0],\"y\":[0.0,-0.08620689809322357],\"z\":[0.0,-0.5],\"type\":\"scatter3d\"},{\"mode\":\"lines\",\"x\":[0.0,1.0],\"y\":[0.0,-0.08620689809322357],\"z\":[0.0,-0.4655172526836395],\"type\":\"scatter3d\"},{\"mode\":\"lines\",\"x\":[0.0,1.0],\"y\":[0.0,-0.08620689809322357],\"z\":[0.0,-0.43103447556495667],\"type\":\"scatter3d\"},{\"mode\":\"lines\",\"x\":[0.0,1.0],\"y\":[0.0,-0.08620689809322357],\"z\":[0.0,-0.3965517282485962],\"type\":\"scatter3d\"},{\"mode\":\"lines\",\"x\":[0.0,1.0],\"y\":[0.0,-0.08620689809322357],\"z\":[0.0,-0.36206895112991333],\"type\":\"scatter3d\"},{\"mode\":\"lines\",\"x\":[0.0,1.0],\"y\":[0.0,-0.08620689809322357],\"z\":[0.0,-0.32758620381355286],\"type\":\"scatter3d\"},{\"mode\":\"lines\",\"x\":[0.0,1.0],\"y\":[0.0,-0.08620689809322357],\"z\":[0.0,-0.2931034564971924],\"type\":\"scatter3d\"},{\"mode\":\"lines\",\"x\":[0.0,1.0],\"y\":[0.0,-0.08620689809322357],\"z\":[0.0,-0.2586206793785095],\"type\":\"scatter3d\"},{\"mode\":\"lines\",\"x\":[0.0,1.0],\"y\":[0.0,-0.08620689809322357],\"z\":[0.0,-0.22413793206214905],\"type\":\"scatter3d\"},{\"mode\":\"lines\",\"x\":[0.0,1.0],\"y\":[0.0,-0.08620689809322357],\"z\":[0.0,-0.18965516984462738],\"type\":\"scatter3d\"},{\"mode\":\"lines\",\"x\":[0.0,1.0],\"y\":[0.0,-0.08620689809322357],\"z\":[0.0,-0.1551724076271057],\"type\":\"scatter3d\"},{\"mode\":\"lines\",\"x\":[0.0,1.0],\"y\":[0.0,-0.08620689809322357],\"z\":[0.0,-0.12068966031074524],\"type\":\"scatter3d\"},{\"mode\":\"lines\",\"x\":[0.0,1.0],\"y\":[0.0,-0.08620689809322357],\"z\":[0.0,-0.08620689809322357],\"type\":\"scatter3d\"},{\"mode\":\"lines\",\"x\":[0.0,1.0],\"y\":[0.0,-0.08620689809322357],\"z\":[0.0,-0.0517241396009922],\"type\":\"scatter3d\"},{\"mode\":\"lines\",\"x\":[0.0,1.0],\"y\":[0.0,-0.08620689809322357],\"z\":[0.0,-0.017241381108760834],\"type\":\"scatter3d\"},{\"mode\":\"lines\",\"x\":[0.0,1.0],\"y\":[0.0,-0.08620689809322357],\"z\":[0.0,0.017241381108760834],\"type\":\"scatter3d\"},{\"mode\":\"lines\",\"x\":[0.0,1.0],\"y\":[0.0,-0.08620689809322357],\"z\":[0.0,0.0517241396009922],\"type\":\"scatter3d\"},{\"mode\":\"lines\",\"x\":[0.0,1.0],\"y\":[0.0,-0.08620689809322357],\"z\":[0.0,0.08620689809322357],\"type\":\"scatter3d\"},{\"mode\":\"lines\",\"x\":[0.0,1.0],\"y\":[0.0,-0.08620689809322357],\"z\":[0.0,0.12068966031074524],\"type\":\"scatter3d\"},{\"mode\":\"lines\",\"x\":[0.0,1.0],\"y\":[0.0,-0.08620689809322357],\"z\":[0.0,0.1551724076271057],\"type\":\"scatter3d\"},{\"mode\":\"lines\",\"x\":[0.0,1.0],\"y\":[0.0,-0.08620689809322357],\"z\":[0.0,0.18965516984462738],\"type\":\"scatter3d\"},{\"mode\":\"lines\",\"x\":[0.0,1.0],\"y\":[0.0,-0.08620689809322357],\"z\":[0.0,0.22413793206214905],\"type\":\"scatter3d\"},{\"mode\":\"lines\",\"x\":[0.0,1.0],\"y\":[0.0,-0.08620689809322357],\"z\":[0.0,0.2586206793785095],\"type\":\"scatter3d\"},{\"mode\":\"lines\",\"x\":[0.0,1.0],\"y\":[0.0,-0.08620689809322357],\"z\":[0.0,0.2931034564971924],\"type\":\"scatter3d\"},{\"mode\":\"lines\",\"x\":[0.0,1.0],\"y\":[0.0,-0.08620689809322357],\"z\":[0.0,0.32758620381355286],\"type\":\"scatter3d\"},{\"mode\":\"lines\",\"x\":[0.0,1.0],\"y\":[0.0,-0.08620689809322357],\"z\":[0.0,0.36206895112991333],\"type\":\"scatter3d\"},{\"mode\":\"lines\",\"x\":[0.0,1.0],\"y\":[0.0,-0.08620689809322357],\"z\":[0.0,0.3965517282485962],\"type\":\"scatter3d\"},{\"mode\":\"lines\",\"x\":[0.0,1.0],\"y\":[0.0,-0.08620689809322357],\"z\":[0.0,0.43103447556495667],\"type\":\"scatter3d\"},{\"mode\":\"lines\",\"x\":[0.0,1.0],\"y\":[0.0,-0.08620689809322357],\"z\":[0.0,0.4655172526836395],\"type\":\"scatter3d\"},{\"mode\":\"lines\",\"x\":[0.0,1.0],\"y\":[0.0,-0.08620689809322357],\"z\":[0.0,0.5],\"type\":\"scatter3d\"},{\"mode\":\"lines\",\"x\":[0.0,1.0],\"y\":[0.0,-0.0517241396009922],\"z\":[0.0,-0.5],\"type\":\"scatter3d\"},{\"mode\":\"lines\",\"x\":[0.0,1.0],\"y\":[0.0,-0.0517241396009922],\"z\":[0.0,-0.4655172526836395],\"type\":\"scatter3d\"},{\"mode\":\"lines\",\"x\":[0.0,1.0],\"y\":[0.0,-0.0517241396009922],\"z\":[0.0,-0.43103447556495667],\"type\":\"scatter3d\"},{\"mode\":\"lines\",\"x\":[0.0,1.0],\"y\":[0.0,-0.0517241396009922],\"z\":[0.0,-0.3965517282485962],\"type\":\"scatter3d\"},{\"mode\":\"lines\",\"x\":[0.0,1.0],\"y\":[0.0,-0.0517241396009922],\"z\":[0.0,-0.36206895112991333],\"type\":\"scatter3d\"},{\"mode\":\"lines\",\"x\":[0.0,1.0],\"y\":[0.0,-0.0517241396009922],\"z\":[0.0,-0.32758620381355286],\"type\":\"scatter3d\"},{\"mode\":\"lines\",\"x\":[0.0,1.0],\"y\":[0.0,-0.0517241396009922],\"z\":[0.0,-0.2931034564971924],\"type\":\"scatter3d\"},{\"mode\":\"lines\",\"x\":[0.0,1.0],\"y\":[0.0,-0.0517241396009922],\"z\":[0.0,-0.2586206793785095],\"type\":\"scatter3d\"},{\"mode\":\"lines\",\"x\":[0.0,1.0],\"y\":[0.0,-0.0517241396009922],\"z\":[0.0,-0.22413793206214905],\"type\":\"scatter3d\"},{\"mode\":\"lines\",\"x\":[0.0,1.0],\"y\":[0.0,-0.0517241396009922],\"z\":[0.0,-0.18965516984462738],\"type\":\"scatter3d\"},{\"mode\":\"lines\",\"x\":[0.0,1.0],\"y\":[0.0,-0.0517241396009922],\"z\":[0.0,-0.1551724076271057],\"type\":\"scatter3d\"},{\"mode\":\"lines\",\"x\":[0.0,1.0],\"y\":[0.0,-0.0517241396009922],\"z\":[0.0,-0.12068966031074524],\"type\":\"scatter3d\"},{\"mode\":\"lines\",\"x\":[0.0,1.0],\"y\":[0.0,-0.0517241396009922],\"z\":[0.0,-0.08620689809322357],\"type\":\"scatter3d\"},{\"mode\":\"lines\",\"x\":[0.0,1.0],\"y\":[0.0,-0.0517241396009922],\"z\":[0.0,-0.0517241396009922],\"type\":\"scatter3d\"},{\"mode\":\"lines\",\"x\":[0.0,1.0],\"y\":[0.0,-0.0517241396009922],\"z\":[0.0,-0.017241381108760834],\"type\":\"scatter3d\"},{\"mode\":\"lines\",\"x\":[0.0,1.0],\"y\":[0.0,-0.0517241396009922],\"z\":[0.0,0.017241381108760834],\"type\":\"scatter3d\"},{\"mode\":\"lines\",\"x\":[0.0,1.0],\"y\":[0.0,-0.0517241396009922],\"z\":[0.0,0.0517241396009922],\"type\":\"scatter3d\"},{\"mode\":\"lines\",\"x\":[0.0,1.0],\"y\":[0.0,-0.0517241396009922],\"z\":[0.0,0.08620689809322357],\"type\":\"scatter3d\"},{\"mode\":\"lines\",\"x\":[0.0,1.0],\"y\":[0.0,-0.0517241396009922],\"z\":[0.0,0.12068966031074524],\"type\":\"scatter3d\"},{\"mode\":\"lines\",\"x\":[0.0,1.0],\"y\":[0.0,-0.0517241396009922],\"z\":[0.0,0.1551724076271057],\"type\":\"scatter3d\"},{\"mode\":\"lines\",\"x\":[0.0,1.0],\"y\":[0.0,-0.0517241396009922],\"z\":[0.0,0.18965516984462738],\"type\":\"scatter3d\"},{\"mode\":\"lines\",\"x\":[0.0,1.0],\"y\":[0.0,-0.0517241396009922],\"z\":[0.0,0.22413793206214905],\"type\":\"scatter3d\"},{\"mode\":\"lines\",\"x\":[0.0,1.0],\"y\":[0.0,-0.0517241396009922],\"z\":[0.0,0.2586206793785095],\"type\":\"scatter3d\"},{\"mode\":\"lines\",\"x\":[0.0,1.0],\"y\":[0.0,-0.0517241396009922],\"z\":[0.0,0.2931034564971924],\"type\":\"scatter3d\"},{\"mode\":\"lines\",\"x\":[0.0,1.0],\"y\":[0.0,-0.0517241396009922],\"z\":[0.0,0.32758620381355286],\"type\":\"scatter3d\"},{\"mode\":\"lines\",\"x\":[0.0,1.0],\"y\":[0.0,-0.0517241396009922],\"z\":[0.0,0.36206895112991333],\"type\":\"scatter3d\"},{\"mode\":\"lines\",\"x\":[0.0,1.0],\"y\":[0.0,-0.0517241396009922],\"z\":[0.0,0.3965517282485962],\"type\":\"scatter3d\"},{\"mode\":\"lines\",\"x\":[0.0,1.0],\"y\":[0.0,-0.0517241396009922],\"z\":[0.0,0.43103447556495667],\"type\":\"scatter3d\"},{\"mode\":\"lines\",\"x\":[0.0,1.0],\"y\":[0.0,-0.0517241396009922],\"z\":[0.0,0.4655172526836395],\"type\":\"scatter3d\"},{\"mode\":\"lines\",\"x\":[0.0,1.0],\"y\":[0.0,-0.0517241396009922],\"z\":[0.0,0.5],\"type\":\"scatter3d\"},{\"mode\":\"lines\",\"x\":[0.0,1.0],\"y\":[0.0,-0.017241381108760834],\"z\":[0.0,-0.5],\"type\":\"scatter3d\"},{\"mode\":\"lines\",\"x\":[0.0,1.0],\"y\":[0.0,-0.017241381108760834],\"z\":[0.0,-0.4655172526836395],\"type\":\"scatter3d\"},{\"mode\":\"lines\",\"x\":[0.0,1.0],\"y\":[0.0,-0.017241381108760834],\"z\":[0.0,-0.43103447556495667],\"type\":\"scatter3d\"},{\"mode\":\"lines\",\"x\":[0.0,1.0],\"y\":[0.0,-0.017241381108760834],\"z\":[0.0,-0.3965517282485962],\"type\":\"scatter3d\"},{\"mode\":\"lines\",\"x\":[0.0,1.0],\"y\":[0.0,-0.017241381108760834],\"z\":[0.0,-0.36206895112991333],\"type\":\"scatter3d\"},{\"mode\":\"lines\",\"x\":[0.0,1.0],\"y\":[0.0,-0.017241381108760834],\"z\":[0.0,-0.32758620381355286],\"type\":\"scatter3d\"},{\"mode\":\"lines\",\"x\":[0.0,1.0],\"y\":[0.0,-0.017241381108760834],\"z\":[0.0,-0.2931034564971924],\"type\":\"scatter3d\"},{\"mode\":\"lines\",\"x\":[0.0,1.0],\"y\":[0.0,-0.017241381108760834],\"z\":[0.0,-0.2586206793785095],\"type\":\"scatter3d\"},{\"mode\":\"lines\",\"x\":[0.0,1.0],\"y\":[0.0,-0.017241381108760834],\"z\":[0.0,-0.22413793206214905],\"type\":\"scatter3d\"},{\"mode\":\"lines\",\"x\":[0.0,1.0],\"y\":[0.0,-0.017241381108760834],\"z\":[0.0,-0.18965516984462738],\"type\":\"scatter3d\"},{\"mode\":\"lines\",\"x\":[0.0,1.0],\"y\":[0.0,-0.017241381108760834],\"z\":[0.0,-0.1551724076271057],\"type\":\"scatter3d\"},{\"mode\":\"lines\",\"x\":[0.0,1.0],\"y\":[0.0,-0.017241381108760834],\"z\":[0.0,-0.12068966031074524],\"type\":\"scatter3d\"},{\"mode\":\"lines\",\"x\":[0.0,1.0],\"y\":[0.0,-0.017241381108760834],\"z\":[0.0,-0.08620689809322357],\"type\":\"scatter3d\"},{\"mode\":\"lines\",\"x\":[0.0,1.0],\"y\":[0.0,-0.017241381108760834],\"z\":[0.0,-0.0517241396009922],\"type\":\"scatter3d\"},{\"mode\":\"lines\",\"x\":[0.0,1.0],\"y\":[0.0,-0.017241381108760834],\"z\":[0.0,-0.017241381108760834],\"type\":\"scatter3d\"},{\"mode\":\"lines\",\"x\":[0.0,1.0],\"y\":[0.0,-0.017241381108760834],\"z\":[0.0,0.017241381108760834],\"type\":\"scatter3d\"},{\"mode\":\"lines\",\"x\":[0.0,1.0],\"y\":[0.0,-0.017241381108760834],\"z\":[0.0,0.0517241396009922],\"type\":\"scatter3d\"},{\"mode\":\"lines\",\"x\":[0.0,1.0],\"y\":[0.0,-0.017241381108760834],\"z\":[0.0,0.08620689809322357],\"type\":\"scatter3d\"},{\"mode\":\"lines\",\"x\":[0.0,1.0],\"y\":[0.0,-0.017241381108760834],\"z\":[0.0,0.12068966031074524],\"type\":\"scatter3d\"},{\"mode\":\"lines\",\"x\":[0.0,1.0],\"y\":[0.0,-0.017241381108760834],\"z\":[0.0,0.1551724076271057],\"type\":\"scatter3d\"},{\"mode\":\"lines\",\"x\":[0.0,1.0],\"y\":[0.0,-0.017241381108760834],\"z\":[0.0,0.18965516984462738],\"type\":\"scatter3d\"},{\"mode\":\"lines\",\"x\":[0.0,1.0],\"y\":[0.0,-0.017241381108760834],\"z\":[0.0,0.22413793206214905],\"type\":\"scatter3d\"},{\"mode\":\"lines\",\"x\":[0.0,1.0],\"y\":[0.0,-0.017241381108760834],\"z\":[0.0,0.2586206793785095],\"type\":\"scatter3d\"},{\"mode\":\"lines\",\"x\":[0.0,1.0],\"y\":[0.0,-0.017241381108760834],\"z\":[0.0,0.2931034564971924],\"type\":\"scatter3d\"},{\"mode\":\"lines\",\"x\":[0.0,1.0],\"y\":[0.0,-0.017241381108760834],\"z\":[0.0,0.32758620381355286],\"type\":\"scatter3d\"},{\"mode\":\"lines\",\"x\":[0.0,1.0],\"y\":[0.0,-0.017241381108760834],\"z\":[0.0,0.36206895112991333],\"type\":\"scatter3d\"},{\"mode\":\"lines\",\"x\":[0.0,1.0],\"y\":[0.0,-0.017241381108760834],\"z\":[0.0,0.3965517282485962],\"type\":\"scatter3d\"},{\"mode\":\"lines\",\"x\":[0.0,1.0],\"y\":[0.0,-0.017241381108760834],\"z\":[0.0,0.43103447556495667],\"type\":\"scatter3d\"},{\"mode\":\"lines\",\"x\":[0.0,1.0],\"y\":[0.0,-0.017241381108760834],\"z\":[0.0,0.4655172526836395],\"type\":\"scatter3d\"},{\"mode\":\"lines\",\"x\":[0.0,1.0],\"y\":[0.0,-0.017241381108760834],\"z\":[0.0,0.5],\"type\":\"scatter3d\"},{\"mode\":\"lines\",\"x\":[0.0,1.0],\"y\":[0.0,0.017241381108760834],\"z\":[0.0,-0.5],\"type\":\"scatter3d\"},{\"mode\":\"lines\",\"x\":[0.0,1.0],\"y\":[0.0,0.017241381108760834],\"z\":[0.0,-0.4655172526836395],\"type\":\"scatter3d\"},{\"mode\":\"lines\",\"x\":[0.0,1.0],\"y\":[0.0,0.017241381108760834],\"z\":[0.0,-0.43103447556495667],\"type\":\"scatter3d\"},{\"mode\":\"lines\",\"x\":[0.0,1.0],\"y\":[0.0,0.017241381108760834],\"z\":[0.0,-0.3965517282485962],\"type\":\"scatter3d\"},{\"mode\":\"lines\",\"x\":[0.0,1.0],\"y\":[0.0,0.017241381108760834],\"z\":[0.0,-0.36206895112991333],\"type\":\"scatter3d\"},{\"mode\":\"lines\",\"x\":[0.0,1.0],\"y\":[0.0,0.017241381108760834],\"z\":[0.0,-0.32758620381355286],\"type\":\"scatter3d\"},{\"mode\":\"lines\",\"x\":[0.0,1.0],\"y\":[0.0,0.017241381108760834],\"z\":[0.0,-0.2931034564971924],\"type\":\"scatter3d\"},{\"mode\":\"lines\",\"x\":[0.0,1.0],\"y\":[0.0,0.017241381108760834],\"z\":[0.0,-0.2586206793785095],\"type\":\"scatter3d\"},{\"mode\":\"lines\",\"x\":[0.0,1.0],\"y\":[0.0,0.017241381108760834],\"z\":[0.0,-0.22413793206214905],\"type\":\"scatter3d\"},{\"mode\":\"lines\",\"x\":[0.0,1.0],\"y\":[0.0,0.017241381108760834],\"z\":[0.0,-0.18965516984462738],\"type\":\"scatter3d\"},{\"mode\":\"lines\",\"x\":[0.0,1.0],\"y\":[0.0,0.017241381108760834],\"z\":[0.0,-0.1551724076271057],\"type\":\"scatter3d\"},{\"mode\":\"lines\",\"x\":[0.0,1.0],\"y\":[0.0,0.017241381108760834],\"z\":[0.0,-0.12068966031074524],\"type\":\"scatter3d\"},{\"mode\":\"lines\",\"x\":[0.0,1.0],\"y\":[0.0,0.017241381108760834],\"z\":[0.0,-0.08620689809322357],\"type\":\"scatter3d\"},{\"mode\":\"lines\",\"x\":[0.0,1.0],\"y\":[0.0,0.017241381108760834],\"z\":[0.0,-0.0517241396009922],\"type\":\"scatter3d\"},{\"mode\":\"lines\",\"x\":[0.0,1.0],\"y\":[0.0,0.017241381108760834],\"z\":[0.0,-0.017241381108760834],\"type\":\"scatter3d\"},{\"mode\":\"lines\",\"x\":[0.0,1.0],\"y\":[0.0,0.017241381108760834],\"z\":[0.0,0.017241381108760834],\"type\":\"scatter3d\"},{\"mode\":\"lines\",\"x\":[0.0,1.0],\"y\":[0.0,0.017241381108760834],\"z\":[0.0,0.0517241396009922],\"type\":\"scatter3d\"},{\"mode\":\"lines\",\"x\":[0.0,1.0],\"y\":[0.0,0.017241381108760834],\"z\":[0.0,0.08620689809322357],\"type\":\"scatter3d\"},{\"mode\":\"lines\",\"x\":[0.0,1.0],\"y\":[0.0,0.017241381108760834],\"z\":[0.0,0.12068966031074524],\"type\":\"scatter3d\"},{\"mode\":\"lines\",\"x\":[0.0,1.0],\"y\":[0.0,0.017241381108760834],\"z\":[0.0,0.1551724076271057],\"type\":\"scatter3d\"},{\"mode\":\"lines\",\"x\":[0.0,1.0],\"y\":[0.0,0.017241381108760834],\"z\":[0.0,0.18965516984462738],\"type\":\"scatter3d\"},{\"mode\":\"lines\",\"x\":[0.0,1.0],\"y\":[0.0,0.017241381108760834],\"z\":[0.0,0.22413793206214905],\"type\":\"scatter3d\"},{\"mode\":\"lines\",\"x\":[0.0,1.0],\"y\":[0.0,0.017241381108760834],\"z\":[0.0,0.2586206793785095],\"type\":\"scatter3d\"},{\"mode\":\"lines\",\"x\":[0.0,1.0],\"y\":[0.0,0.017241381108760834],\"z\":[0.0,0.2931034564971924],\"type\":\"scatter3d\"},{\"mode\":\"lines\",\"x\":[0.0,1.0],\"y\":[0.0,0.017241381108760834],\"z\":[0.0,0.32758620381355286],\"type\":\"scatter3d\"},{\"mode\":\"lines\",\"x\":[0.0,1.0],\"y\":[0.0,0.017241381108760834],\"z\":[0.0,0.36206895112991333],\"type\":\"scatter3d\"},{\"mode\":\"lines\",\"x\":[0.0,1.0],\"y\":[0.0,0.017241381108760834],\"z\":[0.0,0.3965517282485962],\"type\":\"scatter3d\"},{\"mode\":\"lines\",\"x\":[0.0,1.0],\"y\":[0.0,0.017241381108760834],\"z\":[0.0,0.43103447556495667],\"type\":\"scatter3d\"},{\"mode\":\"lines\",\"x\":[0.0,1.0],\"y\":[0.0,0.017241381108760834],\"z\":[0.0,0.4655172526836395],\"type\":\"scatter3d\"},{\"mode\":\"lines\",\"x\":[0.0,1.0],\"y\":[0.0,0.017241381108760834],\"z\":[0.0,0.5],\"type\":\"scatter3d\"},{\"mode\":\"lines\",\"x\":[0.0,1.0],\"y\":[0.0,0.0517241396009922],\"z\":[0.0,-0.5],\"type\":\"scatter3d\"},{\"mode\":\"lines\",\"x\":[0.0,1.0],\"y\":[0.0,0.0517241396009922],\"z\":[0.0,-0.4655172526836395],\"type\":\"scatter3d\"},{\"mode\":\"lines\",\"x\":[0.0,1.0],\"y\":[0.0,0.0517241396009922],\"z\":[0.0,-0.43103447556495667],\"type\":\"scatter3d\"},{\"mode\":\"lines\",\"x\":[0.0,1.0],\"y\":[0.0,0.0517241396009922],\"z\":[0.0,-0.3965517282485962],\"type\":\"scatter3d\"},{\"mode\":\"lines\",\"x\":[0.0,1.0],\"y\":[0.0,0.0517241396009922],\"z\":[0.0,-0.36206895112991333],\"type\":\"scatter3d\"},{\"mode\":\"lines\",\"x\":[0.0,1.0],\"y\":[0.0,0.0517241396009922],\"z\":[0.0,-0.32758620381355286],\"type\":\"scatter3d\"},{\"mode\":\"lines\",\"x\":[0.0,1.0],\"y\":[0.0,0.0517241396009922],\"z\":[0.0,-0.2931034564971924],\"type\":\"scatter3d\"},{\"mode\":\"lines\",\"x\":[0.0,1.0],\"y\":[0.0,0.0517241396009922],\"z\":[0.0,-0.2586206793785095],\"type\":\"scatter3d\"},{\"mode\":\"lines\",\"x\":[0.0,1.0],\"y\":[0.0,0.0517241396009922],\"z\":[0.0,-0.22413793206214905],\"type\":\"scatter3d\"},{\"mode\":\"lines\",\"x\":[0.0,1.0],\"y\":[0.0,0.0517241396009922],\"z\":[0.0,-0.18965516984462738],\"type\":\"scatter3d\"},{\"mode\":\"lines\",\"x\":[0.0,1.0],\"y\":[0.0,0.0517241396009922],\"z\":[0.0,-0.1551724076271057],\"type\":\"scatter3d\"},{\"mode\":\"lines\",\"x\":[0.0,1.0],\"y\":[0.0,0.0517241396009922],\"z\":[0.0,-0.12068966031074524],\"type\":\"scatter3d\"},{\"mode\":\"lines\",\"x\":[0.0,1.0],\"y\":[0.0,0.0517241396009922],\"z\":[0.0,-0.08620689809322357],\"type\":\"scatter3d\"},{\"mode\":\"lines\",\"x\":[0.0,1.0],\"y\":[0.0,0.0517241396009922],\"z\":[0.0,-0.0517241396009922],\"type\":\"scatter3d\"},{\"mode\":\"lines\",\"x\":[0.0,1.0],\"y\":[0.0,0.0517241396009922],\"z\":[0.0,-0.017241381108760834],\"type\":\"scatter3d\"},{\"mode\":\"lines\",\"x\":[0.0,1.0],\"y\":[0.0,0.0517241396009922],\"z\":[0.0,0.017241381108760834],\"type\":\"scatter3d\"},{\"mode\":\"lines\",\"x\":[0.0,1.0],\"y\":[0.0,0.0517241396009922],\"z\":[0.0,0.0517241396009922],\"type\":\"scatter3d\"},{\"mode\":\"lines\",\"x\":[0.0,1.0],\"y\":[0.0,0.0517241396009922],\"z\":[0.0,0.08620689809322357],\"type\":\"scatter3d\"},{\"mode\":\"lines\",\"x\":[0.0,1.0],\"y\":[0.0,0.0517241396009922],\"z\":[0.0,0.12068966031074524],\"type\":\"scatter3d\"},{\"mode\":\"lines\",\"x\":[0.0,1.0],\"y\":[0.0,0.0517241396009922],\"z\":[0.0,0.1551724076271057],\"type\":\"scatter3d\"},{\"mode\":\"lines\",\"x\":[0.0,1.0],\"y\":[0.0,0.0517241396009922],\"z\":[0.0,0.18965516984462738],\"type\":\"scatter3d\"},{\"mode\":\"lines\",\"x\":[0.0,1.0],\"y\":[0.0,0.0517241396009922],\"z\":[0.0,0.22413793206214905],\"type\":\"scatter3d\"},{\"mode\":\"lines\",\"x\":[0.0,1.0],\"y\":[0.0,0.0517241396009922],\"z\":[0.0,0.2586206793785095],\"type\":\"scatter3d\"},{\"mode\":\"lines\",\"x\":[0.0,1.0],\"y\":[0.0,0.0517241396009922],\"z\":[0.0,0.2931034564971924],\"type\":\"scatter3d\"},{\"mode\":\"lines\",\"x\":[0.0,1.0],\"y\":[0.0,0.0517241396009922],\"z\":[0.0,0.32758620381355286],\"type\":\"scatter3d\"},{\"mode\":\"lines\",\"x\":[0.0,1.0],\"y\":[0.0,0.0517241396009922],\"z\":[0.0,0.36206895112991333],\"type\":\"scatter3d\"},{\"mode\":\"lines\",\"x\":[0.0,1.0],\"y\":[0.0,0.0517241396009922],\"z\":[0.0,0.3965517282485962],\"type\":\"scatter3d\"},{\"mode\":\"lines\",\"x\":[0.0,1.0],\"y\":[0.0,0.0517241396009922],\"z\":[0.0,0.43103447556495667],\"type\":\"scatter3d\"},{\"mode\":\"lines\",\"x\":[0.0,1.0],\"y\":[0.0,0.0517241396009922],\"z\":[0.0,0.4655172526836395],\"type\":\"scatter3d\"},{\"mode\":\"lines\",\"x\":[0.0,1.0],\"y\":[0.0,0.0517241396009922],\"z\":[0.0,0.5],\"type\":\"scatter3d\"},{\"mode\":\"lines\",\"x\":[0.0,1.0],\"y\":[0.0,0.08620689809322357],\"z\":[0.0,-0.5],\"type\":\"scatter3d\"},{\"mode\":\"lines\",\"x\":[0.0,1.0],\"y\":[0.0,0.08620689809322357],\"z\":[0.0,-0.4655172526836395],\"type\":\"scatter3d\"},{\"mode\":\"lines\",\"x\":[0.0,1.0],\"y\":[0.0,0.08620689809322357],\"z\":[0.0,-0.43103447556495667],\"type\":\"scatter3d\"},{\"mode\":\"lines\",\"x\":[0.0,1.0],\"y\":[0.0,0.08620689809322357],\"z\":[0.0,-0.3965517282485962],\"type\":\"scatter3d\"},{\"mode\":\"lines\",\"x\":[0.0,1.0],\"y\":[0.0,0.08620689809322357],\"z\":[0.0,-0.36206895112991333],\"type\":\"scatter3d\"},{\"mode\":\"lines\",\"x\":[0.0,1.0],\"y\":[0.0,0.08620689809322357],\"z\":[0.0,-0.32758620381355286],\"type\":\"scatter3d\"},{\"mode\":\"lines\",\"x\":[0.0,1.0],\"y\":[0.0,0.08620689809322357],\"z\":[0.0,-0.2931034564971924],\"type\":\"scatter3d\"},{\"mode\":\"lines\",\"x\":[0.0,1.0],\"y\":[0.0,0.08620689809322357],\"z\":[0.0,-0.2586206793785095],\"type\":\"scatter3d\"},{\"mode\":\"lines\",\"x\":[0.0,1.0],\"y\":[0.0,0.08620689809322357],\"z\":[0.0,-0.22413793206214905],\"type\":\"scatter3d\"},{\"mode\":\"lines\",\"x\":[0.0,1.0],\"y\":[0.0,0.08620689809322357],\"z\":[0.0,-0.18965516984462738],\"type\":\"scatter3d\"},{\"mode\":\"lines\",\"x\":[0.0,1.0],\"y\":[0.0,0.08620689809322357],\"z\":[0.0,-0.1551724076271057],\"type\":\"scatter3d\"},{\"mode\":\"lines\",\"x\":[0.0,1.0],\"y\":[0.0,0.08620689809322357],\"z\":[0.0,-0.12068966031074524],\"type\":\"scatter3d\"},{\"mode\":\"lines\",\"x\":[0.0,1.0],\"y\":[0.0,0.08620689809322357],\"z\":[0.0,-0.08620689809322357],\"type\":\"scatter3d\"},{\"mode\":\"lines\",\"x\":[0.0,1.0],\"y\":[0.0,0.08620689809322357],\"z\":[0.0,-0.0517241396009922],\"type\":\"scatter3d\"},{\"mode\":\"lines\",\"x\":[0.0,1.0],\"y\":[0.0,0.08620689809322357],\"z\":[0.0,-0.017241381108760834],\"type\":\"scatter3d\"},{\"mode\":\"lines\",\"x\":[0.0,1.0],\"y\":[0.0,0.08620689809322357],\"z\":[0.0,0.017241381108760834],\"type\":\"scatter3d\"},{\"mode\":\"lines\",\"x\":[0.0,1.0],\"y\":[0.0,0.08620689809322357],\"z\":[0.0,0.0517241396009922],\"type\":\"scatter3d\"},{\"mode\":\"lines\",\"x\":[0.0,1.0],\"y\":[0.0,0.08620689809322357],\"z\":[0.0,0.08620689809322357],\"type\":\"scatter3d\"},{\"mode\":\"lines\",\"x\":[0.0,1.0],\"y\":[0.0,0.08620689809322357],\"z\":[0.0,0.12068966031074524],\"type\":\"scatter3d\"},{\"mode\":\"lines\",\"x\":[0.0,1.0],\"y\":[0.0,0.08620689809322357],\"z\":[0.0,0.1551724076271057],\"type\":\"scatter3d\"},{\"mode\":\"lines\",\"x\":[0.0,1.0],\"y\":[0.0,0.08620689809322357],\"z\":[0.0,0.18965516984462738],\"type\":\"scatter3d\"},{\"mode\":\"lines\",\"x\":[0.0,1.0],\"y\":[0.0,0.08620689809322357],\"z\":[0.0,0.22413793206214905],\"type\":\"scatter3d\"},{\"mode\":\"lines\",\"x\":[0.0,1.0],\"y\":[0.0,0.08620689809322357],\"z\":[0.0,0.2586206793785095],\"type\":\"scatter3d\"},{\"mode\":\"lines\",\"x\":[0.0,1.0],\"y\":[0.0,0.08620689809322357],\"z\":[0.0,0.2931034564971924],\"type\":\"scatter3d\"},{\"mode\":\"lines\",\"x\":[0.0,1.0],\"y\":[0.0,0.08620689809322357],\"z\":[0.0,0.32758620381355286],\"type\":\"scatter3d\"},{\"mode\":\"lines\",\"x\":[0.0,1.0],\"y\":[0.0,0.08620689809322357],\"z\":[0.0,0.36206895112991333],\"type\":\"scatter3d\"},{\"mode\":\"lines\",\"x\":[0.0,1.0],\"y\":[0.0,0.08620689809322357],\"z\":[0.0,0.3965517282485962],\"type\":\"scatter3d\"},{\"mode\":\"lines\",\"x\":[0.0,1.0],\"y\":[0.0,0.08620689809322357],\"z\":[0.0,0.43103447556495667],\"type\":\"scatter3d\"},{\"mode\":\"lines\",\"x\":[0.0,1.0],\"y\":[0.0,0.08620689809322357],\"z\":[0.0,0.4655172526836395],\"type\":\"scatter3d\"},{\"mode\":\"lines\",\"x\":[0.0,1.0],\"y\":[0.0,0.08620689809322357],\"z\":[0.0,0.5],\"type\":\"scatter3d\"},{\"mode\":\"lines\",\"x\":[0.0,1.0],\"y\":[0.0,0.12068966031074524],\"z\":[0.0,-0.5],\"type\":\"scatter3d\"},{\"mode\":\"lines\",\"x\":[0.0,1.0],\"y\":[0.0,0.12068966031074524],\"z\":[0.0,-0.4655172526836395],\"type\":\"scatter3d\"},{\"mode\":\"lines\",\"x\":[0.0,1.0],\"y\":[0.0,0.12068966031074524],\"z\":[0.0,-0.43103447556495667],\"type\":\"scatter3d\"},{\"mode\":\"lines\",\"x\":[0.0,1.0],\"y\":[0.0,0.12068966031074524],\"z\":[0.0,-0.3965517282485962],\"type\":\"scatter3d\"},{\"mode\":\"lines\",\"x\":[0.0,1.0],\"y\":[0.0,0.12068966031074524],\"z\":[0.0,-0.36206895112991333],\"type\":\"scatter3d\"},{\"mode\":\"lines\",\"x\":[0.0,1.0],\"y\":[0.0,0.12068966031074524],\"z\":[0.0,-0.32758620381355286],\"type\":\"scatter3d\"},{\"mode\":\"lines\",\"x\":[0.0,1.0],\"y\":[0.0,0.12068966031074524],\"z\":[0.0,-0.2931034564971924],\"type\":\"scatter3d\"},{\"mode\":\"lines\",\"x\":[0.0,1.0],\"y\":[0.0,0.12068966031074524],\"z\":[0.0,-0.2586206793785095],\"type\":\"scatter3d\"},{\"mode\":\"lines\",\"x\":[0.0,1.0],\"y\":[0.0,0.12068966031074524],\"z\":[0.0,-0.22413793206214905],\"type\":\"scatter3d\"},{\"mode\":\"lines\",\"x\":[0.0,1.0],\"y\":[0.0,0.12068966031074524],\"z\":[0.0,-0.18965516984462738],\"type\":\"scatter3d\"},{\"mode\":\"lines\",\"x\":[0.0,1.0],\"y\":[0.0,0.12068966031074524],\"z\":[0.0,-0.1551724076271057],\"type\":\"scatter3d\"},{\"mode\":\"lines\",\"x\":[0.0,1.0],\"y\":[0.0,0.12068966031074524],\"z\":[0.0,-0.12068966031074524],\"type\":\"scatter3d\"},{\"mode\":\"lines\",\"x\":[0.0,1.0],\"y\":[0.0,0.12068966031074524],\"z\":[0.0,-0.08620689809322357],\"type\":\"scatter3d\"},{\"mode\":\"lines\",\"x\":[0.0,1.0],\"y\":[0.0,0.12068966031074524],\"z\":[0.0,-0.0517241396009922],\"type\":\"scatter3d\"},{\"mode\":\"lines\",\"x\":[0.0,1.0],\"y\":[0.0,0.12068966031074524],\"z\":[0.0,-0.017241381108760834],\"type\":\"scatter3d\"},{\"mode\":\"lines\",\"x\":[0.0,1.0],\"y\":[0.0,0.12068966031074524],\"z\":[0.0,0.017241381108760834],\"type\":\"scatter3d\"},{\"mode\":\"lines\",\"x\":[0.0,1.0],\"y\":[0.0,0.12068966031074524],\"z\":[0.0,0.0517241396009922],\"type\":\"scatter3d\"},{\"mode\":\"lines\",\"x\":[0.0,1.0],\"y\":[0.0,0.12068966031074524],\"z\":[0.0,0.08620689809322357],\"type\":\"scatter3d\"},{\"mode\":\"lines\",\"x\":[0.0,1.0],\"y\":[0.0,0.12068966031074524],\"z\":[0.0,0.12068966031074524],\"type\":\"scatter3d\"},{\"mode\":\"lines\",\"x\":[0.0,1.0],\"y\":[0.0,0.12068966031074524],\"z\":[0.0,0.1551724076271057],\"type\":\"scatter3d\"},{\"mode\":\"lines\",\"x\":[0.0,1.0],\"y\":[0.0,0.12068966031074524],\"z\":[0.0,0.18965516984462738],\"type\":\"scatter3d\"},{\"mode\":\"lines\",\"x\":[0.0,1.0],\"y\":[0.0,0.12068966031074524],\"z\":[0.0,0.22413793206214905],\"type\":\"scatter3d\"},{\"mode\":\"lines\",\"x\":[0.0,1.0],\"y\":[0.0,0.12068966031074524],\"z\":[0.0,0.2586206793785095],\"type\":\"scatter3d\"},{\"mode\":\"lines\",\"x\":[0.0,1.0],\"y\":[0.0,0.12068966031074524],\"z\":[0.0,0.2931034564971924],\"type\":\"scatter3d\"},{\"mode\":\"lines\",\"x\":[0.0,1.0],\"y\":[0.0,0.12068966031074524],\"z\":[0.0,0.32758620381355286],\"type\":\"scatter3d\"},{\"mode\":\"lines\",\"x\":[0.0,1.0],\"y\":[0.0,0.12068966031074524],\"z\":[0.0,0.36206895112991333],\"type\":\"scatter3d\"},{\"mode\":\"lines\",\"x\":[0.0,1.0],\"y\":[0.0,0.12068966031074524],\"z\":[0.0,0.3965517282485962],\"type\":\"scatter3d\"},{\"mode\":\"lines\",\"x\":[0.0,1.0],\"y\":[0.0,0.12068966031074524],\"z\":[0.0,0.43103447556495667],\"type\":\"scatter3d\"},{\"mode\":\"lines\",\"x\":[0.0,1.0],\"y\":[0.0,0.12068966031074524],\"z\":[0.0,0.4655172526836395],\"type\":\"scatter3d\"},{\"mode\":\"lines\",\"x\":[0.0,1.0],\"y\":[0.0,0.12068966031074524],\"z\":[0.0,0.5],\"type\":\"scatter3d\"},{\"mode\":\"lines\",\"x\":[0.0,1.0],\"y\":[0.0,0.1551724076271057],\"z\":[0.0,-0.5],\"type\":\"scatter3d\"},{\"mode\":\"lines\",\"x\":[0.0,1.0],\"y\":[0.0,0.1551724076271057],\"z\":[0.0,-0.4655172526836395],\"type\":\"scatter3d\"},{\"mode\":\"lines\",\"x\":[0.0,1.0],\"y\":[0.0,0.1551724076271057],\"z\":[0.0,-0.43103447556495667],\"type\":\"scatter3d\"},{\"mode\":\"lines\",\"x\":[0.0,1.0],\"y\":[0.0,0.1551724076271057],\"z\":[0.0,-0.3965517282485962],\"type\":\"scatter3d\"},{\"mode\":\"lines\",\"x\":[0.0,1.0],\"y\":[0.0,0.1551724076271057],\"z\":[0.0,-0.36206895112991333],\"type\":\"scatter3d\"},{\"mode\":\"lines\",\"x\":[0.0,1.0],\"y\":[0.0,0.1551724076271057],\"z\":[0.0,-0.32758620381355286],\"type\":\"scatter3d\"},{\"mode\":\"lines\",\"x\":[0.0,1.0],\"y\":[0.0,0.1551724076271057],\"z\":[0.0,-0.2931034564971924],\"type\":\"scatter3d\"},{\"mode\":\"lines\",\"x\":[0.0,1.0],\"y\":[0.0,0.1551724076271057],\"z\":[0.0,-0.2586206793785095],\"type\":\"scatter3d\"},{\"mode\":\"lines\",\"x\":[0.0,1.0],\"y\":[0.0,0.1551724076271057],\"z\":[0.0,-0.22413793206214905],\"type\":\"scatter3d\"},{\"mode\":\"lines\",\"x\":[0.0,1.0],\"y\":[0.0,0.1551724076271057],\"z\":[0.0,-0.18965516984462738],\"type\":\"scatter3d\"},{\"mode\":\"lines\",\"x\":[0.0,1.0],\"y\":[0.0,0.1551724076271057],\"z\":[0.0,-0.1551724076271057],\"type\":\"scatter3d\"},{\"mode\":\"lines\",\"x\":[0.0,1.0],\"y\":[0.0,0.1551724076271057],\"z\":[0.0,-0.12068966031074524],\"type\":\"scatter3d\"},{\"mode\":\"lines\",\"x\":[0.0,1.0],\"y\":[0.0,0.1551724076271057],\"z\":[0.0,-0.08620689809322357],\"type\":\"scatter3d\"},{\"mode\":\"lines\",\"x\":[0.0,1.0],\"y\":[0.0,0.1551724076271057],\"z\":[0.0,-0.0517241396009922],\"type\":\"scatter3d\"},{\"mode\":\"lines\",\"x\":[0.0,1.0],\"y\":[0.0,0.1551724076271057],\"z\":[0.0,-0.017241381108760834],\"type\":\"scatter3d\"},{\"mode\":\"lines\",\"x\":[0.0,1.0],\"y\":[0.0,0.1551724076271057],\"z\":[0.0,0.017241381108760834],\"type\":\"scatter3d\"},{\"mode\":\"lines\",\"x\":[0.0,1.0],\"y\":[0.0,0.1551724076271057],\"z\":[0.0,0.0517241396009922],\"type\":\"scatter3d\"},{\"mode\":\"lines\",\"x\":[0.0,1.0],\"y\":[0.0,0.1551724076271057],\"z\":[0.0,0.08620689809322357],\"type\":\"scatter3d\"},{\"mode\":\"lines\",\"x\":[0.0,1.0],\"y\":[0.0,0.1551724076271057],\"z\":[0.0,0.12068966031074524],\"type\":\"scatter3d\"},{\"mode\":\"lines\",\"x\":[0.0,1.0],\"y\":[0.0,0.1551724076271057],\"z\":[0.0,0.1551724076271057],\"type\":\"scatter3d\"},{\"mode\":\"lines\",\"x\":[0.0,1.0],\"y\":[0.0,0.1551724076271057],\"z\":[0.0,0.18965516984462738],\"type\":\"scatter3d\"},{\"mode\":\"lines\",\"x\":[0.0,1.0],\"y\":[0.0,0.1551724076271057],\"z\":[0.0,0.22413793206214905],\"type\":\"scatter3d\"},{\"mode\":\"lines\",\"x\":[0.0,1.0],\"y\":[0.0,0.1551724076271057],\"z\":[0.0,0.2586206793785095],\"type\":\"scatter3d\"},{\"mode\":\"lines\",\"x\":[0.0,1.0],\"y\":[0.0,0.1551724076271057],\"z\":[0.0,0.2931034564971924],\"type\":\"scatter3d\"},{\"mode\":\"lines\",\"x\":[0.0,1.0],\"y\":[0.0,0.1551724076271057],\"z\":[0.0,0.32758620381355286],\"type\":\"scatter3d\"},{\"mode\":\"lines\",\"x\":[0.0,1.0],\"y\":[0.0,0.1551724076271057],\"z\":[0.0,0.36206895112991333],\"type\":\"scatter3d\"},{\"mode\":\"lines\",\"x\":[0.0,1.0],\"y\":[0.0,0.1551724076271057],\"z\":[0.0,0.3965517282485962],\"type\":\"scatter3d\"},{\"mode\":\"lines\",\"x\":[0.0,1.0],\"y\":[0.0,0.1551724076271057],\"z\":[0.0,0.43103447556495667],\"type\":\"scatter3d\"},{\"mode\":\"lines\",\"x\":[0.0,1.0],\"y\":[0.0,0.1551724076271057],\"z\":[0.0,0.4655172526836395],\"type\":\"scatter3d\"},{\"mode\":\"lines\",\"x\":[0.0,1.0],\"y\":[0.0,0.1551724076271057],\"z\":[0.0,0.5],\"type\":\"scatter3d\"},{\"mode\":\"lines\",\"x\":[0.0,1.0],\"y\":[0.0,0.18965516984462738],\"z\":[0.0,-0.5],\"type\":\"scatter3d\"},{\"mode\":\"lines\",\"x\":[0.0,1.0],\"y\":[0.0,0.18965516984462738],\"z\":[0.0,-0.4655172526836395],\"type\":\"scatter3d\"},{\"mode\":\"lines\",\"x\":[0.0,1.0],\"y\":[0.0,0.18965516984462738],\"z\":[0.0,-0.43103447556495667],\"type\":\"scatter3d\"},{\"mode\":\"lines\",\"x\":[0.0,1.0],\"y\":[0.0,0.18965516984462738],\"z\":[0.0,-0.3965517282485962],\"type\":\"scatter3d\"},{\"mode\":\"lines\",\"x\":[0.0,1.0],\"y\":[0.0,0.18965516984462738],\"z\":[0.0,-0.36206895112991333],\"type\":\"scatter3d\"},{\"mode\":\"lines\",\"x\":[0.0,1.0],\"y\":[0.0,0.18965516984462738],\"z\":[0.0,-0.32758620381355286],\"type\":\"scatter3d\"},{\"mode\":\"lines\",\"x\":[0.0,1.0],\"y\":[0.0,0.18965516984462738],\"z\":[0.0,-0.2931034564971924],\"type\":\"scatter3d\"},{\"mode\":\"lines\",\"x\":[0.0,1.0],\"y\":[0.0,0.18965516984462738],\"z\":[0.0,-0.2586206793785095],\"type\":\"scatter3d\"},{\"mode\":\"lines\",\"x\":[0.0,1.0],\"y\":[0.0,0.18965516984462738],\"z\":[0.0,-0.22413793206214905],\"type\":\"scatter3d\"},{\"mode\":\"lines\",\"x\":[0.0,1.0],\"y\":[0.0,0.18965516984462738],\"z\":[0.0,-0.18965516984462738],\"type\":\"scatter3d\"},{\"mode\":\"lines\",\"x\":[0.0,1.0],\"y\":[0.0,0.18965516984462738],\"z\":[0.0,-0.1551724076271057],\"type\":\"scatter3d\"},{\"mode\":\"lines\",\"x\":[0.0,1.0],\"y\":[0.0,0.18965516984462738],\"z\":[0.0,-0.12068966031074524],\"type\":\"scatter3d\"},{\"mode\":\"lines\",\"x\":[0.0,1.0],\"y\":[0.0,0.18965516984462738],\"z\":[0.0,-0.08620689809322357],\"type\":\"scatter3d\"},{\"mode\":\"lines\",\"x\":[0.0,1.0],\"y\":[0.0,0.18965516984462738],\"z\":[0.0,-0.0517241396009922],\"type\":\"scatter3d\"},{\"mode\":\"lines\",\"x\":[0.0,1.0],\"y\":[0.0,0.18965516984462738],\"z\":[0.0,-0.017241381108760834],\"type\":\"scatter3d\"},{\"mode\":\"lines\",\"x\":[0.0,1.0],\"y\":[0.0,0.18965516984462738],\"z\":[0.0,0.017241381108760834],\"type\":\"scatter3d\"},{\"mode\":\"lines\",\"x\":[0.0,1.0],\"y\":[0.0,0.18965516984462738],\"z\":[0.0,0.0517241396009922],\"type\":\"scatter3d\"},{\"mode\":\"lines\",\"x\":[0.0,1.0],\"y\":[0.0,0.18965516984462738],\"z\":[0.0,0.08620689809322357],\"type\":\"scatter3d\"},{\"mode\":\"lines\",\"x\":[0.0,1.0],\"y\":[0.0,0.18965516984462738],\"z\":[0.0,0.12068966031074524],\"type\":\"scatter3d\"},{\"mode\":\"lines\",\"x\":[0.0,1.0],\"y\":[0.0,0.18965516984462738],\"z\":[0.0,0.1551724076271057],\"type\":\"scatter3d\"},{\"mode\":\"lines\",\"x\":[0.0,1.0],\"y\":[0.0,0.18965516984462738],\"z\":[0.0,0.18965516984462738],\"type\":\"scatter3d\"},{\"mode\":\"lines\",\"x\":[0.0,1.0],\"y\":[0.0,0.18965516984462738],\"z\":[0.0,0.22413793206214905],\"type\":\"scatter3d\"},{\"mode\":\"lines\",\"x\":[0.0,1.0],\"y\":[0.0,0.18965516984462738],\"z\":[0.0,0.2586206793785095],\"type\":\"scatter3d\"},{\"mode\":\"lines\",\"x\":[0.0,1.0],\"y\":[0.0,0.18965516984462738],\"z\":[0.0,0.2931034564971924],\"type\":\"scatter3d\"},{\"mode\":\"lines\",\"x\":[0.0,1.0],\"y\":[0.0,0.18965516984462738],\"z\":[0.0,0.32758620381355286],\"type\":\"scatter3d\"},{\"mode\":\"lines\",\"x\":[0.0,1.0],\"y\":[0.0,0.18965516984462738],\"z\":[0.0,0.36206895112991333],\"type\":\"scatter3d\"},{\"mode\":\"lines\",\"x\":[0.0,1.0],\"y\":[0.0,0.18965516984462738],\"z\":[0.0,0.3965517282485962],\"type\":\"scatter3d\"},{\"mode\":\"lines\",\"x\":[0.0,1.0],\"y\":[0.0,0.18965516984462738],\"z\":[0.0,0.43103447556495667],\"type\":\"scatter3d\"},{\"mode\":\"lines\",\"x\":[0.0,1.0],\"y\":[0.0,0.18965516984462738],\"z\":[0.0,0.4655172526836395],\"type\":\"scatter3d\"},{\"mode\":\"lines\",\"x\":[0.0,1.0],\"y\":[0.0,0.18965516984462738],\"z\":[0.0,0.5],\"type\":\"scatter3d\"},{\"mode\":\"lines\",\"x\":[0.0,1.0],\"y\":[0.0,0.22413793206214905],\"z\":[0.0,-0.5],\"type\":\"scatter3d\"},{\"mode\":\"lines\",\"x\":[0.0,1.0],\"y\":[0.0,0.22413793206214905],\"z\":[0.0,-0.4655172526836395],\"type\":\"scatter3d\"},{\"mode\":\"lines\",\"x\":[0.0,1.0],\"y\":[0.0,0.22413793206214905],\"z\":[0.0,-0.43103447556495667],\"type\":\"scatter3d\"},{\"mode\":\"lines\",\"x\":[0.0,1.0],\"y\":[0.0,0.22413793206214905],\"z\":[0.0,-0.3965517282485962],\"type\":\"scatter3d\"},{\"mode\":\"lines\",\"x\":[0.0,1.0],\"y\":[0.0,0.22413793206214905],\"z\":[0.0,-0.36206895112991333],\"type\":\"scatter3d\"},{\"mode\":\"lines\",\"x\":[0.0,1.0],\"y\":[0.0,0.22413793206214905],\"z\":[0.0,-0.32758620381355286],\"type\":\"scatter3d\"},{\"mode\":\"lines\",\"x\":[0.0,1.0],\"y\":[0.0,0.22413793206214905],\"z\":[0.0,-0.2931034564971924],\"type\":\"scatter3d\"},{\"mode\":\"lines\",\"x\":[0.0,1.0],\"y\":[0.0,0.22413793206214905],\"z\":[0.0,-0.2586206793785095],\"type\":\"scatter3d\"},{\"mode\":\"lines\",\"x\":[0.0,1.0],\"y\":[0.0,0.22413793206214905],\"z\":[0.0,-0.22413793206214905],\"type\":\"scatter3d\"},{\"mode\":\"lines\",\"x\":[0.0,1.0],\"y\":[0.0,0.22413793206214905],\"z\":[0.0,-0.18965516984462738],\"type\":\"scatter3d\"},{\"mode\":\"lines\",\"x\":[0.0,1.0],\"y\":[0.0,0.22413793206214905],\"z\":[0.0,-0.1551724076271057],\"type\":\"scatter3d\"},{\"mode\":\"lines\",\"x\":[0.0,1.0],\"y\":[0.0,0.22413793206214905],\"z\":[0.0,-0.12068966031074524],\"type\":\"scatter3d\"},{\"mode\":\"lines\",\"x\":[0.0,1.0],\"y\":[0.0,0.22413793206214905],\"z\":[0.0,-0.08620689809322357],\"type\":\"scatter3d\"},{\"mode\":\"lines\",\"x\":[0.0,1.0],\"y\":[0.0,0.22413793206214905],\"z\":[0.0,-0.0517241396009922],\"type\":\"scatter3d\"},{\"mode\":\"lines\",\"x\":[0.0,1.0],\"y\":[0.0,0.22413793206214905],\"z\":[0.0,-0.017241381108760834],\"type\":\"scatter3d\"},{\"mode\":\"lines\",\"x\":[0.0,1.0],\"y\":[0.0,0.22413793206214905],\"z\":[0.0,0.017241381108760834],\"type\":\"scatter3d\"},{\"mode\":\"lines\",\"x\":[0.0,1.0],\"y\":[0.0,0.22413793206214905],\"z\":[0.0,0.0517241396009922],\"type\":\"scatter3d\"},{\"mode\":\"lines\",\"x\":[0.0,1.0],\"y\":[0.0,0.22413793206214905],\"z\":[0.0,0.08620689809322357],\"type\":\"scatter3d\"},{\"mode\":\"lines\",\"x\":[0.0,1.0],\"y\":[0.0,0.22413793206214905],\"z\":[0.0,0.12068966031074524],\"type\":\"scatter3d\"},{\"mode\":\"lines\",\"x\":[0.0,1.0],\"y\":[0.0,0.22413793206214905],\"z\":[0.0,0.1551724076271057],\"type\":\"scatter3d\"},{\"mode\":\"lines\",\"x\":[0.0,1.0],\"y\":[0.0,0.22413793206214905],\"z\":[0.0,0.18965516984462738],\"type\":\"scatter3d\"},{\"mode\":\"lines\",\"x\":[0.0,1.0],\"y\":[0.0,0.22413793206214905],\"z\":[0.0,0.22413793206214905],\"type\":\"scatter3d\"},{\"mode\":\"lines\",\"x\":[0.0,1.0],\"y\":[0.0,0.22413793206214905],\"z\":[0.0,0.2586206793785095],\"type\":\"scatter3d\"},{\"mode\":\"lines\",\"x\":[0.0,1.0],\"y\":[0.0,0.22413793206214905],\"z\":[0.0,0.2931034564971924],\"type\":\"scatter3d\"},{\"mode\":\"lines\",\"x\":[0.0,1.0],\"y\":[0.0,0.22413793206214905],\"z\":[0.0,0.32758620381355286],\"type\":\"scatter3d\"},{\"mode\":\"lines\",\"x\":[0.0,1.0],\"y\":[0.0,0.22413793206214905],\"z\":[0.0,0.36206895112991333],\"type\":\"scatter3d\"},{\"mode\":\"lines\",\"x\":[0.0,1.0],\"y\":[0.0,0.22413793206214905],\"z\":[0.0,0.3965517282485962],\"type\":\"scatter3d\"},{\"mode\":\"lines\",\"x\":[0.0,1.0],\"y\":[0.0,0.22413793206214905],\"z\":[0.0,0.43103447556495667],\"type\":\"scatter3d\"},{\"mode\":\"lines\",\"x\":[0.0,1.0],\"y\":[0.0,0.22413793206214905],\"z\":[0.0,0.4655172526836395],\"type\":\"scatter3d\"},{\"mode\":\"lines\",\"x\":[0.0,1.0],\"y\":[0.0,0.22413793206214905],\"z\":[0.0,0.5],\"type\":\"scatter3d\"},{\"mode\":\"lines\",\"x\":[0.0,1.0],\"y\":[0.0,0.2586206793785095],\"z\":[0.0,-0.5],\"type\":\"scatter3d\"},{\"mode\":\"lines\",\"x\":[0.0,1.0],\"y\":[0.0,0.2586206793785095],\"z\":[0.0,-0.4655172526836395],\"type\":\"scatter3d\"},{\"mode\":\"lines\",\"x\":[0.0,1.0],\"y\":[0.0,0.2586206793785095],\"z\":[0.0,-0.43103447556495667],\"type\":\"scatter3d\"},{\"mode\":\"lines\",\"x\":[0.0,1.0],\"y\":[0.0,0.2586206793785095],\"z\":[0.0,-0.3965517282485962],\"type\":\"scatter3d\"},{\"mode\":\"lines\",\"x\":[0.0,1.0],\"y\":[0.0,0.2586206793785095],\"z\":[0.0,-0.36206895112991333],\"type\":\"scatter3d\"},{\"mode\":\"lines\",\"x\":[0.0,1.0],\"y\":[0.0,0.2586206793785095],\"z\":[0.0,-0.32758620381355286],\"type\":\"scatter3d\"},{\"mode\":\"lines\",\"x\":[0.0,1.0],\"y\":[0.0,0.2586206793785095],\"z\":[0.0,-0.2931034564971924],\"type\":\"scatter3d\"},{\"mode\":\"lines\",\"x\":[0.0,1.0],\"y\":[0.0,0.2586206793785095],\"z\":[0.0,-0.2586206793785095],\"type\":\"scatter3d\"},{\"mode\":\"lines\",\"x\":[0.0,1.0],\"y\":[0.0,0.2586206793785095],\"z\":[0.0,-0.22413793206214905],\"type\":\"scatter3d\"},{\"mode\":\"lines\",\"x\":[0.0,1.0],\"y\":[0.0,0.2586206793785095],\"z\":[0.0,-0.18965516984462738],\"type\":\"scatter3d\"},{\"mode\":\"lines\",\"x\":[0.0,1.0],\"y\":[0.0,0.2586206793785095],\"z\":[0.0,-0.1551724076271057],\"type\":\"scatter3d\"},{\"mode\":\"lines\",\"x\":[0.0,1.0],\"y\":[0.0,0.2586206793785095],\"z\":[0.0,-0.12068966031074524],\"type\":\"scatter3d\"},{\"mode\":\"lines\",\"x\":[0.0,1.0],\"y\":[0.0,0.2586206793785095],\"z\":[0.0,-0.08620689809322357],\"type\":\"scatter3d\"},{\"mode\":\"lines\",\"x\":[0.0,1.0],\"y\":[0.0,0.2586206793785095],\"z\":[0.0,-0.0517241396009922],\"type\":\"scatter3d\"},{\"mode\":\"lines\",\"x\":[0.0,1.0],\"y\":[0.0,0.2586206793785095],\"z\":[0.0,-0.017241381108760834],\"type\":\"scatter3d\"},{\"mode\":\"lines\",\"x\":[0.0,1.0],\"y\":[0.0,0.2586206793785095],\"z\":[0.0,0.017241381108760834],\"type\":\"scatter3d\"},{\"mode\":\"lines\",\"x\":[0.0,1.0],\"y\":[0.0,0.2586206793785095],\"z\":[0.0,0.0517241396009922],\"type\":\"scatter3d\"},{\"mode\":\"lines\",\"x\":[0.0,1.0],\"y\":[0.0,0.2586206793785095],\"z\":[0.0,0.08620689809322357],\"type\":\"scatter3d\"},{\"mode\":\"lines\",\"x\":[0.0,1.0],\"y\":[0.0,0.2586206793785095],\"z\":[0.0,0.12068966031074524],\"type\":\"scatter3d\"},{\"mode\":\"lines\",\"x\":[0.0,1.0],\"y\":[0.0,0.2586206793785095],\"z\":[0.0,0.1551724076271057],\"type\":\"scatter3d\"},{\"mode\":\"lines\",\"x\":[0.0,1.0],\"y\":[0.0,0.2586206793785095],\"z\":[0.0,0.18965516984462738],\"type\":\"scatter3d\"},{\"mode\":\"lines\",\"x\":[0.0,1.0],\"y\":[0.0,0.2586206793785095],\"z\":[0.0,0.22413793206214905],\"type\":\"scatter3d\"},{\"mode\":\"lines\",\"x\":[0.0,1.0],\"y\":[0.0,0.2586206793785095],\"z\":[0.0,0.2586206793785095],\"type\":\"scatter3d\"},{\"mode\":\"lines\",\"x\":[0.0,1.0],\"y\":[0.0,0.2586206793785095],\"z\":[0.0,0.2931034564971924],\"type\":\"scatter3d\"},{\"mode\":\"lines\",\"x\":[0.0,1.0],\"y\":[0.0,0.2586206793785095],\"z\":[0.0,0.32758620381355286],\"type\":\"scatter3d\"},{\"mode\":\"lines\",\"x\":[0.0,1.0],\"y\":[0.0,0.2586206793785095],\"z\":[0.0,0.36206895112991333],\"type\":\"scatter3d\"},{\"mode\":\"lines\",\"x\":[0.0,1.0],\"y\":[0.0,0.2586206793785095],\"z\":[0.0,0.3965517282485962],\"type\":\"scatter3d\"},{\"mode\":\"lines\",\"x\":[0.0,1.0],\"y\":[0.0,0.2586206793785095],\"z\":[0.0,0.43103447556495667],\"type\":\"scatter3d\"},{\"mode\":\"lines\",\"x\":[0.0,1.0],\"y\":[0.0,0.2586206793785095],\"z\":[0.0,0.4655172526836395],\"type\":\"scatter3d\"},{\"mode\":\"lines\",\"x\":[0.0,1.0],\"y\":[0.0,0.2586206793785095],\"z\":[0.0,0.5],\"type\":\"scatter3d\"},{\"mode\":\"lines\",\"x\":[0.0,1.0],\"y\":[0.0,0.2931034564971924],\"z\":[0.0,-0.5],\"type\":\"scatter3d\"},{\"mode\":\"lines\",\"x\":[0.0,1.0],\"y\":[0.0,0.2931034564971924],\"z\":[0.0,-0.4655172526836395],\"type\":\"scatter3d\"},{\"mode\":\"lines\",\"x\":[0.0,1.0],\"y\":[0.0,0.2931034564971924],\"z\":[0.0,-0.43103447556495667],\"type\":\"scatter3d\"},{\"mode\":\"lines\",\"x\":[0.0,1.0],\"y\":[0.0,0.2931034564971924],\"z\":[0.0,-0.3965517282485962],\"type\":\"scatter3d\"},{\"mode\":\"lines\",\"x\":[0.0,1.0],\"y\":[0.0,0.2931034564971924],\"z\":[0.0,-0.36206895112991333],\"type\":\"scatter3d\"},{\"mode\":\"lines\",\"x\":[0.0,1.0],\"y\":[0.0,0.2931034564971924],\"z\":[0.0,-0.32758620381355286],\"type\":\"scatter3d\"},{\"mode\":\"lines\",\"x\":[0.0,1.0],\"y\":[0.0,0.2931034564971924],\"z\":[0.0,-0.2931034564971924],\"type\":\"scatter3d\"},{\"mode\":\"lines\",\"x\":[0.0,1.0],\"y\":[0.0,0.2931034564971924],\"z\":[0.0,-0.2586206793785095],\"type\":\"scatter3d\"},{\"mode\":\"lines\",\"x\":[0.0,1.0],\"y\":[0.0,0.2931034564971924],\"z\":[0.0,-0.22413793206214905],\"type\":\"scatter3d\"},{\"mode\":\"lines\",\"x\":[0.0,1.0],\"y\":[0.0,0.2931034564971924],\"z\":[0.0,-0.18965516984462738],\"type\":\"scatter3d\"},{\"mode\":\"lines\",\"x\":[0.0,1.0],\"y\":[0.0,0.2931034564971924],\"z\":[0.0,-0.1551724076271057],\"type\":\"scatter3d\"},{\"mode\":\"lines\",\"x\":[0.0,1.0],\"y\":[0.0,0.2931034564971924],\"z\":[0.0,-0.12068966031074524],\"type\":\"scatter3d\"},{\"mode\":\"lines\",\"x\":[0.0,1.0],\"y\":[0.0,0.2931034564971924],\"z\":[0.0,-0.08620689809322357],\"type\":\"scatter3d\"},{\"mode\":\"lines\",\"x\":[0.0,1.0],\"y\":[0.0,0.2931034564971924],\"z\":[0.0,-0.0517241396009922],\"type\":\"scatter3d\"},{\"mode\":\"lines\",\"x\":[0.0,1.0],\"y\":[0.0,0.2931034564971924],\"z\":[0.0,-0.017241381108760834],\"type\":\"scatter3d\"},{\"mode\":\"lines\",\"x\":[0.0,1.0],\"y\":[0.0,0.2931034564971924],\"z\":[0.0,0.017241381108760834],\"type\":\"scatter3d\"},{\"mode\":\"lines\",\"x\":[0.0,1.0],\"y\":[0.0,0.2931034564971924],\"z\":[0.0,0.0517241396009922],\"type\":\"scatter3d\"},{\"mode\":\"lines\",\"x\":[0.0,1.0],\"y\":[0.0,0.2931034564971924],\"z\":[0.0,0.08620689809322357],\"type\":\"scatter3d\"},{\"mode\":\"lines\",\"x\":[0.0,1.0],\"y\":[0.0,0.2931034564971924],\"z\":[0.0,0.12068966031074524],\"type\":\"scatter3d\"},{\"mode\":\"lines\",\"x\":[0.0,1.0],\"y\":[0.0,0.2931034564971924],\"z\":[0.0,0.1551724076271057],\"type\":\"scatter3d\"},{\"mode\":\"lines\",\"x\":[0.0,1.0],\"y\":[0.0,0.2931034564971924],\"z\":[0.0,0.18965516984462738],\"type\":\"scatter3d\"},{\"mode\":\"lines\",\"x\":[0.0,1.0],\"y\":[0.0,0.2931034564971924],\"z\":[0.0,0.22413793206214905],\"type\":\"scatter3d\"},{\"mode\":\"lines\",\"x\":[0.0,1.0],\"y\":[0.0,0.2931034564971924],\"z\":[0.0,0.2586206793785095],\"type\":\"scatter3d\"},{\"mode\":\"lines\",\"x\":[0.0,1.0],\"y\":[0.0,0.2931034564971924],\"z\":[0.0,0.2931034564971924],\"type\":\"scatter3d\"},{\"mode\":\"lines\",\"x\":[0.0,1.0],\"y\":[0.0,0.2931034564971924],\"z\":[0.0,0.32758620381355286],\"type\":\"scatter3d\"},{\"mode\":\"lines\",\"x\":[0.0,1.0],\"y\":[0.0,0.2931034564971924],\"z\":[0.0,0.36206895112991333],\"type\":\"scatter3d\"},{\"mode\":\"lines\",\"x\":[0.0,1.0],\"y\":[0.0,0.2931034564971924],\"z\":[0.0,0.3965517282485962],\"type\":\"scatter3d\"},{\"mode\":\"lines\",\"x\":[0.0,1.0],\"y\":[0.0,0.2931034564971924],\"z\":[0.0,0.43103447556495667],\"type\":\"scatter3d\"},{\"mode\":\"lines\",\"x\":[0.0,1.0],\"y\":[0.0,0.2931034564971924],\"z\":[0.0,0.4655172526836395],\"type\":\"scatter3d\"},{\"mode\":\"lines\",\"x\":[0.0,1.0],\"y\":[0.0,0.2931034564971924],\"z\":[0.0,0.5],\"type\":\"scatter3d\"},{\"mode\":\"lines\",\"x\":[0.0,1.0],\"y\":[0.0,0.32758620381355286],\"z\":[0.0,-0.5],\"type\":\"scatter3d\"},{\"mode\":\"lines\",\"x\":[0.0,1.0],\"y\":[0.0,0.32758620381355286],\"z\":[0.0,-0.4655172526836395],\"type\":\"scatter3d\"},{\"mode\":\"lines\",\"x\":[0.0,1.0],\"y\":[0.0,0.32758620381355286],\"z\":[0.0,-0.43103447556495667],\"type\":\"scatter3d\"},{\"mode\":\"lines\",\"x\":[0.0,1.0],\"y\":[0.0,0.32758620381355286],\"z\":[0.0,-0.3965517282485962],\"type\":\"scatter3d\"},{\"mode\":\"lines\",\"x\":[0.0,1.0],\"y\":[0.0,0.32758620381355286],\"z\":[0.0,-0.36206895112991333],\"type\":\"scatter3d\"},{\"mode\":\"lines\",\"x\":[0.0,1.0],\"y\":[0.0,0.32758620381355286],\"z\":[0.0,-0.32758620381355286],\"type\":\"scatter3d\"},{\"mode\":\"lines\",\"x\":[0.0,1.0],\"y\":[0.0,0.32758620381355286],\"z\":[0.0,-0.2931034564971924],\"type\":\"scatter3d\"},{\"mode\":\"lines\",\"x\":[0.0,1.0],\"y\":[0.0,0.32758620381355286],\"z\":[0.0,-0.2586206793785095],\"type\":\"scatter3d\"},{\"mode\":\"lines\",\"x\":[0.0,1.0],\"y\":[0.0,0.32758620381355286],\"z\":[0.0,-0.22413793206214905],\"type\":\"scatter3d\"},{\"mode\":\"lines\",\"x\":[0.0,1.0],\"y\":[0.0,0.32758620381355286],\"z\":[0.0,-0.18965516984462738],\"type\":\"scatter3d\"},{\"mode\":\"lines\",\"x\":[0.0,1.0],\"y\":[0.0,0.32758620381355286],\"z\":[0.0,-0.1551724076271057],\"type\":\"scatter3d\"},{\"mode\":\"lines\",\"x\":[0.0,1.0],\"y\":[0.0,0.32758620381355286],\"z\":[0.0,-0.12068966031074524],\"type\":\"scatter3d\"},{\"mode\":\"lines\",\"x\":[0.0,1.0],\"y\":[0.0,0.32758620381355286],\"z\":[0.0,-0.08620689809322357],\"type\":\"scatter3d\"},{\"mode\":\"lines\",\"x\":[0.0,1.0],\"y\":[0.0,0.32758620381355286],\"z\":[0.0,-0.0517241396009922],\"type\":\"scatter3d\"},{\"mode\":\"lines\",\"x\":[0.0,1.0],\"y\":[0.0,0.32758620381355286],\"z\":[0.0,-0.017241381108760834],\"type\":\"scatter3d\"},{\"mode\":\"lines\",\"x\":[0.0,1.0],\"y\":[0.0,0.32758620381355286],\"z\":[0.0,0.017241381108760834],\"type\":\"scatter3d\"},{\"mode\":\"lines\",\"x\":[0.0,1.0],\"y\":[0.0,0.32758620381355286],\"z\":[0.0,0.0517241396009922],\"type\":\"scatter3d\"},{\"mode\":\"lines\",\"x\":[0.0,1.0],\"y\":[0.0,0.32758620381355286],\"z\":[0.0,0.08620689809322357],\"type\":\"scatter3d\"},{\"mode\":\"lines\",\"x\":[0.0,1.0],\"y\":[0.0,0.32758620381355286],\"z\":[0.0,0.12068966031074524],\"type\":\"scatter3d\"},{\"mode\":\"lines\",\"x\":[0.0,1.0],\"y\":[0.0,0.32758620381355286],\"z\":[0.0,0.1551724076271057],\"type\":\"scatter3d\"},{\"mode\":\"lines\",\"x\":[0.0,1.0],\"y\":[0.0,0.32758620381355286],\"z\":[0.0,0.18965516984462738],\"type\":\"scatter3d\"},{\"mode\":\"lines\",\"x\":[0.0,1.0],\"y\":[0.0,0.32758620381355286],\"z\":[0.0,0.22413793206214905],\"type\":\"scatter3d\"},{\"mode\":\"lines\",\"x\":[0.0,1.0],\"y\":[0.0,0.32758620381355286],\"z\":[0.0,0.2586206793785095],\"type\":\"scatter3d\"},{\"mode\":\"lines\",\"x\":[0.0,1.0],\"y\":[0.0,0.32758620381355286],\"z\":[0.0,0.2931034564971924],\"type\":\"scatter3d\"},{\"mode\":\"lines\",\"x\":[0.0,1.0],\"y\":[0.0,0.32758620381355286],\"z\":[0.0,0.32758620381355286],\"type\":\"scatter3d\"},{\"mode\":\"lines\",\"x\":[0.0,1.0],\"y\":[0.0,0.32758620381355286],\"z\":[0.0,0.36206895112991333],\"type\":\"scatter3d\"},{\"mode\":\"lines\",\"x\":[0.0,1.0],\"y\":[0.0,0.32758620381355286],\"z\":[0.0,0.3965517282485962],\"type\":\"scatter3d\"},{\"mode\":\"lines\",\"x\":[0.0,1.0],\"y\":[0.0,0.32758620381355286],\"z\":[0.0,0.43103447556495667],\"type\":\"scatter3d\"},{\"mode\":\"lines\",\"x\":[0.0,1.0],\"y\":[0.0,0.32758620381355286],\"z\":[0.0,0.4655172526836395],\"type\":\"scatter3d\"},{\"mode\":\"lines\",\"x\":[0.0,1.0],\"y\":[0.0,0.32758620381355286],\"z\":[0.0,0.5],\"type\":\"scatter3d\"},{\"mode\":\"lines\",\"x\":[0.0,1.0],\"y\":[0.0,0.36206895112991333],\"z\":[0.0,-0.5],\"type\":\"scatter3d\"},{\"mode\":\"lines\",\"x\":[0.0,1.0],\"y\":[0.0,0.36206895112991333],\"z\":[0.0,-0.4655172526836395],\"type\":\"scatter3d\"},{\"mode\":\"lines\",\"x\":[0.0,1.0],\"y\":[0.0,0.36206895112991333],\"z\":[0.0,-0.43103447556495667],\"type\":\"scatter3d\"},{\"mode\":\"lines\",\"x\":[0.0,1.0],\"y\":[0.0,0.36206895112991333],\"z\":[0.0,-0.3965517282485962],\"type\":\"scatter3d\"},{\"mode\":\"lines\",\"x\":[0.0,1.0],\"y\":[0.0,0.36206895112991333],\"z\":[0.0,-0.36206895112991333],\"type\":\"scatter3d\"},{\"mode\":\"lines\",\"x\":[0.0,1.0],\"y\":[0.0,0.36206895112991333],\"z\":[0.0,-0.32758620381355286],\"type\":\"scatter3d\"},{\"mode\":\"lines\",\"x\":[0.0,1.0],\"y\":[0.0,0.36206895112991333],\"z\":[0.0,-0.2931034564971924],\"type\":\"scatter3d\"},{\"mode\":\"lines\",\"x\":[0.0,1.0],\"y\":[0.0,0.36206895112991333],\"z\":[0.0,-0.2586206793785095],\"type\":\"scatter3d\"},{\"mode\":\"lines\",\"x\":[0.0,1.0],\"y\":[0.0,0.36206895112991333],\"z\":[0.0,-0.22413793206214905],\"type\":\"scatter3d\"},{\"mode\":\"lines\",\"x\":[0.0,1.0],\"y\":[0.0,0.36206895112991333],\"z\":[0.0,-0.18965516984462738],\"type\":\"scatter3d\"},{\"mode\":\"lines\",\"x\":[0.0,1.0],\"y\":[0.0,0.36206895112991333],\"z\":[0.0,-0.1551724076271057],\"type\":\"scatter3d\"},{\"mode\":\"lines\",\"x\":[0.0,1.0],\"y\":[0.0,0.36206895112991333],\"z\":[0.0,-0.12068966031074524],\"type\":\"scatter3d\"},{\"mode\":\"lines\",\"x\":[0.0,1.0],\"y\":[0.0,0.36206895112991333],\"z\":[0.0,-0.08620689809322357],\"type\":\"scatter3d\"},{\"mode\":\"lines\",\"x\":[0.0,1.0],\"y\":[0.0,0.36206895112991333],\"z\":[0.0,-0.0517241396009922],\"type\":\"scatter3d\"},{\"mode\":\"lines\",\"x\":[0.0,1.0],\"y\":[0.0,0.36206895112991333],\"z\":[0.0,-0.017241381108760834],\"type\":\"scatter3d\"},{\"mode\":\"lines\",\"x\":[0.0,1.0],\"y\":[0.0,0.36206895112991333],\"z\":[0.0,0.017241381108760834],\"type\":\"scatter3d\"},{\"mode\":\"lines\",\"x\":[0.0,1.0],\"y\":[0.0,0.36206895112991333],\"z\":[0.0,0.0517241396009922],\"type\":\"scatter3d\"},{\"mode\":\"lines\",\"x\":[0.0,1.0],\"y\":[0.0,0.36206895112991333],\"z\":[0.0,0.08620689809322357],\"type\":\"scatter3d\"},{\"mode\":\"lines\",\"x\":[0.0,1.0],\"y\":[0.0,0.36206895112991333],\"z\":[0.0,0.12068966031074524],\"type\":\"scatter3d\"},{\"mode\":\"lines\",\"x\":[0.0,1.0],\"y\":[0.0,0.36206895112991333],\"z\":[0.0,0.1551724076271057],\"type\":\"scatter3d\"},{\"mode\":\"lines\",\"x\":[0.0,1.0],\"y\":[0.0,0.36206895112991333],\"z\":[0.0,0.18965516984462738],\"type\":\"scatter3d\"},{\"mode\":\"lines\",\"x\":[0.0,1.0],\"y\":[0.0,0.36206895112991333],\"z\":[0.0,0.22413793206214905],\"type\":\"scatter3d\"},{\"mode\":\"lines\",\"x\":[0.0,1.0],\"y\":[0.0,0.36206895112991333],\"z\":[0.0,0.2586206793785095],\"type\":\"scatter3d\"},{\"mode\":\"lines\",\"x\":[0.0,1.0],\"y\":[0.0,0.36206895112991333],\"z\":[0.0,0.2931034564971924],\"type\":\"scatter3d\"},{\"mode\":\"lines\",\"x\":[0.0,1.0],\"y\":[0.0,0.36206895112991333],\"z\":[0.0,0.32758620381355286],\"type\":\"scatter3d\"},{\"mode\":\"lines\",\"x\":[0.0,1.0],\"y\":[0.0,0.36206895112991333],\"z\":[0.0,0.36206895112991333],\"type\":\"scatter3d\"},{\"mode\":\"lines\",\"x\":[0.0,1.0],\"y\":[0.0,0.36206895112991333],\"z\":[0.0,0.3965517282485962],\"type\":\"scatter3d\"},{\"mode\":\"lines\",\"x\":[0.0,1.0],\"y\":[0.0,0.36206895112991333],\"z\":[0.0,0.43103447556495667],\"type\":\"scatter3d\"},{\"mode\":\"lines\",\"x\":[0.0,1.0],\"y\":[0.0,0.36206895112991333],\"z\":[0.0,0.4655172526836395],\"type\":\"scatter3d\"},{\"mode\":\"lines\",\"x\":[0.0,1.0],\"y\":[0.0,0.36206895112991333],\"z\":[0.0,0.5],\"type\":\"scatter3d\"},{\"mode\":\"lines\",\"x\":[0.0,1.0],\"y\":[0.0,0.3965517282485962],\"z\":[0.0,-0.5],\"type\":\"scatter3d\"},{\"mode\":\"lines\",\"x\":[0.0,1.0],\"y\":[0.0,0.3965517282485962],\"z\":[0.0,-0.4655172526836395],\"type\":\"scatter3d\"},{\"mode\":\"lines\",\"x\":[0.0,1.0],\"y\":[0.0,0.3965517282485962],\"z\":[0.0,-0.43103447556495667],\"type\":\"scatter3d\"},{\"mode\":\"lines\",\"x\":[0.0,1.0],\"y\":[0.0,0.3965517282485962],\"z\":[0.0,-0.3965517282485962],\"type\":\"scatter3d\"},{\"mode\":\"lines\",\"x\":[0.0,1.0],\"y\":[0.0,0.3965517282485962],\"z\":[0.0,-0.36206895112991333],\"type\":\"scatter3d\"},{\"mode\":\"lines\",\"x\":[0.0,1.0],\"y\":[0.0,0.3965517282485962],\"z\":[0.0,-0.32758620381355286],\"type\":\"scatter3d\"},{\"mode\":\"lines\",\"x\":[0.0,1.0],\"y\":[0.0,0.3965517282485962],\"z\":[0.0,-0.2931034564971924],\"type\":\"scatter3d\"},{\"mode\":\"lines\",\"x\":[0.0,1.0],\"y\":[0.0,0.3965517282485962],\"z\":[0.0,-0.2586206793785095],\"type\":\"scatter3d\"},{\"mode\":\"lines\",\"x\":[0.0,1.0],\"y\":[0.0,0.3965517282485962],\"z\":[0.0,-0.22413793206214905],\"type\":\"scatter3d\"},{\"mode\":\"lines\",\"x\":[0.0,1.0],\"y\":[0.0,0.3965517282485962],\"z\":[0.0,-0.18965516984462738],\"type\":\"scatter3d\"},{\"mode\":\"lines\",\"x\":[0.0,1.0],\"y\":[0.0,0.3965517282485962],\"z\":[0.0,-0.1551724076271057],\"type\":\"scatter3d\"},{\"mode\":\"lines\",\"x\":[0.0,1.0],\"y\":[0.0,0.3965517282485962],\"z\":[0.0,-0.12068966031074524],\"type\":\"scatter3d\"},{\"mode\":\"lines\",\"x\":[0.0,1.0],\"y\":[0.0,0.3965517282485962],\"z\":[0.0,-0.08620689809322357],\"type\":\"scatter3d\"},{\"mode\":\"lines\",\"x\":[0.0,1.0],\"y\":[0.0,0.3965517282485962],\"z\":[0.0,-0.0517241396009922],\"type\":\"scatter3d\"},{\"mode\":\"lines\",\"x\":[0.0,1.0],\"y\":[0.0,0.3965517282485962],\"z\":[0.0,-0.017241381108760834],\"type\":\"scatter3d\"},{\"mode\":\"lines\",\"x\":[0.0,1.0],\"y\":[0.0,0.3965517282485962],\"z\":[0.0,0.017241381108760834],\"type\":\"scatter3d\"},{\"mode\":\"lines\",\"x\":[0.0,1.0],\"y\":[0.0,0.3965517282485962],\"z\":[0.0,0.0517241396009922],\"type\":\"scatter3d\"},{\"mode\":\"lines\",\"x\":[0.0,1.0],\"y\":[0.0,0.3965517282485962],\"z\":[0.0,0.08620689809322357],\"type\":\"scatter3d\"},{\"mode\":\"lines\",\"x\":[0.0,1.0],\"y\":[0.0,0.3965517282485962],\"z\":[0.0,0.12068966031074524],\"type\":\"scatter3d\"},{\"mode\":\"lines\",\"x\":[0.0,1.0],\"y\":[0.0,0.3965517282485962],\"z\":[0.0,0.1551724076271057],\"type\":\"scatter3d\"},{\"mode\":\"lines\",\"x\":[0.0,1.0],\"y\":[0.0,0.3965517282485962],\"z\":[0.0,0.18965516984462738],\"type\":\"scatter3d\"},{\"mode\":\"lines\",\"x\":[0.0,1.0],\"y\":[0.0,0.3965517282485962],\"z\":[0.0,0.22413793206214905],\"type\":\"scatter3d\"},{\"mode\":\"lines\",\"x\":[0.0,1.0],\"y\":[0.0,0.3965517282485962],\"z\":[0.0,0.2586206793785095],\"type\":\"scatter3d\"},{\"mode\":\"lines\",\"x\":[0.0,1.0],\"y\":[0.0,0.3965517282485962],\"z\":[0.0,0.2931034564971924],\"type\":\"scatter3d\"},{\"mode\":\"lines\",\"x\":[0.0,1.0],\"y\":[0.0,0.3965517282485962],\"z\":[0.0,0.32758620381355286],\"type\":\"scatter3d\"},{\"mode\":\"lines\",\"x\":[0.0,1.0],\"y\":[0.0,0.3965517282485962],\"z\":[0.0,0.36206895112991333],\"type\":\"scatter3d\"},{\"mode\":\"lines\",\"x\":[0.0,1.0],\"y\":[0.0,0.3965517282485962],\"z\":[0.0,0.3965517282485962],\"type\":\"scatter3d\"},{\"mode\":\"lines\",\"x\":[0.0,1.0],\"y\":[0.0,0.3965517282485962],\"z\":[0.0,0.43103447556495667],\"type\":\"scatter3d\"},{\"mode\":\"lines\",\"x\":[0.0,1.0],\"y\":[0.0,0.3965517282485962],\"z\":[0.0,0.4655172526836395],\"type\":\"scatter3d\"},{\"mode\":\"lines\",\"x\":[0.0,1.0],\"y\":[0.0,0.3965517282485962],\"z\":[0.0,0.5],\"type\":\"scatter3d\"},{\"mode\":\"lines\",\"x\":[0.0,1.0],\"y\":[0.0,0.43103447556495667],\"z\":[0.0,-0.5],\"type\":\"scatter3d\"},{\"mode\":\"lines\",\"x\":[0.0,1.0],\"y\":[0.0,0.43103447556495667],\"z\":[0.0,-0.4655172526836395],\"type\":\"scatter3d\"},{\"mode\":\"lines\",\"x\":[0.0,1.0],\"y\":[0.0,0.43103447556495667],\"z\":[0.0,-0.43103447556495667],\"type\":\"scatter3d\"},{\"mode\":\"lines\",\"x\":[0.0,1.0],\"y\":[0.0,0.43103447556495667],\"z\":[0.0,-0.3965517282485962],\"type\":\"scatter3d\"},{\"mode\":\"lines\",\"x\":[0.0,1.0],\"y\":[0.0,0.43103447556495667],\"z\":[0.0,-0.36206895112991333],\"type\":\"scatter3d\"},{\"mode\":\"lines\",\"x\":[0.0,1.0],\"y\":[0.0,0.43103447556495667],\"z\":[0.0,-0.32758620381355286],\"type\":\"scatter3d\"},{\"mode\":\"lines\",\"x\":[0.0,1.0],\"y\":[0.0,0.43103447556495667],\"z\":[0.0,-0.2931034564971924],\"type\":\"scatter3d\"},{\"mode\":\"lines\",\"x\":[0.0,1.0],\"y\":[0.0,0.43103447556495667],\"z\":[0.0,-0.2586206793785095],\"type\":\"scatter3d\"},{\"mode\":\"lines\",\"x\":[0.0,1.0],\"y\":[0.0,0.43103447556495667],\"z\":[0.0,-0.22413793206214905],\"type\":\"scatter3d\"},{\"mode\":\"lines\",\"x\":[0.0,1.0],\"y\":[0.0,0.43103447556495667],\"z\":[0.0,-0.18965516984462738],\"type\":\"scatter3d\"},{\"mode\":\"lines\",\"x\":[0.0,1.0],\"y\":[0.0,0.43103447556495667],\"z\":[0.0,-0.1551724076271057],\"type\":\"scatter3d\"},{\"mode\":\"lines\",\"x\":[0.0,1.0],\"y\":[0.0,0.43103447556495667],\"z\":[0.0,-0.12068966031074524],\"type\":\"scatter3d\"},{\"mode\":\"lines\",\"x\":[0.0,1.0],\"y\":[0.0,0.43103447556495667],\"z\":[0.0,-0.08620689809322357],\"type\":\"scatter3d\"},{\"mode\":\"lines\",\"x\":[0.0,1.0],\"y\":[0.0,0.43103447556495667],\"z\":[0.0,-0.0517241396009922],\"type\":\"scatter3d\"},{\"mode\":\"lines\",\"x\":[0.0,1.0],\"y\":[0.0,0.43103447556495667],\"z\":[0.0,-0.017241381108760834],\"type\":\"scatter3d\"},{\"mode\":\"lines\",\"x\":[0.0,1.0],\"y\":[0.0,0.43103447556495667],\"z\":[0.0,0.017241381108760834],\"type\":\"scatter3d\"},{\"mode\":\"lines\",\"x\":[0.0,1.0],\"y\":[0.0,0.43103447556495667],\"z\":[0.0,0.0517241396009922],\"type\":\"scatter3d\"},{\"mode\":\"lines\",\"x\":[0.0,1.0],\"y\":[0.0,0.43103447556495667],\"z\":[0.0,0.08620689809322357],\"type\":\"scatter3d\"},{\"mode\":\"lines\",\"x\":[0.0,1.0],\"y\":[0.0,0.43103447556495667],\"z\":[0.0,0.12068966031074524],\"type\":\"scatter3d\"},{\"mode\":\"lines\",\"x\":[0.0,1.0],\"y\":[0.0,0.43103447556495667],\"z\":[0.0,0.1551724076271057],\"type\":\"scatter3d\"},{\"mode\":\"lines\",\"x\":[0.0,1.0],\"y\":[0.0,0.43103447556495667],\"z\":[0.0,0.18965516984462738],\"type\":\"scatter3d\"},{\"mode\":\"lines\",\"x\":[0.0,1.0],\"y\":[0.0,0.43103447556495667],\"z\":[0.0,0.22413793206214905],\"type\":\"scatter3d\"},{\"mode\":\"lines\",\"x\":[0.0,1.0],\"y\":[0.0,0.43103447556495667],\"z\":[0.0,0.2586206793785095],\"type\":\"scatter3d\"},{\"mode\":\"lines\",\"x\":[0.0,1.0],\"y\":[0.0,0.43103447556495667],\"z\":[0.0,0.2931034564971924],\"type\":\"scatter3d\"},{\"mode\":\"lines\",\"x\":[0.0,1.0],\"y\":[0.0,0.43103447556495667],\"z\":[0.0,0.32758620381355286],\"type\":\"scatter3d\"},{\"mode\":\"lines\",\"x\":[0.0,1.0],\"y\":[0.0,0.43103447556495667],\"z\":[0.0,0.36206895112991333],\"type\":\"scatter3d\"},{\"mode\":\"lines\",\"x\":[0.0,1.0],\"y\":[0.0,0.43103447556495667],\"z\":[0.0,0.3965517282485962],\"type\":\"scatter3d\"},{\"mode\":\"lines\",\"x\":[0.0,1.0],\"y\":[0.0,0.43103447556495667],\"z\":[0.0,0.43103447556495667],\"type\":\"scatter3d\"},{\"mode\":\"lines\",\"x\":[0.0,1.0],\"y\":[0.0,0.43103447556495667],\"z\":[0.0,0.4655172526836395],\"type\":\"scatter3d\"},{\"mode\":\"lines\",\"x\":[0.0,1.0],\"y\":[0.0,0.43103447556495667],\"z\":[0.0,0.5],\"type\":\"scatter3d\"},{\"mode\":\"lines\",\"x\":[0.0,1.0],\"y\":[0.0,0.4655172526836395],\"z\":[0.0,-0.5],\"type\":\"scatter3d\"},{\"mode\":\"lines\",\"x\":[0.0,1.0],\"y\":[0.0,0.4655172526836395],\"z\":[0.0,-0.4655172526836395],\"type\":\"scatter3d\"},{\"mode\":\"lines\",\"x\":[0.0,1.0],\"y\":[0.0,0.4655172526836395],\"z\":[0.0,-0.43103447556495667],\"type\":\"scatter3d\"},{\"mode\":\"lines\",\"x\":[0.0,1.0],\"y\":[0.0,0.4655172526836395],\"z\":[0.0,-0.3965517282485962],\"type\":\"scatter3d\"},{\"mode\":\"lines\",\"x\":[0.0,1.0],\"y\":[0.0,0.4655172526836395],\"z\":[0.0,-0.36206895112991333],\"type\":\"scatter3d\"},{\"mode\":\"lines\",\"x\":[0.0,1.0],\"y\":[0.0,0.4655172526836395],\"z\":[0.0,-0.32758620381355286],\"type\":\"scatter3d\"},{\"mode\":\"lines\",\"x\":[0.0,1.0],\"y\":[0.0,0.4655172526836395],\"z\":[0.0,-0.2931034564971924],\"type\":\"scatter3d\"},{\"mode\":\"lines\",\"x\":[0.0,1.0],\"y\":[0.0,0.4655172526836395],\"z\":[0.0,-0.2586206793785095],\"type\":\"scatter3d\"},{\"mode\":\"lines\",\"x\":[0.0,1.0],\"y\":[0.0,0.4655172526836395],\"z\":[0.0,-0.22413793206214905],\"type\":\"scatter3d\"},{\"mode\":\"lines\",\"x\":[0.0,1.0],\"y\":[0.0,0.4655172526836395],\"z\":[0.0,-0.18965516984462738],\"type\":\"scatter3d\"},{\"mode\":\"lines\",\"x\":[0.0,1.0],\"y\":[0.0,0.4655172526836395],\"z\":[0.0,-0.1551724076271057],\"type\":\"scatter3d\"},{\"mode\":\"lines\",\"x\":[0.0,1.0],\"y\":[0.0,0.4655172526836395],\"z\":[0.0,-0.12068966031074524],\"type\":\"scatter3d\"},{\"mode\":\"lines\",\"x\":[0.0,1.0],\"y\":[0.0,0.4655172526836395],\"z\":[0.0,-0.08620689809322357],\"type\":\"scatter3d\"},{\"mode\":\"lines\",\"x\":[0.0,1.0],\"y\":[0.0,0.4655172526836395],\"z\":[0.0,-0.0517241396009922],\"type\":\"scatter3d\"},{\"mode\":\"lines\",\"x\":[0.0,1.0],\"y\":[0.0,0.4655172526836395],\"z\":[0.0,-0.017241381108760834],\"type\":\"scatter3d\"},{\"mode\":\"lines\",\"x\":[0.0,1.0],\"y\":[0.0,0.4655172526836395],\"z\":[0.0,0.017241381108760834],\"type\":\"scatter3d\"},{\"mode\":\"lines\",\"x\":[0.0,1.0],\"y\":[0.0,0.4655172526836395],\"z\":[0.0,0.0517241396009922],\"type\":\"scatter3d\"},{\"mode\":\"lines\",\"x\":[0.0,1.0],\"y\":[0.0,0.4655172526836395],\"z\":[0.0,0.08620689809322357],\"type\":\"scatter3d\"},{\"mode\":\"lines\",\"x\":[0.0,1.0],\"y\":[0.0,0.4655172526836395],\"z\":[0.0,0.12068966031074524],\"type\":\"scatter3d\"},{\"mode\":\"lines\",\"x\":[0.0,1.0],\"y\":[0.0,0.4655172526836395],\"z\":[0.0,0.1551724076271057],\"type\":\"scatter3d\"},{\"mode\":\"lines\",\"x\":[0.0,1.0],\"y\":[0.0,0.4655172526836395],\"z\":[0.0,0.18965516984462738],\"type\":\"scatter3d\"},{\"mode\":\"lines\",\"x\":[0.0,1.0],\"y\":[0.0,0.4655172526836395],\"z\":[0.0,0.22413793206214905],\"type\":\"scatter3d\"},{\"mode\":\"lines\",\"x\":[0.0,1.0],\"y\":[0.0,0.4655172526836395],\"z\":[0.0,0.2586206793785095],\"type\":\"scatter3d\"},{\"mode\":\"lines\",\"x\":[0.0,1.0],\"y\":[0.0,0.4655172526836395],\"z\":[0.0,0.2931034564971924],\"type\":\"scatter3d\"},{\"mode\":\"lines\",\"x\":[0.0,1.0],\"y\":[0.0,0.4655172526836395],\"z\":[0.0,0.32758620381355286],\"type\":\"scatter3d\"},{\"mode\":\"lines\",\"x\":[0.0,1.0],\"y\":[0.0,0.4655172526836395],\"z\":[0.0,0.36206895112991333],\"type\":\"scatter3d\"},{\"mode\":\"lines\",\"x\":[0.0,1.0],\"y\":[0.0,0.4655172526836395],\"z\":[0.0,0.3965517282485962],\"type\":\"scatter3d\"},{\"mode\":\"lines\",\"x\":[0.0,1.0],\"y\":[0.0,0.4655172526836395],\"z\":[0.0,0.43103447556495667],\"type\":\"scatter3d\"},{\"mode\":\"lines\",\"x\":[0.0,1.0],\"y\":[0.0,0.4655172526836395],\"z\":[0.0,0.4655172526836395],\"type\":\"scatter3d\"},{\"mode\":\"lines\",\"x\":[0.0,1.0],\"y\":[0.0,0.4655172526836395],\"z\":[0.0,0.5],\"type\":\"scatter3d\"},{\"mode\":\"lines\",\"x\":[0.0,1.0],\"y\":[0.0,0.5],\"z\":[0.0,-0.5],\"type\":\"scatter3d\"},{\"mode\":\"lines\",\"x\":[0.0,1.0],\"y\":[0.0,0.5],\"z\":[0.0,-0.4655172526836395],\"type\":\"scatter3d\"},{\"mode\":\"lines\",\"x\":[0.0,1.0],\"y\":[0.0,0.5],\"z\":[0.0,-0.43103447556495667],\"type\":\"scatter3d\"},{\"mode\":\"lines\",\"x\":[0.0,1.0],\"y\":[0.0,0.5],\"z\":[0.0,-0.3965517282485962],\"type\":\"scatter3d\"},{\"mode\":\"lines\",\"x\":[0.0,1.0],\"y\":[0.0,0.5],\"z\":[0.0,-0.36206895112991333],\"type\":\"scatter3d\"},{\"mode\":\"lines\",\"x\":[0.0,1.0],\"y\":[0.0,0.5],\"z\":[0.0,-0.32758620381355286],\"type\":\"scatter3d\"},{\"mode\":\"lines\",\"x\":[0.0,1.0],\"y\":[0.0,0.5],\"z\":[0.0,-0.2931034564971924],\"type\":\"scatter3d\"},{\"mode\":\"lines\",\"x\":[0.0,1.0],\"y\":[0.0,0.5],\"z\":[0.0,-0.2586206793785095],\"type\":\"scatter3d\"},{\"mode\":\"lines\",\"x\":[0.0,1.0],\"y\":[0.0,0.5],\"z\":[0.0,-0.22413793206214905],\"type\":\"scatter3d\"},{\"mode\":\"lines\",\"x\":[0.0,1.0],\"y\":[0.0,0.5],\"z\":[0.0,-0.18965516984462738],\"type\":\"scatter3d\"},{\"mode\":\"lines\",\"x\":[0.0,1.0],\"y\":[0.0,0.5],\"z\":[0.0,-0.1551724076271057],\"type\":\"scatter3d\"},{\"mode\":\"lines\",\"x\":[0.0,1.0],\"y\":[0.0,0.5],\"z\":[0.0,-0.12068966031074524],\"type\":\"scatter3d\"},{\"mode\":\"lines\",\"x\":[0.0,1.0],\"y\":[0.0,0.5],\"z\":[0.0,-0.08620689809322357],\"type\":\"scatter3d\"},{\"mode\":\"lines\",\"x\":[0.0,1.0],\"y\":[0.0,0.5],\"z\":[0.0,-0.0517241396009922],\"type\":\"scatter3d\"},{\"mode\":\"lines\",\"x\":[0.0,1.0],\"y\":[0.0,0.5],\"z\":[0.0,-0.017241381108760834],\"type\":\"scatter3d\"},{\"mode\":\"lines\",\"x\":[0.0,1.0],\"y\":[0.0,0.5],\"z\":[0.0,0.017241381108760834],\"type\":\"scatter3d\"},{\"mode\":\"lines\",\"x\":[0.0,1.0],\"y\":[0.0,0.5],\"z\":[0.0,0.0517241396009922],\"type\":\"scatter3d\"},{\"mode\":\"lines\",\"x\":[0.0,1.0],\"y\":[0.0,0.5],\"z\":[0.0,0.08620689809322357],\"type\":\"scatter3d\"},{\"mode\":\"lines\",\"x\":[0.0,1.0],\"y\":[0.0,0.5],\"z\":[0.0,0.12068966031074524],\"type\":\"scatter3d\"},{\"mode\":\"lines\",\"x\":[0.0,1.0],\"y\":[0.0,0.5],\"z\":[0.0,0.1551724076271057],\"type\":\"scatter3d\"},{\"mode\":\"lines\",\"x\":[0.0,1.0],\"y\":[0.0,0.5],\"z\":[0.0,0.18965516984462738],\"type\":\"scatter3d\"},{\"mode\":\"lines\",\"x\":[0.0,1.0],\"y\":[0.0,0.5],\"z\":[0.0,0.22413793206214905],\"type\":\"scatter3d\"},{\"mode\":\"lines\",\"x\":[0.0,1.0],\"y\":[0.0,0.5],\"z\":[0.0,0.2586206793785095],\"type\":\"scatter3d\"},{\"mode\":\"lines\",\"x\":[0.0,1.0],\"y\":[0.0,0.5],\"z\":[0.0,0.2931034564971924],\"type\":\"scatter3d\"},{\"mode\":\"lines\",\"x\":[0.0,1.0],\"y\":[0.0,0.5],\"z\":[0.0,0.32758620381355286],\"type\":\"scatter3d\"},{\"mode\":\"lines\",\"x\":[0.0,1.0],\"y\":[0.0,0.5],\"z\":[0.0,0.36206895112991333],\"type\":\"scatter3d\"},{\"mode\":\"lines\",\"x\":[0.0,1.0],\"y\":[0.0,0.5],\"z\":[0.0,0.3965517282485962],\"type\":\"scatter3d\"},{\"mode\":\"lines\",\"x\":[0.0,1.0],\"y\":[0.0,0.5],\"z\":[0.0,0.43103447556495667],\"type\":\"scatter3d\"},{\"mode\":\"lines\",\"x\":[0.0,1.0],\"y\":[0.0,0.5],\"z\":[0.0,0.4655172526836395],\"type\":\"scatter3d\"},{\"mode\":\"lines\",\"x\":[0.0,1.0],\"y\":[0.0,0.5],\"z\":[0.0,0.5],\"type\":\"scatter3d\"},{\"line\":{\"color\":\"black\",\"width\":5},\"mode\":\"lines\",\"x\":[1.0,1.0],\"y\":[0.0,-0.5],\"z\":[-0.5,0.0],\"type\":\"scatter3d\"},{\"line\":{\"color\":\"black\",\"width\":5},\"mode\":\"lines\",\"x\":[1.0,1.0],\"y\":[0.5,0.0],\"z\":[0.5,-0.5],\"type\":\"scatter3d\"},{\"line\":{\"color\":\"black\",\"width\":5},\"mode\":\"lines\",\"x\":[1.0,1.0],\"y\":[-0.5,0.5],\"z\":[0.0,0.5],\"type\":\"scatter3d\"}],                        {\"height\":600,\"showlegend\":false,\"title\":{\"text\":\"3D rays\"},\"width\":600,\"template\":{\"data\":{\"histogram2dcontour\":[{\"type\":\"histogram2dcontour\",\"colorbar\":{\"outlinewidth\":0,\"ticks\":\"\"},\"colorscale\":[[0.0,\"#0d0887\"],[0.1111111111111111,\"#46039f\"],[0.2222222222222222,\"#7201a8\"],[0.3333333333333333,\"#9c179e\"],[0.4444444444444444,\"#bd3786\"],[0.5555555555555556,\"#d8576b\"],[0.6666666666666666,\"#ed7953\"],[0.7777777777777778,\"#fb9f3a\"],[0.8888888888888888,\"#fdca26\"],[1.0,\"#f0f921\"]]}],\"choropleth\":[{\"type\":\"choropleth\",\"colorbar\":{\"outlinewidth\":0,\"ticks\":\"\"}}],\"histogram2d\":[{\"type\":\"histogram2d\",\"colorbar\":{\"outlinewidth\":0,\"ticks\":\"\"},\"colorscale\":[[0.0,\"#0d0887\"],[0.1111111111111111,\"#46039f\"],[0.2222222222222222,\"#7201a8\"],[0.3333333333333333,\"#9c179e\"],[0.4444444444444444,\"#bd3786\"],[0.5555555555555556,\"#d8576b\"],[0.6666666666666666,\"#ed7953\"],[0.7777777777777778,\"#fb9f3a\"],[0.8888888888888888,\"#fdca26\"],[1.0,\"#f0f921\"]]}],\"heatmap\":[{\"type\":\"heatmap\",\"colorbar\":{\"outlinewidth\":0,\"ticks\":\"\"},\"colorscale\":[[0.0,\"#0d0887\"],[0.1111111111111111,\"#46039f\"],[0.2222222222222222,\"#7201a8\"],[0.3333333333333333,\"#9c179e\"],[0.4444444444444444,\"#bd3786\"],[0.5555555555555556,\"#d8576b\"],[0.6666666666666666,\"#ed7953\"],[0.7777777777777778,\"#fb9f3a\"],[0.8888888888888888,\"#fdca26\"],[1.0,\"#f0f921\"]]}],\"heatmapgl\":[{\"type\":\"heatmapgl\",\"colorbar\":{\"outlinewidth\":0,\"ticks\":\"\"},\"colorscale\":[[0.0,\"#0d0887\"],[0.1111111111111111,\"#46039f\"],[0.2222222222222222,\"#7201a8\"],[0.3333333333333333,\"#9c179e\"],[0.4444444444444444,\"#bd3786\"],[0.5555555555555556,\"#d8576b\"],[0.6666666666666666,\"#ed7953\"],[0.7777777777777778,\"#fb9f3a\"],[0.8888888888888888,\"#fdca26\"],[1.0,\"#f0f921\"]]}],\"contourcarpet\":[{\"type\":\"contourcarpet\",\"colorbar\":{\"outlinewidth\":0,\"ticks\":\"\"}}],\"contour\":[{\"type\":\"contour\",\"colorbar\":{\"outlinewidth\":0,\"ticks\":\"\"},\"colorscale\":[[0.0,\"#0d0887\"],[0.1111111111111111,\"#46039f\"],[0.2222222222222222,\"#7201a8\"],[0.3333333333333333,\"#9c179e\"],[0.4444444444444444,\"#bd3786\"],[0.5555555555555556,\"#d8576b\"],[0.6666666666666666,\"#ed7953\"],[0.7777777777777778,\"#fb9f3a\"],[0.8888888888888888,\"#fdca26\"],[1.0,\"#f0f921\"]]}],\"surface\":[{\"type\":\"surface\",\"colorbar\":{\"outlinewidth\":0,\"ticks\":\"\"},\"colorscale\":[[0.0,\"#0d0887\"],[0.1111111111111111,\"#46039f\"],[0.2222222222222222,\"#7201a8\"],[0.3333333333333333,\"#9c179e\"],[0.4444444444444444,\"#bd3786\"],[0.5555555555555556,\"#d8576b\"],[0.6666666666666666,\"#ed7953\"],[0.7777777777777778,\"#fb9f3a\"],[0.8888888888888888,\"#fdca26\"],[1.0,\"#f0f921\"]]}],\"mesh3d\":[{\"type\":\"mesh3d\",\"colorbar\":{\"outlinewidth\":0,\"ticks\":\"\"}}],\"scatter\":[{\"fillpattern\":{\"fillmode\":\"overlay\",\"size\":10,\"solidity\":0.2},\"type\":\"scatter\"}],\"parcoords\":[{\"type\":\"parcoords\",\"line\":{\"colorbar\":{\"outlinewidth\":0,\"ticks\":\"\"}}}],\"scatterpolargl\":[{\"type\":\"scatterpolargl\",\"marker\":{\"colorbar\":{\"outlinewidth\":0,\"ticks\":\"\"}}}],\"bar\":[{\"error_x\":{\"color\":\"#2a3f5f\"},\"error_y\":{\"color\":\"#2a3f5f\"},\"marker\":{\"line\":{\"color\":\"#E5ECF6\",\"width\":0.5},\"pattern\":{\"fillmode\":\"overlay\",\"size\":10,\"solidity\":0.2}},\"type\":\"bar\"}],\"scattergeo\":[{\"type\":\"scattergeo\",\"marker\":{\"colorbar\":{\"outlinewidth\":0,\"ticks\":\"\"}}}],\"scatterpolar\":[{\"type\":\"scatterpolar\",\"marker\":{\"colorbar\":{\"outlinewidth\":0,\"ticks\":\"\"}}}],\"histogram\":[{\"marker\":{\"pattern\":{\"fillmode\":\"overlay\",\"size\":10,\"solidity\":0.2}},\"type\":\"histogram\"}],\"scattergl\":[{\"type\":\"scattergl\",\"marker\":{\"colorbar\":{\"outlinewidth\":0,\"ticks\":\"\"}}}],\"scatter3d\":[{\"type\":\"scatter3d\",\"line\":{\"colorbar\":{\"outlinewidth\":0,\"ticks\":\"\"}},\"marker\":{\"colorbar\":{\"outlinewidth\":0,\"ticks\":\"\"}}}],\"scattermapbox\":[{\"type\":\"scattermapbox\",\"marker\":{\"colorbar\":{\"outlinewidth\":0,\"ticks\":\"\"}}}],\"scatterternary\":[{\"type\":\"scatterternary\",\"marker\":{\"colorbar\":{\"outlinewidth\":0,\"ticks\":\"\"}}}],\"scattercarpet\":[{\"type\":\"scattercarpet\",\"marker\":{\"colorbar\":{\"outlinewidth\":0,\"ticks\":\"\"}}}],\"carpet\":[{\"aaxis\":{\"endlinecolor\":\"#2a3f5f\",\"gridcolor\":\"white\",\"linecolor\":\"white\",\"minorgridcolor\":\"white\",\"startlinecolor\":\"#2a3f5f\"},\"baxis\":{\"endlinecolor\":\"#2a3f5f\",\"gridcolor\":\"white\",\"linecolor\":\"white\",\"minorgridcolor\":\"white\",\"startlinecolor\":\"#2a3f5f\"},\"type\":\"carpet\"}],\"table\":[{\"cells\":{\"fill\":{\"color\":\"#EBF0F8\"},\"line\":{\"color\":\"white\"}},\"header\":{\"fill\":{\"color\":\"#C8D4E3\"},\"line\":{\"color\":\"white\"}},\"type\":\"table\"}],\"barpolar\":[{\"marker\":{\"line\":{\"color\":\"#E5ECF6\",\"width\":0.5},\"pattern\":{\"fillmode\":\"overlay\",\"size\":10,\"solidity\":0.2}},\"type\":\"barpolar\"}],\"pie\":[{\"automargin\":true,\"type\":\"pie\"}]},\"layout\":{\"autotypenumbers\":\"strict\",\"colorway\":[\"#636efa\",\"#EF553B\",\"#00cc96\",\"#ab63fa\",\"#FFA15A\",\"#19d3f3\",\"#FF6692\",\"#B6E880\",\"#FF97FF\",\"#FECB52\"],\"font\":{\"color\":\"#2a3f5f\"},\"hovermode\":\"closest\",\"hoverlabel\":{\"align\":\"left\"},\"paper_bgcolor\":\"white\",\"plot_bgcolor\":\"#E5ECF6\",\"polar\":{\"bgcolor\":\"#E5ECF6\",\"angularaxis\":{\"gridcolor\":\"white\",\"linecolor\":\"white\",\"ticks\":\"\"},\"radialaxis\":{\"gridcolor\":\"white\",\"linecolor\":\"white\",\"ticks\":\"\"}},\"ternary\":{\"bgcolor\":\"#E5ECF6\",\"aaxis\":{\"gridcolor\":\"white\",\"linecolor\":\"white\",\"ticks\":\"\"},\"baxis\":{\"gridcolor\":\"white\",\"linecolor\":\"white\",\"ticks\":\"\"},\"caxis\":{\"gridcolor\":\"white\",\"linecolor\":\"white\",\"ticks\":\"\"}},\"coloraxis\":{\"colorbar\":{\"outlinewidth\":0,\"ticks\":\"\"}},\"colorscale\":{\"sequential\":[[0.0,\"#0d0887\"],[0.1111111111111111,\"#46039f\"],[0.2222222222222222,\"#7201a8\"],[0.3333333333333333,\"#9c179e\"],[0.4444444444444444,\"#bd3786\"],[0.5555555555555556,\"#d8576b\"],[0.6666666666666666,\"#ed7953\"],[0.7777777777777778,\"#fb9f3a\"],[0.8888888888888888,\"#fdca26\"],[1.0,\"#f0f921\"]],\"sequentialminus\":[[0.0,\"#0d0887\"],[0.1111111111111111,\"#46039f\"],[0.2222222222222222,\"#7201a8\"],[0.3333333333333333,\"#9c179e\"],[0.4444444444444444,\"#bd3786\"],[0.5555555555555556,\"#d8576b\"],[0.6666666666666666,\"#ed7953\"],[0.7777777777777778,\"#fb9f3a\"],[0.8888888888888888,\"#fdca26\"],[1.0,\"#f0f921\"]],\"diverging\":[[0,\"#8e0152\"],[0.1,\"#c51b7d\"],[0.2,\"#de77ae\"],[0.3,\"#f1b6da\"],[0.4,\"#fde0ef\"],[0.5,\"#f7f7f7\"],[0.6,\"#e6f5d0\"],[0.7,\"#b8e186\"],[0.8,\"#7fbc41\"],[0.9,\"#4d9221\"],[1,\"#276419\"]]},\"xaxis\":{\"gridcolor\":\"white\",\"linecolor\":\"white\",\"ticks\":\"\",\"title\":{\"standoff\":15},\"zerolinecolor\":\"white\",\"automargin\":true,\"zerolinewidth\":2},\"yaxis\":{\"gridcolor\":\"white\",\"linecolor\":\"white\",\"ticks\":\"\",\"title\":{\"standoff\":15},\"zerolinecolor\":\"white\",\"automargin\":true,\"zerolinewidth\":2},\"scene\":{\"xaxis\":{\"backgroundcolor\":\"#E5ECF6\",\"gridcolor\":\"white\",\"linecolor\":\"white\",\"showbackground\":true,\"ticks\":\"\",\"zerolinecolor\":\"white\",\"gridwidth\":2},\"yaxis\":{\"backgroundcolor\":\"#E5ECF6\",\"gridcolor\":\"white\",\"linecolor\":\"white\",\"showbackground\":true,\"ticks\":\"\",\"zerolinecolor\":\"white\",\"gridwidth\":2},\"zaxis\":{\"backgroundcolor\":\"#E5ECF6\",\"gridcolor\":\"white\",\"linecolor\":\"white\",\"showbackground\":true,\"ticks\":\"\",\"zerolinecolor\":\"white\",\"gridwidth\":2}},\"shapedefaults\":{\"line\":{\"color\":\"#2a3f5f\"}},\"annotationdefaults\":{\"arrowcolor\":\"#2a3f5f\",\"arrowhead\":0,\"arrowwidth\":1},\"geo\":{\"bgcolor\":\"white\",\"landcolor\":\"#E5ECF6\",\"subunitcolor\":\"white\",\"showland\":true,\"showlakes\":true,\"lakecolor\":\"white\"},\"title\":{\"x\":0.05},\"mapbox\":{\"style\":\"light\"}}}},                        {\"responsive\": true}                    ).then(function(){\n",
              "                            \n",
              "var gd = document.getElementById('ef26d18c-64a7-4137-9a9d-9564462bb668');\n",
              "var x = new MutationObserver(function (mutations, observer) {{\n",
              "        var display = window.getComputedStyle(gd).display;\n",
              "        if (!display || display === 'none') {{\n",
              "            console.log([gd, 'removed!']);\n",
              "            Plotly.purge(gd);\n",
              "            observer.disconnect();\n",
              "        }}\n",
              "}});\n",
              "\n",
              "// Listen for the removal of the full notebook cells\n",
              "var notebookContainer = gd.closest('#notebook-container');\n",
              "if (notebookContainer) {{\n",
              "    x.observe(notebookContainer, {childList: true});\n",
              "}}\n",
              "\n",
              "// Listen for the clearing of the current output cell\n",
              "var outputEl = gd.closest('.output');\n",
              "if (outputEl) {{\n",
              "    x.observe(outputEl, {childList: true});\n",
              "}}\n",
              "\n",
              "                        })                };                            </script>        </div>\n",
              "</body>\n",
              "</html>"
            ]
          },
          "metadata": {}
        },
        {
          "output_type": "display_data",
          "data": {
            "text/html": [
              "<html>\n",
              "<head><meta charset=\"utf-8\" /></head>\n",
              "<body>\n",
              "    <div>            <script src=\"https://cdnjs.cloudflare.com/ajax/libs/mathjax/2.7.5/MathJax.js?config=TeX-AMS-MML_SVG\"></script><script type=\"text/javascript\">if (window.MathJax && window.MathJax.Hub && window.MathJax.Hub.Config) {window.MathJax.Hub.Config({SVG: {font: \"STIX-Web\"}});}</script>                <script type=\"text/javascript\">window.PlotlyConfig = {MathJaxConfig: 'local'};</script>\n",
              "        <script charset=\"utf-8\" src=\"https://cdn.plot.ly/plotly-2.24.1.min.js\"></script>                <div id=\"ac5cf7c7-fcf4-4281-93db-c9fe40f27ae7\" class=\"plotly-graph-div\" style=\"height:525px; width:600px;\"></div>            <script type=\"text/javascript\">                                    window.PLOTLYENV=window.PLOTLYENV || {};                                    if (document.getElementById(\"ac5cf7c7-fcf4-4281-93db-c9fe40f27ae7\")) {                    Plotly.newPlot(                        \"ac5cf7c7-fcf4-4281-93db-c9fe40f27ae7\",                        [{\"coloraxis\":\"coloraxis\",\"name\":\"0\",\"z\":[[0,0,0,0,0,0,0,0,0,0,0,0,0,0,0,0,0,0,0,0,0,0,0,0,0,0,0,0,0,0],[0,0,0,0,0,0,0,0,0,0,0,0,0,0,1,1,0,0,0,0,0,0,0,0,0,0,0,0,0,0],[0,0,0,0,0,0,0,0,0,0,0,0,0,1,1,1,0,0,0,0,0,0,0,0,0,0,0,0,0,0],[0,0,0,0,0,0,0,0,0,0,0,0,1,1,1,1,1,0,0,0,0,0,0,0,0,0,0,0,0,0],[0,0,0,0,0,0,0,0,0,0,0,1,1,1,1,1,1,0,0,0,0,0,0,0,0,0,0,0,0,0],[0,0,0,0,0,0,0,0,0,0,1,1,1,1,1,1,1,1,0,0,0,0,0,0,0,0,0,0,0,0],[0,0,0,0,0,0,0,0,0,1,1,1,1,1,1,1,1,1,0,0,0,0,0,0,0,0,0,0,0,0],[0,0,0,0,0,0,0,0,1,1,1,1,1,1,1,1,1,1,1,0,0,0,0,0,0,0,0,0,0,0],[0,0,0,0,0,0,0,1,1,1,1,1,1,1,1,1,1,1,1,0,0,0,0,0,0,0,0,0,0,0],[0,0,0,0,0,0,1,1,1,1,1,1,1,1,1,1,1,1,1,1,0,0,0,0,0,0,0,0,0,0],[0,0,0,0,0,1,1,1,1,1,1,1,1,1,1,1,1,1,1,1,0,0,0,0,0,0,0,0,0,0],[0,0,0,0,1,1,1,1,1,1,1,1,1,1,1,1,1,1,1,1,1,0,0,0,0,0,0,0,0,0],[0,0,0,1,1,1,1,1,1,1,1,1,1,1,1,1,1,1,1,1,1,0,0,0,0,0,0,0,0,0],[0,0,1,1,1,1,1,1,1,1,1,1,1,1,1,1,1,1,1,1,1,1,0,0,0,0,0,0,0,0],[0,1,1,1,1,1,1,1,1,1,1,1,1,1,1,1,1,1,1,1,1,1,0,0,0,0,0,0,0,0],[0,0,1,1,1,1,1,1,1,1,1,1,1,1,1,1,1,1,1,1,1,1,1,0,0,0,0,0,0,0],[0,0,0,0,1,1,1,1,1,1,1,1,1,1,1,1,1,1,1,1,1,1,1,0,0,0,0,0,0,0],[0,0,0,0,0,0,1,1,1,1,1,1,1,1,1,1,1,1,1,1,1,1,1,1,0,0,0,0,0,0],[0,0,0,0,0,0,0,1,1,1,1,1,1,1,1,1,1,1,1,1,1,1,1,1,0,0,0,0,0,0],[0,0,0,0,0,0,0,0,0,1,1,1,1,1,1,1,1,1,1,1,1,1,1,1,1,0,0,0,0,0],[0,0,0,0,0,0,0,0,0,0,0,1,1,1,1,1,1,1,1,1,1,1,1,1,1,0,0,0,0,0],[0,0,0,0,0,0,0,0,0,0,0,0,0,1,1,1,1,1,1,1,1,1,1,1,1,1,0,0,0,0],[0,0,0,0,0,0,0,0,0,0,0,0,0,0,0,1,1,1,1,1,1,1,1,1,1,1,0,0,0,0],[0,0,0,0,0,0,0,0,0,0,0,0,0,0,0,0,0,1,1,1,1,1,1,1,1,1,1,0,0,0],[0,0,0,0,0,0,0,0,0,0,0,0,0,0,0,0,0,0,0,1,1,1,1,1,1,1,1,0,0,0],[0,0,0,0,0,0,0,0,0,0,0,0,0,0,0,0,0,0,0,0,0,1,1,1,1,1,1,1,0,0],[0,0,0,0,0,0,0,0,0,0,0,0,0,0,0,0,0,0,0,0,0,0,0,1,1,1,1,1,0,0],[0,0,0,0,0,0,0,0,0,0,0,0,0,0,0,0,0,0,0,0,0,0,0,0,0,1,1,1,1,0],[0,0,0,0,0,0,0,0,0,0,0,0,0,0,0,0,0,0,0,0,0,0,0,0,0,0,0,1,1,0],[0,0,0,0,0,0,0,0,0,0,0,0,0,0,0,0,0,0,0,0,0,0,0,0,0,0,0,0,0,1]],\"type\":\"heatmap\",\"xaxis\":\"x\",\"yaxis\":\"y\",\"hovertemplate\":\"x: %{x}\\u003cbr\\u003ey: %{y}\\u003cbr\\u003ecolor: %{z}\\u003cextra\\u003e\\u003c\\u002fextra\\u003e\"}],                        {\"template\":{\"data\":{\"histogram2dcontour\":[{\"type\":\"histogram2dcontour\",\"colorbar\":{\"outlinewidth\":0,\"ticks\":\"\"},\"colorscale\":[[0.0,\"#0d0887\"],[0.1111111111111111,\"#46039f\"],[0.2222222222222222,\"#7201a8\"],[0.3333333333333333,\"#9c179e\"],[0.4444444444444444,\"#bd3786\"],[0.5555555555555556,\"#d8576b\"],[0.6666666666666666,\"#ed7953\"],[0.7777777777777778,\"#fb9f3a\"],[0.8888888888888888,\"#fdca26\"],[1.0,\"#f0f921\"]]}],\"choropleth\":[{\"type\":\"choropleth\",\"colorbar\":{\"outlinewidth\":0,\"ticks\":\"\"}}],\"histogram2d\":[{\"type\":\"histogram2d\",\"colorbar\":{\"outlinewidth\":0,\"ticks\":\"\"},\"colorscale\":[[0.0,\"#0d0887\"],[0.1111111111111111,\"#46039f\"],[0.2222222222222222,\"#7201a8\"],[0.3333333333333333,\"#9c179e\"],[0.4444444444444444,\"#bd3786\"],[0.5555555555555556,\"#d8576b\"],[0.6666666666666666,\"#ed7953\"],[0.7777777777777778,\"#fb9f3a\"],[0.8888888888888888,\"#fdca26\"],[1.0,\"#f0f921\"]]}],\"heatmap\":[{\"type\":\"heatmap\",\"colorbar\":{\"outlinewidth\":0,\"ticks\":\"\"},\"colorscale\":[[0.0,\"#0d0887\"],[0.1111111111111111,\"#46039f\"],[0.2222222222222222,\"#7201a8\"],[0.3333333333333333,\"#9c179e\"],[0.4444444444444444,\"#bd3786\"],[0.5555555555555556,\"#d8576b\"],[0.6666666666666666,\"#ed7953\"],[0.7777777777777778,\"#fb9f3a\"],[0.8888888888888888,\"#fdca26\"],[1.0,\"#f0f921\"]]}],\"heatmapgl\":[{\"type\":\"heatmapgl\",\"colorbar\":{\"outlinewidth\":0,\"ticks\":\"\"},\"colorscale\":[[0.0,\"#0d0887\"],[0.1111111111111111,\"#46039f\"],[0.2222222222222222,\"#7201a8\"],[0.3333333333333333,\"#9c179e\"],[0.4444444444444444,\"#bd3786\"],[0.5555555555555556,\"#d8576b\"],[0.6666666666666666,\"#ed7953\"],[0.7777777777777778,\"#fb9f3a\"],[0.8888888888888888,\"#fdca26\"],[1.0,\"#f0f921\"]]}],\"contourcarpet\":[{\"type\":\"contourcarpet\",\"colorbar\":{\"outlinewidth\":0,\"ticks\":\"\"}}],\"contour\":[{\"type\":\"contour\",\"colorbar\":{\"outlinewidth\":0,\"ticks\":\"\"},\"colorscale\":[[0.0,\"#0d0887\"],[0.1111111111111111,\"#46039f\"],[0.2222222222222222,\"#7201a8\"],[0.3333333333333333,\"#9c179e\"],[0.4444444444444444,\"#bd3786\"],[0.5555555555555556,\"#d8576b\"],[0.6666666666666666,\"#ed7953\"],[0.7777777777777778,\"#fb9f3a\"],[0.8888888888888888,\"#fdca26\"],[1.0,\"#f0f921\"]]}],\"surface\":[{\"type\":\"surface\",\"colorbar\":{\"outlinewidth\":0,\"ticks\":\"\"},\"colorscale\":[[0.0,\"#0d0887\"],[0.1111111111111111,\"#46039f\"],[0.2222222222222222,\"#7201a8\"],[0.3333333333333333,\"#9c179e\"],[0.4444444444444444,\"#bd3786\"],[0.5555555555555556,\"#d8576b\"],[0.6666666666666666,\"#ed7953\"],[0.7777777777777778,\"#fb9f3a\"],[0.8888888888888888,\"#fdca26\"],[1.0,\"#f0f921\"]]}],\"mesh3d\":[{\"type\":\"mesh3d\",\"colorbar\":{\"outlinewidth\":0,\"ticks\":\"\"}}],\"scatter\":[{\"fillpattern\":{\"fillmode\":\"overlay\",\"size\":10,\"solidity\":0.2},\"type\":\"scatter\"}],\"parcoords\":[{\"type\":\"parcoords\",\"line\":{\"colorbar\":{\"outlinewidth\":0,\"ticks\":\"\"}}}],\"scatterpolargl\":[{\"type\":\"scatterpolargl\",\"marker\":{\"colorbar\":{\"outlinewidth\":0,\"ticks\":\"\"}}}],\"bar\":[{\"error_x\":{\"color\":\"#2a3f5f\"},\"error_y\":{\"color\":\"#2a3f5f\"},\"marker\":{\"line\":{\"color\":\"#E5ECF6\",\"width\":0.5},\"pattern\":{\"fillmode\":\"overlay\",\"size\":10,\"solidity\":0.2}},\"type\":\"bar\"}],\"scattergeo\":[{\"type\":\"scattergeo\",\"marker\":{\"colorbar\":{\"outlinewidth\":0,\"ticks\":\"\"}}}],\"scatterpolar\":[{\"type\":\"scatterpolar\",\"marker\":{\"colorbar\":{\"outlinewidth\":0,\"ticks\":\"\"}}}],\"histogram\":[{\"marker\":{\"pattern\":{\"fillmode\":\"overlay\",\"size\":10,\"solidity\":0.2}},\"type\":\"histogram\"}],\"scattergl\":[{\"type\":\"scattergl\",\"marker\":{\"colorbar\":{\"outlinewidth\":0,\"ticks\":\"\"}}}],\"scatter3d\":[{\"type\":\"scatter3d\",\"line\":{\"colorbar\":{\"outlinewidth\":0,\"ticks\":\"\"}},\"marker\":{\"colorbar\":{\"outlinewidth\":0,\"ticks\":\"\"}}}],\"scattermapbox\":[{\"type\":\"scattermapbox\",\"marker\":{\"colorbar\":{\"outlinewidth\":0,\"ticks\":\"\"}}}],\"scatterternary\":[{\"type\":\"scatterternary\",\"marker\":{\"colorbar\":{\"outlinewidth\":0,\"ticks\":\"\"}}}],\"scattercarpet\":[{\"type\":\"scattercarpet\",\"marker\":{\"colorbar\":{\"outlinewidth\":0,\"ticks\":\"\"}}}],\"carpet\":[{\"aaxis\":{\"endlinecolor\":\"#2a3f5f\",\"gridcolor\":\"white\",\"linecolor\":\"white\",\"minorgridcolor\":\"white\",\"startlinecolor\":\"#2a3f5f\"},\"baxis\":{\"endlinecolor\":\"#2a3f5f\",\"gridcolor\":\"white\",\"linecolor\":\"white\",\"minorgridcolor\":\"white\",\"startlinecolor\":\"#2a3f5f\"},\"type\":\"carpet\"}],\"table\":[{\"cells\":{\"fill\":{\"color\":\"#EBF0F8\"},\"line\":{\"color\":\"white\"}},\"header\":{\"fill\":{\"color\":\"#C8D4E3\"},\"line\":{\"color\":\"white\"}},\"type\":\"table\"}],\"barpolar\":[{\"marker\":{\"line\":{\"color\":\"#E5ECF6\",\"width\":0.5},\"pattern\":{\"fillmode\":\"overlay\",\"size\":10,\"solidity\":0.2}},\"type\":\"barpolar\"}],\"pie\":[{\"automargin\":true,\"type\":\"pie\"}]},\"layout\":{\"autotypenumbers\":\"strict\",\"colorway\":[\"#636efa\",\"#EF553B\",\"#00cc96\",\"#ab63fa\",\"#FFA15A\",\"#19d3f3\",\"#FF6692\",\"#B6E880\",\"#FF97FF\",\"#FECB52\"],\"font\":{\"color\":\"#2a3f5f\"},\"hovermode\":\"closest\",\"hoverlabel\":{\"align\":\"left\"},\"paper_bgcolor\":\"white\",\"plot_bgcolor\":\"#E5ECF6\",\"polar\":{\"bgcolor\":\"#E5ECF6\",\"angularaxis\":{\"gridcolor\":\"white\",\"linecolor\":\"white\",\"ticks\":\"\"},\"radialaxis\":{\"gridcolor\":\"white\",\"linecolor\":\"white\",\"ticks\":\"\"}},\"ternary\":{\"bgcolor\":\"#E5ECF6\",\"aaxis\":{\"gridcolor\":\"white\",\"linecolor\":\"white\",\"ticks\":\"\"},\"baxis\":{\"gridcolor\":\"white\",\"linecolor\":\"white\",\"ticks\":\"\"},\"caxis\":{\"gridcolor\":\"white\",\"linecolor\":\"white\",\"ticks\":\"\"}},\"coloraxis\":{\"colorbar\":{\"outlinewidth\":0,\"ticks\":\"\"}},\"colorscale\":{\"sequential\":[[0.0,\"#0d0887\"],[0.1111111111111111,\"#46039f\"],[0.2222222222222222,\"#7201a8\"],[0.3333333333333333,\"#9c179e\"],[0.4444444444444444,\"#bd3786\"],[0.5555555555555556,\"#d8576b\"],[0.6666666666666666,\"#ed7953\"],[0.7777777777777778,\"#fb9f3a\"],[0.8888888888888888,\"#fdca26\"],[1.0,\"#f0f921\"]],\"sequentialminus\":[[0.0,\"#0d0887\"],[0.1111111111111111,\"#46039f\"],[0.2222222222222222,\"#7201a8\"],[0.3333333333333333,\"#9c179e\"],[0.4444444444444444,\"#bd3786\"],[0.5555555555555556,\"#d8576b\"],[0.6666666666666666,\"#ed7953\"],[0.7777777777777778,\"#fb9f3a\"],[0.8888888888888888,\"#fdca26\"],[1.0,\"#f0f921\"]],\"diverging\":[[0,\"#8e0152\"],[0.1,\"#c51b7d\"],[0.2,\"#de77ae\"],[0.3,\"#f1b6da\"],[0.4,\"#fde0ef\"],[0.5,\"#f7f7f7\"],[0.6,\"#e6f5d0\"],[0.7,\"#b8e186\"],[0.8,\"#7fbc41\"],[0.9,\"#4d9221\"],[1,\"#276419\"]]},\"xaxis\":{\"gridcolor\":\"white\",\"linecolor\":\"white\",\"ticks\":\"\",\"title\":{\"standoff\":15},\"zerolinecolor\":\"white\",\"automargin\":true,\"zerolinewidth\":2},\"yaxis\":{\"gridcolor\":\"white\",\"linecolor\":\"white\",\"ticks\":\"\",\"title\":{\"standoff\":15},\"zerolinecolor\":\"white\",\"automargin\":true,\"zerolinewidth\":2},\"scene\":{\"xaxis\":{\"backgroundcolor\":\"#E5ECF6\",\"gridcolor\":\"white\",\"linecolor\":\"white\",\"showbackground\":true,\"ticks\":\"\",\"zerolinecolor\":\"white\",\"gridwidth\":2},\"yaxis\":{\"backgroundcolor\":\"#E5ECF6\",\"gridcolor\":\"white\",\"linecolor\":\"white\",\"showbackground\":true,\"ticks\":\"\",\"zerolinecolor\":\"white\",\"gridwidth\":2},\"zaxis\":{\"backgroundcolor\":\"#E5ECF6\",\"gridcolor\":\"white\",\"linecolor\":\"white\",\"showbackground\":true,\"ticks\":\"\",\"zerolinecolor\":\"white\",\"gridwidth\":2}},\"shapedefaults\":{\"line\":{\"color\":\"#2a3f5f\"}},\"annotationdefaults\":{\"arrowcolor\":\"#2a3f5f\",\"arrowhead\":0,\"arrowwidth\":1},\"geo\":{\"bgcolor\":\"white\",\"landcolor\":\"#E5ECF6\",\"subunitcolor\":\"white\",\"showland\":true,\"showlakes\":true,\"lakecolor\":\"white\"},\"title\":{\"x\":0.05},\"mapbox\":{\"style\":\"light\"}}},\"xaxis\":{\"anchor\":\"y\",\"domain\":[0.0,1.0],\"scaleanchor\":\"y\",\"constrain\":\"domain\"},\"yaxis\":{\"anchor\":\"x\",\"domain\":[0.0,1.0],\"autorange\":true,\"constrain\":\"domain\"},\"coloraxis\":{\"colorscale\":[[0.0,\"rgb(103,0,31)\"],[0.1,\"rgb(178,24,43)\"],[0.2,\"rgb(214,96,77)\"],[0.3,\"rgb(244,165,130)\"],[0.4,\"rgb(253,219,199)\"],[0.5,\"rgb(247,247,247)\"],[0.6,\"rgb(209,229,240)\"],[0.7,\"rgb(146,197,222)\"],[0.8,\"rgb(67,147,195)\"],[0.9,\"rgb(33,102,172)\"],[1.0,\"rgb(5,48,97)\"]],\"cmid\":0.0},\"title\":{\"text\":\"Triangle (as intersected by rays)\"},\"width\":600},                        {\"responsive\": true}                    ).then(function(){\n",
              "                            \n",
              "var gd = document.getElementById('ac5cf7c7-fcf4-4281-93db-c9fe40f27ae7');\n",
              "var x = new MutationObserver(function (mutations, observer) {{\n",
              "        var display = window.getComputedStyle(gd).display;\n",
              "        if (!display || display === 'none') {{\n",
              "            console.log([gd, 'removed!']);\n",
              "            Plotly.purge(gd);\n",
              "            observer.disconnect();\n",
              "        }}\n",
              "}});\n",
              "\n",
              "// Listen for the removal of the full notebook cells\n",
              "var notebookContainer = gd.closest('#notebook-container');\n",
              "if (notebookContainer) {{\n",
              "    x.observe(notebookContainer, {childList: true});\n",
              "}}\n",
              "\n",
              "// Listen for the clearing of the current output cell\n",
              "var outputEl = gd.closest('.output');\n",
              "if (outputEl) {{\n",
              "    x.observe(outputEl, {childList: true});\n",
              "}}\n",
              "\n",
              "                        })                };                            </script>        </div>\n",
              "</body>\n",
              "</html>"
            ]
          },
          "metadata": {}
        }
      ],
      "source": [
        "def raytrace_triangle(\n",
        "    rays: Float[Tensor, \"nrays rayPoints=2 dims=3\"],\n",
        "    triangle: Float[Tensor, \"trianglePoints=3 dims=3\"]\n",
        ") -> Bool[Tensor, \"nrays\"]:\n",
        "    '''\n",
        "    For each ray, return True if the triangle intersects that ray.\n",
        "    '''\n",
        "    Os = rays[:, 0]\n",
        "    Ds = rays[:, 1]\n",
        "    triangles = einops.repeat(triangle, \"a b -> nrays a b\", nrays=rays.shape[0])\n",
        "    As = triangles[:, 0]\n",
        "    Bs = triangles[:, 1]\n",
        "    Cs = triangles[:, 2]\n",
        "\n",
        "    mat = t.stack([-Ds, Bs-As, Cs-As], dim=-1)\n",
        "    dets = t.linalg.det(mat)\n",
        "    locations_of_singular_matrices = t.isclose(dets, t.tensor(0.0))\n",
        "    mat[locations_of_singular_matrices] = t.eye(3)\n",
        "\n",
        "    sol = t.linalg.solve(mat, Os - As)\n",
        "\n",
        "    s = sol[:, 0]\n",
        "    u = sol[:, 1]\n",
        "    v = sol[:, 2]\n",
        "\n",
        "    return ((s >= 0) & (u >= 0) & (v >= 0) & (u + v <= 1) & ~locations_of_singular_matrices)\n",
        "\n",
        "A = t.tensor([1, 0.0, -0.5])\n",
        "B = t.tensor([1, -0.5, 0.0])\n",
        "C = t.tensor([1, 0.5, 0.5])\n",
        "num_pixels_y = num_pixels_z = 30\n",
        "y_limit = z_limit = 0.5\n",
        "\n",
        "# Plot triangle & rays\n",
        "test_triangle = t.stack([A, B, C], dim=0)\n",
        "rays2d = make_rays_2d(num_pixels_y, num_pixels_z, y_limit, z_limit)\n",
        "triangle_lines = t.stack([A, B, C, A, B, C], dim=0).reshape(-1, 2, 3)\n",
        "render_lines_with_plotly(rays2d, triangle_lines)\n",
        "\n",
        "# Calculate and display intersections\n",
        "intersects = raytrace_triangle(rays2d, test_triangle)\n",
        "img = intersects.reshape(num_pixels_y, num_pixels_z).int()\n",
        "imshow(img, origin=\"lower\", width=600, title=\"Triangle (as intersected by rays)\")"
      ]
    },
    {
      "cell_type": "markdown",
      "metadata": {
        "id": "WxGbZSC7CWzA"
      },
      "source": [
        "## Debugging\n"
      ]
    },
    {
      "cell_type": "markdown",
      "metadata": {
        "id": "mTQuM0FxCWzA"
      },
      "source": [
        "Debugging code is an extremely important thing to learn. Just like using GPT to assist your coding, it's something that can significantly speedrun your development, and stop you getting hung up on all the frustrating things!\n",
        "\n",
        "To give you practice debugging using VSCode's built-in debugger\\*, we've provided an example function below. This is an implementation of `raytrace_triangle` which has a few mistakes in it. Your task is to use the debugger to find the mistake and fix it. (Note - you're encouraged to actually use the debugger, rather than comparing it to the solution above!)\n"
      ]
    },
    {
      "cell_type": "code",
      "source": [
        "# Incorrect function:\n",
        "\n",
        "def raytrace_triangle_with_bug(\n",
        "    rays: Float[Tensor, \"nrays rayPoints=2 dims=3\"],\n",
        "    triangle: Float[Tensor, \"trianglePoints=3 dims=3\"]\n",
        ") -> Bool[Tensor, \"nrays\"]:\n",
        "    '''\n",
        "    For each ray, return True if the triangle intersects that ray.\n",
        "    '''\n",
        "    NR = rays.shape[0]\n",
        "\n",
        "    A, B, C = einops.repeat(triangle, \"pts dims -> pts NR dims\", NR=NR)\n",
        "    O, D = rays.unbind(1)\n",
        "\n",
        "    mat = t.stack([- D, B - A, C - A], dim=-1)\n",
        "\n",
        "    dets = t.linalg.det(mat)\n",
        "    is_singular = dets.abs() < 1e-8\n",
        "    mat[is_singular] = t.eye(3)\n",
        "\n",
        "    vec = O - A\n",
        "\n",
        "    sol = t.linalg.solve(mat, vec)\n",
        "    s, u, v = sol.unbind(dim=-1)\n",
        "\n",
        "    return ((u >= 0) & (v >= 0) & (u + v <= 1) & ~is_singular)\n",
        "\n",
        "\n",
        "intersects = raytrace_triangle_with_bug(rays2d, test_triangle)\n",
        "img = intersects.reshape(num_pixels_y, num_pixels_z).int()\n",
        "imshow(img, origin=\"lower\", width=600, title=\"Triangle (as intersected by rays)\")"
      ],
      "metadata": {
        "id": "cexhisYEb7Az",
        "colab": {
          "base_uri": "https://localhost:8080/",
          "height": 542
        },
        "outputId": "8a033ab9-26d2-4f9d-9bd8-6c8525eb5cba"
      },
      "execution_count": null,
      "outputs": [
        {
          "output_type": "display_data",
          "data": {
            "text/html": [
              "<html>\n",
              "<head><meta charset=\"utf-8\" /></head>\n",
              "<body>\n",
              "    <div>            <script src=\"https://cdnjs.cloudflare.com/ajax/libs/mathjax/2.7.5/MathJax.js?config=TeX-AMS-MML_SVG\"></script><script type=\"text/javascript\">if (window.MathJax && window.MathJax.Hub && window.MathJax.Hub.Config) {window.MathJax.Hub.Config({SVG: {font: \"STIX-Web\"}});}</script>                <script type=\"text/javascript\">window.PlotlyConfig = {MathJaxConfig: 'local'};</script>\n",
              "        <script charset=\"utf-8\" src=\"https://cdn.plot.ly/plotly-2.24.1.min.js\"></script>                <div id=\"1c2a04df-f1d6-4777-8e1d-b531ee59fb20\" class=\"plotly-graph-div\" style=\"height:525px; width:600px;\"></div>            <script type=\"text/javascript\">                                    window.PLOTLYENV=window.PLOTLYENV || {};                                    if (document.getElementById(\"1c2a04df-f1d6-4777-8e1d-b531ee59fb20\")) {                    Plotly.newPlot(                        \"1c2a04df-f1d6-4777-8e1d-b531ee59fb20\",                        [{\"coloraxis\":\"coloraxis\",\"name\":\"0\",\"z\":[[0,0,0,0,0,0,0,0,0,0,0,0,0,0,0,0,0,0,0,0,0,0,0,0,0,0,0,0,0,0],[0,0,0,0,0,0,0,0,0,0,0,0,0,0,1,1,0,0,0,0,0,0,0,0,0,0,0,0,0,0],[0,0,0,0,0,0,0,0,0,0,0,0,0,1,1,1,0,0,0,0,0,0,0,0,0,0,0,0,0,0],[0,0,0,0,0,0,0,0,0,0,0,0,1,1,1,1,1,0,0,0,0,0,0,0,0,0,0,0,0,0],[0,0,0,0,0,0,0,0,0,0,0,1,1,1,1,1,1,0,0,0,0,0,0,0,0,0,0,0,0,0],[0,0,0,0,0,0,0,0,0,0,1,1,1,1,1,1,1,1,0,0,0,0,0,0,0,0,0,0,0,0],[0,0,0,0,0,0,0,0,0,1,1,1,1,1,1,1,1,1,0,0,0,0,0,0,0,0,0,0,0,0],[0,0,0,0,0,0,0,0,1,1,1,1,1,1,1,1,1,1,1,0,0,0,0,0,0,0,0,0,0,0],[0,0,0,0,0,0,0,1,1,1,1,1,1,1,1,1,1,1,1,0,0,0,0,0,0,0,0,0,0,0],[0,0,0,0,0,0,1,1,1,1,1,1,1,1,1,1,1,1,1,1,0,0,0,0,0,0,0,0,0,0],[0,0,0,0,0,1,1,1,1,1,1,1,1,1,1,1,1,1,1,1,0,0,0,0,0,0,0,0,0,0],[0,0,0,0,1,1,1,1,1,1,1,1,1,1,1,1,1,1,1,1,1,0,0,0,0,0,0,0,0,0],[0,0,0,1,1,1,1,1,1,1,1,1,1,1,1,1,1,1,1,1,1,0,0,0,0,0,0,0,0,0],[0,0,1,1,1,1,1,1,1,1,1,1,1,1,1,1,1,1,1,1,1,1,0,0,0,0,0,0,0,0],[0,1,1,1,1,1,1,1,1,1,1,1,1,1,1,1,1,1,1,1,1,1,0,0,0,0,0,0,0,0],[0,0,1,1,1,1,1,1,1,1,1,1,1,1,1,1,1,1,1,1,1,1,1,0,0,0,0,0,0,0],[0,0,0,0,1,1,1,1,1,1,1,1,1,1,1,1,1,1,1,1,1,1,1,0,0,0,0,0,0,0],[0,0,0,0,0,0,1,1,1,1,1,1,1,1,1,1,1,1,1,1,1,1,1,1,0,0,0,0,0,0],[0,0,0,0,0,0,0,1,1,1,1,1,1,1,1,1,1,1,1,1,1,1,1,1,0,0,0,0,0,0],[0,0,0,0,0,0,0,0,0,1,1,1,1,1,1,1,1,1,1,1,1,1,1,1,1,0,0,0,0,0],[0,0,0,0,0,0,0,0,0,0,0,1,1,1,1,1,1,1,1,1,1,1,1,1,1,0,0,0,0,0],[0,0,0,0,0,0,0,0,0,0,0,0,0,1,1,1,1,1,1,1,1,1,1,1,1,1,0,0,0,0],[0,0,0,0,0,0,0,0,0,0,0,0,0,0,0,1,1,1,1,1,1,1,1,1,1,1,0,0,0,0],[0,0,0,0,0,0,0,0,0,0,0,0,0,0,0,0,0,1,1,1,1,1,1,1,1,1,1,0,0,0],[0,0,0,0,0,0,0,0,0,0,0,0,0,0,0,0,0,0,0,1,1,1,1,1,1,1,1,0,0,0],[0,0,0,0,0,0,0,0,0,0,0,0,0,0,0,0,0,0,0,0,0,1,1,1,1,1,1,1,0,0],[0,0,0,0,0,0,0,0,0,0,0,0,0,0,0,0,0,0,0,0,0,0,0,1,1,1,1,1,0,0],[0,0,0,0,0,0,0,0,0,0,0,0,0,0,0,0,0,0,0,0,0,0,0,0,0,1,1,1,1,0],[0,0,0,0,0,0,0,0,0,0,0,0,0,0,0,0,0,0,0,0,0,0,0,0,0,0,0,1,1,0],[0,0,0,0,0,0,0,0,0,0,0,0,0,0,0,0,0,0,0,0,0,0,0,0,0,0,0,0,0,1]],\"type\":\"heatmap\",\"xaxis\":\"x\",\"yaxis\":\"y\",\"hovertemplate\":\"x: %{x}\\u003cbr\\u003ey: %{y}\\u003cbr\\u003ecolor: %{z}\\u003cextra\\u003e\\u003c\\u002fextra\\u003e\"}],                        {\"template\":{\"data\":{\"histogram2dcontour\":[{\"type\":\"histogram2dcontour\",\"colorbar\":{\"outlinewidth\":0,\"ticks\":\"\"},\"colorscale\":[[0.0,\"#0d0887\"],[0.1111111111111111,\"#46039f\"],[0.2222222222222222,\"#7201a8\"],[0.3333333333333333,\"#9c179e\"],[0.4444444444444444,\"#bd3786\"],[0.5555555555555556,\"#d8576b\"],[0.6666666666666666,\"#ed7953\"],[0.7777777777777778,\"#fb9f3a\"],[0.8888888888888888,\"#fdca26\"],[1.0,\"#f0f921\"]]}],\"choropleth\":[{\"type\":\"choropleth\",\"colorbar\":{\"outlinewidth\":0,\"ticks\":\"\"}}],\"histogram2d\":[{\"type\":\"histogram2d\",\"colorbar\":{\"outlinewidth\":0,\"ticks\":\"\"},\"colorscale\":[[0.0,\"#0d0887\"],[0.1111111111111111,\"#46039f\"],[0.2222222222222222,\"#7201a8\"],[0.3333333333333333,\"#9c179e\"],[0.4444444444444444,\"#bd3786\"],[0.5555555555555556,\"#d8576b\"],[0.6666666666666666,\"#ed7953\"],[0.7777777777777778,\"#fb9f3a\"],[0.8888888888888888,\"#fdca26\"],[1.0,\"#f0f921\"]]}],\"heatmap\":[{\"type\":\"heatmap\",\"colorbar\":{\"outlinewidth\":0,\"ticks\":\"\"},\"colorscale\":[[0.0,\"#0d0887\"],[0.1111111111111111,\"#46039f\"],[0.2222222222222222,\"#7201a8\"],[0.3333333333333333,\"#9c179e\"],[0.4444444444444444,\"#bd3786\"],[0.5555555555555556,\"#d8576b\"],[0.6666666666666666,\"#ed7953\"],[0.7777777777777778,\"#fb9f3a\"],[0.8888888888888888,\"#fdca26\"],[1.0,\"#f0f921\"]]}],\"heatmapgl\":[{\"type\":\"heatmapgl\",\"colorbar\":{\"outlinewidth\":0,\"ticks\":\"\"},\"colorscale\":[[0.0,\"#0d0887\"],[0.1111111111111111,\"#46039f\"],[0.2222222222222222,\"#7201a8\"],[0.3333333333333333,\"#9c179e\"],[0.4444444444444444,\"#bd3786\"],[0.5555555555555556,\"#d8576b\"],[0.6666666666666666,\"#ed7953\"],[0.7777777777777778,\"#fb9f3a\"],[0.8888888888888888,\"#fdca26\"],[1.0,\"#f0f921\"]]}],\"contourcarpet\":[{\"type\":\"contourcarpet\",\"colorbar\":{\"outlinewidth\":0,\"ticks\":\"\"}}],\"contour\":[{\"type\":\"contour\",\"colorbar\":{\"outlinewidth\":0,\"ticks\":\"\"},\"colorscale\":[[0.0,\"#0d0887\"],[0.1111111111111111,\"#46039f\"],[0.2222222222222222,\"#7201a8\"],[0.3333333333333333,\"#9c179e\"],[0.4444444444444444,\"#bd3786\"],[0.5555555555555556,\"#d8576b\"],[0.6666666666666666,\"#ed7953\"],[0.7777777777777778,\"#fb9f3a\"],[0.8888888888888888,\"#fdca26\"],[1.0,\"#f0f921\"]]}],\"surface\":[{\"type\":\"surface\",\"colorbar\":{\"outlinewidth\":0,\"ticks\":\"\"},\"colorscale\":[[0.0,\"#0d0887\"],[0.1111111111111111,\"#46039f\"],[0.2222222222222222,\"#7201a8\"],[0.3333333333333333,\"#9c179e\"],[0.4444444444444444,\"#bd3786\"],[0.5555555555555556,\"#d8576b\"],[0.6666666666666666,\"#ed7953\"],[0.7777777777777778,\"#fb9f3a\"],[0.8888888888888888,\"#fdca26\"],[1.0,\"#f0f921\"]]}],\"mesh3d\":[{\"type\":\"mesh3d\",\"colorbar\":{\"outlinewidth\":0,\"ticks\":\"\"}}],\"scatter\":[{\"fillpattern\":{\"fillmode\":\"overlay\",\"size\":10,\"solidity\":0.2},\"type\":\"scatter\"}],\"parcoords\":[{\"type\":\"parcoords\",\"line\":{\"colorbar\":{\"outlinewidth\":0,\"ticks\":\"\"}}}],\"scatterpolargl\":[{\"type\":\"scatterpolargl\",\"marker\":{\"colorbar\":{\"outlinewidth\":0,\"ticks\":\"\"}}}],\"bar\":[{\"error_x\":{\"color\":\"#2a3f5f\"},\"error_y\":{\"color\":\"#2a3f5f\"},\"marker\":{\"line\":{\"color\":\"#E5ECF6\",\"width\":0.5},\"pattern\":{\"fillmode\":\"overlay\",\"size\":10,\"solidity\":0.2}},\"type\":\"bar\"}],\"scattergeo\":[{\"type\":\"scattergeo\",\"marker\":{\"colorbar\":{\"outlinewidth\":0,\"ticks\":\"\"}}}],\"scatterpolar\":[{\"type\":\"scatterpolar\",\"marker\":{\"colorbar\":{\"outlinewidth\":0,\"ticks\":\"\"}}}],\"histogram\":[{\"marker\":{\"pattern\":{\"fillmode\":\"overlay\",\"size\":10,\"solidity\":0.2}},\"type\":\"histogram\"}],\"scattergl\":[{\"type\":\"scattergl\",\"marker\":{\"colorbar\":{\"outlinewidth\":0,\"ticks\":\"\"}}}],\"scatter3d\":[{\"type\":\"scatter3d\",\"line\":{\"colorbar\":{\"outlinewidth\":0,\"ticks\":\"\"}},\"marker\":{\"colorbar\":{\"outlinewidth\":0,\"ticks\":\"\"}}}],\"scattermapbox\":[{\"type\":\"scattermapbox\",\"marker\":{\"colorbar\":{\"outlinewidth\":0,\"ticks\":\"\"}}}],\"scatterternary\":[{\"type\":\"scatterternary\",\"marker\":{\"colorbar\":{\"outlinewidth\":0,\"ticks\":\"\"}}}],\"scattercarpet\":[{\"type\":\"scattercarpet\",\"marker\":{\"colorbar\":{\"outlinewidth\":0,\"ticks\":\"\"}}}],\"carpet\":[{\"aaxis\":{\"endlinecolor\":\"#2a3f5f\",\"gridcolor\":\"white\",\"linecolor\":\"white\",\"minorgridcolor\":\"white\",\"startlinecolor\":\"#2a3f5f\"},\"baxis\":{\"endlinecolor\":\"#2a3f5f\",\"gridcolor\":\"white\",\"linecolor\":\"white\",\"minorgridcolor\":\"white\",\"startlinecolor\":\"#2a3f5f\"},\"type\":\"carpet\"}],\"table\":[{\"cells\":{\"fill\":{\"color\":\"#EBF0F8\"},\"line\":{\"color\":\"white\"}},\"header\":{\"fill\":{\"color\":\"#C8D4E3\"},\"line\":{\"color\":\"white\"}},\"type\":\"table\"}],\"barpolar\":[{\"marker\":{\"line\":{\"color\":\"#E5ECF6\",\"width\":0.5},\"pattern\":{\"fillmode\":\"overlay\",\"size\":10,\"solidity\":0.2}},\"type\":\"barpolar\"}],\"pie\":[{\"automargin\":true,\"type\":\"pie\"}]},\"layout\":{\"autotypenumbers\":\"strict\",\"colorway\":[\"#636efa\",\"#EF553B\",\"#00cc96\",\"#ab63fa\",\"#FFA15A\",\"#19d3f3\",\"#FF6692\",\"#B6E880\",\"#FF97FF\",\"#FECB52\"],\"font\":{\"color\":\"#2a3f5f\"},\"hovermode\":\"closest\",\"hoverlabel\":{\"align\":\"left\"},\"paper_bgcolor\":\"white\",\"plot_bgcolor\":\"#E5ECF6\",\"polar\":{\"bgcolor\":\"#E5ECF6\",\"angularaxis\":{\"gridcolor\":\"white\",\"linecolor\":\"white\",\"ticks\":\"\"},\"radialaxis\":{\"gridcolor\":\"white\",\"linecolor\":\"white\",\"ticks\":\"\"}},\"ternary\":{\"bgcolor\":\"#E5ECF6\",\"aaxis\":{\"gridcolor\":\"white\",\"linecolor\":\"white\",\"ticks\":\"\"},\"baxis\":{\"gridcolor\":\"white\",\"linecolor\":\"white\",\"ticks\":\"\"},\"caxis\":{\"gridcolor\":\"white\",\"linecolor\":\"white\",\"ticks\":\"\"}},\"coloraxis\":{\"colorbar\":{\"outlinewidth\":0,\"ticks\":\"\"}},\"colorscale\":{\"sequential\":[[0.0,\"#0d0887\"],[0.1111111111111111,\"#46039f\"],[0.2222222222222222,\"#7201a8\"],[0.3333333333333333,\"#9c179e\"],[0.4444444444444444,\"#bd3786\"],[0.5555555555555556,\"#d8576b\"],[0.6666666666666666,\"#ed7953\"],[0.7777777777777778,\"#fb9f3a\"],[0.8888888888888888,\"#fdca26\"],[1.0,\"#f0f921\"]],\"sequentialminus\":[[0.0,\"#0d0887\"],[0.1111111111111111,\"#46039f\"],[0.2222222222222222,\"#7201a8\"],[0.3333333333333333,\"#9c179e\"],[0.4444444444444444,\"#bd3786\"],[0.5555555555555556,\"#d8576b\"],[0.6666666666666666,\"#ed7953\"],[0.7777777777777778,\"#fb9f3a\"],[0.8888888888888888,\"#fdca26\"],[1.0,\"#f0f921\"]],\"diverging\":[[0,\"#8e0152\"],[0.1,\"#c51b7d\"],[0.2,\"#de77ae\"],[0.3,\"#f1b6da\"],[0.4,\"#fde0ef\"],[0.5,\"#f7f7f7\"],[0.6,\"#e6f5d0\"],[0.7,\"#b8e186\"],[0.8,\"#7fbc41\"],[0.9,\"#4d9221\"],[1,\"#276419\"]]},\"xaxis\":{\"gridcolor\":\"white\",\"linecolor\":\"white\",\"ticks\":\"\",\"title\":{\"standoff\":15},\"zerolinecolor\":\"white\",\"automargin\":true,\"zerolinewidth\":2},\"yaxis\":{\"gridcolor\":\"white\",\"linecolor\":\"white\",\"ticks\":\"\",\"title\":{\"standoff\":15},\"zerolinecolor\":\"white\",\"automargin\":true,\"zerolinewidth\":2},\"scene\":{\"xaxis\":{\"backgroundcolor\":\"#E5ECF6\",\"gridcolor\":\"white\",\"linecolor\":\"white\",\"showbackground\":true,\"ticks\":\"\",\"zerolinecolor\":\"white\",\"gridwidth\":2},\"yaxis\":{\"backgroundcolor\":\"#E5ECF6\",\"gridcolor\":\"white\",\"linecolor\":\"white\",\"showbackground\":true,\"ticks\":\"\",\"zerolinecolor\":\"white\",\"gridwidth\":2},\"zaxis\":{\"backgroundcolor\":\"#E5ECF6\",\"gridcolor\":\"white\",\"linecolor\":\"white\",\"showbackground\":true,\"ticks\":\"\",\"zerolinecolor\":\"white\",\"gridwidth\":2}},\"shapedefaults\":{\"line\":{\"color\":\"#2a3f5f\"}},\"annotationdefaults\":{\"arrowcolor\":\"#2a3f5f\",\"arrowhead\":0,\"arrowwidth\":1},\"geo\":{\"bgcolor\":\"white\",\"landcolor\":\"#E5ECF6\",\"subunitcolor\":\"white\",\"showland\":true,\"showlakes\":true,\"lakecolor\":\"white\"},\"title\":{\"x\":0.05},\"mapbox\":{\"style\":\"light\"}}},\"xaxis\":{\"anchor\":\"y\",\"domain\":[0.0,1.0],\"scaleanchor\":\"y\",\"constrain\":\"domain\"},\"yaxis\":{\"anchor\":\"x\",\"domain\":[0.0,1.0],\"autorange\":true,\"constrain\":\"domain\"},\"coloraxis\":{\"colorscale\":[[0.0,\"rgb(103,0,31)\"],[0.1,\"rgb(178,24,43)\"],[0.2,\"rgb(214,96,77)\"],[0.3,\"rgb(244,165,130)\"],[0.4,\"rgb(253,219,199)\"],[0.5,\"rgb(247,247,247)\"],[0.6,\"rgb(209,229,240)\"],[0.7,\"rgb(146,197,222)\"],[0.8,\"rgb(67,147,195)\"],[0.9,\"rgb(33,102,172)\"],[1.0,\"rgb(5,48,97)\"]],\"cmid\":0.0},\"title\":{\"text\":\"Triangle (as intersected by rays)\"},\"width\":600},                        {\"responsive\": true}                    ).then(function(){\n",
              "                            \n",
              "var gd = document.getElementById('1c2a04df-f1d6-4777-8e1d-b531ee59fb20');\n",
              "var x = new MutationObserver(function (mutations, observer) {{\n",
              "        var display = window.getComputedStyle(gd).display;\n",
              "        if (!display || display === 'none') {{\n",
              "            console.log([gd, 'removed!']);\n",
              "            Plotly.purge(gd);\n",
              "            observer.disconnect();\n",
              "        }}\n",
              "}});\n",
              "\n",
              "// Listen for the removal of the full notebook cells\n",
              "var notebookContainer = gd.closest('#notebook-container');\n",
              "if (notebookContainer) {{\n",
              "    x.observe(notebookContainer, {childList: true});\n",
              "}}\n",
              "\n",
              "// Listen for the clearing of the current output cell\n",
              "var outputEl = gd.closest('.output');\n",
              "if (outputEl) {{\n",
              "    x.observe(outputEl, {childList: true});\n",
              "}}\n",
              "\n",
              "                        })                };                            </script>        </div>\n",
              "</body>\n",
              "</html>"
            ]
          },
          "metadata": {}
        }
      ]
    },
    {
      "cell_type": "markdown",
      "metadata": {
        "id": "ZvpUmBXWCWzB"
      },
      "source": [
        "\n",
        "You can debug a cell by clicking on the **Debug cell** option at the bottom of your cell. Your cell should contain the code that is actually run to cause an error (rather than needing to contain the function which is the source of the error). Before you run your debugger, you can set breakpoints by clicking on the left-hand side of the line number (a red dot will appear). You can then step through your code, using the toolbar of buttons which will appear when you run the debugger (see [here](https://pawelgrzybek.com/continue-step-over-step-into-and-step-out-actions-in-visual-studio-code-debugger-explained/) for an explanation of what each of the buttons does). When you reach a breakpoint, you can use the following tools:\n",
        "\n",
        "* Inspect local and global variables, in the **VARIABLES** window that appears on the left sidebar.\n",
        "* Add variables expressions to watch, in the **WATCH** window that appears on the left sidebar.\n",
        "    * You can just type in any expression here, e.g. the type of a variable or the length of a list, and this will update as you step through the function.\n",
        "* Evaluate expressions on a one-time basis, by typing them into the **DEBUG CONSOLE** (which appears at the bottom of the screen)\n",
        "\n",
        "Note, when you run the debugger, it will stop *before* the breakpoint line is evaluated. So if you've run a cell and got an error on a specific line, then *that* is the line you want to set a breakpoint on.\n",
        "\n",
        "*This all works basically the same if you're in a notebook in VSCode, except for a few changes e.g. the debug button is on the dropdown at the top-left of the cell (if it doesn't appear for you then you'll need to go into user settings and add the line `\"notebook.consolidatedRunButton\": true`).*\n",
        "\n",
        "There's much more detail we could go into about debugging, but this will suffice for most purposes. It's generally a much more efficient way of debugging than using print statements or asserts (although these can also be helpful in some situations).\n"
      ]
    },
    {
      "cell_type": "markdown",
      "metadata": {
        "id": "zXg6vmcTCWzB"
      },
      "source": [
        "<details>\n",
        "<summary>Answer - what are the bugs, and how can they be fixed?</summary>\n",
        "\n",
        "```python\n",
        "NR = rays.size[0]\n",
        "```\n",
        "\n",
        "This should be `rays.size(0)` (or equivalently, `rays.shape[0]`). `size` is a method which takes an int and returns the size of that dimension; `shape` returns a `torch.Size` object which can be indexed into.\n",
        "\n",
        "This would have been pretty easy to realise without using the debugger, because the error message is informative.\n",
        "\n",
        "```python\n",
        "O, D = rays.unbind(-1)\n",
        "```\n",
        "\n",
        "We're unbinding from the wrong dimension. `rays` has shape `(nrays, points=2, dims=3)`, and we actually want to unbind along the `points` dimension. So we should use `rays.unbind(1)`.\n",
        "\n",
        "We could have found this by inspecting the `rays` object in the variables pane (you can click on the dropdown next to the variable name to look at its attributes, including `shape`), or you could just type `rays.shape` into the debug console. However, this error should also have been apparent given the type signature of the function (a good case for using typing!).\n",
        "\n",
        "```python\n",
        "mat = t.stack([- D, B - A, C - A])\n",
        "```\n",
        "\n",
        "This should have had the argument `dim=-1` on the end, because `torch.stack` by default stacks along the first dimension.\n",
        "\n",
        "This error is a bit harder to diagnose, because the line causing an error is after the line containing the mistake. Again, we could have diagnosed this with the debugger by inspecting the shape of our `mat` tensor in the variables pane.\n",
        "\n",
        "---\n",
        "\n",
        "These were all relatively easy bugs to diagnose (not all bugs will present as actual errors in your code, some might just be an unexpected set of results). But hopefully this has given you a sense for how to use the debugger. It's a very powerful tool, and can save you a lot of time!\n",
        "</details>\n"
      ]
    },
    {
      "cell_type": "markdown",
      "metadata": {
        "id": "By3naQA8CWzB"
      },
      "source": [
        "\\**If you're using Colab, you'll have to use different strategies for debugging. See [this page](https://zohaib.me/debugging-in-google-collab-notebook/) for one suggested approach.*\n"
      ]
    },
    {
      "cell_type": "markdown",
      "metadata": {
        "id": "FX1xycai6C-h"
      },
      "source": [
        "## Mesh Loading\n",
        "\n",
        "Use the given code to load the triangles for your Pikachu. By convention, files written with `torch.save` end in the `.pt` extension, but these are actually just zip files.\n"
      ]
    },
    {
      "cell_type": "code",
      "execution_count": null,
      "metadata": {
        "id": "INvLcPV_6Ifa"
      },
      "outputs": [],
      "source": [
        "with open(section_dir / \"pikachu.pt\", \"rb\") as f:\n",
        "    triangles = t.load(f)"
      ]
    },
    {
      "cell_type": "markdown",
      "metadata": {
        "id": "z6PUzY6V6GDJ"
      },
      "source": [
        "## Mesh Rendering\n",
        "\n",
        "For our purposes, a mesh is just a group of triangles, so to render it we'll intersect all rays and all triangles at once. We previously just returned a boolean for whether a given ray intersects the triangle, but now it's possible that more than one triangle intersects a given ray.\n",
        "\n",
        "For each ray (pixel) we will return a float representing the minimum distance to a triangle if applicable, otherwise the special value `float('inf')` representing infinity. We won't return which triangle was intersected for now.\n"
      ]
    },
    {
      "cell_type": "markdown",
      "metadata": {
        "id": "aluQML9z6xcz"
      },
      "source": [
        "### Exercise - implement `raytrace_mesh`\n",
        "\n",
        "```yaml\n",
        "Difficulty: 🔴🔴🔴⚪⚪\n",
        "Importance: 🔵🔵🔵🔵⚪\n",
        "\n",
        "You should spend up to 20-25 minutes on this exercise.\n",
        "\n",
        "This is the main function we've been building towards, and marks the end of the core exercises. If should involve a lot of repurposed code from the last excercise.\n",
        "```\n",
        "\n",
        "Implement `raytrace_mesh` and as before, reshape and visualize the output. Your Pikachu is centered on (0, 0, 0), so you'll want to slide the ray origin back to at least `x=-2` to see it properly.\n",
        "\n",
        "Reminder - `t.linalg.solve` (and most batched operations) can accept multiple dimensions as being batch dims. Previously, you've just used `NR` (the number of rays) as the batch dimension, but you can also use `(NR, NT)` (the number of rays and triangles) as your batch dimensions, so you can solve for all rays and triangles at once.\n",
        "\n",
        "Note - by distance to a triangle, we specifically mean **distance along the x-dimension**, not Euclidean distance."
      ]
    },
    {
      "cell_type": "code",
      "execution_count": null,
      "metadata": {
        "id": "zJt_9gWH61Tb",
        "colab": {
          "base_uri": "https://localhost:8080/",
          "height": 542
        },
        "outputId": "0ce36a2b-84d4-4563-92d6-52a07e11a99c"
      },
      "outputs": [
        {
          "output_type": "display_data",
          "data": {
            "text/html": [
              "<html>\n",
              "<head><meta charset=\"utf-8\" /></head>\n",
              "<body>\n",
              "    <div>            <script src=\"https://cdnjs.cloudflare.com/ajax/libs/mathjax/2.7.5/MathJax.js?config=TeX-AMS-MML_SVG\"></script><script type=\"text/javascript\">if (window.MathJax && window.MathJax.Hub && window.MathJax.Hub.Config) {window.MathJax.Hub.Config({SVG: {font: \"STIX-Web\"}});}</script>                <script type=\"text/javascript\">window.PlotlyConfig = {MathJaxConfig: 'local'};</script>\n",
              "        <script charset=\"utf-8\" src=\"https://cdn.plot.ly/plotly-2.24.1.min.js\"></script>                <div id=\"2e33b70a-a113-45fd-a09f-1025e295d3d8\" class=\"plotly-graph-div\" style=\"height:525px; width:1000px;\"></div>            <script type=\"text/javascript\">                                    window.PLOTLYENV=window.PLOTLYENV || {};                                    if (document.getElementById(\"2e33b70a-a113-45fd-a09f-1025e295d3d8\")) {                    Plotly.newPlot(                        \"2e33b70a-a113-45fd-a09f-1025e295d3d8\",                        [{\"coloraxis\":\"coloraxis\",\"name\":\"0\",\"z\":[[0.0,0.0,0.0,0.0,0.0,0.0,0.0,0.0,0.0,0.0,0.0,0.0,0.0,0.0,0.0,0.0,0.0,0.0,0.0,0.0,0.0,0.0,0.0,0.0,0.0,0.0,0.0,0.0,0.0,0.0,0.0,0.0,0.0,0.0,0.0,0.0,0.0,0.0,0.0,0.0,0.0,0.0,0.0,0.0,0.0,0.0,0.0,0.0,0.0,0.0,0.0,0.0,0.0,0.0,0.0,0.0,0.0,0.0,0.0,0.0,0.0,0.0,0.0,0.0,0.0,0.0,0.0,0.0,0.0,0.0,0.0,0.0,0.0,0.0,0.0,0.0,0.0,0.0,0.0,0.0,0.0,0.0,0.0,0.0,0.0,0.0,0.0,0.0,0.0,0.0,0.0,0.0,0.0,0.0,0.0,0.0,0.0,0.0,0.0,0.0,0.0,0.0,0.0,0.0,0.0,0.0,0.0,0.0,0.0,0.0,0.0,0.0,0.0,0.0,0.0,0.0,0.0,0.0,0.0,0.0],[0.0,0.0,0.0,0.0,0.0,0.0,0.0,0.0,0.0,0.0,0.0,0.0,0.0,0.0,0.0,0.0,0.0,0.0,0.0,0.0,0.0,0.0,0.0,0.0,0.0,0.0,0.0,0.0,0.0,0.0,0.0,0.0,0.0,0.0,0.0,0.0,0.0,0.0,0.0,0.0,0.0,0.0,0.0,0.0,0.0,0.0,0.0,0.0,0.0,0.0,0.0,0.0,0.0,0.0,0.0,0.0,0.0,0.0,0.0,0.0,0.0,0.0,0.0,0.0,0.0,0.0,0.0,0.0,0.0,0.0,0.0,0.0,0.0,0.0,0.0,0.0,0.0,0.0,0.0,0.0,0.0,0.0,0.0,0.0,0.0,0.0,0.0,0.0,0.0,0.0,0.0,0.0,0.0,0.0,0.0,0.0,0.0,0.0,0.0,0.0,0.0,0.0,0.0,0.0,0.0,0.0,0.0,0.0,0.0,0.0,0.0,0.0,0.0,0.0,0.0,0.0,0.0,0.0,0.0,0.0],[0.0,0.0,0.0,0.0,0.0,0.0,0.0,0.0,0.0,0.0,0.0,0.0,0.0,0.0,0.0,0.0,0.0,0.0,0.0,0.0,0.0,0.0,0.0,0.0,0.0,0.0,0.0,0.0,0.0,0.0,0.0,0.0,0.0,0.0,0.0,0.0,0.0,0.0,0.0,0.0,0.0,0.0,0.0,0.0,0.0,0.0,0.0,0.0,0.0,0.0,0.0,0.0,0.0,0.0,0.0,0.0,0.0,0.0,0.0,0.0,0.0,0.0,0.0,0.0,0.0,0.0,0.0,0.0,0.0,0.0,0.0,0.0,0.0,0.0,0.0,0.0,0.0,0.0,0.0,0.0,0.0,0.0,0.0,0.0,0.0,0.0,0.0,0.0,0.0,0.0,0.0,0.0,0.0,0.0,0.0,0.0,0.0,0.0,0.0,0.0,0.0,0.0,0.0,0.0,0.0,0.0,0.0,0.0,0.0,0.0,0.0,0.0,0.0,0.0,0.0,0.0,0.0,0.0,0.0,0.0],[0.0,0.0,0.0,0.0,0.0,0.0,0.0,0.0,0.0,0.0,0.0,0.0,0.0,0.0,0.0,0.0,0.0,0.0,0.0,0.0,0.0,0.0,0.0,0.0,0.0,0.0,0.0,0.0,0.0,0.0,0.0,0.0,0.0,0.0,0.0,0.0,0.0,0.0,0.0,0.0,0.0,0.0,0.0,0.0,0.0,0.0,0.0,0.0,0.0,0.0,0.0,0.0,0.0,0.0,0.0,0.0,0.0,0.0,0.0,0.0,0.0,0.0,0.0,0.0,0.0,0.0,0.0,0.0,0.0,0.0,0.0,0.0,0.0,0.0,0.0,0.0,0.0,0.0,0.0,0.0,0.0,0.0,0.0,0.0,0.0,0.0,0.0,0.0,0.0,0.0,0.0,0.0,0.0,0.0,0.0,0.0,0.0,0.0,0.0,0.0,0.0,0.0,0.0,0.0,0.0,0.0,0.0,0.0,0.0,0.0,0.0,0.0,0.0,0.0,0.0,0.0,0.0,0.0,0.0,0.0],[0.0,0.0,0.0,0.0,0.0,0.0,0.0,0.0,0.0,0.0,0.0,0.0,0.0,0.0,0.0,0.0,0.0,0.0,0.0,0.0,0.0,0.0,0.0,0.0,0.0,0.0,0.0,0.0,0.0,0.0,0.0,0.0,0.0,0.0,0.0,0.0,0.0,0.0,0.0,0.0,0.0,0.0,0.0,0.0,0.0,0.0,0.0,0.0,0.0,0.0,0.0,0.0,0.0,0.0,0.0,0.0,0.0,0.0,0.0,0.0,0.0,0.0,0.0,0.0,0.0,0.0,0.0,0.0,0.0,0.0,0.0,0.0,0.0,0.0,0.0,0.0,0.0,0.0,0.0,0.0,0.0,0.0,0.0,0.0,0.0,0.0,0.0,0.0,0.0,0.0,0.0,0.0,0.0,0.0,0.0,0.0,0.0,0.0,0.0,0.0,0.0,0.0,0.0,0.0,0.0,0.0,0.0,0.0,0.0,0.0,0.0,0.0,0.0,0.0,0.0,0.0,0.0,0.0,0.0,0.0],[0.0,0.0,0.0,0.0,0.0,0.0,0.0,0.0,0.0,0.0,0.0,0.0,0.0,0.0,0.0,0.0,0.0,0.0,0.0,0.0,0.0,0.0,0.0,0.0,0.0,0.0,0.0,0.0,0.0,0.0,0.0,0.0,0.0,0.0,0.0,0.0,0.0,0.0,0.0,0.0,0.0,0.0,0.0,0.0,0.0,0.0,0.0,0.0,0.0,0.0,0.0,0.0,0.0,0.0,0.0,0.0,0.0,0.0,0.0,0.0,0.0,0.0,0.0,0.0,0.0,0.0,0.0,0.0,0.0,0.0,0.0,0.0,0.0,0.0,0.0,0.0,0.0,0.0,0.0,0.0,0.0,0.0,0.0,0.0,0.0,0.0,0.0,0.0,0.0,0.0,0.0,0.0,0.0,0.0,0.0,0.0,0.0,0.0,0.0,0.0,0.0,0.0,0.0,0.0,0.0,0.0,0.0,0.0,0.0,0.0,0.0,0.0,0.0,0.0,0.0,0.0,0.0,0.0,0.0,0.0],[0.0,0.0,0.0,0.0,0.0,0.0,0.0,0.0,0.0,0.0,0.0,0.0,0.0,0.0,0.0,0.0,0.0,0.0,0.0,0.0,0.0,0.0,0.0,0.0,0.0,0.0,0.0,0.0,0.0,0.0,0.0,0.0,0.0,0.0,0.0,0.0,0.0,0.0,0.0,0.0,0.0,0.0,0.0,0.0,0.0,0.0,0.0,0.0,0.0,0.0,0.0,0.0,0.0,0.0,0.0,0.0,0.0,0.0,0.0,0.0,0.0,0.0,0.0,0.0,0.0,0.0,0.0,0.0,0.0,0.0,0.0,0.0,0.0,0.0,0.0,0.0,0.0,0.0,0.0,0.0,0.0,0.0,0.0,0.0,0.0,0.0,0.0,0.0,0.0,0.0,0.0,0.0,0.0,0.0,0.0,0.0,0.0,0.0,0.0,0.0,0.0,0.0,0.0,0.0,0.0,0.0,0.0,0.0,0.0,0.0,0.0,0.0,0.0,0.0,0.0,0.0,0.0,0.0,0.0,0.0],[0.0,0.0,0.0,0.0,0.0,0.0,0.0,0.0,0.0,0.0,0.0,0.0,0.0,0.0,0.0,0.0,0.0,0.0,0.0,0.0,0.0,0.0,0.0,0.0,0.0,0.0,0.0,0.0,0.0,0.0,0.0,0.0,0.0,0.0,0.0,0.0,0.0,0.0,0.0,0.0,0.0,0.0,0.0,0.0,0.0,0.0,0.0,0.0,0.0,0.0,0.0,0.0,0.0,0.0,0.0,0.0,0.0,0.0,0.0,0.0,0.0,0.0,0.0,0.0,0.0,0.0,0.0,0.0,0.0,0.0,0.0,0.0,0.0,0.0,0.0,0.0,0.0,0.0,0.0,0.0,0.0,0.0,0.0,0.0,0.0,0.0,0.0,0.0,0.0,0.0,0.0,0.0,0.0,0.0,0.0,0.0,0.0,0.0,0.0,0.0,0.0,0.0,0.0,0.0,0.0,0.0,0.0,0.0,0.0,0.0,0.0,0.0,0.0,0.0,0.0,0.0,0.0,0.0,0.0,0.0],[0.0,0.0,0.0,0.0,0.0,0.0,0.0,0.0,0.0,0.0,0.0,0.0,0.0,0.0,0.0,0.0,0.0,0.0,0.0,0.0,0.0,0.0,0.0,0.0,0.0,0.0,0.0,0.0,0.0,0.0,0.0,0.0,0.0,0.0,0.0,0.0,0.0,0.0,0.0,0.0,0.0,0.0,0.0,0.0,0.0,0.0,0.0,0.0,0.0,0.0,0.0,0.0,0.0,0.0,0.0,0.0,0.0,0.0,0.0,0.0,0.0,0.0,0.0,0.0,0.0,0.0,0.0,0.0,0.0,0.0,0.0,0.0,0.0,0.0,0.0,0.0,0.0,0.0,0.0,0.0,0.0,0.0,0.0,0.0,0.0,0.0,0.0,0.0,0.0,0.0,0.0,0.0,0.0,0.0,0.0,0.0,0.0,0.0,0.0,0.0,0.0,0.0,0.0,0.0,0.0,0.0,0.0,0.0,0.0,0.0,0.0,0.0,0.0,0.0,0.0,0.0,0.0,0.0,0.0,0.0],[0.0,0.0,0.0,0.0,0.0,0.0,0.0,0.0,0.0,0.0,0.0,0.0,0.0,0.0,0.0,0.0,0.0,0.0,0.0,0.0,0.0,0.0,0.0,0.0,0.0,0.0,0.0,0.0,0.0,0.0,0.0,0.0,0.0,0.0,0.0,0.0,0.0,0.0,0.0,0.0,0.0,0.0,0.0,0.0,0.0,0.0,0.0,0.0,0.0,0.0,0.0,0.0,0.0,0.0,0.0,0.0,0.0,0.0,0.0,0.0,0.0,0.0,0.0,0.0,0.0,0.0,0.0,0.0,0.0,0.0,0.0,0.0,0.0,0.0,0.0,0.0,0.0,0.0,0.0,0.0,0.0,0.0,0.0,0.0,0.0,0.0,0.0,0.0,0.0,0.0,0.0,0.0,0.0,0.0,0.0,0.0,0.0,0.0,0.0,0.0,0.0,0.0,0.0,0.0,0.0,0.0,0.0,0.0,0.0,0.0,0.0,0.0,0.0,0.0,0.0,0.0,0.0,0.0,0.0,0.0],[0.0,0.0,0.0,0.0,0.0,0.0,0.0,0.0,0.0,0.0,0.0,0.0,0.0,0.0,0.0,0.0,0.0,0.0,0.0,0.0,0.0,0.0,0.0,0.0,0.0,0.0,0.0,0.0,0.0,0.0,0.0,0.0,0.0,0.0,0.0,0.0,0.0,0.0,0.0,0.0,0.0,0.0,0.0,0.0,0.0,0.0,0.0,0.0,0.0,0.0,0.0,0.0,0.0,0.0,0.0,0.0,0.0,0.0,0.0,0.0,0.0,0.0,0.0,0.0,0.0,0.0,0.0,0.0,0.0,0.0,0.0,0.0,0.0,0.0,0.0,0.0,0.0,0.0,0.0,0.0,0.0,0.0,0.0,0.0,0.0,0.0,0.0,0.0,0.0,0.0,0.0,0.0,0.0,0.0,0.0,0.0,0.0,0.0,0.0,0.0,0.0,0.0,0.0,0.0,0.0,0.0,0.0,0.0,0.0,0.0,0.0,0.0,0.0,0.0,0.0,0.0,0.0,0.0,0.0,0.0],[0.0,0.0,0.0,0.0,0.0,0.0,0.0,0.0,0.0,0.0,0.0,0.0,0.0,0.0,0.0,0.0,0.0,0.0,0.0,0.0,0.0,0.0,0.0,0.0,0.0,0.0,0.0,0.0,0.0,0.0,0.0,0.0,0.0,0.0,0.0,0.0,0.0,0.0,0.0,0.0,0.0,0.0,0.0,0.0,0.0,0.0,0.0,0.0,0.0,0.0,0.0,0.0,0.0,0.0,0.0,0.0,0.0,0.0,0.0,0.0,0.0,0.0,0.0,0.0,0.0,0.0,0.0,0.0,0.0,0.0,0.0,0.0,0.0,0.0,0.0,0.0,0.0,0.0,0.0,0.0,0.0,0.0,0.0,0.0,0.0,0.0,0.0,0.0,0.0,0.0,0.0,0.0,0.0,0.0,0.0,0.0,0.0,0.0,0.0,0.0,0.0,0.0,0.0,0.0,0.0,0.0,0.0,0.0,0.0,0.0,0.0,0.0,0.0,0.0,0.0,0.0,0.0,0.0,0.0,0.0],[0.0,0.0,0.0,0.0,0.0,0.0,0.0,0.0,0.0,0.0,0.0,0.0,0.0,0.0,0.0,0.0,0.0,0.0,0.0,0.0,0.0,0.0,0.0,0.0,0.0,0.0,0.0,0.0,0.0,0.0,0.0,0.0,0.0,0.0,0.0,0.0,0.0,0.0,0.0,0.0,0.0,0.0,0.0,0.0,0.0,0.0,0.0,0.0,0.0,0.0,0.0,0.0,0.0,0.0,0.0,0.0,0.0,0.0,0.0,0.0,0.0,0.0,0.0,0.0,0.0,0.0,0.0,0.0,0.0,0.0,0.0,0.0,0.0,0.0,0.0,0.0,0.0,0.0,0.0,0.0,0.0,0.0,0.0,0.0,0.0,0.0,0.0,0.0,0.0,0.0,0.0,0.0,0.0,0.0,0.0,0.0,0.0,0.0,0.0,0.0,0.0,0.0,0.0,0.0,0.0,0.0,0.0,0.0,0.0,0.0,0.0,0.0,0.0,0.0,0.0,0.0,0.0,0.0,0.0,0.0],[0.0,0.0,0.0,0.0,0.0,0.0,0.0,0.0,0.0,0.0,0.0,0.0,0.0,0.0,0.0,0.0,0.0,0.0,0.0,0.0,0.0,0.0,0.0,0.0,0.0,0.0,0.0,0.0,0.0,0.0,0.0,0.0,0.0,0.0,0.0,0.0,0.0,0.0,0.0,0.0,0.0,0.0,0.0,0.0,0.0,0.0,0.0,0.0,1.0,0.0,0.0,0.0,0.0,0.0,0.0,0.0,0.0,0.0,0.0,0.0,0.0,0.0,0.0,0.0,0.0,0.0,0.0,0.0,0.0,0.0,0.0,0.0,0.0,0.0,0.0,0.0,0.0,0.0,0.0,0.0,0.0,0.0,0.0,0.0,0.0,0.0,0.0,0.0,0.0,0.0,0.0,0.0,0.0,0.0,0.0,0.0,0.0,0.0,0.0,0.0,0.0,0.0,0.0,0.0,0.0,0.0,0.0,0.0,0.0,0.0,0.0,0.0,0.0,0.0,0.0,0.0,0.0,0.0,0.0,0.0],[0.0,0.0,0.0,0.0,0.0,0.0,0.0,0.0,0.0,0.0,0.0,0.0,0.0,0.0,0.0,0.0,0.0,0.0,0.0,0.0,0.0,0.0,0.0,0.0,0.0,0.0,0.0,0.0,0.0,0.0,0.0,0.0,0.0,0.0,0.0,0.0,0.0,0.0,0.0,0.0,0.0,0.0,0.0,0.0,0.0,0.0,0.0,0.0,1.0,1.0,1.0,0.0,0.0,0.0,0.0,0.0,0.0,0.0,0.0,0.0,0.0,0.0,0.0,0.0,0.0,0.0,0.0,0.0,0.0,0.0,0.0,0.0,0.0,0.0,0.0,0.0,0.0,0.0,0.0,0.0,0.0,0.0,0.0,0.0,0.0,0.0,0.0,0.0,0.0,0.0,0.0,0.0,0.0,0.0,0.0,0.0,0.0,0.0,0.0,0.0,0.0,0.0,0.0,0.0,0.0,0.0,0.0,0.0,0.0,0.0,0.0,0.0,0.0,0.0,0.0,0.0,0.0,0.0,0.0,0.0],[0.0,0.0,0.0,0.0,0.0,0.0,0.0,0.0,0.0,0.0,0.0,0.0,0.0,0.0,0.0,0.0,0.0,0.0,0.0,0.0,0.0,0.0,0.0,0.0,0.0,0.0,0.0,0.0,0.0,0.0,0.0,0.0,0.0,0.0,0.0,0.0,0.0,0.0,0.0,0.0,0.0,0.0,0.0,0.0,0.0,0.0,1.0,1.0,1.0,1.0,1.0,1.0,1.0,1.0,0.0,0.0,0.0,0.0,0.0,0.0,0.0,0.0,0.0,0.0,0.0,0.0,0.0,0.0,0.0,0.0,0.0,0.0,0.0,0.0,0.0,0.0,0.0,0.0,0.0,0.0,0.0,0.0,0.0,0.0,0.0,0.0,0.0,0.0,0.0,0.0,0.0,0.0,0.0,0.0,0.0,0.0,0.0,0.0,0.0,0.0,0.0,0.0,0.0,0.0,0.0,0.0,0.0,0.0,0.0,0.0,0.0,0.0,0.0,0.0,0.0,0.0,0.0,0.0,0.0,0.0],[0.0,0.0,0.0,0.0,0.0,0.0,0.0,0.0,0.0,0.0,0.0,0.0,0.0,0.0,0.0,0.0,0.0,0.0,0.0,0.0,0.0,0.0,0.0,0.0,0.0,0.0,0.0,0.0,0.0,0.0,0.0,0.0,0.0,0.0,0.0,0.0,0.0,0.0,0.0,0.0,0.0,0.0,0.0,0.0,0.0,0.0,0.0,1.0,1.0,1.0,1.0,1.0,1.0,1.0,1.0,1.0,0.0,0.0,0.0,0.0,0.0,0.0,0.0,0.0,0.0,0.0,0.0,0.0,0.0,0.0,0.0,0.0,0.0,0.0,0.0,0.0,0.0,0.0,0.0,0.0,0.0,0.0,0.0,0.0,0.0,0.0,0.0,0.0,0.0,0.0,0.0,0.0,0.0,0.0,0.0,0.0,0.0,0.0,0.0,0.0,0.0,0.0,0.0,0.0,0.0,0.0,0.0,0.0,0.0,0.0,0.0,0.0,0.0,0.0,0.0,0.0,0.0,0.0,0.0,0.0],[0.0,0.0,0.0,0.0,0.0,0.0,0.0,0.0,0.0,0.0,0.0,0.0,0.0,0.0,0.0,0.0,0.0,0.0,0.0,0.0,0.0,0.0,0.0,0.0,0.0,0.0,0.0,0.0,0.0,0.0,0.0,0.0,0.0,0.0,0.0,0.0,0.0,0.0,0.0,0.0,0.0,0.0,0.0,0.0,0.0,1.0,1.0,1.0,1.0,1.0,1.0,1.0,1.0,1.0,1.0,1.0,1.0,1.0,1.0,0.0,0.0,0.0,0.0,0.0,0.0,0.0,0.0,0.0,0.0,0.0,0.0,0.0,0.0,0.0,0.0,0.0,0.0,0.0,0.0,0.0,0.0,0.0,0.0,0.0,0.0,0.0,0.0,0.0,0.0,0.0,0.0,0.0,0.0,0.0,0.0,0.0,0.0,0.0,0.0,0.0,0.0,0.0,0.0,0.0,0.0,0.0,0.0,0.0,0.0,0.0,0.0,0.0,0.0,0.0,0.0,0.0,0.0,0.0,0.0,0.0],[0.0,0.0,0.0,0.0,0.0,0.0,0.0,0.0,0.0,0.0,0.0,0.0,0.0,0.0,0.0,0.0,0.0,0.0,0.0,0.0,0.0,0.0,0.0,0.0,0.0,0.0,0.0,0.0,0.0,0.0,0.0,0.0,0.0,0.0,0.0,0.0,0.0,0.0,0.0,0.0,0.0,0.0,0.0,0.0,0.0,0.0,1.0,1.0,1.0,1.0,1.0,1.0,1.0,1.0,1.0,1.0,1.0,1.0,1.0,1.0,1.0,0.0,0.0,0.0,0.0,0.0,0.0,0.0,0.0,0.0,0.0,0.0,0.0,0.0,0.0,0.0,0.0,0.0,0.0,0.0,0.0,0.0,0.0,0.0,0.0,0.0,0.0,0.0,0.0,0.0,0.0,0.0,0.0,0.0,0.0,0.0,0.0,0.0,0.0,0.0,0.0,0.0,0.0,0.0,0.0,0.0,0.0,0.0,0.0,0.0,0.0,0.0,0.0,0.0,0.0,0.0,0.0,0.0,0.0,0.0],[0.0,0.0,0.0,0.0,0.0,0.0,0.0,0.0,0.0,0.0,0.0,0.0,0.0,0.0,0.0,0.0,0.0,0.0,0.0,0.0,0.0,0.0,0.0,0.0,0.0,0.0,0.0,0.0,0.0,0.0,0.0,0.0,0.0,0.0,0.0,0.0,0.0,0.0,0.0,0.0,0.0,0.0,0.0,0.0,0.0,0.0,1.0,1.0,1.0,1.0,1.0,1.0,1.0,1.0,1.0,1.0,1.0,1.0,1.0,1.0,1.0,1.0,1.0,0.0,0.0,0.0,0.0,0.0,0.0,0.0,0.0,0.0,0.0,0.0,0.0,0.0,0.0,0.0,0.0,0.0,0.0,0.0,0.0,0.0,0.0,0.0,0.0,0.0,0.0,0.0,0.0,0.0,0.0,0.0,0.0,0.0,0.0,0.0,0.0,0.0,0.0,0.0,0.0,0.0,0.0,0.0,0.0,0.0,0.0,0.0,0.0,0.0,0.0,0.0,0.0,0.0,0.0,0.0,0.0,0.0],[0.0,0.0,0.0,0.0,0.0,0.0,0.0,0.0,0.0,0.0,0.0,0.0,0.0,0.0,0.0,0.0,0.0,0.0,0.0,0.0,0.0,0.0,0.0,0.0,0.0,0.0,0.0,0.0,0.0,0.0,0.0,0.0,0.0,0.0,0.0,0.0,0.0,0.0,0.0,0.0,0.0,0.0,0.0,0.0,0.0,0.0,0.0,1.0,1.0,1.0,1.0,1.0,1.0,1.0,1.0,1.0,1.0,1.0,1.0,1.0,1.0,1.0,1.0,1.0,1.0,1.0,0.0,0.0,0.0,0.0,0.0,0.0,0.0,0.0,0.0,0.0,0.0,0.0,0.0,0.0,0.0,0.0,0.0,0.0,0.0,0.0,0.0,0.0,0.0,0.0,0.0,0.0,0.0,0.0,0.0,0.0,0.0,0.0,0.0,0.0,0.0,0.0,0.0,0.0,0.0,0.0,0.0,0.0,0.0,0.0,0.0,0.0,0.0,0.0,0.0,0.0,0.0,0.0,0.0,0.0],[0.0,0.0,0.0,0.0,0.0,0.0,0.0,0.0,0.0,0.0,0.0,0.0,0.0,0.0,0.0,0.0,0.0,0.0,0.0,0.0,0.0,0.0,0.0,0.0,0.0,0.0,0.0,0.0,0.0,0.0,0.0,0.0,0.0,0.0,0.0,0.0,0.0,0.0,0.0,0.0,0.0,0.0,0.0,0.0,0.0,0.0,0.0,1.0,1.0,1.0,1.0,1.0,1.0,1.0,1.0,1.0,1.0,1.0,1.0,1.0,1.0,1.0,1.0,1.0,1.0,1.0,1.0,1.0,0.0,0.0,0.0,0.0,0.0,0.0,0.0,0.0,0.0,0.0,0.0,0.0,0.0,0.0,0.0,0.0,0.0,0.0,0.0,0.0,0.0,0.0,0.0,0.0,0.0,0.0,0.0,0.0,0.0,0.0,0.0,0.0,0.0,0.0,0.0,0.0,0.0,0.0,0.0,0.0,0.0,0.0,0.0,0.0,0.0,0.0,0.0,0.0,0.0,0.0,0.0,0.0],[0.0,0.0,0.0,0.0,0.0,0.0,0.0,0.0,0.0,0.0,0.0,0.0,0.0,0.0,0.0,0.0,0.0,0.0,0.0,0.0,0.0,0.0,0.0,0.0,0.0,0.0,0.0,0.0,0.0,0.0,0.0,0.0,0.0,0.0,0.0,0.0,0.0,0.0,0.0,0.0,0.0,0.0,0.0,0.0,0.0,0.0,0.0,0.0,1.0,1.0,1.0,1.0,1.0,1.0,1.0,1.0,1.0,1.0,1.0,1.0,1.0,1.0,1.0,1.0,1.0,1.0,1.0,1.0,1.0,0.0,0.0,0.0,0.0,0.0,0.0,0.0,0.0,0.0,0.0,0.0,0.0,0.0,0.0,0.0,0.0,0.0,0.0,0.0,0.0,0.0,0.0,0.0,0.0,0.0,0.0,0.0,0.0,0.0,0.0,0.0,0.0,0.0,0.0,0.0,0.0,0.0,0.0,0.0,0.0,0.0,0.0,0.0,0.0,0.0,0.0,0.0,0.0,0.0,0.0,0.0],[0.0,0.0,0.0,0.0,0.0,0.0,0.0,0.0,0.0,0.0,0.0,0.0,0.0,0.0,0.0,0.0,0.0,0.0,0.0,0.0,0.0,0.0,0.0,0.0,0.0,0.0,0.0,0.0,0.0,0.0,0.0,0.0,0.0,0.0,0.0,0.0,0.0,0.0,0.0,0.0,0.0,0.0,0.0,0.0,0.0,0.0,0.0,0.0,1.0,1.0,1.0,1.0,1.0,1.0,1.0,1.0,1.0,1.0,1.0,1.0,1.0,1.0,1.0,1.0,1.0,1.0,1.0,1.0,1.0,0.0,0.0,0.0,0.0,0.0,0.0,0.0,0.0,0.0,0.0,0.0,0.0,0.0,0.0,0.0,0.0,0.0,0.0,0.0,0.0,0.0,0.0,0.0,0.0,0.0,0.0,0.0,0.0,0.0,0.0,0.0,0.0,0.0,0.0,0.0,0.0,0.0,0.0,0.0,0.0,0.0,0.0,0.0,0.0,0.0,0.0,0.0,0.0,0.0,0.0,0.0],[0.0,0.0,0.0,0.0,0.0,0.0,0.0,0.0,0.0,0.0,0.0,0.0,0.0,0.0,0.0,0.0,0.0,0.0,0.0,0.0,0.0,0.0,0.0,0.0,0.0,0.0,0.0,0.0,0.0,0.0,0.0,0.0,0.0,0.0,0.0,0.0,0.0,0.0,0.0,0.0,0.0,0.0,0.0,0.0,0.0,0.0,0.0,0.0,0.0,1.0,1.0,1.0,1.0,1.0,1.0,1.0,1.0,1.0,1.0,1.0,1.0,1.0,1.0,1.0,1.0,1.0,1.0,1.0,1.0,1.0,0.0,0.0,0.0,0.0,0.0,0.0,0.0,0.0,0.0,0.0,0.0,0.0,0.0,0.0,0.0,0.0,0.0,0.0,0.0,0.0,0.0,0.0,0.0,0.0,0.0,0.0,0.0,0.0,0.0,0.0,0.0,0.0,0.0,0.0,0.0,0.0,0.0,0.0,0.0,0.0,0.0,0.0,0.0,0.0,0.0,0.0,0.0,0.0,0.0,0.0],[0.0,0.0,0.0,0.0,0.0,0.0,0.0,0.0,0.0,0.0,0.0,0.0,0.0,0.0,0.0,0.0,0.0,0.0,0.0,0.0,0.0,0.0,0.0,0.0,0.0,0.0,0.0,0.0,0.0,0.0,0.0,0.0,0.0,0.0,0.0,0.0,0.0,0.0,0.0,0.0,0.0,0.0,0.0,0.0,0.0,0.0,0.0,0.0,0.0,0.0,1.0,1.0,1.0,1.0,1.0,1.0,1.0,1.0,1.0,1.0,1.0,1.0,1.0,1.0,1.0,1.0,1.0,1.0,1.0,1.0,1.0,0.0,0.0,0.0,0.0,0.0,0.0,0.0,0.0,0.0,0.0,0.0,0.0,0.0,0.0,0.0,0.0,0.0,0.0,0.0,0.0,0.0,0.0,0.0,0.0,0.0,0.0,0.0,0.0,0.0,0.0,0.0,0.0,0.0,0.0,0.0,0.0,0.0,0.0,0.0,0.0,0.0,0.0,0.0,0.0,0.0,0.0,0.0,0.0,0.0],[0.0,0.0,0.0,0.0,0.0,0.0,0.0,0.0,0.0,0.0,0.0,0.0,0.0,0.0,0.0,0.0,0.0,0.0,0.0,0.0,0.0,0.0,0.0,0.0,0.0,0.0,0.0,0.0,0.0,0.0,0.0,0.0,0.0,0.0,0.0,0.0,0.0,0.0,0.0,0.0,0.0,0.0,0.0,0.0,0.0,0.0,0.0,0.0,0.0,0.0,1.0,1.0,1.0,1.0,1.0,1.0,1.0,1.0,1.0,1.0,1.0,1.0,1.0,1.0,1.0,1.0,1.0,1.0,1.0,1.0,1.0,1.0,1.0,1.0,1.0,1.0,1.0,0.0,0.0,0.0,0.0,0.0,0.0,0.0,0.0,0.0,0.0,0.0,0.0,0.0,0.0,0.0,0.0,0.0,0.0,0.0,0.0,0.0,0.0,0.0,0.0,0.0,0.0,0.0,0.0,0.0,0.0,0.0,0.0,0.0,0.0,0.0,0.0,0.0,0.0,0.0,0.0,0.0,0.0,0.0],[0.0,0.0,0.0,0.0,0.0,0.0,0.0,0.0,0.0,0.0,0.0,0.0,0.0,0.0,0.0,0.0,0.0,0.0,0.0,0.0,0.0,0.0,0.0,0.0,0.0,0.0,0.0,0.0,0.0,0.0,0.0,0.0,0.0,0.0,0.0,0.0,0.0,0.0,0.0,0.0,0.0,0.0,0.0,0.0,0.0,0.0,0.0,0.0,0.0,0.0,1.0,1.0,1.0,1.0,1.0,1.0,1.0,1.0,1.0,1.0,1.0,1.0,1.0,1.0,1.0,1.0,1.0,1.0,1.0,1.0,1.0,1.0,1.0,1.0,1.0,1.0,1.0,1.0,1.0,1.0,1.0,1.0,1.0,1.0,1.0,1.0,1.0,1.0,1.0,1.0,1.0,1.0,1.0,1.0,1.0,0.0,0.0,0.0,0.0,0.0,0.0,0.0,0.0,0.0,0.0,0.0,0.0,0.0,0.0,0.0,0.0,0.0,0.0,0.0,0.0,0.0,0.0,0.0,0.0,0.0],[0.0,0.0,0.0,0.0,0.0,0.0,0.0,0.0,0.0,0.0,0.0,0.0,0.0,0.0,0.0,0.0,0.0,0.0,0.0,0.0,0.0,0.0,0.0,0.0,0.0,0.0,0.0,0.0,0.0,0.0,0.0,0.0,0.0,0.0,0.0,0.0,0.0,0.0,0.0,0.0,0.0,0.0,0.0,0.0,0.0,0.0,0.0,0.0,0.0,1.0,1.0,1.0,1.0,1.0,1.0,1.0,1.0,1.0,1.0,1.0,1.0,1.0,1.0,1.0,1.0,1.0,1.0,1.0,1.0,1.0,1.0,1.0,1.0,1.0,1.0,1.0,1.0,1.0,1.0,1.0,1.0,1.0,1.0,1.0,1.0,1.0,1.0,1.0,1.0,1.0,1.0,1.0,1.0,1.0,1.0,0.0,0.0,0.0,0.0,0.0,0.0,0.0,0.0,0.0,0.0,0.0,0.0,0.0,0.0,0.0,0.0,0.0,0.0,0.0,0.0,0.0,0.0,0.0,0.0,0.0],[0.0,0.0,0.0,0.0,0.0,0.0,0.0,0.0,0.0,0.0,0.0,0.0,0.0,0.0,0.0,0.0,0.0,0.0,0.0,0.0,0.0,0.0,0.0,0.0,0.0,0.0,0.0,0.0,0.0,0.0,0.0,0.0,0.0,0.0,0.0,0.0,0.0,0.0,0.0,0.0,0.0,0.0,0.0,0.0,0.0,0.0,0.0,0.0,1.0,1.0,1.0,1.0,1.0,1.0,1.0,1.0,1.0,1.0,1.0,1.0,1.0,1.0,1.0,1.0,1.0,1.0,1.0,1.0,1.0,1.0,1.0,1.0,1.0,1.0,1.0,1.0,1.0,1.0,1.0,1.0,1.0,1.0,1.0,1.0,1.0,1.0,1.0,1.0,1.0,1.0,1.0,1.0,1.0,1.0,1.0,1.0,0.0,0.0,0.0,0.0,0.0,0.0,0.0,0.0,0.0,0.0,0.0,0.0,0.0,0.0,0.0,0.0,0.0,0.0,0.0,0.0,0.0,0.0,0.0,0.0],[0.0,0.0,0.0,0.0,0.0,0.0,0.0,0.0,0.0,0.0,0.0,0.0,0.0,0.0,0.0,0.0,0.0,0.0,0.0,0.0,0.0,0.0,0.0,0.0,0.0,0.0,0.0,0.0,0.0,0.0,0.0,0.0,0.0,0.0,0.0,0.0,0.0,0.0,0.0,0.0,0.0,0.0,0.0,0.0,0.0,0.0,0.0,1.0,1.0,1.0,1.0,1.0,1.0,1.0,1.0,1.0,1.0,1.0,1.0,1.0,1.0,1.0,1.0,1.0,1.0,1.0,1.0,1.0,1.0,1.0,1.0,1.0,1.0,1.0,1.0,1.0,1.0,1.0,1.0,1.0,1.0,1.0,1.0,1.0,1.0,1.0,1.0,1.0,1.0,1.0,1.0,1.0,1.0,1.0,1.0,1.0,1.0,0.0,0.0,0.0,0.0,0.0,0.0,0.0,0.0,0.0,0.0,0.0,0.0,0.0,0.0,0.0,0.0,0.0,0.0,0.0,0.0,0.0,0.0,0.0],[0.0,0.0,0.0,0.0,0.0,0.0,0.0,0.0,0.0,0.0,0.0,0.0,0.0,0.0,0.0,0.0,0.0,0.0,0.0,0.0,0.0,0.0,0.0,0.0,0.0,0.0,0.0,0.0,0.0,0.0,0.0,0.0,0.0,0.0,0.0,0.0,0.0,0.0,0.0,0.0,0.0,0.0,0.0,0.0,0.0,0.0,1.0,1.0,1.0,1.0,1.0,1.0,1.0,1.0,1.0,1.0,1.0,1.0,1.0,1.0,1.0,1.0,1.0,1.0,1.0,1.0,1.0,1.0,1.0,1.0,1.0,1.0,1.0,1.0,1.0,1.0,1.0,1.0,1.0,1.0,1.0,1.0,1.0,1.0,1.0,1.0,1.0,1.0,1.0,1.0,1.0,1.0,1.0,1.0,1.0,1.0,1.0,1.0,0.0,0.0,0.0,0.0,0.0,0.0,0.0,0.0,0.0,0.0,0.0,0.0,0.0,0.0,0.0,0.0,0.0,0.0,0.0,0.0,0.0,0.0],[0.0,0.0,0.0,0.0,0.0,0.0,0.0,0.0,0.0,0.0,0.0,0.0,0.0,0.0,0.0,0.0,0.0,0.0,0.0,0.0,0.0,0.0,0.0,0.0,0.0,0.0,0.0,0.0,0.0,0.0,0.0,0.0,0.0,0.0,0.0,0.0,0.0,0.0,0.0,0.0,0.0,0.0,0.0,0.0,0.0,1.0,1.0,1.0,1.0,1.0,1.0,1.0,1.0,1.0,1.0,1.0,1.0,1.0,1.0,1.0,1.0,1.0,1.0,1.0,1.0,1.0,1.0,1.0,1.0,1.0,1.0,1.0,1.0,1.0,1.0,1.0,1.0,1.0,1.0,1.0,1.0,1.0,1.0,1.0,1.0,1.0,1.0,1.0,1.0,1.0,1.0,1.0,1.0,1.0,1.0,1.0,1.0,1.0,1.0,0.0,0.0,0.0,0.0,0.0,0.0,0.0,0.0,0.0,0.0,0.0,0.0,0.0,0.0,0.0,0.0,0.0,0.0,0.0,0.0,0.0],[0.0,0.0,0.0,0.0,0.0,0.0,0.0,0.0,0.0,0.0,0.0,0.0,0.0,0.0,0.0,0.0,0.0,0.0,0.0,0.0,0.0,0.0,0.0,0.0,0.0,0.0,0.0,0.0,0.0,0.0,0.0,0.0,0.0,0.0,0.0,0.0,0.0,0.0,0.0,0.0,0.0,0.0,0.0,0.0,0.0,1.0,1.0,1.0,1.0,1.0,1.0,1.0,1.0,1.0,1.0,1.0,1.0,1.0,1.0,1.0,1.0,1.0,1.0,1.0,1.0,1.0,1.0,1.0,1.0,1.0,1.0,1.0,1.0,1.0,1.0,1.0,1.0,1.0,1.0,1.0,1.0,1.0,1.0,1.0,1.0,1.0,1.0,1.0,1.0,1.0,1.0,1.0,1.0,1.0,1.0,1.0,1.0,1.0,1.0,0.0,0.0,0.0,0.0,0.0,0.0,0.0,0.0,0.0,0.0,0.0,0.0,0.0,0.0,0.0,0.0,0.0,0.0,0.0,0.0,0.0],[0.0,0.0,0.0,0.0,0.0,0.0,0.0,0.0,0.0,0.0,0.0,0.0,0.0,0.0,0.0,0.0,0.0,0.0,0.0,0.0,0.0,0.0,0.0,0.0,0.0,0.0,0.0,0.0,0.0,0.0,0.0,0.0,0.0,0.0,0.0,0.0,0.0,0.0,0.0,0.0,0.0,0.0,0.0,0.0,0.0,1.0,1.0,1.0,1.0,1.0,1.0,1.0,1.0,1.0,1.0,1.0,1.0,1.0,1.0,1.0,1.0,1.0,1.0,1.0,1.0,1.0,1.0,1.0,1.0,1.0,1.0,1.0,1.0,1.0,1.0,1.0,1.0,1.0,1.0,1.0,1.0,1.0,1.0,1.0,1.0,1.0,1.0,1.0,1.0,1.0,1.0,1.0,1.0,1.0,1.0,1.0,1.0,1.0,0.0,0.0,0.0,0.0,0.0,0.0,0.0,0.0,0.0,0.0,0.0,0.0,0.0,0.0,0.0,0.0,0.0,0.0,0.0,0.0,0.0,0.0],[0.0,0.0,0.0,0.0,0.0,0.0,0.0,0.0,0.0,0.0,0.0,0.0,0.0,0.0,0.0,0.0,0.0,0.0,0.0,0.0,0.0,0.0,0.0,0.0,0.0,0.0,0.0,0.0,0.0,0.0,0.0,0.0,0.0,0.0,0.0,0.0,0.0,0.0,0.0,0.0,0.0,0.0,0.0,0.0,0.0,1.0,1.0,1.0,1.0,1.0,1.0,1.0,1.0,1.0,1.0,1.0,1.0,1.0,1.0,1.0,1.0,1.0,1.0,1.0,1.0,1.0,1.0,1.0,1.0,1.0,1.0,1.0,1.0,1.0,1.0,1.0,1.0,1.0,0.0,0.0,1.0,1.0,1.0,1.0,1.0,1.0,1.0,1.0,1.0,1.0,1.0,1.0,1.0,1.0,1.0,1.0,1.0,1.0,0.0,0.0,0.0,0.0,0.0,0.0,0.0,0.0,0.0,0.0,0.0,0.0,0.0,0.0,0.0,0.0,0.0,0.0,0.0,0.0,0.0,0.0],[0.0,0.0,0.0,0.0,0.0,0.0,0.0,0.0,0.0,0.0,0.0,0.0,0.0,0.0,0.0,0.0,0.0,0.0,0.0,0.0,0.0,0.0,0.0,0.0,0.0,0.0,0.0,0.0,0.0,0.0,0.0,0.0,0.0,0.0,0.0,0.0,0.0,0.0,0.0,0.0,0.0,0.0,0.0,0.0,0.0,1.0,1.0,1.0,1.0,1.0,1.0,1.0,1.0,1.0,1.0,1.0,1.0,1.0,1.0,1.0,1.0,1.0,1.0,1.0,1.0,1.0,1.0,1.0,1.0,1.0,1.0,1.0,1.0,1.0,1.0,1.0,1.0,1.0,1.0,0.0,0.0,1.0,1.0,1.0,1.0,1.0,1.0,1.0,1.0,1.0,1.0,1.0,1.0,1.0,1.0,1.0,1.0,0.0,0.0,0.0,0.0,0.0,0.0,0.0,0.0,0.0,0.0,0.0,0.0,0.0,0.0,0.0,0.0,0.0,0.0,0.0,0.0,0.0,0.0,0.0],[0.0,0.0,0.0,0.0,0.0,0.0,0.0,0.0,0.0,0.0,0.0,0.0,0.0,0.0,0.0,0.0,0.0,0.0,0.0,0.0,0.0,0.0,0.0,0.0,0.0,0.0,0.0,0.0,0.0,0.0,0.0,0.0,0.0,0.0,0.0,0.0,0.0,0.0,0.0,0.0,0.0,0.0,0.0,0.0,0.0,1.0,1.0,1.0,1.0,1.0,1.0,1.0,1.0,1.0,1.0,1.0,1.0,1.0,1.0,1.0,1.0,1.0,1.0,1.0,1.0,1.0,1.0,1.0,1.0,1.0,1.0,1.0,1.0,1.0,1.0,1.0,1.0,1.0,1.0,0.0,0.0,0.0,0.0,1.0,1.0,1.0,1.0,1.0,1.0,1.0,1.0,1.0,1.0,1.0,1.0,1.0,1.0,0.0,0.0,0.0,0.0,0.0,0.0,0.0,0.0,0.0,0.0,0.0,0.0,0.0,0.0,0.0,0.0,0.0,0.0,0.0,0.0,0.0,0.0,0.0],[0.0,0.0,0.0,0.0,0.0,0.0,0.0,0.0,0.0,0.0,0.0,0.0,0.0,0.0,0.0,0.0,0.0,0.0,0.0,0.0,0.0,0.0,0.0,0.0,0.0,0.0,0.0,0.0,0.0,0.0,0.0,0.0,0.0,0.0,0.0,0.0,0.0,0.0,0.0,0.0,0.0,0.0,0.0,0.0,0.0,1.0,1.0,1.0,1.0,1.0,1.0,1.0,1.0,1.0,1.0,1.0,1.0,1.0,1.0,1.0,1.0,1.0,1.0,1.0,1.0,1.0,1.0,1.0,1.0,1.0,1.0,1.0,1.0,1.0,1.0,1.0,1.0,1.0,1.0,1.0,0.0,0.0,0.0,0.0,0.0,1.0,1.0,1.0,1.0,1.0,1.0,1.0,1.0,1.0,1.0,1.0,0.0,0.0,0.0,0.0,0.0,0.0,0.0,0.0,0.0,0.0,0.0,0.0,0.0,0.0,0.0,0.0,0.0,0.0,0.0,0.0,0.0,0.0,0.0,0.0],[0.0,0.0,0.0,0.0,0.0,0.0,0.0,0.0,0.0,0.0,0.0,0.0,0.0,0.0,0.0,0.0,0.0,0.0,0.0,0.0,0.0,0.0,0.0,0.0,0.0,0.0,0.0,0.0,0.0,0.0,0.0,0.0,0.0,0.0,0.0,0.0,0.0,0.0,0.0,0.0,0.0,0.0,0.0,0.0,0.0,1.0,1.0,1.0,1.0,1.0,1.0,1.0,1.0,1.0,1.0,1.0,1.0,1.0,1.0,1.0,1.0,1.0,1.0,1.0,1.0,1.0,1.0,1.0,1.0,1.0,1.0,1.0,1.0,1.0,1.0,1.0,1.0,1.0,1.0,1.0,0.0,0.0,0.0,0.0,1.0,1.0,1.0,1.0,1.0,1.0,1.0,1.0,1.0,1.0,1.0,1.0,0.0,0.0,0.0,0.0,0.0,0.0,0.0,0.0,0.0,0.0,0.0,0.0,0.0,0.0,0.0,0.0,0.0,0.0,0.0,0.0,0.0,0.0,0.0,0.0],[0.0,0.0,0.0,0.0,0.0,0.0,0.0,0.0,0.0,0.0,0.0,0.0,0.0,0.0,0.0,0.0,0.0,0.0,0.0,0.0,0.0,0.0,0.0,0.0,0.0,0.0,0.0,0.0,0.0,0.0,0.0,0.0,0.0,0.0,0.0,0.0,0.0,0.0,0.0,0.0,0.0,0.0,0.0,0.0,0.0,0.0,1.0,1.0,1.0,1.0,1.0,1.0,1.0,1.0,1.0,1.0,1.0,1.0,1.0,1.0,1.0,1.0,1.0,1.0,1.0,1.0,1.0,1.0,1.0,1.0,1.0,1.0,1.0,1.0,1.0,1.0,1.0,1.0,1.0,0.0,0.0,0.0,0.0,0.0,1.0,1.0,1.0,1.0,1.0,1.0,1.0,1.0,1.0,1.0,1.0,1.0,0.0,0.0,0.0,0.0,0.0,0.0,0.0,0.0,0.0,0.0,0.0,0.0,0.0,0.0,0.0,0.0,0.0,0.0,0.0,0.0,0.0,0.0,0.0,0.0],[0.0,0.0,0.0,0.0,0.0,0.0,0.0,0.0,0.0,0.0,0.0,0.0,0.0,0.0,0.0,0.0,0.0,0.0,0.0,0.0,0.0,0.0,0.0,0.0,0.0,0.0,0.0,0.0,0.0,0.0,0.0,0.0,0.0,0.0,0.0,0.0,0.0,0.0,0.0,0.0,0.0,0.0,0.0,0.0,0.0,0.0,1.0,1.0,1.0,1.0,1.0,1.0,1.0,1.0,1.0,1.0,1.0,1.0,1.0,1.0,1.0,1.0,1.0,1.0,1.0,1.0,1.0,1.0,1.0,1.0,1.0,1.0,1.0,1.0,1.0,1.0,1.0,1.0,1.0,0.0,0.0,0.0,0.0,0.0,1.0,1.0,1.0,1.0,1.0,1.0,1.0,1.0,1.0,1.0,1.0,1.0,0.0,0.0,0.0,0.0,0.0,0.0,0.0,0.0,0.0,0.0,0.0,0.0,0.0,0.0,0.0,0.0,0.0,0.0,0.0,0.0,0.0,0.0,0.0,0.0],[0.0,0.0,0.0,0.0,0.0,0.0,0.0,0.0,0.0,0.0,0.0,0.0,0.0,0.0,0.0,0.0,0.0,0.0,0.0,0.0,0.0,0.0,0.0,0.0,0.0,0.0,0.0,0.0,0.0,0.0,0.0,0.0,0.0,0.0,0.0,0.0,0.0,0.0,0.0,0.0,0.0,0.0,0.0,0.0,0.0,0.0,1.0,1.0,1.0,1.0,1.0,1.0,1.0,1.0,1.0,1.0,1.0,1.0,1.0,1.0,1.0,1.0,1.0,1.0,1.0,1.0,1.0,1.0,1.0,1.0,1.0,1.0,1.0,1.0,1.0,1.0,1.0,1.0,1.0,0.0,0.0,0.0,0.0,1.0,1.0,1.0,1.0,1.0,1.0,1.0,1.0,1.0,1.0,1.0,1.0,1.0,1.0,0.0,0.0,0.0,0.0,0.0,0.0,0.0,0.0,0.0,0.0,0.0,0.0,0.0,0.0,0.0,0.0,0.0,0.0,0.0,0.0,0.0,0.0,0.0],[0.0,0.0,0.0,0.0,0.0,0.0,0.0,0.0,0.0,0.0,0.0,0.0,0.0,0.0,0.0,0.0,0.0,0.0,0.0,0.0,0.0,0.0,0.0,0.0,0.0,0.0,0.0,0.0,0.0,0.0,0.0,0.0,0.0,0.0,0.0,0.0,0.0,0.0,0.0,0.0,0.0,0.0,0.0,0.0,0.0,0.0,1.0,1.0,1.0,1.0,1.0,1.0,1.0,1.0,1.0,1.0,1.0,1.0,1.0,1.0,1.0,1.0,1.0,1.0,1.0,1.0,1.0,1.0,1.0,1.0,1.0,1.0,1.0,1.0,1.0,1.0,1.0,1.0,1.0,0.0,0.0,0.0,0.0,1.0,1.0,1.0,1.0,1.0,1.0,1.0,1.0,1.0,1.0,1.0,1.0,1.0,1.0,1.0,0.0,0.0,0.0,0.0,0.0,0.0,0.0,0.0,0.0,0.0,0.0,0.0,0.0,0.0,0.0,0.0,0.0,0.0,0.0,0.0,0.0,0.0],[0.0,0.0,0.0,0.0,0.0,0.0,0.0,0.0,0.0,0.0,0.0,0.0,0.0,0.0,0.0,0.0,0.0,0.0,0.0,0.0,0.0,0.0,0.0,0.0,0.0,0.0,0.0,0.0,0.0,0.0,0.0,0.0,0.0,0.0,0.0,0.0,0.0,0.0,0.0,0.0,0.0,0.0,0.0,0.0,0.0,1.0,1.0,1.0,1.0,1.0,1.0,1.0,1.0,1.0,1.0,1.0,1.0,1.0,1.0,1.0,1.0,1.0,1.0,1.0,1.0,1.0,1.0,1.0,1.0,1.0,1.0,1.0,1.0,1.0,1.0,1.0,1.0,1.0,0.0,0.0,0.0,0.0,1.0,1.0,1.0,1.0,1.0,1.0,1.0,1.0,1.0,1.0,1.0,1.0,1.0,1.0,1.0,1.0,0.0,0.0,0.0,0.0,0.0,0.0,0.0,0.0,0.0,0.0,0.0,0.0,0.0,0.0,0.0,0.0,0.0,0.0,0.0,0.0,0.0,0.0],[0.0,0.0,0.0,0.0,0.0,0.0,0.0,0.0,0.0,0.0,0.0,0.0,0.0,0.0,0.0,0.0,0.0,0.0,0.0,0.0,0.0,0.0,0.0,0.0,0.0,0.0,0.0,0.0,0.0,0.0,0.0,0.0,0.0,0.0,0.0,0.0,0.0,0.0,0.0,0.0,0.0,0.0,0.0,0.0,1.0,1.0,1.0,1.0,1.0,1.0,1.0,1.0,1.0,1.0,1.0,1.0,1.0,1.0,1.0,1.0,1.0,1.0,1.0,1.0,1.0,1.0,1.0,1.0,1.0,1.0,1.0,1.0,1.0,1.0,1.0,1.0,1.0,1.0,0.0,0.0,0.0,0.0,1.0,1.0,1.0,1.0,1.0,1.0,1.0,1.0,1.0,1.0,1.0,1.0,1.0,1.0,1.0,1.0,1.0,0.0,0.0,0.0,0.0,0.0,0.0,0.0,0.0,0.0,0.0,0.0,0.0,0.0,0.0,0.0,0.0,0.0,0.0,0.0,0.0,0.0],[0.0,0.0,0.0,0.0,0.0,0.0,0.0,0.0,0.0,0.0,0.0,0.0,0.0,0.0,0.0,0.0,0.0,0.0,0.0,0.0,0.0,0.0,0.0,0.0,0.0,0.0,0.0,0.0,0.0,0.0,0.0,0.0,0.0,0.0,0.0,0.0,0.0,0.0,0.0,0.0,0.0,0.0,0.0,0.0,1.0,1.0,1.0,1.0,1.0,1.0,1.0,1.0,1.0,1.0,1.0,1.0,1.0,1.0,1.0,1.0,1.0,1.0,1.0,1.0,1.0,1.0,1.0,1.0,1.0,1.0,1.0,1.0,1.0,1.0,1.0,1.0,1.0,1.0,0.0,0.0,0.0,0.0,0.0,1.0,1.0,1.0,1.0,1.0,1.0,1.0,1.0,1.0,1.0,1.0,1.0,1.0,1.0,1.0,1.0,1.0,0.0,0.0,0.0,0.0,0.0,0.0,0.0,0.0,0.0,0.0,0.0,0.0,0.0,0.0,0.0,0.0,0.0,0.0,0.0,0.0],[0.0,0.0,0.0,0.0,0.0,0.0,0.0,0.0,0.0,0.0,0.0,0.0,0.0,0.0,0.0,0.0,0.0,0.0,0.0,0.0,0.0,0.0,0.0,0.0,0.0,0.0,0.0,0.0,0.0,0.0,0.0,0.0,0.0,0.0,0.0,0.0,0.0,0.0,0.0,0.0,0.0,0.0,0.0,1.0,1.0,1.0,1.0,1.0,1.0,1.0,1.0,1.0,1.0,1.0,1.0,1.0,1.0,1.0,1.0,1.0,1.0,1.0,1.0,1.0,1.0,1.0,1.0,1.0,1.0,1.0,1.0,1.0,1.0,1.0,1.0,1.0,1.0,1.0,0.0,0.0,0.0,0.0,0.0,1.0,1.0,1.0,1.0,1.0,1.0,1.0,1.0,1.0,1.0,1.0,1.0,1.0,1.0,1.0,1.0,1.0,1.0,0.0,0.0,0.0,0.0,0.0,0.0,0.0,0.0,0.0,0.0,0.0,0.0,0.0,0.0,0.0,0.0,0.0,0.0,0.0],[0.0,0.0,0.0,0.0,0.0,0.0,0.0,0.0,0.0,0.0,0.0,0.0,0.0,0.0,0.0,0.0,0.0,0.0,0.0,0.0,0.0,0.0,0.0,0.0,0.0,0.0,0.0,0.0,0.0,0.0,0.0,0.0,0.0,0.0,0.0,0.0,0.0,0.0,0.0,0.0,0.0,0.0,0.0,1.0,1.0,1.0,1.0,1.0,1.0,1.0,1.0,1.0,1.0,1.0,1.0,1.0,1.0,1.0,1.0,1.0,1.0,1.0,1.0,1.0,1.0,1.0,1.0,1.0,1.0,1.0,1.0,1.0,1.0,1.0,1.0,1.0,1.0,1.0,0.0,0.0,0.0,0.0,0.0,1.0,1.0,1.0,1.0,1.0,1.0,1.0,1.0,1.0,1.0,1.0,1.0,1.0,1.0,1.0,1.0,1.0,1.0,0.0,0.0,0.0,0.0,0.0,0.0,0.0,0.0,0.0,0.0,0.0,0.0,0.0,0.0,0.0,0.0,0.0,0.0,0.0],[0.0,0.0,0.0,0.0,0.0,0.0,0.0,0.0,0.0,0.0,0.0,0.0,0.0,0.0,0.0,0.0,0.0,0.0,0.0,0.0,0.0,0.0,0.0,0.0,0.0,0.0,0.0,0.0,0.0,0.0,0.0,0.0,0.0,0.0,0.0,0.0,0.0,0.0,0.0,0.0,0.0,0.0,0.0,1.0,1.0,1.0,1.0,1.0,1.0,1.0,1.0,1.0,1.0,1.0,1.0,1.0,1.0,1.0,1.0,1.0,1.0,1.0,1.0,1.0,1.0,1.0,1.0,1.0,1.0,1.0,1.0,1.0,1.0,1.0,1.0,1.0,1.0,0.0,0.0,0.0,0.0,0.0,0.0,0.0,1.0,1.0,1.0,1.0,1.0,1.0,1.0,1.0,1.0,1.0,1.0,1.0,1.0,1.0,1.0,1.0,1.0,1.0,0.0,0.0,0.0,0.0,0.0,0.0,0.0,0.0,0.0,0.0,0.0,0.0,0.0,0.0,0.0,0.0,0.0,0.0],[0.0,0.0,0.0,0.0,0.0,0.0,0.0,0.0,0.0,0.0,0.0,0.0,0.0,0.0,0.0,0.0,0.0,0.0,0.0,0.0,0.0,0.0,0.0,0.0,0.0,0.0,0.0,0.0,0.0,0.0,0.0,0.0,0.0,0.0,0.0,0.0,0.0,0.0,0.0,0.0,0.0,0.0,0.0,1.0,1.0,1.0,1.0,1.0,1.0,1.0,1.0,1.0,1.0,1.0,1.0,1.0,1.0,1.0,1.0,1.0,1.0,1.0,1.0,1.0,1.0,1.0,1.0,1.0,1.0,1.0,1.0,1.0,1.0,1.0,1.0,1.0,1.0,0.0,0.0,0.0,0.0,0.0,0.0,0.0,1.0,1.0,1.0,1.0,1.0,1.0,1.0,1.0,1.0,1.0,1.0,1.0,1.0,1.0,1.0,1.0,1.0,1.0,0.0,0.0,0.0,0.0,0.0,0.0,0.0,0.0,0.0,0.0,0.0,0.0,0.0,0.0,0.0,0.0,0.0,0.0],[0.0,0.0,0.0,0.0,0.0,0.0,0.0,0.0,0.0,0.0,0.0,0.0,0.0,0.0,0.0,0.0,0.0,0.0,0.0,0.0,0.0,0.0,0.0,0.0,0.0,0.0,0.0,0.0,0.0,0.0,0.0,0.0,0.0,0.0,0.0,0.0,0.0,0.0,0.0,0.0,0.0,0.0,1.0,1.0,1.0,1.0,1.0,1.0,1.0,1.0,1.0,1.0,1.0,1.0,1.0,1.0,1.0,1.0,1.0,1.0,1.0,1.0,1.0,1.0,1.0,1.0,1.0,1.0,1.0,1.0,1.0,1.0,1.0,1.0,1.0,1.0,1.0,0.0,0.0,0.0,0.0,0.0,0.0,0.0,1.0,1.0,1.0,1.0,1.0,1.0,1.0,1.0,1.0,1.0,1.0,1.0,1.0,1.0,1.0,1.0,1.0,1.0,0.0,0.0,0.0,0.0,0.0,0.0,0.0,0.0,0.0,0.0,0.0,0.0,0.0,0.0,0.0,0.0,0.0,0.0],[0.0,0.0,0.0,0.0,0.0,0.0,0.0,0.0,0.0,0.0,0.0,0.0,0.0,0.0,0.0,0.0,0.0,0.0,0.0,0.0,0.0,0.0,0.0,0.0,0.0,0.0,0.0,0.0,0.0,0.0,0.0,0.0,0.0,0.0,0.0,0.0,0.0,0.0,0.0,0.0,0.0,0.0,1.0,1.0,1.0,1.0,1.0,1.0,1.0,1.0,1.0,1.0,1.0,1.0,1.0,1.0,1.0,1.0,1.0,1.0,1.0,1.0,1.0,1.0,1.0,1.0,1.0,1.0,1.0,1.0,1.0,1.0,1.0,1.0,1.0,1.0,1.0,0.0,0.0,0.0,0.0,0.0,0.0,0.0,1.0,1.0,1.0,1.0,1.0,1.0,1.0,1.0,1.0,1.0,1.0,1.0,1.0,1.0,1.0,1.0,1.0,1.0,0.0,0.0,0.0,0.0,0.0,0.0,0.0,0.0,0.0,0.0,0.0,0.0,0.0,0.0,0.0,0.0,0.0,0.0],[0.0,0.0,0.0,0.0,0.0,0.0,0.0,0.0,0.0,0.0,0.0,0.0,0.0,0.0,0.0,0.0,0.0,0.0,0.0,0.0,0.0,0.0,0.0,0.0,0.0,0.0,0.0,0.0,0.0,0.0,0.0,0.0,0.0,0.0,0.0,0.0,0.0,0.0,0.0,0.0,0.0,0.0,1.0,1.0,1.0,1.0,1.0,1.0,1.0,1.0,1.0,1.0,1.0,1.0,1.0,1.0,1.0,1.0,1.0,1.0,1.0,1.0,1.0,1.0,1.0,1.0,1.0,1.0,1.0,1.0,1.0,1.0,1.0,1.0,1.0,1.0,1.0,0.0,0.0,0.0,0.0,0.0,0.0,0.0,0.0,1.0,1.0,1.0,1.0,1.0,1.0,1.0,1.0,1.0,1.0,1.0,1.0,1.0,1.0,1.0,1.0,1.0,0.0,0.0,0.0,0.0,0.0,0.0,0.0,0.0,0.0,0.0,0.0,0.0,0.0,0.0,0.0,0.0,0.0,0.0],[0.0,0.0,0.0,0.0,0.0,0.0,0.0,0.0,0.0,0.0,0.0,0.0,0.0,0.0,0.0,0.0,0.0,0.0,0.0,0.0,0.0,0.0,0.0,0.0,0.0,0.0,0.0,0.0,0.0,0.0,0.0,0.0,0.0,0.0,0.0,0.0,0.0,0.0,0.0,0.0,0.0,0.0,0.0,1.0,1.0,1.0,1.0,1.0,1.0,1.0,1.0,1.0,1.0,1.0,1.0,1.0,1.0,1.0,1.0,1.0,1.0,1.0,1.0,1.0,1.0,1.0,1.0,1.0,1.0,1.0,1.0,1.0,1.0,1.0,1.0,1.0,0.0,0.0,0.0,0.0,0.0,0.0,0.0,0.0,1.0,1.0,1.0,1.0,1.0,1.0,1.0,1.0,1.0,1.0,1.0,1.0,1.0,1.0,1.0,1.0,1.0,0.0,0.0,0.0,0.0,0.0,0.0,0.0,0.0,0.0,0.0,0.0,0.0,0.0,0.0,0.0,0.0,0.0,0.0,0.0],[0.0,0.0,0.0,0.0,0.0,0.0,0.0,0.0,0.0,0.0,0.0,0.0,0.0,0.0,0.0,0.0,0.0,0.0,0.0,0.0,0.0,0.0,0.0,0.0,0.0,0.0,0.0,0.0,0.0,0.0,0.0,0.0,0.0,0.0,0.0,0.0,0.0,0.0,0.0,0.0,0.0,0.0,0.0,0.0,1.0,1.0,1.0,1.0,1.0,1.0,1.0,1.0,1.0,1.0,1.0,1.0,1.0,1.0,1.0,1.0,1.0,1.0,1.0,1.0,1.0,1.0,1.0,1.0,1.0,1.0,1.0,1.0,1.0,1.0,1.0,1.0,0.0,0.0,0.0,0.0,0.0,0.0,0.0,0.0,1.0,1.0,1.0,1.0,1.0,1.0,1.0,1.0,1.0,1.0,1.0,1.0,1.0,1.0,1.0,1.0,1.0,0.0,0.0,0.0,0.0,0.0,0.0,0.0,0.0,0.0,0.0,0.0,0.0,0.0,0.0,0.0,0.0,0.0,0.0,0.0],[0.0,0.0,0.0,0.0,0.0,0.0,0.0,0.0,0.0,0.0,0.0,0.0,0.0,0.0,0.0,0.0,0.0,0.0,0.0,0.0,0.0,0.0,0.0,0.0,0.0,0.0,0.0,0.0,0.0,0.0,0.0,0.0,0.0,0.0,0.0,0.0,0.0,0.0,0.0,0.0,0.0,0.0,0.0,0.0,1.0,1.0,1.0,1.0,1.0,1.0,1.0,1.0,1.0,1.0,1.0,1.0,1.0,1.0,1.0,1.0,1.0,1.0,1.0,1.0,1.0,1.0,1.0,1.0,1.0,1.0,1.0,1.0,1.0,1.0,1.0,1.0,0.0,0.0,0.0,0.0,0.0,0.0,0.0,1.0,1.0,1.0,1.0,1.0,1.0,1.0,1.0,1.0,1.0,1.0,1.0,1.0,1.0,1.0,1.0,1.0,1.0,0.0,0.0,0.0,0.0,0.0,0.0,0.0,0.0,0.0,0.0,0.0,0.0,0.0,0.0,0.0,0.0,0.0,0.0,0.0],[0.0,0.0,0.0,0.0,0.0,0.0,0.0,0.0,0.0,0.0,0.0,0.0,0.0,0.0,0.0,0.0,0.0,0.0,0.0,0.0,0.0,0.0,0.0,0.0,0.0,0.0,0.0,0.0,0.0,0.0,0.0,0.0,0.0,0.0,0.0,0.0,0.0,0.0,0.0,0.0,0.0,0.0,0.0,0.0,0.0,1.0,1.0,1.0,1.0,1.0,1.0,1.0,1.0,1.0,1.0,1.0,1.0,1.0,1.0,1.0,1.0,1.0,1.0,1.0,1.0,1.0,1.0,1.0,1.0,1.0,1.0,1.0,1.0,1.0,1.0,1.0,0.0,0.0,0.0,0.0,0.0,0.0,0.0,1.0,1.0,1.0,1.0,1.0,1.0,1.0,1.0,1.0,1.0,1.0,1.0,1.0,1.0,1.0,1.0,1.0,1.0,0.0,0.0,0.0,0.0,0.0,0.0,0.0,0.0,0.0,0.0,0.0,0.0,0.0,0.0,0.0,0.0,0.0,0.0,0.0],[0.0,0.0,0.0,0.0,0.0,0.0,0.0,0.0,0.0,0.0,0.0,0.0,0.0,0.0,0.0,0.0,0.0,0.0,0.0,0.0,0.0,0.0,0.0,0.0,0.0,0.0,0.0,0.0,0.0,0.0,0.0,0.0,0.0,0.0,0.0,0.0,0.0,0.0,0.0,0.0,0.0,0.0,0.0,0.0,0.0,0.0,1.0,1.0,1.0,1.0,1.0,1.0,1.0,1.0,1.0,1.0,1.0,1.0,1.0,1.0,1.0,1.0,1.0,1.0,1.0,1.0,1.0,1.0,1.0,1.0,1.0,1.0,1.0,1.0,1.0,1.0,0.0,0.0,0.0,0.0,0.0,0.0,1.0,1.0,1.0,1.0,1.0,1.0,1.0,1.0,1.0,1.0,1.0,1.0,1.0,1.0,1.0,1.0,1.0,1.0,1.0,0.0,0.0,0.0,0.0,0.0,0.0,0.0,0.0,0.0,0.0,0.0,0.0,0.0,0.0,0.0,0.0,0.0,0.0,0.0],[0.0,0.0,0.0,0.0,0.0,0.0,0.0,0.0,0.0,0.0,0.0,0.0,0.0,0.0,0.0,0.0,0.0,0.0,0.0,0.0,0.0,0.0,0.0,0.0,0.0,0.0,0.0,0.0,0.0,0.0,0.0,0.0,0.0,0.0,0.0,0.0,0.0,0.0,0.0,0.0,0.0,0.0,0.0,0.0,0.0,0.0,0.0,1.0,1.0,1.0,1.0,1.0,1.0,1.0,1.0,1.0,1.0,1.0,1.0,1.0,1.0,1.0,1.0,1.0,1.0,1.0,1.0,1.0,1.0,1.0,1.0,1.0,1.0,1.0,1.0,0.0,0.0,0.0,0.0,0.0,0.0,0.0,1.0,1.0,1.0,1.0,1.0,1.0,1.0,1.0,1.0,1.0,1.0,1.0,1.0,1.0,1.0,1.0,1.0,1.0,1.0,0.0,0.0,0.0,0.0,0.0,0.0,0.0,0.0,0.0,0.0,0.0,0.0,0.0,0.0,0.0,0.0,0.0,0.0,0.0],[0.0,0.0,0.0,0.0,0.0,0.0,0.0,0.0,0.0,0.0,0.0,0.0,0.0,0.0,0.0,0.0,0.0,0.0,0.0,0.0,0.0,0.0,0.0,0.0,0.0,0.0,0.0,0.0,0.0,0.0,0.0,0.0,0.0,0.0,0.0,0.0,0.0,0.0,0.0,0.0,0.0,0.0,0.0,0.0,0.0,0.0,0.0,0.0,1.0,1.0,1.0,1.0,1.0,1.0,1.0,1.0,1.0,1.0,1.0,1.0,1.0,1.0,1.0,1.0,1.0,1.0,1.0,1.0,1.0,1.0,1.0,1.0,1.0,1.0,1.0,0.0,0.0,0.0,0.0,0.0,0.0,1.0,1.0,1.0,1.0,1.0,1.0,1.0,1.0,1.0,1.0,1.0,1.0,1.0,1.0,1.0,1.0,1.0,1.0,1.0,1.0,0.0,0.0,0.0,0.0,0.0,0.0,0.0,0.0,0.0,0.0,0.0,0.0,0.0,0.0,0.0,0.0,0.0,0.0,0.0],[0.0,0.0,0.0,0.0,0.0,0.0,0.0,0.0,0.0,0.0,0.0,0.0,0.0,0.0,0.0,0.0,0.0,0.0,0.0,0.0,0.0,0.0,0.0,0.0,0.0,0.0,0.0,0.0,0.0,0.0,0.0,0.0,0.0,0.0,0.0,0.0,0.0,0.0,0.0,0.0,0.0,0.0,0.0,0.0,0.0,0.0,0.0,0.0,1.0,1.0,1.0,1.0,1.0,1.0,1.0,1.0,1.0,1.0,1.0,1.0,1.0,1.0,1.0,1.0,1.0,1.0,1.0,1.0,1.0,1.0,1.0,1.0,1.0,1.0,1.0,0.0,0.0,0.0,0.0,0.0,1.0,1.0,1.0,1.0,1.0,1.0,1.0,1.0,1.0,1.0,1.0,1.0,1.0,1.0,1.0,1.0,1.0,1.0,1.0,1.0,1.0,1.0,0.0,0.0,0.0,0.0,0.0,0.0,0.0,0.0,0.0,0.0,0.0,0.0,0.0,0.0,0.0,0.0,0.0,0.0],[0.0,0.0,0.0,0.0,0.0,0.0,0.0,0.0,0.0,0.0,0.0,0.0,0.0,0.0,0.0,0.0,0.0,0.0,0.0,0.0,0.0,0.0,0.0,0.0,0.0,0.0,0.0,0.0,0.0,0.0,0.0,0.0,0.0,0.0,0.0,0.0,0.0,0.0,0.0,0.0,0.0,0.0,0.0,0.0,0.0,0.0,0.0,0.0,1.0,1.0,1.0,1.0,1.0,1.0,1.0,1.0,1.0,1.0,1.0,1.0,1.0,1.0,1.0,1.0,1.0,1.0,1.0,1.0,1.0,1.0,1.0,1.0,1.0,1.0,1.0,0.0,0.0,0.0,0.0,0.0,1.0,1.0,1.0,1.0,1.0,1.0,1.0,1.0,1.0,1.0,1.0,1.0,1.0,1.0,1.0,1.0,1.0,1.0,1.0,1.0,1.0,1.0,0.0,0.0,0.0,0.0,0.0,0.0,0.0,0.0,0.0,0.0,0.0,0.0,0.0,0.0,0.0,0.0,0.0,0.0],[0.0,0.0,0.0,0.0,0.0,0.0,0.0,0.0,0.0,0.0,0.0,0.0,0.0,0.0,0.0,0.0,0.0,0.0,0.0,0.0,0.0,0.0,0.0,0.0,0.0,0.0,0.0,0.0,0.0,0.0,0.0,0.0,0.0,0.0,0.0,0.0,0.0,0.0,0.0,0.0,0.0,0.0,0.0,0.0,0.0,0.0,0.0,0.0,0.0,1.0,1.0,1.0,1.0,1.0,1.0,1.0,1.0,1.0,1.0,1.0,1.0,1.0,1.0,1.0,1.0,1.0,1.0,1.0,1.0,1.0,1.0,1.0,1.0,1.0,1.0,0.0,0.0,0.0,0.0,1.0,1.0,1.0,1.0,1.0,1.0,1.0,1.0,1.0,1.0,1.0,1.0,1.0,1.0,1.0,1.0,1.0,1.0,1.0,1.0,1.0,1.0,1.0,1.0,0.0,0.0,0.0,0.0,0.0,0.0,0.0,0.0,0.0,0.0,0.0,0.0,0.0,0.0,0.0,0.0,0.0],[0.0,0.0,0.0,0.0,0.0,0.0,0.0,0.0,0.0,0.0,0.0,0.0,0.0,0.0,0.0,0.0,0.0,0.0,0.0,0.0,0.0,0.0,0.0,0.0,0.0,0.0,0.0,0.0,0.0,0.0,0.0,0.0,0.0,0.0,0.0,0.0,0.0,0.0,0.0,0.0,0.0,0.0,0.0,0.0,0.0,0.0,0.0,0.0,0.0,1.0,1.0,1.0,1.0,1.0,1.0,1.0,1.0,1.0,1.0,1.0,1.0,1.0,1.0,1.0,1.0,1.0,1.0,1.0,1.0,1.0,1.0,1.0,1.0,1.0,0.0,0.0,0.0,0.0,0.0,1.0,1.0,1.0,1.0,1.0,1.0,1.0,1.0,1.0,1.0,1.0,1.0,1.0,1.0,1.0,1.0,1.0,1.0,1.0,1.0,1.0,1.0,1.0,1.0,1.0,0.0,0.0,0.0,0.0,0.0,0.0,0.0,0.0,0.0,0.0,0.0,0.0,0.0,0.0,0.0,0.0],[0.0,0.0,0.0,0.0,0.0,0.0,0.0,0.0,0.0,0.0,0.0,0.0,0.0,0.0,0.0,0.0,0.0,0.0,0.0,0.0,0.0,0.0,0.0,0.0,0.0,0.0,0.0,0.0,0.0,0.0,0.0,0.0,0.0,0.0,0.0,0.0,0.0,0.0,0.0,0.0,0.0,0.0,0.0,0.0,0.0,0.0,0.0,0.0,1.0,1.0,1.0,1.0,1.0,1.0,1.0,1.0,1.0,1.0,1.0,1.0,1.0,1.0,1.0,1.0,1.0,1.0,1.0,1.0,1.0,1.0,1.0,1.0,1.0,1.0,0.0,0.0,0.0,0.0,0.0,0.0,1.0,1.0,1.0,1.0,1.0,1.0,1.0,1.0,1.0,1.0,1.0,1.0,1.0,1.0,1.0,1.0,1.0,1.0,1.0,1.0,1.0,1.0,1.0,1.0,0.0,0.0,0.0,0.0,0.0,0.0,0.0,0.0,0.0,0.0,0.0,0.0,0.0,0.0,0.0,0.0],[0.0,0.0,0.0,0.0,0.0,0.0,0.0,0.0,0.0,0.0,0.0,0.0,0.0,0.0,0.0,0.0,0.0,0.0,0.0,0.0,0.0,0.0,0.0,0.0,0.0,0.0,0.0,0.0,0.0,0.0,0.0,0.0,0.0,0.0,0.0,0.0,0.0,0.0,0.0,0.0,0.0,0.0,0.0,0.0,0.0,0.0,0.0,1.0,1.0,1.0,1.0,1.0,1.0,1.0,1.0,1.0,1.0,1.0,1.0,1.0,1.0,1.0,1.0,1.0,1.0,1.0,1.0,1.0,1.0,1.0,1.0,1.0,1.0,1.0,0.0,0.0,0.0,0.0,0.0,0.0,0.0,1.0,1.0,1.0,1.0,1.0,1.0,1.0,1.0,1.0,1.0,1.0,1.0,1.0,1.0,1.0,1.0,1.0,1.0,1.0,1.0,1.0,1.0,1.0,1.0,0.0,0.0,0.0,0.0,0.0,0.0,0.0,0.0,0.0,0.0,0.0,0.0,0.0,0.0,0.0],[0.0,0.0,0.0,0.0,0.0,0.0,0.0,0.0,0.0,0.0,0.0,0.0,0.0,0.0,0.0,0.0,0.0,0.0,0.0,0.0,0.0,0.0,0.0,0.0,0.0,0.0,0.0,0.0,0.0,0.0,0.0,0.0,0.0,0.0,0.0,0.0,0.0,0.0,0.0,0.0,0.0,0.0,0.0,0.0,0.0,0.0,1.0,1.0,1.0,1.0,1.0,1.0,1.0,1.0,1.0,1.0,1.0,1.0,1.0,1.0,1.0,1.0,1.0,1.0,1.0,1.0,1.0,1.0,1.0,1.0,1.0,1.0,1.0,1.0,1.0,0.0,0.0,0.0,0.0,0.0,0.0,1.0,1.0,1.0,1.0,1.0,1.0,1.0,1.0,1.0,1.0,1.0,1.0,1.0,1.0,1.0,1.0,1.0,1.0,1.0,1.0,1.0,1.0,1.0,1.0,1.0,0.0,0.0,0.0,0.0,0.0,0.0,0.0,0.0,0.0,0.0,0.0,0.0,0.0,0.0],[0.0,0.0,0.0,0.0,0.0,0.0,0.0,0.0,0.0,0.0,0.0,0.0,0.0,0.0,0.0,0.0,0.0,0.0,0.0,0.0,0.0,0.0,0.0,0.0,0.0,0.0,0.0,0.0,0.0,0.0,0.0,0.0,0.0,0.0,0.0,0.0,0.0,0.0,0.0,0.0,0.0,0.0,0.0,0.0,0.0,1.0,1.0,1.0,1.0,1.0,1.0,1.0,1.0,1.0,1.0,1.0,1.0,1.0,1.0,1.0,1.0,1.0,1.0,1.0,1.0,1.0,1.0,1.0,1.0,1.0,1.0,1.0,1.0,1.0,1.0,0.0,0.0,0.0,0.0,0.0,0.0,0.0,1.0,1.0,1.0,1.0,1.0,1.0,1.0,1.0,1.0,1.0,1.0,1.0,1.0,1.0,1.0,1.0,1.0,1.0,1.0,1.0,1.0,1.0,1.0,1.0,1.0,0.0,0.0,0.0,0.0,0.0,0.0,0.0,0.0,0.0,0.0,0.0,0.0,0.0],[0.0,0.0,0.0,0.0,0.0,0.0,0.0,0.0,0.0,0.0,0.0,0.0,0.0,0.0,0.0,0.0,0.0,0.0,0.0,0.0,0.0,0.0,0.0,0.0,0.0,0.0,0.0,0.0,0.0,0.0,0.0,0.0,0.0,0.0,0.0,0.0,0.0,0.0,0.0,0.0,0.0,0.0,0.0,1.0,1.0,1.0,1.0,1.0,1.0,1.0,1.0,1.0,1.0,1.0,1.0,1.0,1.0,1.0,1.0,1.0,1.0,1.0,1.0,1.0,1.0,1.0,1.0,1.0,1.0,1.0,1.0,1.0,1.0,1.0,1.0,0.0,0.0,0.0,0.0,0.0,0.0,0.0,0.0,1.0,1.0,1.0,1.0,1.0,1.0,1.0,1.0,1.0,1.0,1.0,1.0,1.0,1.0,1.0,1.0,1.0,1.0,1.0,1.0,1.0,1.0,1.0,1.0,0.0,0.0,0.0,0.0,0.0,0.0,0.0,0.0,0.0,0.0,0.0,0.0,0.0],[0.0,0.0,0.0,0.0,0.0,0.0,0.0,0.0,0.0,0.0,0.0,0.0,0.0,0.0,0.0,0.0,0.0,0.0,0.0,0.0,0.0,0.0,0.0,0.0,0.0,0.0,0.0,0.0,0.0,0.0,0.0,0.0,0.0,0.0,0.0,0.0,0.0,0.0,0.0,0.0,0.0,0.0,1.0,1.0,1.0,1.0,1.0,1.0,1.0,1.0,1.0,1.0,1.0,1.0,1.0,1.0,1.0,1.0,1.0,1.0,1.0,1.0,1.0,1.0,1.0,1.0,1.0,1.0,1.0,1.0,1.0,1.0,1.0,1.0,1.0,1.0,0.0,0.0,0.0,0.0,0.0,0.0,0.0,1.0,1.0,1.0,1.0,1.0,1.0,1.0,1.0,1.0,1.0,1.0,1.0,1.0,1.0,1.0,1.0,1.0,1.0,1.0,1.0,1.0,1.0,1.0,1.0,1.0,0.0,0.0,0.0,0.0,0.0,0.0,0.0,0.0,0.0,0.0,0.0,0.0],[0.0,0.0,0.0,0.0,0.0,0.0,0.0,0.0,0.0,0.0,0.0,0.0,0.0,0.0,0.0,0.0,0.0,0.0,0.0,0.0,0.0,0.0,0.0,0.0,0.0,0.0,0.0,0.0,0.0,0.0,0.0,0.0,0.0,0.0,0.0,0.0,0.0,0.0,0.0,0.0,0.0,0.0,1.0,1.0,1.0,1.0,1.0,1.0,1.0,1.0,1.0,1.0,1.0,1.0,1.0,1.0,1.0,1.0,1.0,1.0,1.0,1.0,1.0,1.0,1.0,1.0,1.0,1.0,1.0,1.0,1.0,1.0,1.0,1.0,1.0,1.0,0.0,0.0,0.0,0.0,0.0,0.0,0.0,0.0,1.0,1.0,1.0,1.0,1.0,1.0,1.0,1.0,1.0,1.0,1.0,1.0,1.0,1.0,1.0,1.0,1.0,1.0,1.0,1.0,1.0,1.0,1.0,1.0,1.0,0.0,0.0,0.0,0.0,0.0,0.0,0.0,0.0,0.0,0.0,0.0],[0.0,0.0,0.0,0.0,0.0,0.0,0.0,0.0,0.0,0.0,0.0,0.0,0.0,0.0,0.0,0.0,0.0,0.0,0.0,0.0,0.0,0.0,0.0,0.0,0.0,0.0,0.0,0.0,0.0,0.0,0.0,0.0,0.0,0.0,0.0,0.0,0.0,0.0,0.0,0.0,0.0,0.0,1.0,1.0,1.0,1.0,1.0,1.0,1.0,1.0,1.0,1.0,1.0,1.0,1.0,1.0,1.0,1.0,1.0,1.0,1.0,1.0,1.0,1.0,1.0,1.0,1.0,1.0,1.0,1.0,1.0,1.0,1.0,1.0,1.0,1.0,0.0,0.0,0.0,0.0,0.0,0.0,0.0,0.0,0.0,1.0,1.0,1.0,1.0,1.0,1.0,1.0,1.0,1.0,1.0,1.0,1.0,1.0,1.0,1.0,1.0,1.0,1.0,1.0,1.0,1.0,1.0,1.0,1.0,0.0,0.0,0.0,0.0,0.0,0.0,0.0,0.0,0.0,0.0,0.0],[0.0,0.0,0.0,0.0,0.0,0.0,0.0,0.0,0.0,0.0,0.0,0.0,0.0,0.0,0.0,0.0,0.0,0.0,0.0,0.0,0.0,0.0,0.0,0.0,0.0,0.0,0.0,0.0,0.0,0.0,0.0,0.0,0.0,0.0,0.0,0.0,0.0,0.0,0.0,0.0,0.0,0.0,1.0,1.0,1.0,1.0,1.0,1.0,1.0,1.0,1.0,1.0,1.0,1.0,1.0,1.0,1.0,1.0,1.0,1.0,1.0,1.0,1.0,1.0,1.0,1.0,1.0,1.0,1.0,1.0,1.0,1.0,1.0,1.0,1.0,1.0,1.0,0.0,0.0,0.0,0.0,0.0,0.0,0.0,0.0,1.0,1.0,1.0,1.0,1.0,1.0,1.0,1.0,1.0,1.0,1.0,1.0,1.0,1.0,1.0,1.0,1.0,1.0,1.0,1.0,1.0,1.0,1.0,1.0,1.0,0.0,0.0,0.0,0.0,0.0,0.0,0.0,0.0,0.0,0.0],[0.0,0.0,0.0,0.0,0.0,0.0,0.0,0.0,0.0,0.0,0.0,0.0,0.0,0.0,0.0,0.0,0.0,0.0,0.0,0.0,0.0,0.0,0.0,0.0,0.0,0.0,0.0,0.0,0.0,0.0,0.0,0.0,0.0,0.0,0.0,0.0,0.0,0.0,0.0,0.0,0.0,1.0,1.0,1.0,1.0,1.0,1.0,1.0,1.0,1.0,1.0,1.0,1.0,1.0,1.0,1.0,1.0,1.0,1.0,1.0,1.0,1.0,1.0,1.0,1.0,1.0,1.0,1.0,1.0,1.0,1.0,1.0,1.0,1.0,1.0,1.0,0.0,0.0,0.0,0.0,0.0,0.0,0.0,0.0,0.0,0.0,1.0,1.0,1.0,1.0,1.0,1.0,1.0,1.0,1.0,1.0,1.0,1.0,1.0,1.0,1.0,1.0,1.0,1.0,1.0,1.0,1.0,1.0,1.0,1.0,1.0,0.0,0.0,0.0,0.0,0.0,0.0,0.0,0.0,0.0],[0.0,0.0,0.0,0.0,0.0,0.0,0.0,0.0,0.0,0.0,0.0,0.0,0.0,0.0,0.0,0.0,0.0,0.0,0.0,0.0,0.0,0.0,0.0,0.0,0.0,0.0,0.0,0.0,0.0,0.0,0.0,0.0,0.0,0.0,0.0,0.0,0.0,0.0,0.0,0.0,0.0,1.0,1.0,1.0,1.0,1.0,1.0,1.0,1.0,1.0,1.0,1.0,1.0,1.0,1.0,1.0,1.0,1.0,1.0,1.0,1.0,1.0,1.0,1.0,1.0,1.0,1.0,1.0,1.0,1.0,1.0,1.0,1.0,1.0,1.0,1.0,0.0,0.0,0.0,0.0,0.0,0.0,0.0,0.0,0.0,0.0,0.0,1.0,1.0,1.0,1.0,1.0,1.0,1.0,1.0,1.0,1.0,1.0,1.0,1.0,1.0,1.0,1.0,1.0,1.0,1.0,1.0,1.0,1.0,1.0,1.0,0.0,0.0,0.0,0.0,0.0,0.0,0.0,0.0,0.0],[0.0,0.0,0.0,0.0,0.0,0.0,0.0,0.0,0.0,0.0,0.0,0.0,0.0,0.0,0.0,0.0,0.0,0.0,0.0,0.0,0.0,0.0,0.0,0.0,0.0,0.0,0.0,0.0,0.0,0.0,0.0,0.0,0.0,0.0,0.0,0.0,0.0,0.0,0.0,0.0,0.0,1.0,1.0,1.0,1.0,1.0,1.0,1.0,1.0,1.0,1.0,1.0,1.0,1.0,1.0,1.0,1.0,1.0,1.0,1.0,1.0,1.0,1.0,1.0,1.0,1.0,1.0,1.0,1.0,1.0,1.0,1.0,1.0,1.0,1.0,1.0,0.0,0.0,0.0,0.0,0.0,0.0,0.0,0.0,0.0,0.0,0.0,1.0,1.0,1.0,1.0,1.0,1.0,1.0,1.0,1.0,1.0,1.0,1.0,1.0,1.0,1.0,1.0,1.0,1.0,1.0,1.0,1.0,1.0,1.0,1.0,1.0,0.0,0.0,0.0,0.0,0.0,0.0,0.0,0.0],[0.0,0.0,0.0,0.0,0.0,0.0,0.0,0.0,0.0,0.0,0.0,0.0,0.0,0.0,0.0,0.0,0.0,0.0,0.0,0.0,0.0,0.0,0.0,0.0,0.0,0.0,0.0,0.0,0.0,0.0,0.0,0.0,0.0,0.0,0.0,0.0,0.0,0.0,0.0,0.0,0.0,1.0,1.0,1.0,1.0,1.0,1.0,1.0,1.0,1.0,1.0,1.0,1.0,1.0,1.0,1.0,1.0,1.0,1.0,1.0,1.0,1.0,1.0,1.0,1.0,1.0,1.0,1.0,1.0,1.0,1.0,1.0,1.0,1.0,1.0,1.0,0.0,0.0,0.0,0.0,0.0,0.0,0.0,0.0,0.0,0.0,0.0,0.0,1.0,1.0,1.0,1.0,1.0,1.0,1.0,1.0,1.0,1.0,1.0,1.0,1.0,1.0,1.0,1.0,1.0,1.0,1.0,1.0,1.0,1.0,1.0,1.0,0.0,0.0,0.0,0.0,0.0,0.0,0.0,0.0],[0.0,0.0,0.0,0.0,0.0,0.0,0.0,0.0,0.0,0.0,0.0,0.0,0.0,0.0,0.0,0.0,0.0,0.0,0.0,0.0,0.0,0.0,0.0,0.0,0.0,0.0,0.0,0.0,0.0,0.0,0.0,0.0,0.0,0.0,0.0,0.0,0.0,0.0,0.0,0.0,0.0,0.0,1.0,1.0,1.0,1.0,1.0,1.0,1.0,1.0,1.0,1.0,1.0,1.0,1.0,1.0,1.0,1.0,1.0,1.0,1.0,1.0,1.0,1.0,1.0,1.0,1.0,1.0,1.0,1.0,1.0,1.0,1.0,1.0,1.0,0.0,0.0,0.0,0.0,0.0,0.0,0.0,0.0,0.0,0.0,0.0,0.0,0.0,0.0,1.0,1.0,1.0,1.0,1.0,1.0,1.0,1.0,1.0,1.0,1.0,1.0,1.0,1.0,1.0,1.0,1.0,1.0,1.0,1.0,1.0,1.0,1.0,0.0,0.0,0.0,0.0,0.0,0.0,0.0,0.0],[0.0,0.0,0.0,0.0,0.0,0.0,0.0,0.0,0.0,0.0,0.0,0.0,0.0,0.0,0.0,0.0,0.0,0.0,0.0,0.0,0.0,0.0,0.0,0.0,0.0,0.0,0.0,0.0,0.0,0.0,0.0,0.0,0.0,0.0,0.0,0.0,0.0,0.0,0.0,0.0,0.0,0.0,0.0,0.0,1.0,1.0,1.0,1.0,1.0,1.0,1.0,1.0,1.0,1.0,1.0,1.0,1.0,1.0,1.0,1.0,1.0,1.0,1.0,1.0,1.0,1.0,1.0,1.0,1.0,1.0,1.0,1.0,1.0,1.0,1.0,0.0,0.0,0.0,0.0,0.0,0.0,0.0,0.0,0.0,0.0,0.0,0.0,0.0,0.0,1.0,1.0,1.0,1.0,1.0,1.0,1.0,1.0,1.0,1.0,1.0,1.0,1.0,1.0,1.0,1.0,1.0,1.0,1.0,1.0,1.0,1.0,0.0,0.0,0.0,0.0,0.0,0.0,0.0,0.0,0.0],[0.0,0.0,0.0,0.0,0.0,0.0,0.0,0.0,0.0,0.0,0.0,0.0,0.0,0.0,0.0,0.0,0.0,0.0,0.0,0.0,0.0,0.0,0.0,0.0,0.0,0.0,0.0,0.0,0.0,0.0,0.0,0.0,0.0,0.0,0.0,0.0,0.0,0.0,0.0,0.0,0.0,0.0,0.0,0.0,1.0,1.0,1.0,1.0,1.0,1.0,1.0,1.0,1.0,1.0,1.0,1.0,1.0,1.0,1.0,1.0,1.0,1.0,1.0,1.0,1.0,1.0,1.0,1.0,1.0,1.0,1.0,1.0,1.0,1.0,1.0,0.0,0.0,0.0,0.0,0.0,0.0,0.0,0.0,0.0,0.0,0.0,0.0,0.0,0.0,0.0,1.0,1.0,1.0,1.0,1.0,1.0,1.0,1.0,1.0,1.0,1.0,1.0,1.0,1.0,1.0,1.0,1.0,1.0,1.0,1.0,1.0,0.0,0.0,0.0,0.0,0.0,0.0,0.0,0.0,0.0],[0.0,0.0,0.0,0.0,0.0,0.0,0.0,0.0,0.0,0.0,0.0,0.0,0.0,0.0,0.0,0.0,0.0,0.0,0.0,0.0,0.0,0.0,0.0,0.0,0.0,0.0,0.0,0.0,0.0,0.0,0.0,0.0,0.0,0.0,0.0,0.0,0.0,0.0,0.0,0.0,0.0,0.0,0.0,0.0,1.0,1.0,1.0,1.0,1.0,1.0,1.0,1.0,1.0,1.0,1.0,1.0,1.0,1.0,1.0,1.0,1.0,1.0,1.0,1.0,1.0,1.0,1.0,1.0,1.0,1.0,1.0,1.0,1.0,1.0,1.0,0.0,0.0,0.0,0.0,0.0,0.0,0.0,0.0,0.0,0.0,0.0,0.0,0.0,0.0,0.0,0.0,1.0,1.0,1.0,1.0,1.0,1.0,1.0,1.0,1.0,1.0,1.0,1.0,1.0,1.0,1.0,1.0,1.0,1.0,1.0,0.0,0.0,0.0,0.0,0.0,0.0,0.0,0.0,0.0,0.0],[0.0,0.0,0.0,0.0,0.0,0.0,0.0,0.0,0.0,0.0,0.0,0.0,0.0,0.0,0.0,0.0,0.0,0.0,0.0,0.0,0.0,0.0,0.0,0.0,0.0,0.0,0.0,0.0,0.0,0.0,0.0,0.0,0.0,0.0,0.0,0.0,0.0,0.0,0.0,0.0,0.0,0.0,0.0,0.0,1.0,1.0,1.0,1.0,1.0,1.0,1.0,1.0,1.0,1.0,1.0,1.0,1.0,1.0,1.0,1.0,1.0,1.0,1.0,1.0,1.0,1.0,1.0,1.0,1.0,1.0,1.0,1.0,1.0,1.0,1.0,0.0,0.0,0.0,0.0,0.0,0.0,0.0,0.0,0.0,0.0,0.0,0.0,0.0,0.0,0.0,0.0,1.0,1.0,1.0,1.0,1.0,1.0,1.0,1.0,1.0,1.0,1.0,1.0,1.0,1.0,1.0,1.0,1.0,1.0,0.0,0.0,0.0,0.0,0.0,0.0,0.0,0.0,0.0,0.0,0.0],[0.0,0.0,0.0,0.0,0.0,0.0,0.0,0.0,0.0,0.0,0.0,0.0,0.0,0.0,0.0,0.0,0.0,0.0,0.0,0.0,0.0,0.0,0.0,0.0,0.0,0.0,0.0,0.0,0.0,0.0,0.0,0.0,0.0,0.0,0.0,0.0,0.0,0.0,0.0,0.0,0.0,0.0,0.0,0.0,0.0,1.0,1.0,1.0,1.0,1.0,1.0,1.0,1.0,1.0,1.0,1.0,1.0,1.0,1.0,1.0,1.0,1.0,1.0,1.0,1.0,1.0,1.0,1.0,1.0,1.0,1.0,1.0,1.0,1.0,0.0,0.0,0.0,0.0,0.0,0.0,0.0,0.0,0.0,0.0,0.0,0.0,0.0,0.0,0.0,0.0,0.0,0.0,1.0,1.0,1.0,1.0,1.0,1.0,1.0,1.0,1.0,1.0,1.0,1.0,1.0,1.0,1.0,1.0,1.0,0.0,0.0,0.0,0.0,0.0,0.0,0.0,0.0,0.0,0.0,0.0],[0.0,0.0,0.0,0.0,0.0,0.0,0.0,0.0,0.0,0.0,0.0,0.0,0.0,0.0,0.0,0.0,0.0,0.0,0.0,0.0,0.0,0.0,0.0,0.0,0.0,0.0,0.0,0.0,0.0,0.0,0.0,0.0,0.0,0.0,0.0,0.0,0.0,0.0,0.0,0.0,0.0,0.0,0.0,0.0,0.0,1.0,1.0,1.0,1.0,1.0,1.0,1.0,1.0,1.0,1.0,1.0,1.0,1.0,1.0,1.0,1.0,1.0,1.0,1.0,1.0,1.0,1.0,1.0,1.0,1.0,1.0,1.0,1.0,1.0,0.0,0.0,0.0,0.0,0.0,0.0,0.0,0.0,0.0,0.0,0.0,0.0,0.0,0.0,0.0,0.0,0.0,0.0,0.0,1.0,1.0,1.0,1.0,1.0,1.0,1.0,1.0,1.0,1.0,1.0,1.0,1.0,1.0,1.0,0.0,0.0,0.0,0.0,0.0,0.0,0.0,0.0,0.0,0.0,0.0,0.0],[0.0,0.0,0.0,0.0,0.0,0.0,0.0,0.0,0.0,0.0,0.0,0.0,0.0,0.0,0.0,0.0,0.0,0.0,0.0,0.0,0.0,0.0,0.0,0.0,0.0,0.0,0.0,0.0,0.0,0.0,0.0,0.0,0.0,0.0,0.0,0.0,0.0,0.0,0.0,0.0,0.0,0.0,0.0,0.0,0.0,1.0,1.0,1.0,1.0,1.0,1.0,1.0,1.0,1.0,1.0,1.0,1.0,1.0,1.0,1.0,1.0,1.0,1.0,1.0,1.0,1.0,1.0,1.0,1.0,1.0,1.0,1.0,1.0,1.0,0.0,0.0,0.0,0.0,0.0,0.0,0.0,0.0,0.0,0.0,0.0,0.0,0.0,0.0,0.0,0.0,0.0,0.0,0.0,1.0,1.0,1.0,1.0,1.0,1.0,1.0,1.0,1.0,1.0,1.0,1.0,1.0,1.0,1.0,0.0,0.0,0.0,0.0,0.0,0.0,0.0,0.0,0.0,0.0,0.0,0.0],[0.0,0.0,0.0,0.0,0.0,0.0,0.0,0.0,0.0,0.0,0.0,0.0,0.0,0.0,0.0,0.0,0.0,0.0,0.0,0.0,0.0,0.0,0.0,0.0,0.0,0.0,0.0,0.0,0.0,0.0,0.0,0.0,0.0,0.0,0.0,0.0,0.0,0.0,0.0,0.0,0.0,0.0,0.0,0.0,0.0,1.0,1.0,1.0,1.0,1.0,1.0,1.0,1.0,1.0,1.0,1.0,1.0,1.0,1.0,1.0,1.0,1.0,1.0,1.0,1.0,1.0,1.0,1.0,1.0,1.0,1.0,1.0,1.0,1.0,0.0,0.0,0.0,0.0,0.0,0.0,0.0,0.0,0.0,0.0,0.0,0.0,0.0,0.0,0.0,0.0,0.0,0.0,0.0,0.0,1.0,1.0,1.0,1.0,1.0,1.0,1.0,1.0,1.0,1.0,1.0,1.0,1.0,0.0,0.0,0.0,0.0,0.0,0.0,0.0,0.0,0.0,0.0,0.0,0.0,0.0],[0.0,0.0,0.0,0.0,0.0,0.0,0.0,0.0,0.0,0.0,0.0,0.0,0.0,0.0,0.0,0.0,0.0,0.0,0.0,0.0,0.0,0.0,0.0,0.0,0.0,0.0,0.0,0.0,0.0,0.0,0.0,0.0,0.0,0.0,0.0,0.0,0.0,0.0,0.0,0.0,0.0,0.0,0.0,0.0,0.0,1.0,1.0,1.0,1.0,1.0,1.0,1.0,1.0,1.0,1.0,1.0,1.0,1.0,1.0,1.0,1.0,1.0,1.0,1.0,1.0,1.0,1.0,1.0,1.0,1.0,1.0,1.0,1.0,1.0,0.0,0.0,0.0,0.0,0.0,0.0,0.0,0.0,0.0,0.0,0.0,0.0,0.0,0.0,0.0,0.0,0.0,0.0,0.0,0.0,0.0,1.0,1.0,1.0,1.0,1.0,1.0,1.0,1.0,1.0,1.0,1.0,1.0,0.0,0.0,0.0,0.0,0.0,0.0,0.0,0.0,0.0,0.0,0.0,0.0,0.0],[0.0,0.0,0.0,0.0,0.0,0.0,0.0,0.0,0.0,0.0,0.0,0.0,0.0,0.0,0.0,0.0,0.0,0.0,0.0,0.0,0.0,0.0,0.0,0.0,0.0,0.0,0.0,0.0,0.0,0.0,0.0,0.0,0.0,0.0,0.0,0.0,0.0,0.0,0.0,0.0,0.0,0.0,0.0,0.0,0.0,0.0,1.0,1.0,1.0,1.0,1.0,1.0,1.0,1.0,1.0,1.0,1.0,1.0,1.0,1.0,1.0,1.0,1.0,1.0,1.0,1.0,1.0,1.0,1.0,1.0,1.0,1.0,1.0,0.0,0.0,0.0,0.0,0.0,0.0,0.0,0.0,0.0,0.0,0.0,0.0,0.0,0.0,0.0,0.0,0.0,0.0,0.0,0.0,0.0,0.0,1.0,1.0,1.0,1.0,1.0,1.0,1.0,1.0,1.0,1.0,1.0,0.0,0.0,0.0,0.0,0.0,0.0,0.0,0.0,0.0,0.0,0.0,0.0,0.0,0.0],[0.0,0.0,0.0,0.0,0.0,0.0,0.0,0.0,0.0,0.0,0.0,0.0,0.0,0.0,0.0,0.0,0.0,0.0,0.0,0.0,0.0,0.0,0.0,0.0,0.0,0.0,0.0,0.0,0.0,0.0,0.0,0.0,0.0,0.0,0.0,0.0,0.0,0.0,0.0,0.0,0.0,0.0,0.0,0.0,0.0,0.0,1.0,1.0,1.0,1.0,1.0,1.0,1.0,1.0,1.0,1.0,1.0,1.0,1.0,1.0,1.0,1.0,1.0,1.0,1.0,1.0,1.0,1.0,1.0,1.0,1.0,1.0,1.0,0.0,0.0,0.0,0.0,0.0,0.0,0.0,0.0,0.0,0.0,0.0,0.0,0.0,0.0,0.0,0.0,0.0,0.0,0.0,0.0,0.0,0.0,0.0,0.0,1.0,1.0,1.0,1.0,1.0,1.0,1.0,1.0,0.0,0.0,0.0,0.0,0.0,0.0,0.0,0.0,0.0,0.0,0.0,0.0,0.0,0.0,0.0],[0.0,0.0,0.0,0.0,0.0,0.0,0.0,0.0,0.0,0.0,0.0,0.0,0.0,0.0,0.0,0.0,0.0,0.0,0.0,0.0,0.0,0.0,0.0,0.0,0.0,0.0,0.0,0.0,0.0,0.0,0.0,0.0,0.0,0.0,0.0,0.0,0.0,0.0,0.0,0.0,0.0,0.0,0.0,0.0,0.0,0.0,1.0,1.0,1.0,1.0,1.0,1.0,1.0,1.0,1.0,1.0,1.0,1.0,1.0,1.0,1.0,1.0,1.0,1.0,1.0,1.0,1.0,1.0,1.0,1.0,1.0,1.0,1.0,0.0,0.0,0.0,0.0,0.0,0.0,0.0,0.0,0.0,0.0,0.0,0.0,0.0,0.0,0.0,0.0,0.0,0.0,0.0,0.0,0.0,0.0,0.0,0.0,0.0,1.0,1.0,1.0,1.0,1.0,1.0,1.0,0.0,0.0,0.0,0.0,0.0,0.0,0.0,0.0,0.0,0.0,0.0,0.0,0.0,0.0,0.0],[0.0,0.0,0.0,0.0,0.0,0.0,0.0,0.0,0.0,0.0,0.0,0.0,0.0,0.0,0.0,0.0,0.0,0.0,0.0,0.0,0.0,0.0,0.0,0.0,0.0,0.0,0.0,0.0,0.0,0.0,0.0,0.0,0.0,0.0,0.0,0.0,0.0,0.0,0.0,0.0,0.0,0.0,0.0,0.0,0.0,0.0,1.0,1.0,1.0,1.0,1.0,1.0,1.0,1.0,1.0,1.0,1.0,1.0,1.0,1.0,1.0,1.0,1.0,1.0,1.0,1.0,1.0,1.0,1.0,1.0,1.0,1.0,1.0,0.0,0.0,0.0,0.0,0.0,0.0,0.0,0.0,0.0,0.0,0.0,0.0,0.0,0.0,0.0,0.0,0.0,0.0,0.0,0.0,0.0,0.0,0.0,0.0,0.0,0.0,1.0,1.0,1.0,1.0,1.0,0.0,0.0,0.0,0.0,0.0,0.0,0.0,0.0,0.0,0.0,0.0,0.0,0.0,0.0,0.0,0.0],[0.0,0.0,0.0,0.0,0.0,0.0,0.0,0.0,0.0,0.0,0.0,0.0,0.0,0.0,0.0,0.0,0.0,0.0,0.0,0.0,0.0,0.0,0.0,0.0,0.0,0.0,0.0,0.0,0.0,0.0,0.0,0.0,0.0,0.0,0.0,0.0,0.0,0.0,0.0,0.0,0.0,0.0,0.0,0.0,0.0,0.0,0.0,1.0,1.0,1.0,1.0,1.0,1.0,1.0,1.0,1.0,1.0,1.0,1.0,1.0,1.0,1.0,1.0,1.0,1.0,1.0,1.0,1.0,1.0,1.0,1.0,1.0,1.0,0.0,0.0,0.0,0.0,0.0,0.0,0.0,0.0,0.0,0.0,0.0,0.0,0.0,0.0,0.0,0.0,0.0,0.0,0.0,0.0,0.0,0.0,0.0,0.0,0.0,0.0,0.0,1.0,1.0,1.0,1.0,0.0,0.0,0.0,0.0,0.0,0.0,0.0,0.0,0.0,0.0,0.0,0.0,0.0,0.0,0.0,0.0],[0.0,0.0,0.0,0.0,0.0,0.0,0.0,0.0,0.0,0.0,0.0,0.0,0.0,0.0,0.0,0.0,0.0,0.0,0.0,0.0,0.0,0.0,0.0,0.0,0.0,0.0,0.0,0.0,0.0,0.0,0.0,0.0,0.0,0.0,0.0,0.0,0.0,0.0,0.0,0.0,0.0,0.0,0.0,0.0,0.0,0.0,0.0,1.0,1.0,1.0,1.0,1.0,1.0,1.0,1.0,1.0,1.0,1.0,1.0,1.0,1.0,1.0,1.0,1.0,1.0,1.0,1.0,1.0,1.0,1.0,1.0,1.0,0.0,0.0,0.0,0.0,0.0,0.0,0.0,0.0,0.0,0.0,0.0,0.0,0.0,0.0,0.0,0.0,0.0,0.0,0.0,0.0,0.0,0.0,0.0,0.0,0.0,0.0,0.0,0.0,0.0,0.0,1.0,0.0,0.0,0.0,0.0,0.0,0.0,0.0,0.0,0.0,0.0,0.0,0.0,0.0,0.0,0.0,0.0,0.0],[0.0,0.0,0.0,0.0,0.0,0.0,0.0,0.0,0.0,0.0,0.0,0.0,0.0,0.0,0.0,0.0,0.0,0.0,0.0,0.0,0.0,0.0,0.0,0.0,0.0,0.0,0.0,0.0,0.0,0.0,0.0,0.0,0.0,0.0,0.0,0.0,0.0,0.0,0.0,0.0,0.0,0.0,0.0,0.0,0.0,0.0,0.0,1.0,1.0,1.0,1.0,1.0,1.0,1.0,1.0,1.0,1.0,1.0,1.0,1.0,1.0,1.0,1.0,1.0,1.0,1.0,1.0,1.0,1.0,1.0,1.0,0.0,0.0,0.0,0.0,0.0,0.0,0.0,0.0,0.0,0.0,0.0,0.0,0.0,0.0,0.0,0.0,0.0,0.0,0.0,0.0,0.0,0.0,0.0,0.0,0.0,0.0,0.0,0.0,0.0,0.0,0.0,0.0,0.0,0.0,0.0,0.0,0.0,0.0,0.0,0.0,0.0,0.0,0.0,0.0,0.0,0.0,0.0,0.0,0.0],[0.0,0.0,0.0,0.0,0.0,0.0,0.0,0.0,0.0,0.0,0.0,0.0,0.0,0.0,0.0,0.0,0.0,0.0,0.0,0.0,0.0,0.0,0.0,0.0,0.0,0.0,0.0,0.0,0.0,0.0,0.0,0.0,0.0,0.0,0.0,0.0,0.0,0.0,0.0,0.0,0.0,0.0,0.0,0.0,0.0,0.0,0.0,0.0,1.0,1.0,1.0,1.0,1.0,1.0,1.0,1.0,1.0,1.0,1.0,1.0,1.0,1.0,1.0,1.0,1.0,1.0,1.0,1.0,1.0,1.0,1.0,0.0,0.0,0.0,0.0,0.0,0.0,0.0,0.0,0.0,0.0,0.0,0.0,0.0,0.0,0.0,0.0,0.0,0.0,0.0,0.0,0.0,0.0,0.0,0.0,0.0,0.0,0.0,0.0,0.0,0.0,0.0,0.0,0.0,0.0,0.0,0.0,0.0,0.0,0.0,0.0,0.0,0.0,0.0,0.0,0.0,0.0,0.0,0.0,0.0],[0.0,0.0,0.0,0.0,0.0,0.0,0.0,0.0,0.0,0.0,0.0,0.0,0.0,0.0,0.0,0.0,0.0,0.0,0.0,0.0,0.0,0.0,0.0,0.0,0.0,0.0,0.0,0.0,0.0,0.0,0.0,0.0,0.0,0.0,0.0,0.0,0.0,0.0,0.0,0.0,0.0,0.0,0.0,0.0,0.0,0.0,0.0,0.0,0.0,1.0,1.0,1.0,1.0,1.0,1.0,1.0,1.0,1.0,1.0,1.0,1.0,1.0,1.0,1.0,1.0,1.0,1.0,1.0,1.0,1.0,0.0,0.0,0.0,0.0,0.0,0.0,0.0,0.0,0.0,0.0,0.0,0.0,0.0,0.0,0.0,0.0,0.0,0.0,0.0,0.0,0.0,0.0,0.0,0.0,0.0,0.0,0.0,0.0,0.0,0.0,0.0,0.0,0.0,0.0,0.0,0.0,0.0,0.0,0.0,0.0,0.0,0.0,0.0,0.0,0.0,0.0,0.0,0.0,0.0,0.0],[0.0,0.0,0.0,0.0,0.0,0.0,0.0,0.0,0.0,0.0,0.0,0.0,0.0,0.0,0.0,0.0,0.0,0.0,0.0,0.0,0.0,0.0,0.0,0.0,0.0,0.0,0.0,0.0,0.0,0.0,0.0,0.0,0.0,0.0,0.0,0.0,0.0,0.0,0.0,0.0,0.0,0.0,0.0,0.0,0.0,0.0,0.0,0.0,0.0,0.0,1.0,1.0,1.0,1.0,1.0,1.0,1.0,1.0,1.0,1.0,1.0,1.0,1.0,1.0,1.0,1.0,1.0,1.0,1.0,1.0,0.0,0.0,0.0,0.0,0.0,0.0,0.0,0.0,0.0,0.0,0.0,0.0,0.0,0.0,0.0,0.0,0.0,0.0,0.0,0.0,0.0,0.0,0.0,0.0,0.0,0.0,0.0,0.0,0.0,0.0,0.0,0.0,0.0,0.0,0.0,0.0,0.0,0.0,0.0,0.0,0.0,0.0,0.0,0.0,0.0,0.0,0.0,0.0,0.0,0.0],[0.0,0.0,0.0,0.0,0.0,0.0,0.0,0.0,0.0,0.0,0.0,0.0,0.0,0.0,0.0,0.0,0.0,0.0,0.0,0.0,0.0,0.0,0.0,0.0,0.0,0.0,0.0,0.0,0.0,0.0,0.0,0.0,0.0,0.0,0.0,0.0,0.0,0.0,0.0,0.0,0.0,0.0,0.0,0.0,0.0,0.0,0.0,0.0,0.0,0.0,0.0,1.0,1.0,1.0,1.0,1.0,1.0,1.0,1.0,1.0,1.0,1.0,1.0,1.0,1.0,1.0,1.0,1.0,1.0,0.0,0.0,0.0,0.0,0.0,0.0,0.0,0.0,0.0,0.0,0.0,0.0,0.0,0.0,0.0,0.0,0.0,0.0,0.0,0.0,0.0,0.0,0.0,0.0,0.0,0.0,0.0,0.0,0.0,0.0,0.0,0.0,0.0,0.0,0.0,0.0,0.0,0.0,0.0,0.0,0.0,0.0,0.0,0.0,0.0,0.0,0.0,0.0,0.0,0.0,0.0],[0.0,0.0,0.0,0.0,0.0,0.0,0.0,0.0,0.0,0.0,0.0,0.0,0.0,0.0,0.0,0.0,0.0,0.0,0.0,0.0,0.0,0.0,0.0,0.0,0.0,0.0,0.0,0.0,0.0,0.0,0.0,0.0,0.0,0.0,0.0,0.0,0.0,0.0,0.0,0.0,0.0,0.0,0.0,0.0,0.0,0.0,0.0,0.0,0.0,0.0,0.0,0.0,1.0,1.0,1.0,1.0,1.0,1.0,1.0,1.0,1.0,1.0,1.0,1.0,1.0,1.0,1.0,1.0,0.0,0.0,0.0,0.0,0.0,0.0,0.0,0.0,0.0,0.0,0.0,0.0,0.0,0.0,0.0,0.0,0.0,0.0,0.0,0.0,0.0,0.0,0.0,0.0,0.0,0.0,0.0,0.0,0.0,0.0,0.0,0.0,0.0,0.0,0.0,0.0,0.0,0.0,0.0,0.0,0.0,0.0,0.0,0.0,0.0,0.0,0.0,0.0,0.0,0.0,0.0,0.0],[0.0,0.0,0.0,0.0,0.0,0.0,0.0,0.0,0.0,0.0,0.0,0.0,0.0,0.0,0.0,0.0,0.0,0.0,0.0,0.0,0.0,0.0,0.0,0.0,0.0,0.0,0.0,0.0,0.0,0.0,0.0,0.0,0.0,0.0,0.0,0.0,0.0,0.0,0.0,0.0,0.0,0.0,0.0,0.0,0.0,0.0,0.0,0.0,0.0,0.0,0.0,0.0,0.0,1.0,1.0,1.0,1.0,1.0,1.0,1.0,1.0,1.0,1.0,1.0,1.0,1.0,1.0,1.0,0.0,0.0,0.0,0.0,0.0,0.0,0.0,0.0,0.0,0.0,0.0,0.0,0.0,0.0,0.0,0.0,0.0,0.0,0.0,0.0,0.0,0.0,0.0,0.0,0.0,0.0,0.0,0.0,0.0,0.0,0.0,0.0,0.0,0.0,0.0,0.0,0.0,0.0,0.0,0.0,0.0,0.0,0.0,0.0,0.0,0.0,0.0,0.0,0.0,0.0,0.0,0.0],[0.0,0.0,0.0,0.0,0.0,0.0,0.0,0.0,0.0,0.0,0.0,0.0,0.0,0.0,0.0,0.0,0.0,0.0,0.0,0.0,0.0,0.0,0.0,0.0,0.0,0.0,0.0,0.0,0.0,0.0,0.0,0.0,0.0,0.0,0.0,0.0,0.0,0.0,0.0,0.0,0.0,0.0,0.0,0.0,0.0,0.0,0.0,0.0,0.0,0.0,0.0,0.0,0.0,0.0,1.0,1.0,1.0,1.0,1.0,1.0,1.0,1.0,1.0,1.0,1.0,1.0,1.0,0.0,0.0,0.0,0.0,0.0,0.0,0.0,0.0,0.0,0.0,0.0,0.0,0.0,0.0,0.0,0.0,0.0,0.0,0.0,0.0,0.0,0.0,0.0,0.0,0.0,0.0,0.0,0.0,0.0,0.0,0.0,0.0,0.0,0.0,0.0,0.0,0.0,0.0,0.0,0.0,0.0,0.0,0.0,0.0,0.0,0.0,0.0,0.0,0.0,0.0,0.0,0.0,0.0],[0.0,0.0,0.0,0.0,0.0,0.0,0.0,0.0,0.0,0.0,0.0,0.0,0.0,0.0,0.0,0.0,0.0,0.0,0.0,0.0,0.0,0.0,0.0,0.0,0.0,0.0,0.0,0.0,0.0,0.0,0.0,0.0,0.0,0.0,0.0,0.0,0.0,0.0,0.0,0.0,0.0,0.0,0.0,0.0,0.0,0.0,0.0,0.0,0.0,0.0,0.0,0.0,0.0,0.0,0.0,1.0,1.0,1.0,1.0,1.0,1.0,1.0,1.0,1.0,1.0,1.0,1.0,0.0,0.0,0.0,0.0,0.0,0.0,0.0,0.0,0.0,0.0,0.0,0.0,0.0,0.0,0.0,0.0,0.0,0.0,0.0,0.0,0.0,0.0,0.0,0.0,0.0,0.0,0.0,0.0,0.0,0.0,0.0,0.0,0.0,0.0,0.0,0.0,0.0,0.0,0.0,0.0,0.0,0.0,0.0,0.0,0.0,0.0,0.0,0.0,0.0,0.0,0.0,0.0,0.0],[0.0,0.0,0.0,0.0,0.0,0.0,0.0,0.0,0.0,0.0,0.0,0.0,0.0,0.0,0.0,0.0,0.0,0.0,0.0,0.0,0.0,0.0,0.0,0.0,0.0,0.0,0.0,0.0,0.0,0.0,0.0,0.0,0.0,0.0,0.0,0.0,0.0,0.0,0.0,0.0,0.0,0.0,0.0,0.0,0.0,0.0,0.0,0.0,0.0,0.0,0.0,0.0,0.0,0.0,0.0,1.0,1.0,1.0,1.0,1.0,1.0,1.0,1.0,1.0,1.0,1.0,1.0,0.0,0.0,0.0,0.0,0.0,0.0,0.0,0.0,0.0,0.0,0.0,0.0,0.0,0.0,0.0,0.0,0.0,0.0,0.0,0.0,0.0,0.0,0.0,0.0,0.0,0.0,0.0,0.0,0.0,0.0,0.0,0.0,0.0,0.0,0.0,0.0,0.0,0.0,0.0,0.0,0.0,0.0,0.0,0.0,0.0,0.0,0.0,0.0,0.0,0.0,0.0,0.0,0.0],[0.0,0.0,0.0,0.0,0.0,0.0,0.0,0.0,0.0,0.0,0.0,0.0,0.0,0.0,0.0,0.0,0.0,0.0,0.0,0.0,0.0,0.0,0.0,0.0,0.0,0.0,0.0,0.0,0.0,0.0,0.0,0.0,0.0,0.0,0.0,0.0,0.0,0.0,0.0,0.0,0.0,0.0,0.0,0.0,0.0,0.0,0.0,0.0,0.0,0.0,0.0,0.0,0.0,0.0,0.0,1.0,1.0,1.0,1.0,1.0,1.0,1.0,1.0,1.0,1.0,1.0,1.0,1.0,0.0,0.0,0.0,0.0,0.0,0.0,0.0,0.0,0.0,0.0,0.0,0.0,0.0,0.0,0.0,0.0,0.0,0.0,0.0,0.0,0.0,0.0,0.0,0.0,0.0,0.0,0.0,0.0,0.0,0.0,0.0,0.0,0.0,0.0,0.0,0.0,0.0,0.0,0.0,0.0,0.0,0.0,0.0,0.0,0.0,0.0,0.0,0.0,0.0,0.0,0.0,0.0],[0.0,0.0,0.0,0.0,0.0,0.0,0.0,0.0,0.0,0.0,0.0,0.0,0.0,0.0,0.0,0.0,0.0,0.0,0.0,0.0,0.0,0.0,0.0,0.0,0.0,0.0,0.0,0.0,0.0,0.0,0.0,0.0,0.0,0.0,0.0,0.0,0.0,0.0,0.0,0.0,0.0,0.0,0.0,0.0,0.0,0.0,0.0,0.0,0.0,0.0,0.0,0.0,0.0,0.0,0.0,1.0,1.0,1.0,1.0,1.0,1.0,1.0,1.0,1.0,1.0,1.0,1.0,1.0,0.0,0.0,0.0,0.0,0.0,0.0,0.0,0.0,0.0,0.0,0.0,0.0,0.0,0.0,0.0,0.0,0.0,0.0,0.0,0.0,0.0,0.0,0.0,0.0,0.0,0.0,0.0,0.0,0.0,0.0,0.0,0.0,0.0,0.0,0.0,0.0,0.0,0.0,0.0,0.0,0.0,0.0,0.0,0.0,0.0,0.0,0.0,0.0,0.0,0.0,0.0,0.0],[0.0,0.0,0.0,0.0,0.0,0.0,0.0,0.0,0.0,0.0,0.0,0.0,0.0,0.0,0.0,0.0,0.0,0.0,0.0,0.0,0.0,0.0,0.0,0.0,0.0,0.0,0.0,0.0,0.0,0.0,0.0,0.0,0.0,0.0,0.0,0.0,0.0,0.0,0.0,0.0,0.0,0.0,0.0,0.0,0.0,0.0,0.0,0.0,0.0,0.0,0.0,0.0,0.0,0.0,0.0,1.0,1.0,1.0,1.0,1.0,1.0,1.0,1.0,1.0,1.0,1.0,1.0,1.0,0.0,0.0,0.0,0.0,0.0,0.0,0.0,0.0,0.0,0.0,0.0,0.0,0.0,0.0,0.0,0.0,0.0,0.0,0.0,0.0,0.0,0.0,0.0,0.0,0.0,0.0,0.0,0.0,0.0,0.0,0.0,0.0,0.0,0.0,0.0,0.0,0.0,0.0,0.0,0.0,0.0,0.0,0.0,0.0,0.0,0.0,0.0,0.0,0.0,0.0,0.0,0.0],[0.0,0.0,0.0,0.0,0.0,0.0,0.0,0.0,0.0,0.0,0.0,0.0,0.0,0.0,0.0,0.0,0.0,0.0,0.0,0.0,0.0,0.0,0.0,0.0,0.0,0.0,0.0,0.0,0.0,0.0,0.0,0.0,0.0,0.0,0.0,0.0,0.0,0.0,0.0,0.0,0.0,0.0,0.0,0.0,0.0,0.0,0.0,0.0,0.0,0.0,0.0,0.0,0.0,0.0,0.0,1.0,1.0,1.0,1.0,1.0,1.0,1.0,1.0,1.0,1.0,1.0,1.0,1.0,0.0,0.0,0.0,0.0,0.0,0.0,0.0,0.0,0.0,0.0,0.0,0.0,0.0,0.0,0.0,0.0,0.0,0.0,0.0,0.0,0.0,0.0,0.0,0.0,0.0,0.0,0.0,0.0,0.0,0.0,0.0,0.0,0.0,0.0,0.0,0.0,0.0,0.0,0.0,0.0,0.0,0.0,0.0,0.0,0.0,0.0,0.0,0.0,0.0,0.0,0.0,0.0],[0.0,0.0,0.0,0.0,0.0,0.0,0.0,0.0,0.0,0.0,0.0,0.0,0.0,0.0,0.0,0.0,0.0,0.0,0.0,0.0,0.0,0.0,0.0,0.0,0.0,0.0,0.0,0.0,0.0,0.0,0.0,0.0,0.0,0.0,0.0,0.0,0.0,0.0,0.0,0.0,0.0,0.0,0.0,0.0,0.0,0.0,0.0,0.0,0.0,0.0,0.0,0.0,0.0,0.0,0.0,1.0,1.0,1.0,1.0,1.0,1.0,1.0,1.0,1.0,1.0,1.0,1.0,1.0,1.0,0.0,0.0,0.0,0.0,0.0,0.0,0.0,0.0,0.0,0.0,0.0,0.0,0.0,0.0,0.0,0.0,0.0,0.0,0.0,0.0,0.0,0.0,0.0,0.0,0.0,0.0,0.0,0.0,0.0,0.0,0.0,0.0,0.0,0.0,0.0,0.0,0.0,0.0,0.0,0.0,0.0,0.0,0.0,0.0,0.0,0.0,0.0,0.0,0.0,0.0,0.0],[0.0,0.0,0.0,0.0,0.0,0.0,0.0,0.0,0.0,0.0,0.0,0.0,0.0,0.0,0.0,0.0,0.0,0.0,0.0,0.0,0.0,0.0,0.0,0.0,0.0,0.0,0.0,0.0,0.0,0.0,0.0,0.0,0.0,0.0,0.0,0.0,0.0,0.0,0.0,0.0,0.0,0.0,0.0,0.0,0.0,0.0,0.0,0.0,0.0,0.0,0.0,0.0,0.0,0.0,0.0,1.0,1.0,1.0,1.0,1.0,1.0,1.0,1.0,1.0,1.0,1.0,1.0,1.0,1.0,0.0,0.0,0.0,0.0,0.0,0.0,0.0,0.0,0.0,0.0,0.0,0.0,0.0,0.0,0.0,0.0,0.0,0.0,0.0,0.0,0.0,0.0,0.0,0.0,0.0,0.0,0.0,0.0,0.0,0.0,0.0,0.0,0.0,0.0,0.0,0.0,0.0,0.0,0.0,0.0,0.0,0.0,0.0,0.0,0.0,0.0,0.0,0.0,0.0,0.0,0.0],[0.0,0.0,0.0,0.0,0.0,0.0,0.0,0.0,0.0,0.0,0.0,0.0,0.0,0.0,0.0,0.0,0.0,0.0,0.0,0.0,0.0,0.0,0.0,0.0,0.0,0.0,0.0,0.0,0.0,0.0,0.0,0.0,0.0,0.0,0.0,0.0,0.0,0.0,0.0,0.0,0.0,0.0,0.0,0.0,0.0,0.0,0.0,0.0,0.0,0.0,0.0,0.0,0.0,0.0,0.0,0.0,1.0,1.0,1.0,1.0,1.0,1.0,1.0,1.0,1.0,1.0,1.0,1.0,1.0,0.0,0.0,0.0,0.0,0.0,0.0,0.0,0.0,0.0,0.0,0.0,0.0,0.0,0.0,0.0,0.0,0.0,0.0,0.0,0.0,0.0,0.0,0.0,0.0,0.0,0.0,0.0,0.0,0.0,0.0,0.0,0.0,0.0,0.0,0.0,0.0,0.0,0.0,0.0,0.0,0.0,0.0,0.0,0.0,0.0,0.0,0.0,0.0,0.0,0.0,0.0],[0.0,0.0,0.0,0.0,0.0,0.0,0.0,0.0,0.0,0.0,0.0,0.0,0.0,0.0,0.0,0.0,0.0,0.0,0.0,0.0,0.0,0.0,0.0,0.0,0.0,0.0,0.0,0.0,0.0,0.0,0.0,0.0,0.0,0.0,0.0,0.0,0.0,0.0,0.0,0.0,0.0,0.0,0.0,0.0,0.0,0.0,0.0,0.0,0.0,0.0,0.0,0.0,0.0,0.0,0.0,0.0,1.0,1.0,1.0,1.0,1.0,1.0,1.0,1.0,1.0,1.0,1.0,1.0,1.0,0.0,0.0,0.0,0.0,0.0,0.0,0.0,0.0,0.0,0.0,0.0,0.0,0.0,0.0,0.0,0.0,0.0,0.0,0.0,0.0,0.0,0.0,0.0,0.0,0.0,0.0,0.0,0.0,0.0,0.0,0.0,0.0,0.0,0.0,0.0,0.0,0.0,0.0,0.0,0.0,0.0,0.0,0.0,0.0,0.0,0.0,0.0,0.0,0.0,0.0,0.0],[0.0,0.0,0.0,0.0,0.0,0.0,0.0,0.0,0.0,0.0,0.0,0.0,0.0,0.0,0.0,0.0,0.0,0.0,0.0,0.0,0.0,0.0,0.0,0.0,0.0,0.0,0.0,0.0,0.0,0.0,0.0,0.0,0.0,0.0,0.0,0.0,0.0,0.0,0.0,0.0,0.0,0.0,0.0,0.0,0.0,0.0,0.0,0.0,0.0,0.0,0.0,0.0,0.0,0.0,0.0,0.0,1.0,1.0,1.0,1.0,1.0,1.0,1.0,1.0,1.0,1.0,1.0,1.0,1.0,0.0,0.0,0.0,0.0,0.0,0.0,0.0,0.0,0.0,0.0,0.0,0.0,0.0,0.0,0.0,0.0,0.0,0.0,0.0,0.0,0.0,0.0,0.0,0.0,0.0,0.0,0.0,0.0,0.0,0.0,0.0,0.0,0.0,0.0,0.0,0.0,0.0,0.0,0.0,0.0,0.0,0.0,0.0,0.0,0.0,0.0,0.0,0.0,0.0,0.0,0.0],[0.0,0.0,0.0,0.0,0.0,0.0,0.0,0.0,0.0,0.0,0.0,0.0,0.0,0.0,0.0,0.0,0.0,0.0,0.0,0.0,0.0,0.0,0.0,0.0,0.0,0.0,0.0,0.0,0.0,0.0,0.0,0.0,0.0,0.0,0.0,0.0,0.0,0.0,0.0,0.0,0.0,0.0,0.0,0.0,0.0,0.0,0.0,0.0,0.0,0.0,0.0,0.0,0.0,0.0,0.0,0.0,1.0,1.0,1.0,1.0,1.0,1.0,1.0,1.0,1.0,1.0,1.0,1.0,1.0,0.0,0.0,0.0,0.0,0.0,0.0,0.0,0.0,0.0,0.0,0.0,0.0,0.0,0.0,0.0,0.0,0.0,0.0,0.0,0.0,0.0,0.0,0.0,0.0,0.0,0.0,0.0,0.0,0.0,0.0,0.0,0.0,0.0,0.0,0.0,0.0,0.0,0.0,0.0,0.0,0.0,0.0,0.0,0.0,0.0,0.0,0.0,0.0,0.0,0.0,0.0],[0.0,0.0,0.0,0.0,0.0,0.0,0.0,0.0,0.0,0.0,0.0,0.0,0.0,0.0,0.0,0.0,0.0,0.0,0.0,0.0,0.0,0.0,0.0,0.0,0.0,0.0,0.0,0.0,0.0,0.0,0.0,0.0,0.0,0.0,0.0,0.0,0.0,0.0,0.0,0.0,0.0,0.0,0.0,0.0,0.0,0.0,0.0,0.0,0.0,0.0,0.0,0.0,0.0,0.0,0.0,0.0,1.0,1.0,1.0,1.0,1.0,1.0,1.0,1.0,1.0,1.0,1.0,1.0,1.0,0.0,0.0,0.0,0.0,0.0,0.0,0.0,0.0,0.0,0.0,0.0,0.0,0.0,0.0,0.0,0.0,0.0,0.0,0.0,0.0,0.0,0.0,0.0,0.0,0.0,0.0,0.0,0.0,0.0,0.0,0.0,0.0,0.0,0.0,0.0,0.0,0.0,0.0,0.0,0.0,0.0,0.0,0.0,0.0,0.0,0.0,0.0,0.0,0.0,0.0,0.0],[0.0,0.0,0.0,0.0,0.0,0.0,0.0,0.0,0.0,0.0,0.0,0.0,0.0,0.0,0.0,0.0,0.0,0.0,0.0,0.0,0.0,0.0,0.0,0.0,0.0,0.0,0.0,0.0,0.0,0.0,0.0,0.0,0.0,0.0,0.0,0.0,0.0,0.0,0.0,0.0,0.0,0.0,0.0,0.0,0.0,0.0,0.0,0.0,0.0,0.0,0.0,0.0,0.0,0.0,0.0,0.0,1.0,1.0,1.0,1.0,1.0,1.0,1.0,1.0,1.0,1.0,1.0,1.0,1.0,0.0,0.0,0.0,0.0,0.0,0.0,0.0,0.0,0.0,0.0,0.0,0.0,0.0,0.0,0.0,0.0,0.0,0.0,0.0,0.0,0.0,0.0,0.0,0.0,0.0,0.0,0.0,0.0,0.0,0.0,0.0,0.0,0.0,0.0,0.0,0.0,0.0,0.0,0.0,0.0,0.0,0.0,0.0,0.0,0.0,0.0,0.0,0.0,0.0,0.0,0.0],[0.0,0.0,0.0,0.0,0.0,0.0,0.0,0.0,0.0,0.0,0.0,0.0,0.0,0.0,0.0,0.0,0.0,0.0,0.0,0.0,0.0,0.0,0.0,0.0,0.0,0.0,0.0,0.0,0.0,0.0,0.0,0.0,0.0,0.0,0.0,0.0,0.0,0.0,0.0,0.0,0.0,0.0,0.0,0.0,0.0,0.0,0.0,0.0,0.0,0.0,0.0,0.0,0.0,0.0,0.0,0.0,0.0,1.0,1.0,1.0,1.0,1.0,1.0,1.0,1.0,1.0,1.0,1.0,1.0,0.0,0.0,0.0,0.0,0.0,0.0,0.0,0.0,0.0,0.0,0.0,0.0,0.0,0.0,0.0,0.0,0.0,0.0,0.0,0.0,0.0,0.0,0.0,0.0,0.0,0.0,0.0,0.0,0.0,0.0,0.0,0.0,0.0,0.0,0.0,0.0,0.0,0.0,0.0,0.0,0.0,0.0,0.0,0.0,0.0,0.0,0.0,0.0,0.0,0.0,0.0],[0.0,0.0,0.0,0.0,0.0,0.0,0.0,0.0,0.0,0.0,0.0,0.0,0.0,0.0,0.0,0.0,0.0,0.0,0.0,0.0,0.0,0.0,0.0,0.0,0.0,0.0,0.0,0.0,0.0,0.0,0.0,0.0,0.0,0.0,0.0,0.0,0.0,0.0,0.0,0.0,0.0,0.0,0.0,0.0,0.0,0.0,0.0,0.0,0.0,0.0,0.0,0.0,0.0,0.0,0.0,0.0,0.0,1.0,1.0,1.0,1.0,1.0,1.0,1.0,1.0,1.0,1.0,1.0,1.0,0.0,0.0,0.0,0.0,0.0,0.0,0.0,0.0,0.0,0.0,0.0,0.0,0.0,0.0,0.0,0.0,0.0,0.0,0.0,0.0,0.0,0.0,0.0,0.0,0.0,0.0,0.0,0.0,0.0,0.0,0.0,0.0,0.0,0.0,0.0,0.0,0.0,0.0,0.0,0.0,0.0,0.0,0.0,0.0,0.0,0.0,0.0,0.0,0.0,0.0,0.0],[0.0,0.0,0.0,0.0,0.0,0.0,0.0,0.0,0.0,0.0,0.0,0.0,0.0,0.0,0.0,0.0,0.0,0.0,0.0,0.0,0.0,0.0,0.0,0.0,0.0,0.0,0.0,0.0,0.0,0.0,0.0,0.0,0.0,0.0,0.0,0.0,0.0,0.0,0.0,0.0,0.0,0.0,0.0,0.0,0.0,0.0,0.0,0.0,0.0,0.0,0.0,0.0,0.0,0.0,0.0,0.0,0.0,1.0,1.0,1.0,1.0,1.0,1.0,1.0,1.0,1.0,1.0,1.0,1.0,0.0,0.0,0.0,0.0,0.0,0.0,0.0,0.0,0.0,0.0,0.0,0.0,0.0,0.0,0.0,0.0,0.0,0.0,0.0,0.0,0.0,0.0,0.0,0.0,0.0,0.0,0.0,0.0,0.0,0.0,0.0,0.0,0.0,0.0,0.0,0.0,0.0,0.0,0.0,0.0,0.0,0.0,0.0,0.0,0.0,0.0,0.0,0.0,0.0,0.0,0.0],[0.0,0.0,0.0,0.0,0.0,0.0,0.0,0.0,0.0,0.0,0.0,0.0,0.0,0.0,0.0,0.0,0.0,0.0,0.0,0.0,0.0,0.0,0.0,0.0,0.0,0.0,0.0,0.0,0.0,0.0,0.0,0.0,0.0,0.0,0.0,0.0,0.0,0.0,0.0,0.0,0.0,0.0,0.0,0.0,0.0,0.0,0.0,0.0,0.0,0.0,0.0,0.0,0.0,0.0,0.0,0.0,0.0,1.0,1.0,1.0,1.0,1.0,1.0,1.0,1.0,1.0,1.0,1.0,1.0,0.0,0.0,0.0,0.0,0.0,0.0,0.0,0.0,0.0,0.0,0.0,0.0,0.0,0.0,0.0,0.0,0.0,0.0,0.0,0.0,0.0,0.0,0.0,0.0,0.0,0.0,0.0,0.0,0.0,0.0,0.0,0.0,0.0,0.0,0.0,0.0,0.0,0.0,0.0,0.0,0.0,0.0,0.0,0.0,0.0,0.0,0.0,0.0,0.0,0.0,0.0]],\"type\":\"heatmap\",\"xaxis\":\"x\",\"yaxis\":\"y\",\"hovertemplate\":\"x: %{x}\\u003cbr\\u003ey: %{y}\\u003cbr\\u003ecolor: %{z}\\u003cextra\\u003e\\u003c\\u002fextra\\u003e\"},{\"coloraxis\":\"coloraxis\",\"name\":\"1\",\"z\":[[null,null,null,null,null,null,null,null,null,null,null,null,null,null,null,null,null,null,null,null,null,null,null,null,null,null,null,null,null,null,null,null,null,null,null,null,null,null,null,null,null,null,null,null,null,null,null,null,null,null,null,null,null,null,null,null,null,null,null,null,null,null,null,null,null,null,null,null,null,null,null,null,null,null,null,null,null,null,null,null,null,null,null,null,null,null,null,null,null,null,null,null,null,null,null,null,null,null,null,null,null,null,null,null,null,null,null,null,null,null,null,null,null,null,null,null,null,null,null,null],[null,null,null,null,null,null,null,null,null,null,null,null,null,null,null,null,null,null,null,null,null,null,null,null,null,null,null,null,null,null,null,null,null,null,null,null,null,null,null,null,null,null,null,null,null,null,null,null,null,null,null,null,null,null,null,null,null,null,null,null,null,null,null,null,null,null,null,null,null,null,null,null,null,null,null,null,null,null,null,null,null,null,null,null,null,null,null,null,null,null,null,null,null,null,null,null,null,null,null,null,null,null,null,null,null,null,null,null,null,null,null,null,null,null,null,null,null,null,null,null],[null,null,null,null,null,null,null,null,null,null,null,null,null,null,null,null,null,null,null,null,null,null,null,null,null,null,null,null,null,null,null,null,null,null,null,null,null,null,null,null,null,null,null,null,null,null,null,null,null,null,null,null,null,null,null,null,null,null,null,null,null,null,null,null,null,null,null,null,null,null,null,null,null,null,null,null,null,null,null,null,null,null,null,null,null,null,null,null,null,null,null,null,null,null,null,null,null,null,null,null,null,null,null,null,null,null,null,null,null,null,null,null,null,null,null,null,null,null,null,null],[null,null,null,null,null,null,null,null,null,null,null,null,null,null,null,null,null,null,null,null,null,null,null,null,null,null,null,null,null,null,null,null,null,null,null,null,null,null,null,null,null,null,null,null,null,null,null,null,null,null,null,null,null,null,null,null,null,null,null,null,null,null,null,null,null,null,null,null,null,null,null,null,null,null,null,null,null,null,null,null,null,null,null,null,null,null,null,null,null,null,null,null,null,null,null,null,null,null,null,null,null,null,null,null,null,null,null,null,null,null,null,null,null,null,null,null,null,null,null,null],[null,null,null,null,null,null,null,null,null,null,null,null,null,null,null,null,null,null,null,null,null,null,null,null,null,null,null,null,null,null,null,null,null,null,null,null,null,null,null,null,null,null,null,null,null,null,null,null,null,null,null,null,null,null,null,null,null,null,null,null,null,null,null,null,null,null,null,null,null,null,null,null,null,null,null,null,null,null,null,null,null,null,null,null,null,null,null,null,null,null,null,null,null,null,null,null,null,null,null,null,null,null,null,null,null,null,null,null,null,null,null,null,null,null,null,null,null,null,null,null],[null,null,null,null,null,null,null,null,null,null,null,null,null,null,null,null,null,null,null,null,null,null,null,null,null,null,null,null,null,null,null,null,null,null,null,null,null,null,null,null,null,null,null,null,null,null,null,null,null,null,null,null,null,null,null,null,null,null,null,null,null,null,null,null,null,null,null,null,null,null,null,null,null,null,null,null,null,null,null,null,null,null,null,null,null,null,null,null,null,null,null,null,null,null,null,null,null,null,null,null,null,null,null,null,null,null,null,null,null,null,null,null,null,null,null,null,null,null,null,null],[null,null,null,null,null,null,null,null,null,null,null,null,null,null,null,null,null,null,null,null,null,null,null,null,null,null,null,null,null,null,null,null,null,null,null,null,null,null,null,null,null,null,null,null,null,null,null,null,null,null,null,null,null,null,null,null,null,null,null,null,null,null,null,null,null,null,null,null,null,null,null,null,null,null,null,null,null,null,null,null,null,null,null,null,null,null,null,null,null,null,null,null,null,null,null,null,null,null,null,null,null,null,null,null,null,null,null,null,null,null,null,null,null,null,null,null,null,null,null,null],[null,null,null,null,null,null,null,null,null,null,null,null,null,null,null,null,null,null,null,null,null,null,null,null,null,null,null,null,null,null,null,null,null,null,null,null,null,null,null,null,null,null,null,null,null,null,null,null,null,null,null,null,null,null,null,null,null,null,null,null,null,null,null,null,null,null,null,null,null,null,null,null,null,null,null,null,null,null,null,null,null,null,null,null,null,null,null,null,null,null,null,null,null,null,null,null,null,null,null,null,null,null,null,null,null,null,null,null,null,null,null,null,null,null,null,null,null,null,null,null],[null,null,null,null,null,null,null,null,null,null,null,null,null,null,null,null,null,null,null,null,null,null,null,null,null,null,null,null,null,null,null,null,null,null,null,null,null,null,null,null,null,null,null,null,null,null,null,null,null,null,null,null,null,null,null,null,null,null,null,null,null,null,null,null,null,null,null,null,null,null,null,null,null,null,null,null,null,null,null,null,null,null,null,null,null,null,null,null,null,null,null,null,null,null,null,null,null,null,null,null,null,null,null,null,null,null,null,null,null,null,null,null,null,null,null,null,null,null,null,null],[null,null,null,null,null,null,null,null,null,null,null,null,null,null,null,null,null,null,null,null,null,null,null,null,null,null,null,null,null,null,null,null,null,null,null,null,null,null,null,null,null,null,null,null,null,null,null,null,null,null,null,null,null,null,null,null,null,null,null,null,null,null,null,null,null,null,null,null,null,null,null,null,null,null,null,null,null,null,null,null,null,null,null,null,null,null,null,null,null,null,null,null,null,null,null,null,null,null,null,null,null,null,null,null,null,null,null,null,null,null,null,null,null,null,null,null,null,null,null,null],[null,null,null,null,null,null,null,null,null,null,null,null,null,null,null,null,null,null,null,null,null,null,null,null,null,null,null,null,null,null,null,null,null,null,null,null,null,null,null,null,null,null,null,null,null,null,null,null,null,null,null,null,null,null,null,null,null,null,null,null,null,null,null,null,null,null,null,null,null,null,null,null,null,null,null,null,null,null,null,null,null,null,null,null,null,null,null,null,null,null,null,null,null,null,null,null,null,null,null,null,null,null,null,null,null,null,null,null,null,null,null,null,null,null,null,null,null,null,null,null],[null,null,null,null,null,null,null,null,null,null,null,null,null,null,null,null,null,null,null,null,null,null,null,null,null,null,null,null,null,null,null,null,null,null,null,null,null,null,null,null,null,null,null,null,null,null,null,null,null,null,null,null,null,null,null,null,null,null,null,null,null,null,null,null,null,null,null,null,null,null,null,null,null,null,null,null,null,null,null,null,null,null,null,null,null,null,null,null,null,null,null,null,null,null,null,null,null,null,null,null,null,null,null,null,null,null,null,null,null,null,null,null,null,null,null,null,null,null,null,null],[null,null,null,null,null,null,null,null,null,null,null,null,null,null,null,null,null,null,null,null,null,null,null,null,null,null,null,null,null,null,null,null,null,null,null,null,null,null,null,null,null,null,null,null,null,null,null,null,null,null,null,null,null,null,null,null,null,null,null,null,null,null,null,null,null,null,null,null,null,null,null,null,null,null,null,null,null,null,null,null,null,null,null,null,null,null,null,null,null,null,null,null,null,null,null,null,null,null,null,null,null,null,null,null,null,null,null,null,null,null,null,null,null,null,null,null,null,null,null,null],[null,null,null,null,null,null,null,null,null,null,null,null,null,null,null,null,null,null,null,null,null,null,null,null,null,null,null,null,null,null,null,null,null,null,null,null,null,null,null,null,null,null,null,null,null,null,null,null,1.763848900794983,null,null,null,null,null,null,null,null,null,null,null,null,null,null,null,null,null,null,null,null,null,null,null,null,null,null,null,null,null,null,null,null,null,null,null,null,null,null,null,null,null,null,null,null,null,null,null,null,null,null,null,null,null,null,null,null,null,null,null,null,null,null,null,null,null,null,null,null,null,null,null],[null,null,null,null,null,null,null,null,null,null,null,null,null,null,null,null,null,null,null,null,null,null,null,null,null,null,null,null,null,null,null,null,null,null,null,null,null,null,null,null,null,null,null,null,null,null,null,null,1.7662092447280884,1.7660903930664062,1.776150107383728,null,null,null,null,null,null,null,null,null,null,null,null,null,null,null,null,null,null,null,null,null,null,null,null,null,null,null,null,null,null,null,null,null,null,null,null,null,null,null,null,null,null,null,null,null,null,null,null,null,null,null,null,null,null,null,null,null,null,null,null,null,null,null,null,null,null,null,null,null],[null,null,null,null,null,null,null,null,null,null,null,null,null,null,null,null,null,null,null,null,null,null,null,null,null,null,null,null,null,null,null,null,null,null,null,null,null,null,null,null,null,null,null,null,null,null,1.8251826763153076,1.816359043121338,1.8086507320404053,1.7592288255691528,1.7688357830047607,1.7793183326721191,1.7902767658233643,1.8017231225967407,null,null,null,null,null,null,null,null,null,null,null,null,null,null,null,null,null,null,null,null,null,null,null,null,null,null,null,null,null,null,null,null,null,null,null,null,null,null,null,null,null,null,null,null,null,null,null,null,null,null,null,null,null,null,null,null,null,null,null,null,null,null,null,null,null,null],[null,null,null,null,null,null,null,null,null,null,null,null,null,null,null,null,null,null,null,null,null,null,null,null,null,null,null,null,null,null,null,null,null,null,null,null,null,null,null,null,null,null,null,null,null,null,null,1.8128036260604858,1.8050274848937988,1.7681947946548462,1.761669635772705,1.7721160650253296,1.782225251197815,1.7925807237625122,1.8041752576828003,1.8179829120635986,null,null,null,null,null,null,null,null,null,null,null,null,null,null,null,null,null,null,null,null,null,null,null,null,null,null,null,null,null,null,null,null,null,null,null,null,null,null,null,null,null,null,null,null,null,null,null,null,null,null,null,null,null,null,null,null,null,null,null,null,null,null,null,null],[null,null,null,null,null,null,null,null,null,null,null,null,null,null,null,null,null,null,null,null,null,null,null,null,null,null,null,null,null,null,null,null,null,null,null,null,null,null,null,null,null,null,null,null,null,1.8793556690216064,1.86955988407135,1.819636583328247,1.8015767335891724,1.7776110172271729,1.7623426914215088,1.7630208730697632,1.7728519439697266,1.7831497192382812,1.7939428091049194,1.8076802492141724,1.821994662284851,1.8369015455245972,1.8524173498153687,null,null,null,null,null,null,null,null,null,null,null,null,null,null,null,null,null,null,null,null,null,null,null,null,null,null,null,null,null,null,null,null,null,null,null,null,null,null,null,null,null,null,null,null,null,null,null,null,null,null,null,null,null,null,null,null,null,null,null,null,null],[null,null,null,null,null,null,null,null,null,null,null,null,null,null,null,null,null,null,null,null,null,null,null,null,null,null,null,null,null,null,null,null,null,null,null,null,null,null,null,null,null,null,null,null,null,null,1.8582947254180908,1.8488589525222778,1.8069401979446411,1.7877957820892334,1.7732641696929932,1.75923752784729,1.7636480331420898,1.7738893032073975,1.7846119403839111,1.7975549697875977,1.8118033409118652,1.826647162437439,1.8421028852462769,1.8581875562667847,1.8749176263809204,null,null,null,null,null,null,null,null,null,null,null,null,null,null,null,null,null,null,null,null,null,null,null,null,null,null,null,null,null,null,null,null,null,null,null,null,null,null,null,null,null,null,null,null,null,null,null,null,null,null,null,null,null,null,null,null,null,null,null],[null,null,null,null,null,null,null,null,null,null,null,null,null,null,null,null,null,null,null,null,null,null,null,null,null,null,null,null,null,null,null,null,null,null,null,null,null,null,null,null,null,null,null,null,null,null,1.8642122745513916,1.8392055034637451,1.8150213956832886,1.7995649576187134,1.7847251892089844,1.7704038619995117,1.756592869758606,1.7648062705993652,1.775476336479187,1.7876133918762207,1.8017971515655518,1.8165793418884277,1.831976294517517,1.8480054140090942,1.8646835088729858,1.8820286989212036,1.9000591039657593,null,null,null,null,null,null,null,null,null,null,null,null,null,null,null,null,null,null,null,null,null,null,null,null,null,null,null,null,null,null,null,null,null,null,null,null,null,null,null,null,null,null,null,null,null,null,null,null,null,null,null,null,null,null,null,null,null],[null,null,null,null,null,null,null,null,null,null,null,null,null,null,null,null,null,null,null,null,null,null,null,null,null,null,null,null,null,null,null,null,null,null,null,null,null,null,null,null,null,null,null,null,null,null,null,1.8456472158432007,1.8276164531707764,1.8119148015975952,1.7967543601989746,1.7821263074874878,1.7680226564407349,1.7559068202972412,1.766525387763977,1.777862310409546,1.791982650756836,1.8067045211791992,1.8220444917678833,1.838019609451294,1.8546472787857056,1.8719452619552612,1.88993239402771,1.9086270332336426,1.9280482530593872,1.9482163190841675,null,null,null,null,null,null,null,null,null,null,null,null,null,null,null,null,null,null,null,null,null,null,null,null,null,null,null,null,null,null,null,null,null,null,null,null,null,null,null,null,null,null,null,null,null,null,null,null,null,null,null,null,null,null],[null,null,null,null,null,null,null,null,null,null,null,null,null,null,null,null,null,null,null,null,null,null,null,null,null,null,null,null,null,null,null,null,null,null,null,null,null,null,null,null,null,null,null,null,null,null,null,1.8575376272201538,1.8409276008605957,1.8248770236968994,1.8093825578689575,1.794434905052185,1.7800259590148926,1.766146183013916,1.757766604423523,1.7688372135162354,1.7823671102523804,1.7970300912857056,1.8123143911361694,1.8282371759414673,1.8448158502578735,1.862068772315979,1.880014181137085,1.8986707925796509,1.9180582761764526,1.9381966590881348,1.959106206893921,1.9727097749710083,null,null,null,null,null,null,null,null,null,null,null,null,null,null,null,null,null,null,null,null,null,null,null,null,null,null,null,null,null,null,null,null,null,null,null,null,null,null,null,null,null,null,null,null,null,null,null,null,null,null,null,null],[null,null,null,null,null,null,null,null,null,null,null,null,null,null,null,null,null,null,null,null,null,null,null,null,null,null,null,null,null,null,null,null,null,null,null,null,null,null,null,null,null,null,null,null,null,null,null,null,1.8548743724822998,1.8384687900543213,1.8226345777511597,1.807361364364624,1.7926340103149414,1.7784507274627686,1.76480233669281,1.760231852531433,1.7729573249816895,1.7875630855560303,1.802793264389038,1.8186653852462769,1.835196852684021,1.8524060249328613,1.8703116178512573,1.8825030326843262,1.8935766220092773,1.9051445722579956,1.9172135591506958,1.9297900199890137,1.9428799152374268,null,null,null,null,null,null,null,null,null,null,null,null,null,null,null,null,null,null,null,null,null,null,null,null,null,null,null,null,null,null,null,null,null,null,null,null,null,null,null,null,null,null,null,null,null,null,null,null,null,null,null],[null,null,null,null,null,null,null,null,null,null,null,null,null,null,null,null,null,null,null,null,null,null,null,null,null,null,null,null,null,null,null,null,null,null,null,null,null,null,null,null,null,null,null,null,null,null,null,null,1.8695132732391357,1.8527288436889648,1.8365318775177002,1.8209129571914673,1.805862545967102,1.7913708686828613,1.7774286270141602,1.7640188932418823,1.7637604475021362,1.778310775756836,1.7934887409210205,1.8043102025985718,1.8131567239761353,1.8224647045135498,1.8322402238845825,1.8424901962280273,1.8532205820083618,1.8644378185272217,1.8761482238769531,1.8883581161499023,1.9010730981826782,null,null,null,null,null,null,null,null,null,null,null,null,null,null,null,null,null,null,null,null,null,null,null,null,null,null,null,null,null,null,null,null,null,null,null,null,null,null,null,null,null,null,null,null,null,null,null,null,null,null,null],[null,null,null,null,null,null,null,null,null,null,null,null,null,null,null,null,null,null,null,null,null,null,null,null,null,null,null,null,null,null,null,null,null,null,null,null,null,null,null,null,null,null,null,null,null,null,null,null,null,1.8677059412002563,1.851130485534668,1.8351496458053589,1.8197531700134277,1.8049312829971313,1.790674090385437,1.776971697807312,1.7438732385635376,1.7511411905288696,1.7588040828704834,1.7669025659561157,1.7754489183425903,1.7844502925872803,1.7939127683639526,1.803842306137085,1.8142458200454712,1.8251289129257202,1.8364976644515991,1.8483582735061646,1.8607161045074463,1.8735769987106323,null,null,null,null,null,null,null,null,null,null,null,null,null,null,null,null,null,null,null,null,null,null,null,null,null,null,null,null,null,null,null,null,null,null,null,null,null,null,null,null,null,null,null,null,null,null,null,null,null,null],[null,null,null,null,null,null,null,null,null,null,null,null,null,null,null,null,null,null,null,null,null,null,null,null,null,null,null,null,null,null,null,null,null,null,null,null,null,null,null,null,null,null,null,null,null,null,null,null,null,null,1.8664692640304565,1.850110411643982,1.8343526124954224,1.819185733795166,1.7620036602020264,1.7023499011993408,1.7084263563156128,1.7154228687286377,1.7228492498397827,1.7307119369506836,1.739013433456421,1.7477223873138428,1.7568860054016113,1.7665107250213623,1.7766022682189941,1.787166714668274,1.7982099056243896,1.809737205505371,1.8217543363571167,1.8342671394348145,1.8472801446914673,null,null,null,null,null,null,null,null,null,null,null,null,null,null,null,null,null,null,null,null,null,null,null,null,null,null,null,null,null,null,null,null,null,null,null,null,null,null,null,null,null,null,null,null,null,null,null,null,null],[null,null,null,null,null,null,null,null,null,null,null,null,null,null,null,null,null,null,null,null,null,null,null,null,null,null,null,null,null,null,null,null,null,null,null,null,null,null,null,null,null,null,null,null,null,null,null,null,null,null,1.8825900554656982,1.865835428237915,1.8021799325942993,1.7388485670089722,1.6800017356872559,1.667844295501709,1.674164056777954,1.6809016466140747,1.688063621520996,1.6956567764282227,1.7036868333816528,1.7121607065200806,1.7210839986801147,1.730448603630066,1.740242600440979,1.7505030632019043,1.7612353563308716,1.7724450826644897,1.78413724899292,1.796317458152771,1.8089905977249146,1.8221617937088013,2.21038818359375,2.220996856689453,2.232091188430786,2.2436716556549072,2.2557373046875,null,null,null,null,null,null,null,null,null,null,null,null,null,null,null,null,null,null,null,null,null,null,null,null,null,null,null,null,null,null,null,null,null,null,null,null,null,null,null,null,null,null,null],[null,null,null,null,null,null,null,null,null,null,null,null,null,null,null,null,null,null,null,null,null,null,null,null,null,null,null,null,null,null,null,null,null,null,null,null,null,null,null,null,null,null,null,null,null,null,null,null,null,null,1.8463214635849,1.7791918516159058,1.716705322265625,1.6586178541183472,1.6292966604232788,1.6349687576293945,1.6410466432571411,1.6475374698638916,1.6544476747512817,1.6617830991744995,1.6695502996444702,1.677755355834961,1.6864043474197388,1.6955029964447021,1.7050567865371704,1.715071439743042,1.7255278825759888,1.7364341020584106,1.7478162050247192,1.7596789598464966,1.7720274925231934,1.784866452217102,1.7982006072998047,2.197643756866455,2.200734853744507,2.2122647762298584,2.2242791652679443,2.2367453575134277,2.2496705055236816,2.2630743980407715,2.27695631980896,2.291313409805298,2.3061442375183105,2.321445941925049,2.337216377258301,2.3534529209136963,2.370152711868286,2.3873131275177,2.40493106842041,2.423003911972046,2.441528081893921,2.460500717163086,2.4799187183380127,2.4997785091400146,2.5200769901275635,null,null,null,null,null,null,null,null,null,null,null,null,null,null,null,null,null,null,null,null,null,null,null,null,null],[null,null,null,null,null,null,null,null,null,null,null,null,null,null,null,null,null,null,null,null,null,null,null,null,null,null,null,null,null,null,null,null,null,null,null,null,null,null,null,null,null,null,null,null,null,null,null,null,null,1.8227287530899048,1.7565902471542358,1.695186734199524,1.6380654573440552,1.5926918983459473,1.5977431535720825,1.6031889915466309,1.6090365648269653,1.6152918338775635,1.6219615936279297,1.6290515661239624,1.6365679502487183,1.6445167064666748,1.6529035568237305,1.6617344617843628,1.671014428138733,1.6807492971420288,1.6909443140029907,1.7016043663024902,1.7127346992492676,1.7243051528930664,1.7363437414169312,1.7488652467727661,1.7618745565414429,1.7753758430480957,2.2032039165496826,2.1933300495147705,2.1934220790863037,2.2058141231536865,2.218686103820801,2.232036828994751,2.2458643913269043,2.2601568698883057,2.274876356124878,2.290064811706543,2.305720329284668,2.3218393325805664,2.3384199142456055,2.3554582595825195,2.3729522228240967,2.3908982276916504,2.4092931747436523,2.428133964538574,2.4474174976348877,2.467139959335327,2.487298011779785,null,null,null,null,null,null,null,null,null,null,null,null,null,null,null,null,null,null,null,null,null,null,null,null,null],[null,null,null,null,null,null,null,null,null,null,null,null,null,null,null,null,null,null,null,null,null,null,null,null,null,null,null,null,null,null,null,null,null,null,null,null,null,null,null,null,null,null,null,null,null,null,null,null,1.8002575635910034,1.735000729560852,1.6743853092193604,1.6278141736984253,1.6022412776947021,1.5812894105911255,1.5839017629623413,1.5868303775787354,1.590129017829895,1.5938022136688232,1.5978540182113647,1.6022881269454956,1.607108235359192,1.6124054193496704,1.6205421686172485,1.6291172504425049,1.6381360292434692,1.6476037502288818,1.6575253009796143,1.6679058074951172,1.6787501573562622,1.6900629997253418,1.7018486261367798,1.7141114473342896,1.7268110513687134,1.7399946451187134,2.2198362350463867,2.2097411155700684,2.200242519378662,2.191322088241577,2.188429355621338,2.201673746109009,2.21539306640625,2.2295854091644287,2.2442479133605957,2.2593791484832764,2.274975538253784,2.2910349369049072,2.3075106143951416,2.324429988861084,2.3418021202087402,2.3596243858337402,2.37789249420166,2.396604299545288,2.4157557487487793,2.4353432655334473,2.455364227294922,2.4758143424987793,null,null,null,null,null,null,null,null,null,null,null,null,null,null,null,null,null,null,null,null,null,null,null,null],[null,null,null,null,null,null,null,null,null,null,null,null,null,null,null,null,null,null,null,null,null,null,null,null,null,null,null,null,null,null,null,null,null,null,null,null,null,null,null,null,null,null,null,null,null,null,null,1.7788903713226318,1.7144628763198853,1.677717924118042,1.6498489379882812,1.6231268644332886,1.5975053310394287,1.5734871625900269,1.576223373413086,1.5791224241256714,1.5823948383331299,1.5860445499420166,1.5900757312774658,1.5944923162460327,1.599298119544983,1.6044965982437134,1.6100910902023315,1.6160849332809448,1.6224806308746338,1.6292811632156372,1.636488914489746,1.6441062688827515,1.652134895324707,1.660577416419983,1.6694347858428955,1.6804420948028564,1.6928867101669312,1.7058100700378418,1.71920645236969,2.2270030975341797,2.2172839641571045,2.2081570625305176,2.1996042728424072,2.1916074752807617,2.185729742050171,2.1998143196105957,2.214367628097534,2.2293872833251953,2.244870185852051,2.2608134746551514,2.2772152423858643,2.2940709590911865,2.3113787174224854,2.329134702682495,2.3473141193389893,2.365898847579956,2.384920835494995,2.40437650680542,2.424262285232544,2.4445741176605225,2.4653093814849854,null,null,null,null,null,null,null,null,null,null,null,null,null,null,null,null,null,null,null,null,null,null,null],[null,null,null,null,null,null,null,null,null,null,null,null,null,null,null,null,null,null,null,null,null,null,null,null,null,null,null,null,null,null,null,null,null,null,null,null,null,null,null,null,null,null,null,null,null,null,1.7646677494049072,1.732957363128662,1.7025587558746338,1.6734164953231812,1.6454789638519287,1.6186968088150024,1.593023419380188,1.5686163902282715,1.5688022375106812,1.571672797203064,1.5749197006225586,1.5785466432571411,1.5825581550598145,1.5869580507278442,1.591750144958496,1.5969380140304565,1.6025251150131226,1.6085145473480225,1.614909052848816,1.6217116117477417,1.6289243698120117,1.6365500688552856,1.6445904970169067,1.6530475616455078,1.6619226932525635,1.6712177991867065,1.680933952331543,1.6910721063613892,1.7016332149505615,1.712618112564087,2.2352068424224854,2.2258596420288086,2.2171006202697754,2.208911180496216,2.20127272605896,2.1941676139831543,2.187577962875366,2.2001991271972656,2.2155709266662598,2.231400966644287,2.2476868629455566,2.2644248008728027,2.281611919403076,2.2992451190948486,2.3173205852508545,2.3358352184295654,2.354785203933716,2.3741674423217773,2.3939778804779053,2.414155960083008,2.4347524642944336,2.4557652473449707,null,null,null,null,null,null,null,null,null,null,null,null,null,null,null,null,null,null,null,null,null,null],[null,null,null,null,null,null,null,null,null,null,null,null,null,null,null,null,null,null,null,null,null,null,null,null,null,null,null,null,null,null,null,null,null,null,null,null,null,null,null,null,null,null,null,null,null,1.7940136194229126,1.7609163522720337,1.729103922843933,1.6986135244369507,1.6693893671035767,1.6413792371749878,1.6145328283309937,1.5888035297393799,1.5643880367279053,1.5615026950836182,1.5644888877868652,1.5677107572555542,1.5713160037994385,1.5753083229064941,1.5796924829483032,1.5844717025756836,1.5896497964859009,1.595229983329773,1.6012157201766968,1.6076099872589111,1.614414930343628,1.621633529663086,1.6292681694030762,1.6373205184936523,1.645792841911316,1.6546865701675415,1.6640031337738037,1.6737439632415771,1.6839098930358887,1.6945018768310547,1.7067432403564453,1.795608639717102,2.2444753646850586,2.2354960441589355,2.227100133895874,2.219268321990967,2.211982250213623,2.205223798751831,2.1989755630493164,2.1932199001312256,2.2027862071990967,2.2189583778381348,2.2355804443359375,2.2526495456695557,2.2701616287231445,2.288113832473755,2.306502342224121,2.3253238201141357,2.3445746898651123,2.364250659942627,2.3843486309051514,2.404865026473999,2.4257960319519043,2.4471378326416016,null,null,null,null,null,null,null,null,null,null,null,null,null,null,null,null,null,null,null,null,null],[null,null,null,null,null,null,null,null,null,null,null,null,null,null,null,null,null,null,null,null,null,null,null,null,null,null,null,null,null,null,null,null,null,null,null,null,null,null,null,null,null,null,null,null,null,1.8049564361572266,1.7574623823165894,1.7255431413650513,1.6949561834335327,1.665645718574524,1.6375584602355957,1.610643982887268,1.5848547220230103,1.560427188873291,1.5544629096984863,1.55757737159729,1.5607752799987793,1.564359426498413,1.5683338642120361,1.5727028846740723,1.5774699449539185,1.5826389789581299,1.5882132053375244,1.5941962003707886,1.6005902290344238,1.6073986291885376,1.6146236658096313,1.6222678422927856,1.6303329467773438,1.638821005821228,1.6477338075637817,1.6570724248886108,1.6668384075164795,1.677032470703125,1.6876556873321533,1.7126344442367554,1.8027443885803223,2.2675397396087646,2.2548370361328125,2.2462198734283447,2.2381811141967773,2.230700969696045,2.2237606048583984,2.2173421382904053,2.2114274501800537,2.2059993743896484,2.2010409832000732,2.207526683807373,2.2244794368743896,2.241873025894165,2.259704113006592,2.277968406677246,2.296663284301758,2.3157846927642822,2.3353283405303955,2.3587749004364014,2.385087013244629,2.4119699001312256,2.439424753189087,null,null,null,null,null,null,null,null,null,null,null,null,null,null,null,null,null,null,null,null,null],[null,null,null,null,null,null,null,null,null,null,null,null,null,null,null,null,null,null,null,null,null,null,null,null,null,null,null,null,null,null,null,null,null,null,null,null,null,null,null,null,null,null,null,null,null,1.847834825515747,1.7541513442993164,1.7222840785980225,1.691596269607544,1.6621947288513184,1.6340259313583374,1.607039213180542,1.5811856985092163,1.5567421913146973,1.547702431678772,1.5508654117584229,1.5541207790374756,1.5576848983764648,1.561642050743103,1.5659966468811035,1.5707523822784424,1.5759133100509644,1.581482172012329,1.5874626636505127,1.5938578844070435,1.6006702184677124,1.6079024076461792,1.6155568361282349,1.6236350536346436,1.6321396827697754,1.6410719156265259,1.65043306350708,1.660224437713623,1.6704473495483398,1.6811021566390991,1.718963861465454,1.8103642463684082,1.9117381572723389,2.3135986328125,2.3033528327941895,2.2928695678710938,2.280224323272705,2.2682669162750244,2.2569708824157715,2.2463109493255615,2.236262559890747,2.2268013954162598,2.2179057598114014,2.211000442504883,2.214367389678955,2.234340190887451,2.2579872608184814,2.282202959060669,2.3069887161254883,2.332345485687256,2.3582751750946045,2.3847784996032715,2.4118576049804688,null,null,null,null,null,null,null,null,null,null,null,null,null,null,null,null,null,null,null,null,null,null],[null,null,null,null,null,null,null,null,null,null,null,null,null,null,null,null,null,null,null,null,null,null,null,null,null,null,null,null,null,null,null,null,null,null,null,null,null,null,null,null,null,null,null,null,null,1.8950591087341309,1.750997543334961,1.7193368673324585,1.6885429620742798,1.6590458154678345,1.6307908296585083,1.6037272214889526,1.5778053998947144,1.5533421039581299,1.5412291288375854,1.544365406036377,1.5477542877197266,1.5512992143630981,1.5552401542663574,1.5595813989639282,1.5643267631530762,1.5694798231124878,1.5750445127487183,1.5810235738754272,1.5874202251434326,1.594237208366394,1.6014771461486816,1.6091423034667969,1.6172345876693726,1.625756025314331,1.634708285331726,1.6440924406051636,1.6539100408554077,1.664162039756775,1.6748489141464233,1.7257498502731323,1.8184889554977417,1.9214154481887817,null,null,2.3498785495758057,2.340177536010742,2.33109712600708,2.3226146697998047,2.3116395473480225,2.3006598949432373,2.2903079986572266,2.2805583477020264,2.2484395503997803,2.2107694149017334,2.2333288192749023,2.257143974304199,2.2815325260162354,2.3064961433410645,2.332036018371582,2.3581533432006836,2.3848495483398438,2.4121265411376953,null,null,null,null,null,null,null,null,null,null,null,null,null,null,null,null,null,null,null,null,null,null],[null,null,null,null,null,null,null,null,null,null,null,null,null,null,null,null,null,null,null,null,null,null,null,null,null,null,null,null,null,null,null,null,null,null,null,null,null,null,null,null,null,null,null,null,null,1.945736050605774,1.7481690645217896,1.7164831161499023,1.685806155204773,1.6562081575393677,1.627862572669983,1.6007171869277954,1.5747438669204712,1.5502355098724365,1.5350496768951416,1.538160800933838,1.5416655540466309,1.5452100038528442,1.549135684967041,1.5534642934799194,1.5582001209259033,1.5633465051651,1.5689074993133545,1.5748857259750366,1.581284761428833,1.5881072282791138,1.59535551071167,1.6030319929122925,1.6111388206481934,1.6196776628494263,1.628650426864624,1.6380581855773926,1.6479023694992065,1.6581836938858032,1.668903112411499,1.7330143451690674,1.827140212059021,1.9316799640655518,2.0483808517456055,null,null,2.43731951713562,2.389658212661743,2.3804659843444824,2.3718812465667725,2.363882303237915,2.3564462661743164,2.286482810974121,2.1887428760528564,2.210815191268921,2.233440637588501,2.256682872772217,2.2812459468841553,2.306389093399048,2.33211350440979,2.3584203720092773,2.3853111267089844,null,null,null,null,null,null,null,null,null,null,null,null,null,null,null,null,null,null,null,null,null,null,null],[null,null,null,null,null,null,null,null,null,null,null,null,null,null,null,null,null,null,null,null,null,null,null,null,null,null,null,null,null,null,null,null,null,null,null,null,null,null,null,null,null,null,null,null,null,2.0002198219299316,1.7456754446029663,1.713874101638794,1.6833953857421875,1.6536917686462402,1.6252504587173462,1.598018765449524,1.5720094442367554,1.547431230545044,1.5291712284088135,1.5322582721710205,1.5357416868209839,1.5394245386123657,1.5433357954025269,1.5476529598236084,1.552379846572876,1.5575206279754639,1.5630786418914795,1.5690571069717407,1.5754592418670654,1.5822875499725342,1.5895450115203857,1.597233533859253,1.6053553819656372,1.6139123439788818,1.6229060888290405,1.6323376893997192,1.6422088146209717,1.6525201797485352,1.6632722616195679,1.7408047914505005,1.8363405466079712,1.9425568580627441,2.061267137527466,null,null,null,null,2.4423844814300537,2.4330408573150635,2.4243156909942627,2.327409267425537,2.2221851348876953,2.1890170574188232,2.211258888244629,2.2340593338012695,2.2574188709259033,2.2813541889190674,2.306678533554077,2.3325886726379395,2.359086751937866,2.386173963546753,null,null,null,null,null,null,null,null,null,null,null,null,null,null,null,null,null,null,null,null,null,null,null],[null,null,null,null,null,null,null,null,null,null,null,null,null,null,null,null,null,null,null,null,null,null,null,null,null,null,null,null,null,null,null,null,null,null,null,null,null,null,null,null,null,null,null,null,null,2.0589139461517334,1.7435266971588135,1.7116048336029053,1.6810317039489746,1.6515058279037476,1.6229636669158936,1.595641016960144,1.5695908069610596,1.5449388027191162,1.5236009359359741,1.5266650915145874,1.5301281213760376,1.5339500904083252,1.5378479957580566,1.5421544313430786,1.546873688697815,1.5520095825195312,1.5575655698776245,1.5635449886322021,1.5699506998062134,1.576785922050476,1.5840530395507812,1.5917543172836304,1.5998917818069458,1.6084673404693604,1.6174826622009277,1.626938819885254,1.636837124824524,1.6471787691116333,1.6621676683425903,1.7491124868392944,1.8461129665374756,1.954073190689087,2.0748751163482666,2.210860252380371,null,null,null,null,null,2.3947396278381348,2.260697603225708,2.1678497791290283,2.189699649810791,2.2121126651763916,2.2350895404815674,2.2586305141448975,2.28273606300354,2.307406187057495,2.333472728729248,2.360163450241089,null,null,null,null,null,null,null,null,null,null,null,null,null,null,null,null,null,null,null,null,null,null,null,null],[null,null,null,null,null,null,null,null,null,null,null,null,null,null,null,null,null,null,null,null,null,null,null,null,null,null,null,null,null,null,null,null,null,null,null,null,null,null,null,null,null,null,null,null,null,2.122279167175293,1.7417327165603638,1.7096846103668213,1.678996205329895,1.6496105194091797,1.6210120916366577,1.5935930013656616,1.5674974918365479,1.5427665710449219,1.5190975666046143,1.5213886499404907,1.5248323678970337,1.5286827087402344,1.532679557800293,1.5369763374328613,1.5416889190673828,1.5468207597732544,1.5523755550384521,1.5583566427230835,1.5647671222686768,1.571609616279602,1.5788872241973877,1.5866016149520874,1.5947552919387817,1.6033501625061035,1.6123872995376587,1.6218684911727905,1.6317946910858154,1.6421668529510498,1.6697043180465698,1.7579584121704102,1.856481671333313,1.966256022453308,2.0892367362976074,2.2278616428375244,null,null,null,null,2.461369276046753,2.303306818008423,2.1838955879211426,2.1687843799591064,2.1908016204833984,2.2133874893188477,2.2365424633026123,2.2602665424346924,2.284560203552246,2.3094239234924316,2.334857702255249,2.361660957336426,null,null,null,null,null,null,null,null,null,null,null,null,null,null,null,null,null,null,null,null,null,null,null,null],[null,null,null,null,null,null,null,null,null,null,null,null,null,null,null,null,null,null,null,null,null,null,null,null,null,null,null,null,null,null,null,null,null,null,null,null,null,null,null,null,null,null,null,null,null,null,1.7424283027648926,1.7081235647201538,1.6773145198822021,1.6478182077407837,1.6194050312042236,1.5918843746185303,1.5657386779785156,1.5409241914749146,1.5171796083450317,1.5164355039596558,1.5198614597320557,1.5236965417861938,1.5278379917144775,1.5321260690689087,1.5368329286575317,1.5419615507125854,1.5475159883499146,1.5534995794296265,1.559915542602539,1.5667662620544434,1.5740548372268677,1.5817832946777344,1.5899537801742554,1.5985679626464844,1.6076276302337646,1.6171343326568604,1.6270884275436401,1.6374915838241577,1.6777501106262207,1.7673648595809937,1.8674715757369995,1.9791343212127686,2.1043853759765625,null,null,null,null,null,2.3734664916992188,2.2366349697113037,2.148536205291748,2.170149087905884,2.192335605621338,2.2150955200195312,2.2384297847747803,2.262338638305664,2.2868218421936035,2.311880588531494,2.3368759155273438,2.3595528602600098,null,null,null,null,null,null,null,null,null,null,null,null,null,null,null,null,null,null,null,null,null,null,null,null],[null,null,null,null,null,null,null,null,null,null,null,null,null,null,null,null,null,null,null,null,null,null,null,null,null,null,null,null,null,null,null,null,null,null,null,null,null,null,null,null,null,null,null,null,null,null,1.7828730344772339,1.706931710243225,1.675995945930481,1.6463840007781982,1.6180402040481567,1.5905243158340454,1.5643235445022583,1.539420485496521,1.5155956745147705,1.5118128061294556,1.515222430229187,1.5190433263778687,1.5232808589935303,1.5276108980178833,1.5323126316070557,1.537439227104187,1.5429942607879639,1.5489813089370728,1.5554031133651733,1.562263011932373,1.5695632696151733,1.5773062705993652,1.5854939222335815,1.5941284894943237,1.6032111644744873,1.6127432584762573,1.6227262020111084,1.6331605911254883,1.6863254308700562,1.7773545980453491,1.8791089057922363,1.992738127708435,2.1203560829162598,null,null,null,null,null,2.2831382751464844,2.1426937580108643,2.150177478790283,2.1719553470611572,2.194312334060669,2.2149829864501953,2.23518443107605,2.255875587463379,2.277053117752075,2.2987139225006104,2.3208558559417725,2.3434746265411377,null,null,null,null,null,null,null,null,null,null,null,null,null,null,null,null,null,null,null,null,null,null,null,null],[null,null,null,null,null,null,null,null,null,null,null,null,null,null,null,null,null,null,null,null,null,null,null,null,null,null,null,null,null,null,null,null,null,null,null,null,null,null,null,null,null,null,null,null,null,null,1.8260596990585327,1.7061184644699097,1.6750504970550537,1.6453169584274292,1.6168617010116577,1.5895224809646606,1.5632615089416504,1.5382646322250366,1.5143543481826782,1.5075278282165527,1.5109220743179321,1.5147303342819214,1.5189576148986816,1.5234375,1.5281354188919067,1.5332608222961426,1.5388175249099731,1.5448088645935059,1.5512378215789795,1.5581071376800537,1.5654197931289673,1.5731780529022217,1.5813837051391602,1.5900388956069946,1.5991448163986206,1.6087031364440918,1.6187149286270142,1.629180669784546,1.695451259613037,1.787950873374939,1.8914204835891724,2.007098436355591,2.1371853351593018,null,null,null,null,2.335468292236328,2.2033324241638184,2.1241097450256348,2.1422767639160156,2.1609420776367188,2.180105209350586,2.1997625827789307,2.2199113368988037,2.240548849105835,2.261671781539917,2.2832767963409424,2.305361270904541,2.3279216289520264,2.3509552478790283,null,null,null,null,null,null,null,null,null,null,null,null,null,null,null,null,null,null,null,null,null,null,null],[null,null,null,null,null,null,null,null,null,null,null,null,null,null,null,null,null,null,null,null,null,null,null,null,null,null,null,null,null,null,null,null,null,null,null,null,null,null,null,null,null,null,null,null,null,null,1.7029869556427002,1.6683273315429688,1.644349455833435,1.6213093996047974,1.5991793870925903,1.5779322385787964,1.5625613927841187,1.5374655723571777,1.5134646892547607,1.5035868883132935,1.506967306137085,1.510764241218567,1.5149824619293213,1.519613265991211,1.524308443069458,1.5294338464736938,1.5349928140640259,1.5409891605377197,1.5474258661270142,1.5543057918548584,1.5616315603256226,1.5694055557250977,1.577629804611206,1.586306095123291,1.5954359769821167,1.6050208806991577,1.6150615215301514,1.6255592107772827,1.7051489353179932,1.7991788387298584,1.9044338464736938,2.022247552871704,2.1549108028411865,null,null,null,null,2.258105993270874,2.186347484588623,2.1294331550598145,2.1277310848236084,2.146350383758545,2.1654651165008545,2.185070514678955,2.2051663398742676,2.2257497310638428,2.2468173503875732,2.2683656215667725,2.2903921604156494,2.3128933906555176,2.3358659744262695,2.359306812286377,null,null,null,null,null,null,null,null,null,null,null,null,null,null,null,null,null,null,null,null,null,null],[null,null,null,null,null,null,null,null,null,null,null,null,null,null,null,null,null,null,null,null,null,null,null,null,null,null,null,null,null,null,null,null,null,null,null,null,null,null,null,null,null,null,null,null,null,1.6973127126693726,1.6515216827392578,1.6148693561553955,1.5921298265457153,1.5702768564224243,1.5492846965789795,1.559701681137085,1.5622329711914062,1.5370322465896606,1.5129355192184448,1.4999967813491821,1.50336492061615,1.5071516036987305,1.5113623142242432,1.516001582145691,1.5208386182785034,1.5259648561477661,1.5315275192260742,1.537529706954956,1.5439749956130981,1.5508661270141602,1.558205485343933,1.5659960508346558,1.5742392539978027,1.5829371213912964,1.59209144115448,1.6017030477523804,1.6117734909057617,1.6294301748275757,1.715441107749939,1.8110631704330444,1.918178677558899,2.0382192134857178,null,null,null,null,2.335080623626709,2.2668466567993164,2.20418119430542,2.1465001106262207,2.113713264465332,2.13228178024292,2.151346206665039,2.170902967453003,2.190948963165283,2.211477518081665,2.2324891090393066,2.2539801597595215,2.2759480476379395,2.298388957977295,2.3213002681732178,2.3446781635284424,null,null,null,null,null,null,null,null,null,null,null,null,null,null,null,null,null,null,null,null,null,null],[null,null,null,null,null,null,null,null,null,null,null,null,null,null,null,null,null,null,null,null,null,null,null,null,null,null,null,null,null,null,null,null,null,null,null,null,null,null,null,null,null,null,null,null,1.692518949508667,1.6465508937835693,1.6030768156051636,1.564710021018982,1.5431073904037476,1.5223445892333984,1.5298036336898804,1.5441277027130127,1.5591928958892822,1.5369738340377808,1.5127756595611572,1.4967641830444336,1.5001214742660522,1.5038994550704956,1.508103609085083,1.5127390623092651,1.5177327394485474,1.5228610038757324,1.5284278392791748,1.5344371795654297,1.5408917665481567,1.5477948188781738,1.555148959159851,1.5629562139511108,1.5712192058563232,1.579939365386963,1.5891181230545044,1.5987571477890015,1.6088571548461914,1.63896906375885,1.7263504266738892,1.8236302137374878,1.9326846599578857,2.0550484657287598,null,null,null,null,2.3547730445861816,2.2874338626861572,2.222923517227173,2.164015293121338,2.103677988052368,2.1187431812286377,2.1377549171447754,2.1572585105895996,2.177250385284424,2.1977272033691406,2.218686103820801,2.240119457244873,2.2620277404785156,2.2844078540802,2.3072564601898193,2.3305704593658447,2.35434627532959,null,null,null,null,null,null,null,null,null,null,null,null,null,null,null,null,null,null,null,null,null],[null,null,null,null,null,null,null,null,null,null,null,null,null,null,null,null,null,null,null,null,null,null,null,null,null,null,null,null,null,null,null,null,null,null,null,null,null,null,null,null,null,null,null,null,1.6714978218078613,1.6055324077606201,1.5574302673339844,1.5182729959487915,1.4970332384109497,1.5017223358154297,1.5150701999664307,1.5291221141815186,1.5439057350158691,1.537299394607544,1.5129940509796143,1.4938952922821045,1.497243046760559,1.501013994216919,1.5052132606506348,1.5098457336425781,1.5149165391921997,1.520128607749939,1.5257010459899902,1.5317180156707764,1.5381829738616943,1.5450987815856934,1.5524680614471436,1.560293197631836,1.5685760974884033,1.5773189067840576,1.5865230560302734,1.5961896181106567,1.606319546699524,1.6490930318832397,1.7379006147384644,1.836907148361206,1.9479830265045166,2.0727720260620117,null,null,null,null,null,2.3090577125549316,2.242888927459717,2.1824147701263428,2.122232675552368,2.1057333946228027,2.12469220161438,2.144141435623169,2.1640777587890625,2.1844980716705322,2.2053990364074707,2.2267770767211914,2.248629093170166,2.270948648452759,2.293733835220337,2.3169827461242676,2.3406922817230225,2.364858627319336,null,null,null,null,null,null,null,null,null,null,null,null,null,null,null,null,null,null,null,null],[null,null,null,null,null,null,null,null,null,null,null,null,null,null,null,null,null,null,null,null,null,null,null,null,null,null,null,null,null,null,null,null,null,null,null,null,null,null,null,null,null,null,null,1.73237943649292,1.6614781618118286,1.5960235595703125,1.5354560613632202,1.4792910814285278,1.4753669500350952,1.4877935647964478,1.500888705253601,1.5146790742874146,1.5291917324066162,1.5380176305770874,1.5135990381240845,1.491396188735962,1.4947363138198853,1.4985015392303467,1.5026973485946655,1.5073285102844238,1.5124000310897827,1.5177745819091797,1.5233532190322876,1.52937912940979,1.5358551740646362,1.542784571647644,1.550169825553894,1.5580132007598877,1.5663169622421265,1.575082778930664,1.5843124389648438,1.5940067768096924,1.6041672229766846,1.6598236560821533,1.7501165866851807,1.8509219884872437,1.964106559753418,2.091427803039551,null,null,null,null,null,2.3284571170806885,2.2640256881713867,2.201734781265259,2.1417040824890137,2.093251943588257,2.112156867980957,2.1315512657165527,2.1514315605163574,2.1717941761016846,2.192636251449585,2.213954210281372,2.2357444763183594,2.2580039501190186,2.280729055404663,2.3039140701293945,2.3275558948516846,2.3516530990600586,2.3762025833129883,null,null,null,null,null,null,null,null,null,null,null,null,null,null,null,null,null,null,null],[null,null,null,null,null,null,null,null,null,null,null,null,null,null,null,null,null,null,null,null,null,null,null,null,null,null,null,null,null,null,null,null,null,null,null,null,null,null,null,null,null,null,null,1.7222734689712524,1.6519173383712769,1.5869553089141846,1.526835560798645,1.4702608585357666,1.4644603729248047,1.4744006395339966,1.4872530698776245,1.5007920265197754,1.5150443315505981,1.5300378799438477,1.5145994424819946,1.491155982017517,1.4926072359085083,1.496368169784546,1.5005619525909424,1.5051931142807007,1.510266661643982,1.5157872438430786,1.5213912725448608,1.527426838874817,1.5339148044586182,1.5408586263656616,1.5482603311538696,1.5561227798461914,1.5644477605819702,1.5732372999191284,1.582492709159851,1.5922154188156128,1.60240638256073,1.6711827516555786,1.7630228996276855,1.8657037019729614,1.9810882806777954,2.111055374145508,null,null,null,null,null,2.3478856086730957,2.286210298538208,2.222013473510742,2.1621296405792236,2.0998456478118896,2.1001484394073486,2.1194868087768555,2.139309883117676,2.159614086151123,2.180396318435669,2.201653003692627,2.2233805656433105,2.2455759048461914,2.268234968185425,2.2913551330566406,2.3149325847625732,2.3389625549316406,2.3634397983551025,null,null,null,null,null,null,null,null,null,null,null,null,null,null,null,null,null,null,null],[null,null,null,null,null,null,null,null,null,null,null,null,null,null,null,null,null,null,null,null,null,null,null,null,null,null,null,null,null,null,null,null,null,null,null,null,null,null,null,null,null,null,null,1.7126450538635254,1.6428147554397583,1.5783283710479736,1.5177373886108398,1.4612966775894165,1.4608006477355957,1.4646337032318115,1.4741573333740234,1.487455129623413,1.5014573335647583,1.5161916017532349,1.5160036087036133,1.4924437999725342,1.4908615350723267,1.4946199655532837,1.4988130331039429,1.5034456253051758,1.508522868156433,1.51404869556427,1.519821047782898,1.5258671045303345,1.5323683023452759,1.5393270254135132,1.5467462539672852,1.5546280145645142,1.5629750490188599,1.5717885494232178,1.5810701847076416,1.5908215045928955,1.6010432243347168,1.6831938028335571,1.7766458988189697,1.8812822103500366,1.998963713645935,null,null,null,null,null,null,null,2.3053858280181885,2.243668794631958,2.183436632156372,2.1197962760925293,2.088665723800659,2.1079471111297607,2.1277120113372803,2.1479568481445312,2.1686782836914062,2.1898722648620605,2.211536169052124,2.233665943145752,2.256258249282837,2.2793097496032715,2.3028171062469482,2.3267765045166016,2.351184844970703,2.3760387897491455,null,null,null,null,null,null,null,null,null,null,null,null,null,null,null,null,null,null],[null,null,null,null,null,null,null,null,null,null,null,null,null,null,null,null,null,null,null,null,null,null,null,null,null,null,null,null,null,null,null,null,null,null,null,null,null,null,null,null,null,null,null,1.703493595123291,1.6341702938079834,1.5691440105438232,1.508729100227356,1.4541215896606445,1.4575129747390747,1.4613181352615356,1.4655464887619019,1.4746615886688232,1.4884238243103027,1.502908706665039,1.5178196430206299,1.4941374063491821,1.4895049333572388,1.4932624101638794,1.4974561929702759,1.502091884613037,1.5071736574172974,1.5127066373825073,1.5186481475830078,1.524706244468689,1.5312211513519287,1.5381958484649658,1.54563307762146,1.5535351037979126,1.5619043111801147,1.5707423686981201,1.5800507068634033,1.589830994606018,1.6101499795913696,1.6958799362182617,1.7910126447677612,1.8976885080337524,2.0177688598632812,null,null,null,null,null,null,null,2.32546067237854,2.2656805515289307,2.2043344974517822,2.140706777572632,2.080287456512451,2.096930742263794,2.116636276245117,2.1368203163146973,2.1574795246124268,2.1786105632781982,2.200209140777588,2.2222726345062256,2.2447967529296875,2.2677786350250244,2.2912142276763916,2.316272020339966,2.3434906005859375,2.371237277984619,null,null,null,null,null,null,null,null,null,null,null,null,null,null,null,null,null,null],[null,null,null,null,null,null,null,null,null,null,null,null,null,null,null,null,null,null,null,null,null,null,null,null,null,null,null,null,null,null,null,null,null,null,null,null,null,null,null,null,null,null,1.7695176601409912,1.6948182582855225,1.624879002571106,1.5600770711898804,1.5001658201217651,1.4512354135513306,1.4546012878417969,1.4583810567855835,1.46258544921875,1.4672248363494873,1.4759371280670166,1.4901832342147827,1.5051710605621338,1.4962446689605713,1.4885427951812744,1.4923007488250732,1.4964971542358398,1.501137137413025,1.5062252283096313,1.5117663145065308,1.5177644491195679,1.5239496231079102,1.530479073524475,1.5374706983566284,1.544926643371582,1.5528496503829956,1.561241865158081,1.5701048374176025,1.5794403553009033,1.589249610900879,1.6220439672470093,1.7092658281326294,1.8061505556106567,1.9149550199508667,2.0375418663024902,null,null,null,null,null,null,null,2.346529960632324,2.2854602336883545,2.226274013519287,2.16261625289917,2.1007442474365234,2.086435556411743,2.106081008911133,2.1262032985687256,2.146799325942993,2.16786527633667,2.1893978118896484,2.213364601135254,2.2385480403900146,2.264265298843384,2.2905149459838867,2.3172967433929443,2.3446097373962402,2.372453212738037,null,null,null,null,null,null,null,null,null,null,null,null,null,null,null,null,null,null],[null,null,null,null,null,null,null,null,null,null,null,null,null,null,null,null,null,null,null,null,null,null,null,null,null,null,null,null,null,null,null,null,null,null,null,null,null,null,null,null,null,null,1.7607941627502441,1.6853933334350586,1.615734577178955,1.5514713525772095,1.4920456409454346,1.4487247467041016,1.4520679712295532,1.4558261632919312,1.4600093364715576,1.4646281003952026,1.469692587852478,1.4780073165893555,1.492756962776184,1.4987736940383911,1.4879803657531738,1.4917407035827637,1.4959410429000854,1.500586748123169,1.5056824684143066,1.5112330913543701,1.5172423124313354,1.5236029624938965,1.5301481485366821,1.5371570587158203,1.5446325540542603,1.5525771379470825,1.5609928369522095,1.5698813199996948,1.5792441368103027,1.589082956314087,1.6345993280410767,1.7233760356903076,1.822088360786438,1.933115005493164,2.058321475982666,null,null,null,null,null,null,null,2.3686306476593018,2.306206703186035,2.2481117248535156,2.1855649948120117,2.1221656799316406,2.076460123062134,2.096207857131958,2.1187832355499268,2.1418991088867188,2.165555238723755,2.1897497177124023,2.214482069015503,2.239751100540161,2.2655558586120605,2.2918951511383057,2.3187687397003174,2.3461754322052,2.374114513397217,null,null,null,null,null,null,null,null,null,null,null,null,null,null,null,null,null,null],[null,null,null,null,null,null,null,null,null,null,null,null,null,null,null,null,null,null,null,null,null,null,null,null,null,null,null,null,null,null,null,null,null,null,null,null,null,null,null,null,null,null,1.7512030601501465,1.676148533821106,1.6070683002471924,1.5433244705200195,1.484366774559021,1.4465922117233276,1.4499164819717407,1.4536558389663696,1.4578211307525635,1.4624226093292236,1.4674707651138306,1.4729753732681274,1.4808952808380127,1.4961681365966797,1.487822413444519,1.4915868043899536,1.4957927465438843,1.5004457235336304,1.5055506229400635,1.5111117362976074,1.5171337127685547,1.5236207246780396,1.5302329063415527,1.5372604131698608,1.5447564125061035,1.5527230501174927,1.5611627101898193,1.5700769424438477,1.5794677734375,1.5893361568450928,1.6478389501571655,1.7382365465164185,1.838855504989624,1.9522029161453247,2.080148935317993,null,null,null,null,null,null,null,null,2.327955722808838,2.2684037685394287,2.186927080154419,2.0991344451904297,2.0757365226745605,2.0974395275115967,2.1200382709503174,2.143231153488159,2.1669657230377197,2.1912410259246826,2.2160558700561523,2.2414095401763916,2.267300844192505,2.293728828430176,2.320693016052246,2.348191976547241,2.376225233078003,null,null,null,null,null,null,null,null,null,null,null,null,null,null,null,null,null,null],[null,null,null,null,null,null,null,null,null,null,null,null,null,null,null,null,null,null,null,null,null,null,null,null,null,null,null,null,null,null,null,null,null,null,null,null,null,null,null,null,null,null,null,1.6674000024795532,1.5988775491714478,1.5356340408325195,1.4771268367767334,1.444840908050537,1.4481490850448608,1.4518731832504272,1.4560238122940063,1.46061110496521,1.465645670890808,1.471137523651123,1.4770969152450562,1.4846234321594238,1.488073706626892,1.491843819618225,1.496057152748108,1.5007188320159912,1.5058341026306152,1.511407494544983,1.5174431800842285,1.5239455699920654,1.5307387113571167,1.5377854108810425,1.5453022718429565,1.5532917976379395,1.5617561340332031,1.5706970691680908,1.5801159143447876,1.5900142192840576,1.6617854833602905,1.7538739442825317,1.8564825057983398,1.9722546339035034,null,null,null,null,null,null,null,null,2.366055488586426,2.283822536468506,2.209134101867676,2.118411064147949,2.056701421737671,2.077948570251465,2.0997314453125,2.1220486164093018,2.1450273990631104,2.168839931488037,2.193194627761841,2.2180912494659424,2.2435286045074463,2.269505023956299,2.2960205078125,2.3230738639831543,2.3506643772125244,null,null,null,null,null,null,null,null,null,null,null,null,null,null,null,null,null,null,null],[null,null,null,null,null,null,null,null,null,null,null,null,null,null,null,null,null,null,null,null,null,null,null,null,null,null,null,null,null,null,null,null,null,null,null,null,null,null,null,null,null,null,null,null,1.5911593437194824,1.5283973217010498,1.4703236818313599,1.443472981452942,1.4467684030532837,1.450480341911316,1.4546195268630981,1.459195852279663,1.4642199277877808,1.4697020053863525,1.4756522178649902,1.4820808172225952,1.4887385368347168,1.4925161600112915,1.496738314628601,1.5014104843139648,1.506537675857544,1.5121246576309204,1.5181752443313599,1.5246942043304443,1.5316699743270874,1.5387368202209473,1.5462754964828491,1.5542885065078735,1.562778115272522,1.5717456340789795,1.5811930894851685,1.5919116735458374,1.6764631271362305,1.7703148126602173,1.8750011920928955,1.99330735206604,null,null,null,null,null,null,null,null,2.3006646633148193,2.2248034477233887,2.1392288208007812,2.059560775756836,2.0593135356903076,2.080637216567993,2.102498769760132,2.124896764755249,2.14782977104187,2.1712961196899414,2.195615530014038,2.220592498779297,2.246112108230591,2.2721731662750244,2.2987747192382812,2.325916290283203,2.3535969257354736,null,null,null,null,null,null,null,null,null,null,null,null,null,null,null,null,null,null,null],[null,null,null,null,null,null,null,null,null,null,null,null,null,null,null,null,null,null,null,null,null,null,null,null,null,null,null,null,null,null,null,null,null,null,null,null,null,null,null,null,null,null,null,null,1.5839101076126099,1.5216114521026611,1.463954210281372,1.4424902200698853,1.445776343345642,1.4494798183441162,1.4536105394363403,1.4581791162490845,1.4631959199905396,1.4686710834503174,1.474743366241455,1.481358289718628,1.4884662628173828,1.4935896396636963,1.4978406429290771,1.5025248527526855,1.5076653957366943,1.513266921043396,1.519334077835083,1.525870680809021,1.5328809022903442,1.5401190519332886,1.547680377960205,1.5557175874710083,1.5642327070236206,1.5732277631759644,1.5827041864395142,1.6057724952697754,1.6918963193893433,1.7875875234603882,1.8944437503814697,2.01539945602417,null,null,null,null,null,null,null,2.3236947059631348,2.240903615951538,2.161688804626465,2.0754623413085938,2.0415499210357666,2.062407970428467,2.0838072299957275,2.1057467460632324,2.1282248497009277,2.1512396335601807,2.174790143966675,2.1988742351531982,2.223564386367798,2.2491650581359863,2.2753093242645264,2.3019962310791016,2.3292248249053955,2.35699462890625,null,null,null,null,null,null,null,null,null,null,null,null,null,null,null,null,null,null,null],[null,null,null,null,null,null,null,null,null,null,null,null,null,null,null,null,null,null,null,null,null,null,null,null,null,null,null,null,null,null,null,null,null,null,null,null,null,null,null,null,null,null,null,null,null,1.515272855758667,1.4580157995224,1.4418944120407104,1.4451749324798584,1.4488728046417236,1.4529985189437866,1.4575648307800293,1.462762713432312,1.4684231281280518,1.4745564460754395,1.4811732769012451,1.4882838726043701,1.494786024093628,1.4993236064910889,1.5040652751922607,1.509220838546753,1.514838695526123,1.5209234952926636,1.5274792909622192,1.534509539604187,1.5419361591339111,1.5495208501815796,1.5575828552246094,1.566124439239502,1.5751471519470215,1.5846530199050903,1.620346188545227,1.7081096172332764,1.8057212829589844,1.9148439168930054,2.0385711193084717,null,null,null,null,null,null,null,2.258460283279419,2.184586763381958,2.0950961112976074,2.0285861492156982,2.0450589656829834,2.0659894943237305,2.0874640941619873,2.109480142593384,2.1320371627807617,2.1551332473754883,2.1787664890289307,2.2029356956481934,2.2276391983032227,2.252875804901123,2.2789182662963867,2.3056890964508057,2.333003520965576,2.360860824584961,null,null,null,null,null,null,null,null,null,null,null,null,null,null,null,null,null,null,null],[null,null,null,null,null,null,null,null,null,null,null,null,null,null,null,null,null,null,null,null,null,null,null,null,null,null,null,null,null,null,null,null,null,null,null,null,null,null,null,null,null,null,null,null,null,null,1.4525045156478882,1.441686987876892,1.444965124130249,1.4487236738204956,1.4530303478240967,1.4577785730361938,1.4629795551300049,1.4686435461044312,1.4747812747955322,1.4814029932022095,1.4885191917419434,1.4961402416229248,1.5009574890136719,1.505965232849121,1.5112076997756958,1.5168431997299194,1.522947072982788,1.5295228958129883,1.5365749597549438,1.544106364250183,1.5518007278442383,1.5598881244659424,1.5684565305709839,1.577507734298706,1.587043046951294,1.6356552839279175,1.7251291275024414,1.8247452974319458,1.93623685836792,2.062864065170288,null,null,null,null,null,null,2.284850835800171,2.201442241668701,2.1179044246673584,2.045252561569214,2.028604507446289,2.049060344696045,2.0700631141662598,2.091611385345459,2.113703727722168,2.136338710784912,2.1595144271850586,2.183229684829712,2.2074830532073975,2.2322723865509033,2.257596969604492,2.2834548950195312,2.309857130050659,2.3372561931610107,2.3652000427246094,null,null,null,null,null,null,null,null,null,null,null,null,null,null,null,null,null,null,null],[null,null,null,null,null,null,null,null,null,null,null,null,null,null,null,null,null,null,null,null,null,null,null,null,null,null,null,null,null,null,null,null,null,null,null,null,null,null,null,null,null,null,null,null,null,null,null,1.4419904947280884,1.4454495906829834,1.4493297338485718,1.4536415338516235,1.4583958387374878,1.4636032581329346,1.4692740440368652,1.475419044494629,1.482048749923706,1.4891736507415771,1.496803641319275,1.5030206441879272,1.5080442428588867,1.5135316848754883,1.5192841291427612,1.5254079103469849,1.5320053100585938,1.539080023765564,1.5466352701187134,1.5545231103897095,1.5626368522644043,1.571232795715332,1.5803124904632568,1.5898782014846802,1.65172278881073,1.7429813146591187,1.8446907997131348,1.9586889743804932,null,null,null,null,null,null,null,2.2197866439819336,2.1424789428710938,2.063328981399536,2.013059377670288,2.033033847808838,2.0535590648651123,2.0746326446533203,2.0962541103363037,2.1184213161468506,2.1411333084106445,2.1643877029418945,2.1881840229034424,2.212520122528076,2.237394332885742,2.262805938720703,2.288752794265747,2.3152341842651367,2.3422482013702393,2.370015859603882,null,null,null,null,null,null,null,null,null,null,null,null,null,null,null,null,null,null,null],[null,null,null,null,null,null,null,null,null,null,null,null,null,null,null,null,null,null,null,null,null,null,null,null,null,null,null,null,null,null,null,null,null,null,null,null,null,null,null,null,null,null,null,null,null,null,null,null,1.446445345878601,1.4503339529037476,1.454654574394226,1.4594180583953857,1.4646347761154175,1.47031569480896,1.4764714241027832,1.483112096786499,1.490248203277588,1.4978902339935303,1.505515456199646,1.5105565786361694,1.516062617301941,1.522038459777832,1.5283091068267822,1.5349290370941162,1.5420273542404175,1.5496076345443726,1.5576729774475098,1.5658321380615234,1.574455976486206,1.5835652351379395,1.5931612253189087,1.6685724258422852,1.761693000793457,1.8655890226364136,1.9822237491607666,null,null,null,null,null,null,2.2494754791259766,2.1653826236724854,2.0828969478607178,2.017808198928833,2.0179238319396973,2.0379650592803955,2.058558225631714,2.079702377319336,2.101395845413208,2.1236371994018555,2.1464250087738037,2.169757604598999,2.193633556365967,2.2180511951446533,2.243009328842163,2.2685065269470215,2.294541358947754,2.319897174835205,2.3440401554107666,2.368631362915039,null,null,null,null,null,null,null,null,null,null,null,null,null,null,null,null,null,null,null],[null,null,null,null,null,null,null,null,null,null,null,null,null,null,null,null,null,null,null,null,null,null,null,null,null,null,null,null,null,null,null,null,null,null,null,null,null,null,null,null,null,null,null,null,null,null,null,null,1.9814878702163696,1.7166632413864136,1.456069827079773,1.4608455896377563,1.4660754203796387,1.4717695713043213,1.4779388904571533,1.4845935106277466,1.4917441606521606,1.4994008541107178,1.507574200630188,1.5135043859481812,1.5190304517745972,1.5250271558761597,1.5314995050430298,1.5382969379425049,1.5454202890396118,1.5530261993408203,1.5611186027526855,1.5694767236709595,1.5781291723251343,1.587268352508545,1.6006875038146973,1.6862283945083618,1.7812926769256592,1.8874731063842773,2.006865978240967,null,null,null,null,null,2.284308433532715,2.1845803260803223,2.1040432453155518,2.0367507934570312,2.0037426948547363,2.023294448852539,2.0434014797210693,2.0640625953674316,2.085275888442993,2.1070406436920166,2.129354953765869,2.1522176265716553,2.1756269931793213,2.1995816230773926,2.2233591079711914,2.2456045150756836,2.268312454223633,2.2914788722991943,2.3150999546051025,2.3391716480255127,2.3636903762817383,2.3886518478393555,null,null,null,null,null,null,null,null,null,null,null,null,null,null,null,null,null,null],[null,null,null,null,null,null,null,null,null,null,null,null,null,null,null,null,null,null,null,null,null,null,null,null,null,null,null,null,null,null,null,null,null,null,null,null,null,null,null,null,null,null,null,null,null,null,null,null,2.0256922245025635,1.7337535619735718,1.6709470748901367,1.6470801830291748,1.4679254293441772,1.4736361503601074,1.479822039604187,1.4864938259124756,1.4936617612838745,1.5013363361358643,1.5095278024673462,1.516890048980713,1.522437572479248,1.528456687927246,1.5349520444869995,1.5419282913208008,1.5492602586746216,1.5568933486938477,1.5650135278701782,1.5735729932785034,1.5822550058364868,1.5914243459701538,1.6174355745315552,1.7047152519226074,1.8018090724945068,1.9103769063949585,2.032655954360962,null,null,null,null,null,2.217512607574463,2.1296308040618896,2.0572221279144287,1.9931122064590454,2.0095596313476562,2.029174566268921,2.049346685409546,2.0700745582580566,2.0913565158843994,2.1131913661956787,2.135300636291504,2.1555938720703125,2.1763641834259033,2.19760799407959,2.219320774078369,2.2414989471435547,2.2641379833221436,2.287234306335449,2.310783863067627,2.334782600402832,2.3592264652252197,2.3841123580932617,null,null,null,null,null,null,null,null,null,null,null,null,null,null,null,null,null,null],[null,null,null,null,null,null,null,null,null,null,null,null,null,null,null,null,null,null,null,null,null,null,null,null,null,null,null,null,null,null,null,null,null,null,null,null,null,null,null,null,null,null,null,null,null,null,null,null,null,1.7516460418701172,1.6908891201019287,1.6665254831314087,1.6431831121444702,1.6208293437957764,1.482121229171753,1.4888131618499756,1.4960016012191772,1.5036967992782593,1.5119091272354126,1.5206485986709595,1.5262852907180786,1.5323282480239868,1.5388481616973877,1.5458498001098633,1.5533370971679688,1.5612105131149292,1.569359540939331,1.577999472618103,1.5868349075317383,1.5960350036621094,1.6349650621414185,1.724058985710144,1.823271632194519,1.9343353509902954,2.059635877609253,null,null,null,null,2.2530148029327393,2.1551153659820557,2.079308032989502,2.0129778385162354,1.9967715740203857,2.0158896446228027,2.03556752204895,2.0558040142059326,2.0742135047912598,2.0929923057556152,2.1122589111328125,2.132009267807007,2.1522388458251953,2.1729447841644287,2.194122314453125,2.2157673835754395,2.2378761768341064,2.2604448795318604,2.2834689617156982,2.3069450855255127,2.330868721008301,2.355236530303955,2.380044460296631,2.4052886962890625,null,null,null,null,null,null,null,null,null,null,null,null,null,null,null,null,null],[null,null,null,null,null,null,null,null,null,null,null,null,null,null,null,null,null,null,null,null,null,null,null,null,null,null,null,null,null,null,null,null,null,null,null,null,null,null,null,null,null,null,null,null,null,null,null,null,null,1.796217679977417,1.7117465734481812,1.686864972114563,1.6630280017852783,1.640201210975647,1.6183521747589111,1.5974488258361816,1.4987633228302002,1.5064820051193237,1.5147181749343872,1.5234816074371338,1.5305746793746948,1.536643385887146,1.5431894063949585,1.5502173900604248,1.5577318668365479,1.5657365322113037,1.5741586685180664,1.5828289985656738,1.5918710231781006,1.601102590560913,1.653298020362854,1.744285225868225,1.845711350440979,1.9593846797943115,null,null,null,null,null,2.2659809589385986,2.1458308696746826,2.0431723594665527,1.9849408864974976,2.001657724380493,2.0183942317962646,2.0356316566467285,2.0533668994903564,2.0715954303741455,2.0903139114379883,2.109518527984619,2.1292054653167725,2.1493704319000244,2.1700096130371094,2.1911191940307617,2.2126948833465576,2.2347326278686523,2.2572286128997803,2.280179023742676,2.303579330444336,2.3274264335632324,2.3517158031463623,2.376443862915039,2.401607036590576,2.427201747894287,null,null,null,null,null,null,null,null,null,null,null,null,null,null,null,null],[null,null,null,null,null,null,null,null,null,null,null,null,null,null,null,null,null,null,null,null,null,null,null,null,null,null,null,null,null,null,null,null,null,null,null,null,null,null,null,null,null,null,null,null,null,null,null,null,2.0237643718719482,1.8375622034072876,1.7335494756698608,1.7081278562545776,1.6837748289108276,1.6604549884796143,1.638134241104126,1.616780161857605,1.596360683441162,1.5768457651138306,1.5179542303085327,1.5267443656921387,1.5353069305419922,1.5414025783538818,1.547976016998291,1.5550320148468018,1.5625749826431274,1.5706084966659546,1.5791364908218384,1.5881133079528809,1.5973100662231445,1.60662841796875,1.6724580526351929,1.7654212713241577,1.869159460067749,1.9855623245239258,null,null,null,null,null,null,2.2366697788238525,2.1218910217285156,2.0229640007019043,1.9997566938400269,2.01643967628479,2.0336203575134277,2.0512967109680176,2.069465160369873,2.0881218910217285,2.1072630882263184,2.126884937286377,2.1469833850860596,2.1675543785095215,2.188594102859497,2.2100985050201416,2.2320637702941895,2.2544853687286377,2.277359962463379,2.3006832599639893,2.324451208114624,2.348660469055176,2.3733069896698,2.3983871936798096,2.4238972663879395,null,null,null,null,null,null,null,null,null,null,null,null,null,null,null,null],[null,null,null,null,null,null,null,null,null,null,null,null,null,null,null,null,null,null,null,null,null,null,null,null,null,null,null,null,null,null,null,null,null,null,null,null,null,null,null,null,null,null,null,null,null,null,null,2.014012575149536,1.9067386388778687,1.809605360031128,1.7563278675079346,1.7303433418273926,1.7054520845413208,1.6816178560256958,1.6588051319122314,1.6369801759719849,1.6161105632781982,1.5961642265319824,1.5771111249923706,1.5589218139648438,1.5397934913635254,1.5466063022613525,1.553208827972412,1.5602943897247314,1.5678666830062866,1.5759303569793701,1.584488868713379,1.59354567527771,1.6030830144882202,1.6126130819320679,1.6924690008163452,1.7874943017959595,1.8810553550720215,1.978502869606018,null,null,null,null,null,null,null,2.209465980529785,2.100095748901367,2.004210948944092,2.014967918395996,2.032092332839966,2.049710750579834,2.0678181648254395,2.086411476135254,2.105487823486328,2.1250429153442383,2.145073175430298,2.165574312210083,2.186542510986328,2.2079739570617676,2.2298645973205566,2.2522101402282715,2.2750070095062256,2.298251152038574,2.3219387531280518,2.3460659980773926,2.370628833770752,2.3956241607666016,2.4210476875305176,2.4468963146209717,null,null,null,null,null,null,null,null,null,null,null,null,null,null,null],[null,null,null,null,null,null,null,null,null,null,null,null,null,null,null,null,null,null,null,null,null,null,null,null,null,null,null,null,null,null,null,null,null,null,null,null,null,null,null,null,null,null,null,null,null,null,2.005364418029785,1.8997544050216675,1.8033045530319214,1.7514007091522217,1.7290326356887817,1.7071317434310913,1.686126708984375,1.6659934520721436,1.646708369255066,1.628248929977417,1.6105926036834717,1.5937175750732422,1.577602744102478,1.5622268915176392,1.5475701093673706,1.5495151281356812,1.5563462972640991,1.5636632442474365,1.5714702606201172,1.579771876335144,1.5885720252990723,1.5978745222091675,1.607682704925537,1.6214548349380493,1.6934646368026733,1.7721110582351685,1.858364462852478,1.9533025026321411,2.0582189559936523,null,null,null,null,null,null,2.3061206340789795,2.1842336654663086,2.0799379348754883,2.0139782428741455,2.031043291091919,2.048600196838379,2.066646099090576,2.085176706314087,2.1041877269744873,2.1236746311187744,2.1436350345611572,2.164064645767212,2.184959650039673,2.2063164710998535,2.228130340576172,2.2503983974456787,2.273115873336792,2.296279191970825,2.3198843002319336,2.3439276218414307,2.368405342102051,2.3933136463165283,2.418649196624756,2.4444079399108887,2.4705872535705566,null,null,null,null,null,null,null,null,null,null,null,null,null,null],[null,null,null,null,null,null,null,null,null,null,null,null,null,null,null,null,null,null,null,null,null,null,null,null,null,null,null,null,null,null,null,null,null,null,null,null,null,null,null,null,null,null,null,null,null,1.9978702068328857,1.8938109874725342,1.798020362854004,1.7437000274658203,1.721367597579956,1.699917197227478,1.6787489652633667,1.6584246158599854,1.6389414072036743,1.620277762413025,1.6024115085601807,1.5853219032287598,1.5689882040023804,1.5533899068832397,1.538507342338562,1.539692759513855,1.5454785823822021,1.5517815351486206,1.5590401887893677,1.5667850971221924,1.575020670890808,1.5837509632110596,1.5929791927337646,1.6027089357376099,1.6129432916641235,1.67529296875,1.752591609954834,1.836776852607727,1.9293278455734253,2.0314712524414062,null,null,null,null,null,null,null,2.2785205841064453,2.1617441177368164,2.0613179206848145,2.0304694175720215,2.047963857650757,2.0659451484680176,2.084409236907959,2.1033530235290527,2.122772216796875,2.1426632404327393,2.163019895553589,2.183840274810791,2.205120801925659,2.2268567085266113,2.249044895172119,2.271681547164917,2.294761896133423,2.3182830810546875,2.342240810394287,2.366631269454956,2.391451120376587,2.416696548461914,2.44236421585083,2.4684503078460693,2.4949517250061035,null,null,null,null,null,null,null,null,null,null,null,null,null],[null,null,null,null,null,null,null,null,null,null,null,null,null,null,null,null,null,null,null,null,null,null,null,null,null,null,null,null,null,null,null,null,null,null,null,null,null,null,null,null,null,null,null,2.10626482963562,1.9914805889129639,1.8882116079330444,1.7937133312225342,1.737017035484314,1.7145297527313232,1.6929147243499756,1.6721500158309937,1.6518501043319702,1.6321680545806885,1.6132984161376953,1.5952208042144775,1.5779144763946533,1.5613594055175781,1.5455360412597656,1.5304253101348877,1.530984878540039,1.5362694263458252,1.5420150756835938,1.5482263565063477,1.5549076795578003,1.5625691413879395,1.5707405805587769,1.5794023275375366,1.5885580778121948,1.5982112884521484,1.6083650588989258,1.6562235355377197,1.733136534690857,1.8162449598312378,1.906523585319519,2.0060312747955322,null,null,null,null,null,null,null,null,2.2529194355010986,2.1415154933929443,2.04390287399292,2.0477957725524902,2.065711498260498,2.0841078758239746,2.10298228263855,2.1223301887512207,2.142148017883301,2.1624319553375244,2.1831777095794678,2.2043814659118652,2.2260379791259766,2.2481448650360107,2.270698308944702,2.2936947345733643,2.317129611968994,2.3410000801086426,2.3653018474578857,2.390031337738037,2.41518497467041,2.4407594203948975,2.4667510986328125,2.493156671524048,null,null,null,null,null,null,null,null,null,null,null,null,null],[null,null,null,null,null,null,null,null,null,null,null,null,null,null,null,null,null,null,null,null,null,null,null,null,null,null,null,null,null,null,null,null,null,null,null,null,null,null,null,null,null,null,2.10662579536438,1.986147165298462,1.883612871170044,1.790344476699829,1.731308937072754,1.7086677551269531,1.6868884563446045,1.6659504175186157,1.6458336114883423,1.6263515949249268,1.607276201248169,1.5889862775802612,1.5714620351791382,1.5546842813491821,1.538634181022644,1.5232930183410645,1.5232422351837158,1.5280392169952393,1.533288836479187,1.5389961004257202,1.5451654195785522,1.5518007278442383,1.5589059591293335,1.5669206380844116,1.5755157470703125,1.5846011638641357,1.5941792726516724,1.6042537689208984,1.638098120689392,1.713133692741394,1.7953299283981323,1.88483726978302,1.9818378686904907,2.0890536308288574,null,null,null,null,null,null,null,2.3529257774353027,2.2291836738586426,2.1228275299072266,2.0480902194976807,2.065938711166382,2.084266424179077,2.10306978225708,2.122345209121704,2.1420884132385254,2.1622960567474365,2.1829640865325928,2.2040889263153076,2.2256662845611572,2.247692346572876,2.2701613903045654,2.293071746826172,2.3164193630218506,2.340200662612915,2.3644118309020996,2.3890490531921387,2.414109468460083,2.439589023590088,2.465484380722046,2.4917919635772705,2.5185091495513916,null,null,null,null,null,null,null,null,null,null,null,null],[null,null,null,null,null,null,null,null,null,null,null,null,null,null,null,null,null,null,null,null,null,null,null,null,null,null,null,null,null,null,null,null,null,null,null,null,null,null,null,null,null,null,2.045114278793335,1.8799711465835571,1.7877466678619385,1.7265335321426392,1.7037400007247925,1.6817984580993652,1.6606884002685547,1.6403906345367432,1.6208860874176025,1.6021562814712524,1.583673357963562,1.5659314393997192,1.5489310026168823,1.5326533317565918,1.517080307006836,1.5164344310760498,1.5207573175430298,1.5255248546600342,1.5307414531707764,1.5364118814468384,1.5425410270690918,1.549132227897644,1.556189775466919,1.5637168884277344,1.572081208229065,1.5810974836349487,1.5906026363372803,1.6005995273590088,1.6208752393722534,1.6941229104995728,1.7742681503295898,1.862259030342102,1.9588332176208496,2.0632717609405518,null,null,null,null,null,null,null,null,2.3271427154541016,2.207902669906616,2.1055819988250732,2.0666213035583496,2.08487868309021,2.103609800338745,2.1228110790252686,2.1424787044525146,2.1626086235046387,2.183197259902954,2.2042407989501953,2.2257354259490967,2.2476770877838135,2.270062208175659,2.292886972427368,2.3161461353302,2.339836597442627,2.363955497741699,2.3884994983673096,2.4134647846221924,2.438847541809082,2.4646451473236084,2.4908535480499268,2.517469882965088,2.5444910526275635,null,null,null,null,null,null,null,null,null,null,null],[null,null,null,null,null,null,null,null,null,null,null,null,null,null,null,null,null,null,null,null,null,null,null,null,null,null,null,null,null,null,null,null,null,null,null,null,null,null,null,null,null,null,1.9878860712051392,1.7855119705200195,1.7226498126983643,1.6997064352035522,1.6776043176651,1.6563245058059692,1.6358476877212524,1.6161558628082275,1.5972309112548828,1.579055666923523,1.561289668083191,1.5440664291381836,1.5275614261627197,1.5117567777633667,1.5105305910110474,1.5143935680389404,1.5186924934387207,1.5234320163726807,1.5286173820495605,1.5342530012130737,1.5403434038162231,1.5468921661376953,1.5539032220840454,1.5613802671432495,1.5693260431289673,1.5780367851257324,1.5874701738357544,1.5973913669586182,1.6078026294708252,1.6760594844818115,1.754252552986145,1.8399947881698608,1.9343582391738892,2.0386271476745605,null,null,null,null,null,null,null,null,null,2.3028910160064697,2.189014196395874,2.089287519454956,2.0859384536743164,2.1045961380004883,2.1237218379974365,2.1433122158050537,2.163363218307495,2.183871030807495,2.204832077026367,2.2262423038482666,2.248098134994507,2.2703957557678223,2.293130874633789,2.316300630569458,2.3399012088775635,2.3639280796051025,2.3883767127990723,2.41324520111084,2.4385299682617188,2.4642276763916016,2.490335464477539,2.5168495178222656,2.543766975402832,null,null,null,null,null,null,null,null,null,null,null],[null,null,null,null,null,null,null,null,null,null,null,null,null,null,null,null,null,null,null,null,null,null,null,null,null,null,null,null,null,null,null,null,null,null,null,null,null,null,null,null,null,null,1.934551477432251,1.7316510677337646,1.6993860006332397,1.6742675304412842,1.652820348739624,1.6321672201156616,1.612290382385254,1.5931727886199951,1.5747971534729004,1.5571469068527222,1.5400586128234863,1.523327112197876,1.5072914361953735,1.5054998397827148,1.5089170932769775,1.5127614736557007,1.5170379877090454,1.5217514038085938,1.5269074440002441,1.532509446144104,1.5385627746582031,1.5450705289840698,1.5520368814468384,1.5594650506973267,1.5673580169677734,1.5757191181182861,1.5847718715667725,1.5946184396743774,1.6049507856369019,1.6589009761810303,1.7352344989776611,1.818838119506836,1.910727858543396,2.012118101119995,2.1307106018066406,null,null,null,null,null,null,null,null,2.406446695327759,2.2804055213928223,2.17157244682312,2.0874392986297607,2.106022357940674,2.1250715255737305,2.144583225250244,2.1645538806915283,2.1849794387817383,2.2058563232421875,2.2271809577941895,2.2489492893218994,2.271157741546631,2.293802499771118,2.316879987716675,2.340386390686035,2.364318609237671,2.3886725902557373,2.413444995880127,2.4386303424835205,2.4642271995544434,2.490232467651367,2.5166425704956055,2.543455123901367,2.5706663131713867,null,null,null,null,null,null,null,null,null,null],[null,null,null,null,null,null,null,null,null,null,null,null,null,null,null,null,null,null,null,null,null,null,null,null,null,null,null,null,null,null,null,null,null,null,null,null,null,null,null,null,null,2.1338603496551514,1.8847664594650269,1.743415117263794,1.7108112573623657,1.6796540021896362,1.6497831344604492,1.6211485862731934,1.5937025547027588,1.5713722705841064,1.5535176992416382,1.5363656282424927,1.5199010372161865,1.5036534070968628,1.501311182975769,1.504297137260437,1.507700800895691,1.5115281343460083,1.5157839059829712,1.5204733610153198,1.5256010293960571,1.5311715602874756,1.5371891260147095,1.5436574220657349,1.5505802631378174,1.5579609870910645,1.5658029317855835,1.574108362197876,1.5828803777694702,1.5922701358795166,1.6025253534317017,1.6426067352294922,1.717167854309082,1.7987358570098877,1.888274073600769,2.0165722370147705,null,null,null,null,null,null,null,null,null,null,2.382044553756714,2.260082960128784,2.1553549766540527,2.107881784439087,2.1268532276153564,2.146285057067871,2.1661741733551025,2.186516046524048,2.2073075771331787,2.2285451889038086,2.2502248287200928,2.2723426818847656,2.2948951721191406,2.3178789615631104,2.3412904739379883,2.3651256561279297,2.389381170272827,2.4140536785125732,2.4391398429870605,2.4646365642547607,2.490539073944092,2.516843795776367,2.5435495376586914,2.570653200149536,2.598151206970215,null,null,null,null,null,null,null,null,null],[null,null,null,null,null,null,null,null,null,null,null,null,null,null,null,null,null,null,null,null,null,null,null,null,null,null,null,null,null,null,null,null,null,null,null,null,null,null,null,null,null,2.075676202774048,1.838225245475769,1.7556687593460083,1.722717046737671,1.6913124322891235,1.6612037420272827,1.632340908050537,1.6046749353408813,1.5781605243682861,1.5527539253234863,1.5284136533737183,1.505100131034851,1.4982577562332153,1.5005024671554565,1.503480076789856,1.5068720579147339,1.5106840133666992,1.5149208307266235,1.519587755203247,1.524688959121704,1.5302293300628662,1.536212682723999,1.5426430702209473,1.549523949623108,1.5568586587905884,1.5646504163742065,1.5729016065597534,1.5816154479980469,1.5907936096191406,1.6005150079727173,1.6271382570266724,1.7000091075897217,1.7935799360275269,1.9149022102355957,2.0532708168029785,null,null,null,null,null,null,null,null,null,null,null,2.359081745147705,2.2423033714294434,2.140087604522705,2.1290600299835205,2.148411273956299,2.168217182159424,2.188474416732788,2.209179639816284,2.2303287982940674,2.251917839050293,2.273944139480591,2.296403408050537,2.319291830062866,2.342606544494629,2.3663434982299805,2.3904993534088135,2.4150707721710205,2.440054416656494,2.465446710586548,2.4912447929382324,2.5174453258514404,2.5440452098846436,2.5710391998291016,2.598426580429077,null,null,null,null,null,null,null,null,null],[null,null,null,null,null,null,null,null,null,null,null,null,null,null,null,null,null,null,null,null,null,null,null,null,null,null,null,null,null,null,null,null,null,null,null,null,null,null,null,null,null,2.0214309692382812,1.8035292625427246,1.7684122323989868,1.7351033687591553,1.7034441232681274,1.6730908155441284,1.643992304801941,1.6160998344421387,1.5893667936325073,1.5637495517730713,1.5392762422561646,1.51585853099823,1.507530927658081,1.5096081495285034,1.5120885372161865,1.514977216720581,1.5182790756225586,1.5219985246658325,1.5261403322219849,1.530707836151123,1.5357059240341187,1.5411373376846313,1.5470058917999268,1.5533140897750854,1.5600651502609253,1.5672613382339478,1.5749047994613647,1.5829975605010986,1.5915411710739136,1.6005369424819946,1.6158859729766846,1.7137246131896973,1.823905348777771,1.9488213062286377,2.0915286540985107,null,null,null,null,null,null,null,null,null,null,null,2.4663703441619873,2.3375961780548096,2.2258825302124023,2.131685495376587,2.150954484939575,2.1706764698028564,2.190847873687744,2.2114651203155518,2.2325246334075928,2.2540228366851807,2.27595591545105,2.2983202934265137,2.3211123943328857,2.3443288803100586,2.367966413497925,2.3920211791992188,2.416490077972412,2.4413695335388184,2.466656446456909,2.4923477172851562,2.518440008163452,2.5449306964874268,2.5718162059783936,2.5990939140319824,2.6267597675323486,null,null,null,null,null,null,null,null],[null,null,null,null,null,null,null,null,null,null,null,null,null,null,null,null,null,null,null,null,null,null,null,null,null,null,null,null,null,null,null,null,null,null,null,null,null,null,null,null,null,1.9707756042480469,1.817057728767395,1.781645655632019,1.7479701042175293,1.7160484790802002,1.68544340133667,1.6561024188995361,1.6279765367507935,1.6010875701904297,1.5753520727157593,1.5506919622421265,1.527066946029663,1.5172054767608643,1.519325852394104,1.5218487977981567,1.524779200553894,1.528122067451477,1.5318821668624878,1.536063551902771,1.540670394897461,1.5457066297531128,1.5511760711669922,1.5570814609527588,1.5634264945983887,1.5702134370803833,1.5774447917938232,1.5851225852966309,1.5932472944259644,1.6018222570419312,1.610849142074585,1.6416072845458984,1.7421140670776367,1.855449914932251,1.9841376543045044,2.131408452987671,null,null,null,null,null,null,null,null,null,null,null,null,2.442918300628662,2.3179802894592285,2.2104289531707764,2.1539082527160645,2.1735453605651855,2.193629741668701,2.214158058166504,2.2351267337799072,2.2565321922302246,2.2783710956573486,2.3006393909454346,2.323333978652954,2.3464512825012207,2.369988203048706,2.3939404487609863,2.4183056354522705,2.443079710006714,2.4682600498199463,2.4938430786132812,2.5198259353637695,2.546205520629883,2.572978973388672,2.6001431941986084,2.6276957988739014,null,null,null,null,null,null,null,null],[null,null,null,null,null,null,null,null,null,null,null,null,null,null,null,null,null,null,null,null,null,null,null,null,null,null,null,null,null,null,null,null,null,null,null,null,null,null,null,null,null,null,1.8310844898223877,1.7953689098358154,1.7613166570663452,1.7291253805160522,1.698261022567749,1.6687380075454712,1.6404781341552734,1.6133885383605957,1.587424397468567,1.5625431537628174,1.5387042760849,1.5272793769836426,1.5294444561004639,1.5320113897323608,1.5349854230880737,1.5383708477020264,1.5421730279922485,1.5463955402374268,1.551043152809143,1.5561192035675049,1.5616275072097778,1.5675711631774902,1.5739514827728271,1.580773115158081,1.5880385637283325,1.595750093460083,1.6039096117019653,1.6125191450119019,1.621579647064209,1.6683162450790405,1.7716137170791626,1.8882561922073364,2.020904302597046,null,null,null,null,null,null,null,null,null,null,null,null,null,null,2.4211413860321045,2.3010780811309814,2.1960108280181885,2.176816463470459,2.196812868118286,2.2172513008117676,2.238128185272217,2.2594401836395264,2.2811834812164307,2.3033547401428223,2.3259503841400146,2.3489673137664795,2.3724019527435303,2.3962509632110596,2.42051100730896,2.445178747177124,2.4702508449554443,2.495724678039551,2.521596670150757,2.5478644371032715,2.574524164199829,2.601574182510376,2.6290106773376465,null,null,null,null,null,null,null,null],[null,null,null,null,null,null,null,null,null,null,null,null,null,null,null,null,null,null,null,null,null,null,null,null,null,null,null,null,null,null,null,null,null,null,null,null,null,null,null,null,null,null,null,null,1.7751425504684448,1.7427393198013306,1.7117232084274292,1.6819839477539062,1.6534712314605713,1.626137614250183,1.5999375581741333,1.5748286247253418,1.5507696866989136,1.5377496480941772,1.5399614572525024,1.5425742864608765,1.5455931425094604,1.5490232706069946,1.5528686046600342,1.5571339130401611,1.5618213415145874,1.5669364929199219,1.572482943534851,1.578464150428772,1.584883213043213,1.591742753982544,1.5990451574325562,1.6067931652069092,1.6149883270263672,1.623632788658142,1.632721185684204,1.6960420608520508,1.802260160446167,1.9223687648773193,2.0591769218444824,null,null,null,null,null,null,null,null,null,null,null,null,null,null,2.532357692718506,2.4004385471343994,2.2854528427124023,2.1827216148376465,2.200390338897705,2.2207376956939697,2.2415218353271484,2.2627391815185547,2.284385919570923,2.3064591884613037,2.3289551734924316,2.351870536804199,2.375201940536499,2.3989462852478027,2.423100233078003,2.447660207748413,2.472623109817505,2.497986316680908,2.5237467288970947,2.549901008605957,2.576446533203125,2.6033804416656494,null,null,null,null,null,null,null,null,null],[null,null,null,null,null,null,null,null,null,null,null,null,null,null,null,null,null,null,null,null,null,null,null,null,null,null,null,null,null,null,null,null,null,null,null,null,null,null,null,null,null,null,null,null,1.8116943836212158,1.7567487955093384,1.7255247831344604,1.695583462715149,1.6668744087219238,1.6393331289291382,1.6128909587860107,1.5875474214553833,1.5632615089416504,1.5486135482788086,1.550873875617981,1.5535343885421753,1.5565980672836304,1.5600719451904297,1.5639604330062866,1.568267822265625,1.572998285293579,1.5781559944152832,1.583743929862976,1.5897657871246338,1.5962244272232056,1.6031228303909302,1.6104636192321777,1.618248701095581,1.6264805793762207,1.6351605653762817,1.6442689895629883,1.7248162031173706,1.8340914249420166,1.9578346014022827,2.0990147590637207,null,null,null,null,null,null,null,null,null,null,null,null,null,null,null,2.5095937252044678,2.3812761306762695,2.270537853240967,2.204355001449585,2.2246105670928955,2.2453010082244873,2.266422748565674,2.2879722118377686,2.309946298599243,2.332341194152832,2.355154037475586,2.3783814907073975,2.40201997756958,2.4260666370391846,2.4505178928375244,2.4753708839416504,2.500622272491455,2.5262696743011475,2.55230975151062,2.578739643096924,2.6055564880371094,null,null,null,null,null,null,null,null,null],[null,null,null,null,null,null,null,null,null,null,null,null,null,null,null,null,null,null,null,null,null,null,null,null,null,null,null,null,null,null,null,null,null,null,null,null,null,null,null,null,null,null,null,null,2.0195882320404053,1.7710227966308594,1.7395259141921997,1.7093218564987183,1.6803590059280396,1.6525894403457642,1.6259666681289673,1.6004472970962524,1.5759896039962769,1.5598652362823486,1.5621731281280518,1.5648807287216187,1.5679930448532104,1.5715142488479614,1.5754491090774536,1.5798022747039795,1.5845773220062256,1.5897786617279053,1.5954093933105469,1.6014728546142578,1.607972502708435,1.6149108409881592,1.6222906112670898,1.630113959312439,1.638383150100708,1.6470999717712402,1.65622878074646,1.7546710968017578,1.8671468496322632,1.9947030544281006,2.140479326248169,null,null,null,null,null,null,null,null,null,null,null,null,null,null,null,null,2.4884254932403564,2.3650248050689697,2.25675892829895,2.228862762451172,2.2494583129882812,2.2704837322235107,2.2919349670410156,2.3138086795806885,2.33610200881958,2.358811378479004,2.3819336891174316,2.4054653644561768,2.429403781890869,2.4537453651428223,2.478487253189087,2.5036261081695557,2.5291593074798584,2.555084228515625,2.581397294998169,null,null,null,null,null,null,null,null,null,null],[null,null,null,null,null,null,null,null,null,null,null,null,null,null,null,null,null,null,null,null,null,null,null,null,null,null,null,null,null,null,null,null,null,null,null,null,null,null,null,null,null,null,null,null,2.18381667137146,1.785912036895752,1.753983736038208,1.7235091924667358,1.6942857503890991,1.6662641763687134,1.6393978595733643,1.6136425733566284,1.588956356048584,1.5715086460113525,1.5738598108291626,1.5766185522079468,1.5797805786132812,1.5833508968353271,1.5873337984085083,1.591733694076538,1.5965549945831299,1.6018011569976807,1.607475996017456,1.6135826110839844,1.6201239824295044,1.627103567123413,1.6345233917236328,1.6423859596252441,1.650693416595459,1.6594382524490356,1.682949185371399,1.785640835762024,1.9014688730239868,2.0330259799957275,2.1836369037628174,null,null,null,null,null,null,null,null,null,null,null,null,null,null,null,null,2.6040635108947754,2.4686086177825928,2.349792718887329,2.2440404891967773,2.2539870738983154,2.2749149799346924,2.296267032623291,2.318040132522583,2.340230703353882,2.362835645675659,2.385852098464966,2.409276247024536,2.43310546875,2.45733642578125,2.481966018676758,2.5069916248321533,2.532409906387329,2.558218240737915,null,null,null,null,null,null,null,null,null,null,null],[null,null,null,null,null,null,null,null,null,null,null,null,null,null,null,null,null,null,null,null,null,null,null,null,null,null,null,null,null,null,null,null,null,null,null,null,null,null,null,null,null,null,null,null,null,1.801345944404602,1.7688959836959839,1.7381441593170166,1.7086526155471802,1.6803721189498901,1.6532554626464844,1.6272577047348022,1.6023366451263428,1.583537220954895,1.5859404802322388,1.5887441635131836,1.591957688331604,1.595578670501709,1.5996110439300537,1.6040596961975098,1.6089280843734741,1.6142206192016602,1.6199406385421753,1.626091480255127,1.6326762437820435,1.6396979093551636,1.6471589803695679,1.6550616025924683,1.6634082794189453,1.6721757650375366,1.7121001482009888,1.8177603483200073,1.9371005296707153,2.0728583335876465,null,null,null,null,null,null,null,null,null,null,null,null,null,null,null,null,null,null,2.5817313194274902,2.4497909545898438,2.3353774547576904,2.2588796615600586,2.2797093391418457,2.30096173286438,2.3226330280303955,2.3447201251983643,2.367220163345337,2.390129566192627,2.413445472717285,2.437164783477783,2.4612841606140137,2.4858007431030273,2.510712146759033,2.5360147953033447,2.561706066131592,null,null,null,null,null,null,null,null,null,null,null],[null,null,null,null,null,null,null,null,null,null,null,null,null,null,null,null,null,null,null,null,null,null,null,null,null,null,null,null,null,null,null,null,null,null,null,null,null,null,null,null,null,null,null,null,null,1.8172460794448853,1.7844406366348267,1.753224492073059,1.723457932472229,1.6949114799499512,1.6675375699996948,1.6412907838821411,1.6161282062530518,1.5959471464157104,1.5984057188034058,1.6012605428695679,1.6045212745666504,1.60819411277771,1.612277626991272,1.6167761087417603,1.62169349193573,1.6270335912704468,1.6328001022338867,1.6389964818954468,1.6456254720687866,1.6526904106140137,1.6601934432983398,1.668137550354004,1.6765244007110596,1.6853152513504028,1.7423015832901,1.8510674238204956,1.9740879535675049,2.114257574081421,null,null,null,null,null,null,null,null,null,null,null,null,null,null,null,null,null,null,null,2.5609259605407715,2.4338302612304688,2.3220341205596924,2.284860134124756,2.30601167678833,2.3275809288024902,2.3495638370513916,2.3719582557678223,2.3947598934173584,2.417966604232788,2.441575288772583,2.4655823707580566,2.489985466003418,2.5147814750671387,2.5399675369262695,null,null,null,null,null,null,null,null,null,null,null,null],[null,null,null,null,null,null,null,null,null,null,null,null,null,null,null,null,null,null,null,null,null,null,null,null,null,null,null,null,null,null,null,null,null,null,null,null,null,null,null,null,null,null,null,null,null,1.836129069328308,1.8004891872406006,1.7687485218048096,1.7386994361877441,1.7098801136016846,1.6822419166564941,1.655739426612854,1.6303287744522095,1.608735203742981,1.6112507581710815,1.614161491394043,1.6174722909927368,1.6211940050125122,1.6253302097320557,1.6298798322677612,1.6348474025726318,1.640236496925354,1.6460508108139038,1.6522938013076782,1.6589683294296265,1.666077733039856,1.6736241579055786,1.681610345840454,1.6900256872177124,1.6988530158996582,1.7735854387283325,1.8856009244918823,2.0124800205230713,2.1572844982147217,null,null,null,null,null,null,null,null,null,null,null,null,null,null,null,null,null,null,null,2.6811420917510986,2.5415406227111816,2.4187684059143066,2.3096916675567627,2.3114101886749268,2.332876682281494,2.354754686355591,2.377042293548584,2.399736166000366,2.42283296585083,2.4463303089141846,2.470224380493164,2.4945130348205566,2.519192934036255,2.5442616939544678,null,null,null,null,null,null,null,null,null,null,null,null],[null,null,null,null,null,null,null,null,null,null,null,null,null,null,null,null,null,null,null,null,null,null,null,null,null,null,null,null,null,null,null,null,null,null,null,null,null,null,null,null,null,null,null,null,null,2.0635805130004883,1.8169926404953003,1.7849206924438477,1.7543754577636719,1.7252757549285889,1.6973665952682495,1.67060124874115,1.6449360847473145,1.6218979358673096,1.62447190284729,1.627440094947815,1.6308071613311768,1.634577989578247,1.6387648582458496,1.6433672904968262,1.6483864784240723,1.6538258790969849,1.65968918800354,1.6659801006317139,1.6727014780044556,1.679856300354004,1.687447190284729,1.6954766511917114,1.7039180994033813,1.712786078453064,1.8059848546981812,1.9214011430740356,2.0523269176483154,2.2020041942596436,null,null,null,null,null,null,null,null,null,null,null,null,null,null,null,null,null,null,null,null,2.658994674682617,2.523176908493042,2.404648780822754,2.3171498775482178,2.338512420654297,2.3602852821350098,2.3824660778045654,2.4050512313842773,2.428037643432617,2.451422929763794,2.475203514099121,2.4993767738342285,2.5239405632019043,null,null,null,null,null,null,null,null,null,null,null,null,null],[null,null,null,null,null,null,null,null,null,null,null,null,null,null,null,null,null,null,null,null,null,null,null,null,null,null,null,null,null,null,null,null,null,null,null,null,null,null,null,null,null,null,null,null,null,2.2331318855285645,1.8339494466781616,1.8015564680099487,1.7704930305480957,1.741096019744873,1.7129087448120117,1.685874104499817,1.6599475145339966,1.6354316473007202,1.6380658149719238,1.641093134880066,1.6445178985595703,1.6483453512191772,1.6525795459747314,1.657234787940979,1.662306547164917,1.6677976846694946,1.6737116575241089,1.6800516843795776,1.6868211030960083,1.6940226554870605,1.701659083366394,1.7097326517105103,1.7182010412216187,1.734073281288147,1.8395346403121948,1.9585118293762207,2.0936830043792725,2.2484841346740723,null,null,null,null,null,null,null,null,null,null,null,null,null,null,null,null,null,null,null,null,null,2.6383163928985596,2.507139205932617,2.3915462493896484,2.344481945037842,2.366149425506592,2.3882222175598145,2.410698175430298,2.4335737228393555,2.456846237182617,2.480512857437134,2.504570960998535,2.529017210006714,null,null,null,null,null,null,null,null,null,null,null,null,null],[null,null,null,null,null,null,null,null,null,null,null,null,null,null,null,null,null,null,null,null,null,null,null,null,null,null,null,null,null,null,null,null,null,null,null,null,null,null,null,null,null,null,null,null,null,null,1.851357340812683,1.81863534450531,1.7872544527053833,1.7573387622833252,1.7288663387298584,1.7015552520751953,1.6753606796264648,1.6502395868301392,1.652029037475586,1.6551166772842407,1.6586010456085205,1.6624863147735596,1.6667773723602295,1.671478509902954,1.6766048669815063,1.6821489334106445,1.6881146430969238,1.6945050954818726,1.7013236284255981,1.7085727453231812,1.7162559032440186,1.7243587970733643,1.7328709363937378,1.7656539678573608,1.874271273612976,1.9969778060913086,2.1366047859191895,null,null,null,null,null,null,null,null,null,null,null,null,null,null,null,null,null,null,null,null,null,null,2.763256072998047,2.619004964828491,2.4920804500579834,2.3793933391571045,2.3723390102386475,2.394304037094116,2.416670322418213,2.43943452835083,2.4625940322875977,2.4861462116241455,2.5100879669189453,null,null,null,null,null,null,null,null,null,null,null,null,null,null],[null,null,null,null,null,null,null,null,null,null,null,null,null,null,null,null,null,null,null,null,null,null,null,null,null,null,null,null,null,null,null,null,null,null,null,null,null,null,null,null,null,null,null,null,null,null,1.869214653968811,1.8361551761627197,1.8044488430023193,1.774039626121521,1.7452367544174194,1.7176423072814941,1.6911729574203491,1.665785312652588,1.6663575172424316,1.6695071458816528,1.6730523109436035,1.6769973039627075,1.6813466548919678,1.686104416847229,1.6912767887115479,1.6968753337860107,1.7028937339782715,1.7093361616134644,1.7162048816680908,1.7235033512115479,1.7312343120574951,1.7393673658370972,1.7479240894317627,1.7983157634735107,1.9102332592010498,2.03684663772583,2.181151866912842,null,null,null,null,null,null,null,null,null,null,null,null,null,null,null,null,null,null,null,null,null,null,null,null,2.600965738296509,2.478062152862549,2.37884783744812,2.4007043838500977,2.4229607582092285,2.445613145828247,2.4686594009399414,2.492096424102783,null,null,null,null,null,null,null,null,null,null,null,null,null,null,null],[null,null,null,null,null,null,null,null,null,null,null,null,null,null,null,null,null,null,null,null,null,null,null,null,null,null,null,null,null,null,null,null,null,null,null,null,null,null,null,null,null,null,null,null,null,null,1.887519359588623,1.8541145324707031,1.8220744132995605,1.791343092918396,1.7620172500610352,1.7341325283050537,1.7073817253112793,1.6817208528518677,1.6810475587844849,1.6842608451843262,1.6878682374954224,1.6918742656707764,1.696283221244812,1.7010993957519531,1.7063268423080444,1.7119730710983276,1.718045949935913,1.7245410680770874,1.731461524963379,1.7388101816177368,1.7465866804122925,1.7547540664672852,1.7633565664291382,1.8320914506912231,1.9474602937698364,2.0781683921813965,2.227388381958008,null,null,null,null,null,null,null,null,null,null,null,null,null,null,null,null,null,null,null,null,null,null,null,null,null,2.584542989730835,2.465015172958374,2.4074161052703857,2.4295623302459717,2.4521026611328125,2.4750354290008545,2.4983572959899902,null,null,null,null,null,null,null,null,null,null,null,null,null,null,null],[null,null,null,null,null,null,null,null,null,null,null,null,null,null,null,null,null,null,null,null,null,null,null,null,null,null,null,null,null,null,null,null,null,null,null,null,null,null,null,null,null,null,null,null,null,null,2.0622668266296387,1.8725104331970215,1.8401286602020264,1.8090672492980957,1.7792717218399048,1.751023769378662,1.723984718322754,1.6980434656143188,1.6960952281951904,1.6993738412857056,1.703045129776001,1.7071136236190796,1.7115837335586548,1.7164596319198608,1.721745491027832,1.7274446487426758,1.7335668802261353,1.7401163578033447,1.7470895051956177,1.754489779472351,1.76229989528656,1.7705154418945312,1.7791650295257568,1.8670153617858887,1.9859955310821533,2.1209964752197266,2.275380849838257,null,null,null,null,null,null,null,null,null,null,null,null,null,null,null,null,null,null,null,null,null,null,null,null,null,null,2.5694420337677,2.4528746604919434,2.4364683628082275,2.4588966369628906,2.481715440750122,null,null,null,null,null,null,null,null,null,null,null,null,null,null,null,null],[null,null,null,null,null,null,null,null,null,null,null,null,null,null,null,null,null,null,null,null,null,null,null,null,null,null,null,null,null,null,null,null,null,null,null,null,null,null,null,null,null,null,null,null,null,null,null,1.8913410902023315,1.8586094379425049,1.8272098302841187,1.7970877885818481,1.7683130502700806,1.7409785985946655,1.7147507667541504,1.711497187614441,1.7148425579071045,1.7185789346694946,1.7227110862731934,1.7272437810897827,1.7321809530258179,1.737526297569275,1.7432838678359985,1.7494573593139648,1.7560577392578125,1.763085126876831,1.770538091659546,1.7783827781677246,1.7866475582122803,1.7953450679779053,1.903123378753662,2.0258829593658447,2.165386199951172,2.3252005577087402,null,null,null,null,null,null,null,null,null,null,null,null,null,null,null,null,null,null,null,null,null,null,null,null,null,null,null,2.5553417205810547,2.443671941757202,2.4659879207611084,2.4886927604675293,null,null,null,null,null,null,null,null,null,null,null,null,null,null,null,null],[null,null,null,null,null,null,null,null,null,null,null,null,null,null,null,null,null,null,null,null,null,null,null,null,null,null,null,null,null,null,null,null,null,null,null,null,null,null,null,null,null,null,null,null,null,null,null,1.9106045961380005,1.8775144815444946,1.8457688093185425,1.8153119087219238,1.7860910892486572,1.758360743522644,1.731839895248413,1.727249264717102,1.73066246509552,1.7344655990600586,1.7386635541915894,1.7432599067687988,1.7482596635818481,1.7536661624908447,1.7594833374023438,1.7657148838043213,1.7723644971847534,1.7794444561004639,1.7869447469711304,1.7948312759399414,1.8031466007232666,1.8283084630966187,1.940453290939331,2.067169427871704,2.2113966941833496,null,null,null,null,null,null,null,null,null,null,null,null,null,null,null,null,null,null,null,null,null,null,null,null,null,null,null,null,null,null,2.473369836807251,null,null,null,null,null,null,null,null,null,null,null,null,null,null,null,null,null],[null,null,null,null,null,null,null,null,null,null,null,null,null,null,null,null,null,null,null,null,null,null,null,null,null,null,null,null,null,null,null,null,null,null,null,null,null,null,null,null,null,null,null,null,null,null,null,1.9302984476089478,1.8968417644500732,1.8647418022155762,1.8339424133300781,1.8043900728225708,1.7761292457580566,1.7493077516555786,1.7433477640151978,1.7468305826187134,1.7507020235061646,1.754966378211975,1.759628176689148,1.7646915912628174,1.770160436630249,1.7760388851165771,1.782329797744751,1.7890372276306152,1.7961642742156982,1.8037017583847046,1.8116414546966553,1.8200087547302246,1.8633975982666016,1.9790451526641846,2.1099050045013428,null,null,null,null,null,null,null,null,null,null,null,null,null,null,null,null,null,null,null,null,null,null,null,null,null,null,null,null,null,null,null,null,null,null,null,null,null,null,null,null,null,null,null,null,null,null,null,null,null],[null,null,null,null,null,null,null,null,null,null,null,null,null,null,null,null,null,null,null,null,null,null,null,null,null,null,null,null,null,null,null,null,null,null,null,null,null,null,null,null,null,null,null,null,null,null,null,null,1.9198516607284546,1.8841264247894287,1.852976679801941,1.8230854272842407,1.7944010496139526,1.767152190208435,1.7597886323928833,1.7633424997329712,1.7672834396362305,1.771615982055664,1.7763445377349854,1.7814732789993286,1.7870056629180908,1.7929463386535645,1.798675775527954,1.7999293804168701,1.80155611038208,1.8208158016204834,1.8288098573684692,1.8372299671173096,1.8996310234069824,2.0189402103424072,2.154141426086426,null,null,null,null,null,null,null,null,null,null,null,null,null,null,null,null,null,null,null,null,null,null,null,null,null,null,null,null,null,null,null,null,null,null,null,null,null,null,null,null,null,null,null,null,null,null,null,null,null],[null,null,null,null,null,null,null,null,null,null,null,null,null,null,null,null,null,null,null,null,null,null,null,null,null,null,null,null,null,null,null,null,null,null,null,null,null,null,null,null,null,null,null,null,null,null,null,null,null,1.9307732582092285,1.882260799407959,1.8421742916107178,1.8131541013717651,1.7853699922561646,1.7765682935714722,1.780194640159607,1.7842063903808594,1.7886085510253906,1.793405294418335,1.793210506439209,1.7933402061462402,1.7938379049301147,1.7947032451629639,1.7959363460540771,1.7975361347198486,1.838282585144043,1.846332311630249,1.8548065423965454,1.937044382095337,2.06018328666687,null,null,null,null,null,null,null,null,null,null,null,null,null,null,null,null,null,null,null,null,null,null,null,null,null,null,null,null,null,null,null,null,null,null,null,null,null,null,null,null,null,null,null,null,null,null,null,null,null,null],[null,null,null,null,null,null,null,null,null,null,null,null,null,null,null,null,null,null,null,null,null,null,null,null,null,null,null,null,null,null,null,null,null,null,null,null,null,null,null,null,null,null,null,null,null,null,null,null,null,null,1.942431092262268,1.8940163850784302,1.848158836364746,1.804689884185791,1.7936828136444092,1.7927027940750122,1.7913864850997925,1.7904305458068848,1.7898354530334473,1.7896019220352173,1.7897298336029053,1.7902199029922485,1.7910712957382202,1.7922841310501099,1.7938578128814697,1.7957913875579834,1.8642048835754395,1.872734546661377,1.9756749868392944,2.1028201580047607,null,null,null,null,null,null,null,null,null,null,null,null,null,null,null,null,null,null,null,null,null,null,null,null,null,null,null,null,null,null,null,null,null,null,null,null,null,null,null,null,null,null,null,null,null,null,null,null,null,null],[null,null,null,null,null,null,null,null,null,null,null,null,null,null,null,null,null,null,null,null,null,null,null,null,null,null,null,null,null,null,null,null,null,null,null,null,null,null,null,null,null,null,null,null,null,null,null,null,null,null,null,1.95481538772583,1.9064786434173584,1.8606958389282227,1.7906664609909058,1.7893630266189575,1.7880699634552002,1.7871307134628296,1.7865464687347412,1.7863174676895142,1.786444067955017,1.7869263887405396,1.7877641916275024,1.7889572381973267,1.790505051612854,1.792406439781189,1.882423996925354,1.8993483781814575,2.0155625343322754,null,null,null,null,null,null,null,null,null,null,null,null,null,null,null,null,null,null,null,null,null,null,null,null,null,null,null,null,null,null,null,null,null,null,null,null,null,null,null,null,null,null,null,null,null,null,null,null,null,null,null],[null,null,null,null,null,null,null,null,null,null,null,null,null,null,null,null,null,null,null,null,null,null,null,null,null,null,null,null,null,null,null,null,null,null,null,null,null,null,null,null,null,null,null,null,null,null,null,null,null,null,null,null,1.967915654182434,1.9196363687515259,1.7868647575378418,1.785763144493103,1.7850080728530884,1.784140706062317,1.783567190170288,1.783342719078064,1.7834680080413818,1.7839428186416626,1.7847672700881958,1.7859410047531128,1.7874631881713867,1.7893333435058594,1.9009859561920166,1.9368221759796143,null,null,null,null,null,null,null,null,null,null,null,null,null,null,null,null,null,null,null,null,null,null,null,null,null,null,null,null,null,null,null,null,null,null,null,null,null,null,null,null,null,null,null,null,null,null,null,null,null,null,null,null],[null,null,null,null,null,null,null,null,null,null,null,null,null,null,null,null,null,null,null,null,null,null,null,null,null,null,null,null,null,null,null,null,null,null,null,null,null,null,null,null,null,null,null,null,null,null,null,null,null,null,null,null,null,1.981719970703125,1.7833765745162964,1.7822976112365723,1.7815592288970947,1.7811627388000488,1.7808831930160522,1.780663251876831,1.7807873487472534,1.7812548875808716,1.7820663452148438,1.783220648765564,1.7847180366516113,1.7865573167800903,1.919886589050293,1.9754704236984253,null,null,null,null,null,null,null,null,null,null,null,null,null,null,null,null,null,null,null,null,null,null,null,null,null,null,null,null,null,null,null,null,null,null,null,null,null,null,null,null,null,null,null,null,null,null,null,null,null,null,null,null],[null,null,null,null,null,null,null,null,null,null,null,null,null,null,null,null,null,null,null,null,null,null,null,null,null,null,null,null,null,null,null,null,null,null,null,null,null,null,null,null,null,null,null,null,null,null,null,null,null,null,null,null,null,null,1.7801873683929443,1.7791308164596558,1.7784091234207153,1.7780232429504395,1.777974247932434,1.778262972831726,1.778388500213623,1.7788488864898682,1.7796474695205688,1.7807831764221191,1.782256007194519,1.7840652465820312,1.7862097024917603,null,null,null,null,null,null,null,null,null,null,null,null,null,null,null,null,null,null,null,null,null,null,null,null,null,null,null,null,null,null,null,null,null,null,null,null,null,null,null,null,null,null,null,null,null,null,null,null,null,null,null,null,null],[null,null,null,null,null,null,null,null,null,null,null,null,null,null,null,null,null,null,null,null,null,null,null,null,null,null,null,null,null,null,null,null,null,null,null,null,null,null,null,null,null,null,null,null,null,null,null,null,null,null,null,null,null,null,null,1.7762486934661865,1.775543212890625,1.7751679420471191,1.7751238346099854,1.7754114866256714,1.7760313749313354,1.77671217918396,1.7774977684020996,1.7786152362823486,1.7800639867782593,1.7818434238433838,1.7839524745941162,null,null,null,null,null,null,null,null,null,null,null,null,null,null,null,null,null,null,null,null,null,null,null,null,null,null,null,null,null,null,null,null,null,null,null,null,null,null,null,null,null,null,null,null,null,null,null,null,null,null,null,null,null],[null,null,null,null,null,null,null,null,null,null,null,null,null,null,null,null,null,null,null,null,null,null,null,null,null,null,null,null,null,null,null,null,null,null,null,null,null,null,null,null,null,null,null,null,null,null,null,null,null,null,null,null,null,null,null,1.773638129234314,1.7729487419128418,1.7725838422775269,1.772544503211975,1.7728313207626343,1.7734445333480835,1.774384617805481,1.7756049633026123,1.77670419216156,1.7781296968460083,1.7798796892166138,1.7819544076919556,null,null,null,null,null,null,null,null,null,null,null,null,null,null,null,null,null,null,null,null,null,null,null,null,null,null,null,null,null,null,null,null,null,null,null,null,null,null,null,null,null,null,null,null,null,null,null,null,null,null,null,null,null],[null,null,null,null,null,null,null,null,null,null,null,null,null,null,null,null,null,null,null,null,null,null,null,null,null,null,null,null,null,null,null,null,null,null,null,null,null,null,null,null,null,null,null,null,null,null,null,null,null,null,null,null,null,null,null,1.7712863683700562,1.7706129550933838,1.7702584266662598,1.7702237367630005,1.7705097198486328,1.7711162567138672,1.7720445394515991,1.7732940912246704,1.7748651504516602,1.7764406204223633,1.7781621217727661,1.780202865600586,1.782561182975769,null,null,null,null,null,null,null,null,null,null,null,null,null,null,null,null,null,null,null,null,null,null,null,null,null,null,null,null,null,null,null,null,null,null,null,null,null,null,null,null,null,null,null,null,null,null,null,null,null,null,null,null],[null,null,null,null,null,null,null,null,null,null,null,null,null,null,null,null,null,null,null,null,null,null,null,null,null,null,null,null,null,null,null,null,null,null,null,null,null,null,null,null,null,null,null,null,null,null,null,null,null,null,null,null,null,null,null,1.7691816091537476,1.7685238122940063,1.7681795358657837,1.7681496143341064,1.7684346437454224,1.7690349817276,1.769951343536377,1.7711834907531738,1.7727317810058594,1.7745954990386963,1.7766793966293335,1.7786865234375,1.7810062170028687,null,null,null,null,null,null,null,null,null,null,null,null,null,null,null,null,null,null,null,null,null,null,null,null,null,null,null,null,null,null,null,null,null,null,null,null,null,null,null,null,null,null,null,null,null,null,null,null,null,null,null,null],[null,null,null,null,null,null,null,null,null,null,null,null,null,null,null,null,null,null,null,null,null,null,null,null,null,null,null,null,null,null,null,null,null,null,null,null,null,null,null,null,null,null,null,null,null,null,null,null,null,null,null,null,null,null,null,1.767311930656433,1.766669750213623,1.7663354873657227,1.766310214996338,1.766594648361206,1.7671889066696167,1.7680938243865967,1.7693090438842773,1.7708345651626587,1.772670865058899,1.774816870689392,1.7772724628448486,1.7796763181686401,null,null,null,null,null,null,null,null,null,null,null,null,null,null,null,null,null,null,null,null,null,null,null,null,null,null,null,null,null,null,null,null,null,null,null,null,null,null,null,null,null,null,null,null,null,null,null,null,null,null,null,null],[null,null,null,null,null,null,null,null,null,null,null,null,null,null,null,null,null,null,null,null,null,null,null,null,null,null,null,null,null,null,null,null,null,null,null,null,null,null,null,null,null,null,null,null,null,null,null,null,null,null,null,null,null,null,null,1.7656667232513428,1.7650395631790161,1.764715313911438,1.7646948099136353,1.7649785280227661,1.7655670642852783,1.7664604187011719,1.767659068107605,1.7691630125045776,1.7709720134735107,1.773085594177246,1.775503396987915,1.7782248258590698,null,null,null,null,null,null,null,null,null,null,null,null,null,null,null,null,null,null,null,null,null,null,null,null,null,null,null,null,null,null,null,null,null,null,null,null,null,null,null,null,null,null,null,null,null,null,null,null,null,null,null,null],[null,null,null,null,null,null,null,null,null,null,null,null,null,null,null,null,null,null,null,null,null,null,null,null,null,null,null,null,null,null,null,null,null,null,null,null,null,null,null,null,null,null,null,null,null,null,null,null,null,null,null,null,null,null,null,1.765013337135315,1.7645928859710693,1.7644704580307007,1.7646466493606567,1.765122413635254,1.7658984661102295,1.7669745683670044,1.768351674079895,1.7700295448303223,1.7720080614089966,1.774287223815918,1.7768664360046387,1.77974534034729,1.789451003074646,null,null,null,null,null,null,null,null,null,null,null,null,null,null,null,null,null,null,null,null,null,null,null,null,null,null,null,null,null,null,null,null,null,null,null,null,null,null,null,null,null,null,null,null,null,null,null,null,null,null,null],[null,null,null,null,null,null,null,null,null,null,null,null,null,null,null,null,null,null,null,null,null,null,null,null,null,null,null,null,null,null,null,null,null,null,null,null,null,null,null,null,null,null,null,null,null,null,null,null,null,null,null,null,null,null,null,1.7677342891693115,1.7673583030700684,1.7672451734542847,1.7674262523651123,1.7679027318954468,1.768674612045288,1.7697426080703735,1.7711067199707031,1.7727673053741455,1.7747241258621216,1.7769769430160522,1.779525637626648,1.7823697328567505,1.785508155822754,null,null,null,null,null,null,null,null,null,null,null,null,null,null,null,null,null,null,null,null,null,null,null,null,null,null,null,null,null,null,null,null,null,null,null,null,null,null,null,null,null,null,null,null,null,null,null,null,null,null,null],[null,null,null,null,null,null,null,null,null,null,null,null,null,null,null,null,null,null,null,null,null,null,null,null,null,null,null,null,null,null,null,null,null,null,null,null,null,null,null,null,null,null,null,null,null,null,null,null,null,null,null,null,null,null,null,null,1.7702405452728271,1.7701565027236938,1.770342469215393,1.7708194255828857,1.7715874910354614,1.7726471424102783,1.773998737335205,1.7756422758102417,1.7775777578353882,1.7798049449920654,1.7823235988616943,1.7851332426071167,1.7882330417633057,null,null,null,null,null,null,null,null,null,null,null,null,null,null,null,null,null,null,null,null,null,null,null,null,null,null,null,null,null,null,null,null,null,null,null,null,null,null,null,null,null,null,null,null,null,null,null,null,null,null,null],[null,null,null,null,null,null,null,null,null,null,null,null,null,null,null,null,null,null,null,null,null,null,null,null,null,null,null,null,null,null,null,null,null,null,null,null,null,null,null,null,null,null,null,null,null,null,null,null,null,null,null,null,null,null,null,null,1.7732380628585815,1.7731881141662598,1.7733882665634155,1.773865818977356,1.774630069732666,1.775681734085083,1.7770209312438965,1.7786478996276855,1.780562400817871,1.7827643156051636,1.7852532863616943,1.7880291938781738,1.7910908460617065,null,null,null,null,null,null,null,null,null,null,null,null,null,null,null,null,null,null,null,null,null,null,null,null,null,null,null,null,null,null,null,null,null,null,null,null,null,null,null,null,null,null,null,null,null,null,null,null,null,null,null],[null,null,null,null,null,null,null,null,null,null,null,null,null,null,null,null,null,null,null,null,null,null,null,null,null,null,null,null,null,null,null,null,null,null,null,null,null,null,null,null,null,null,null,null,null,null,null,null,null,null,null,null,null,null,null,null,1.776358962059021,1.7763181924819946,1.7765570878982544,1.777035117149353,1.7777957916259766,1.7788395881652832,1.780166745185852,1.7817773818969727,1.783671259880066,1.7858482599258423,1.7883082628250122,1.791050672531128,1.7940752506256104,null,null,null,null,null,null,null,null,null,null,null,null,null,null,null,null,null,null,null,null,null,null,null,null,null,null,null,null,null,null,null,null,null,null,null,null,null,null,null,null,null,null,null,null,null,null,null,null,null,null,null],[null,null,null,null,null,null,null,null,null,null,null,null,null,null,null,null,null,null,null,null,null,null,null,null,null,null,null,null,null,null,null,null,null,null,null,null,null,null,null,null,null,null,null,null,null,null,null,null,null,null,null,null,null,null,null,null,1.7795970439910889,1.7795647382736206,1.7798099517822266,1.7803210020065308,1.7810781002044678,1.7821143865585327,1.783429503440857,1.7850239276885986,1.7868977785110474,1.7890504598617554,1.7914819717407227,1.7941917181015015,1.7971793413162231,null,null,null,null,null,null,null,null,null,null,null,null,null,null,null,null,null,null,null,null,null,null,null,null,null,null,null,null,null,null,null,null,null,null,null,null,null,null,null,null,null,null,null,null,null,null,null,null,null,null,null],[null,null,null,null,null,null,null,null,null,null,null,null,null,null,null,null,null,null,null,null,null,null,null,null,null,null,null,null,null,null,null,null,null,null,null,null,null,null,null,null,null,null,null,null,null,null,null,null,null,null,null,null,null,null,null,null,1.7829458713531494,1.7829221487045288,1.7831720113754272,1.7836955785751343,1.784471035003662,1.7854995727539062,1.7868033647537231,1.7883819341659546,1.7902357578277588,1.7923645973205566,1.794768214225769,1.7974457740783691,1.800397276878357,null,null,null,null,null,null,null,null,null,null,null,null,null,null,null,null,null,null,null,null,null,null,null,null,null,null,null,null,null,null,null,null,null,null,null,null,null,null,null,null,null,null,null,null,null,null,null,null,null,null,null],[null,null,null,null,null,null,null,null,null,null,null,null,null,null,null,null,null,null,null,null,null,null,null,null,null,null,null,null,null,null,null,null,null,null,null,null,null,null,null,null,null,null,null,null,null,null,null,null,null,null,null,null,null,null,null,null,1.7863999605178833,1.7863847017288208,1.7866389751434326,1.7871630191802979,1.787957787513733,1.7889899015426636,1.790282130241394,1.791845440864563,1.7936797142028809,1.7957849502563477,1.7981609106063843,1.800807237625122,1.8037229776382446,null,null,null,null,null,null,null,null,null,null,null,null,null,null,null,null,null,null,null,null,null,null,null,null,null,null,null,null,null,null,null,null,null,null,null,null,null,null,null,null,null,null,null,null,null,null,null,null,null,null,null],[null,null,null,null,null,null,null,null,null,null,null,null,null,null,null,null,null,null,null,null,null,null,null,null,null,null,null,null,null,null,null,null,null,null,null,null,null,null,null,null,null,null,null,null,null,null,null,null,null,null,null,null,null,null,null,null,null,1.7899463176727295,1.7902051210403442,1.7907296419143677,1.7915207147598267,1.7925788164138794,1.7938601970672607,1.7954084873199463,1.797223448753357,1.79930579662323,1.8016546964645386,1.804269790649414,1.8071508407592773,null,null,null,null,null,null,null,null,null,null,null,null,null,null,null,null,null,null,null,null,null,null,null,null,null,null,null,null,null,null,null,null,null,null,null,null,null,null,null,null,null,null,null,null,null,null,null,null,null,null,null],[null,null,null,null,null,null,null,null,null,null,null,null,null,null,null,null,null,null,null,null,null,null,null,null,null,null,null,null,null,null,null,null,null,null,null,null,null,null,null,null,null,null,null,null,null,null,null,null,null,null,null,null,null,null,null,null,null,1.7936017513275146,1.7938648462295532,1.7943899631500244,1.795177698135376,1.7962286472320557,1.7975324392318726,1.7990657091140747,1.800862193107605,1.8029216527938843,1.805243730545044,1.8078287839889526,1.8106755018234253,null,null,null,null,null,null,null,null,null,null,null,null,null,null,null,null,null,null,null,null,null,null,null,null,null,null,null,null,null,null,null,null,null,null,null,null,null,null,null,null,null,null,null,null,null,null,null,null,null,null,null],[null,null,null,null,null,null,null,null,null,null,null,null,null,null,null,null,null,null,null,null,null,null,null,null,null,null,null,null,null,null,null,null,null,null,null,null,null,null,null,null,null,null,null,null,null,null,null,null,null,null,null,null,null,null,null,null,null,1.7973461151123047,1.7976133823394775,1.798139214515686,1.798923373222351,1.7999669313430786,1.8012700080871582,1.8028119802474976,1.804590106010437,1.8066271543502808,1.808923363685608,1.8114781379699707,1.8142914772033691,null,null,null,null,null,null,null,null,null,null,null,null,null,null,null,null,null,null,null,null,null,null,null,null,null,null,null,null,null,null,null,null,null,null,null,null,null,null,null,null,null,null,null,null,null,null,null,null,null,null,null],[null,null,null,null,null,null,null,null,null,null,null,null,null,null,null,null,null,null,null,null,null,null,null,null,null,null,null,null,null,null,null,null,null,null,null,null,null,null,null,null,null,null,null,null,null,null,null,null,null,null,null,null,null,null,null,null,null,1.8011739253997803,1.8014453649520874,1.8019717931747437,1.8027528524398804,1.8037892580032349,1.8050814867019653,1.8066294193267822,1.8084022998809814,1.8104174137115479,1.8126879930496216,1.815213680267334,1.8179937601089478,null,null,null,null,null,null,null,null,null,null,null,null,null,null,null,null,null,null,null,null,null,null,null,null,null,null,null,null,null,null,null,null,null,null,null,null,null,null,null,null,null,null,null,null,null,null,null,null,null,null,null]],\"type\":\"heatmap\",\"xaxis\":\"x2\",\"yaxis\":\"y2\",\"hovertemplate\":\"x: %{x}\\u003cbr\\u003ey: %{y}\\u003cbr\\u003ecolor: %{z}\\u003cextra\\u003e\\u003c\\u002fextra\\u003e\"}],                        {\"template\":{\"data\":{\"histogram2dcontour\":[{\"type\":\"histogram2dcontour\",\"colorbar\":{\"outlinewidth\":0,\"ticks\":\"\"},\"colorscale\":[[0.0,\"#0d0887\"],[0.1111111111111111,\"#46039f\"],[0.2222222222222222,\"#7201a8\"],[0.3333333333333333,\"#9c179e\"],[0.4444444444444444,\"#bd3786\"],[0.5555555555555556,\"#d8576b\"],[0.6666666666666666,\"#ed7953\"],[0.7777777777777778,\"#fb9f3a\"],[0.8888888888888888,\"#fdca26\"],[1.0,\"#f0f921\"]]}],\"choropleth\":[{\"type\":\"choropleth\",\"colorbar\":{\"outlinewidth\":0,\"ticks\":\"\"}}],\"histogram2d\":[{\"type\":\"histogram2d\",\"colorbar\":{\"outlinewidth\":0,\"ticks\":\"\"},\"colorscale\":[[0.0,\"#0d0887\"],[0.1111111111111111,\"#46039f\"],[0.2222222222222222,\"#7201a8\"],[0.3333333333333333,\"#9c179e\"],[0.4444444444444444,\"#bd3786\"],[0.5555555555555556,\"#d8576b\"],[0.6666666666666666,\"#ed7953\"],[0.7777777777777778,\"#fb9f3a\"],[0.8888888888888888,\"#fdca26\"],[1.0,\"#f0f921\"]]}],\"heatmap\":[{\"type\":\"heatmap\",\"colorbar\":{\"outlinewidth\":0,\"ticks\":\"\"},\"colorscale\":[[0.0,\"#0d0887\"],[0.1111111111111111,\"#46039f\"],[0.2222222222222222,\"#7201a8\"],[0.3333333333333333,\"#9c179e\"],[0.4444444444444444,\"#bd3786\"],[0.5555555555555556,\"#d8576b\"],[0.6666666666666666,\"#ed7953\"],[0.7777777777777778,\"#fb9f3a\"],[0.8888888888888888,\"#fdca26\"],[1.0,\"#f0f921\"]]}],\"heatmapgl\":[{\"type\":\"heatmapgl\",\"colorbar\":{\"outlinewidth\":0,\"ticks\":\"\"},\"colorscale\":[[0.0,\"#0d0887\"],[0.1111111111111111,\"#46039f\"],[0.2222222222222222,\"#7201a8\"],[0.3333333333333333,\"#9c179e\"],[0.4444444444444444,\"#bd3786\"],[0.5555555555555556,\"#d8576b\"],[0.6666666666666666,\"#ed7953\"],[0.7777777777777778,\"#fb9f3a\"],[0.8888888888888888,\"#fdca26\"],[1.0,\"#f0f921\"]]}],\"contourcarpet\":[{\"type\":\"contourcarpet\",\"colorbar\":{\"outlinewidth\":0,\"ticks\":\"\"}}],\"contour\":[{\"type\":\"contour\",\"colorbar\":{\"outlinewidth\":0,\"ticks\":\"\"},\"colorscale\":[[0.0,\"#0d0887\"],[0.1111111111111111,\"#46039f\"],[0.2222222222222222,\"#7201a8\"],[0.3333333333333333,\"#9c179e\"],[0.4444444444444444,\"#bd3786\"],[0.5555555555555556,\"#d8576b\"],[0.6666666666666666,\"#ed7953\"],[0.7777777777777778,\"#fb9f3a\"],[0.8888888888888888,\"#fdca26\"],[1.0,\"#f0f921\"]]}],\"surface\":[{\"type\":\"surface\",\"colorbar\":{\"outlinewidth\":0,\"ticks\":\"\"},\"colorscale\":[[0.0,\"#0d0887\"],[0.1111111111111111,\"#46039f\"],[0.2222222222222222,\"#7201a8\"],[0.3333333333333333,\"#9c179e\"],[0.4444444444444444,\"#bd3786\"],[0.5555555555555556,\"#d8576b\"],[0.6666666666666666,\"#ed7953\"],[0.7777777777777778,\"#fb9f3a\"],[0.8888888888888888,\"#fdca26\"],[1.0,\"#f0f921\"]]}],\"mesh3d\":[{\"type\":\"mesh3d\",\"colorbar\":{\"outlinewidth\":0,\"ticks\":\"\"}}],\"scatter\":[{\"fillpattern\":{\"fillmode\":\"overlay\",\"size\":10,\"solidity\":0.2},\"type\":\"scatter\"}],\"parcoords\":[{\"type\":\"parcoords\",\"line\":{\"colorbar\":{\"outlinewidth\":0,\"ticks\":\"\"}}}],\"scatterpolargl\":[{\"type\":\"scatterpolargl\",\"marker\":{\"colorbar\":{\"outlinewidth\":0,\"ticks\":\"\"}}}],\"bar\":[{\"error_x\":{\"color\":\"#2a3f5f\"},\"error_y\":{\"color\":\"#2a3f5f\"},\"marker\":{\"line\":{\"color\":\"#E5ECF6\",\"width\":0.5},\"pattern\":{\"fillmode\":\"overlay\",\"size\":10,\"solidity\":0.2}},\"type\":\"bar\"}],\"scattergeo\":[{\"type\":\"scattergeo\",\"marker\":{\"colorbar\":{\"outlinewidth\":0,\"ticks\":\"\"}}}],\"scatterpolar\":[{\"type\":\"scatterpolar\",\"marker\":{\"colorbar\":{\"outlinewidth\":0,\"ticks\":\"\"}}}],\"histogram\":[{\"marker\":{\"pattern\":{\"fillmode\":\"overlay\",\"size\":10,\"solidity\":0.2}},\"type\":\"histogram\"}],\"scattergl\":[{\"type\":\"scattergl\",\"marker\":{\"colorbar\":{\"outlinewidth\":0,\"ticks\":\"\"}}}],\"scatter3d\":[{\"type\":\"scatter3d\",\"line\":{\"colorbar\":{\"outlinewidth\":0,\"ticks\":\"\"}},\"marker\":{\"colorbar\":{\"outlinewidth\":0,\"ticks\":\"\"}}}],\"scattermapbox\":[{\"type\":\"scattermapbox\",\"marker\":{\"colorbar\":{\"outlinewidth\":0,\"ticks\":\"\"}}}],\"scatterternary\":[{\"type\":\"scatterternary\",\"marker\":{\"colorbar\":{\"outlinewidth\":0,\"ticks\":\"\"}}}],\"scattercarpet\":[{\"type\":\"scattercarpet\",\"marker\":{\"colorbar\":{\"outlinewidth\":0,\"ticks\":\"\"}}}],\"carpet\":[{\"aaxis\":{\"endlinecolor\":\"#2a3f5f\",\"gridcolor\":\"white\",\"linecolor\":\"white\",\"minorgridcolor\":\"white\",\"startlinecolor\":\"#2a3f5f\"},\"baxis\":{\"endlinecolor\":\"#2a3f5f\",\"gridcolor\":\"white\",\"linecolor\":\"white\",\"minorgridcolor\":\"white\",\"startlinecolor\":\"#2a3f5f\"},\"type\":\"carpet\"}],\"table\":[{\"cells\":{\"fill\":{\"color\":\"#EBF0F8\"},\"line\":{\"color\":\"white\"}},\"header\":{\"fill\":{\"color\":\"#C8D4E3\"},\"line\":{\"color\":\"white\"}},\"type\":\"table\"}],\"barpolar\":[{\"marker\":{\"line\":{\"color\":\"#E5ECF6\",\"width\":0.5},\"pattern\":{\"fillmode\":\"overlay\",\"size\":10,\"solidity\":0.2}},\"type\":\"barpolar\"}],\"pie\":[{\"automargin\":true,\"type\":\"pie\"}]},\"layout\":{\"autotypenumbers\":\"strict\",\"colorway\":[\"#636efa\",\"#EF553B\",\"#00cc96\",\"#ab63fa\",\"#FFA15A\",\"#19d3f3\",\"#FF6692\",\"#B6E880\",\"#FF97FF\",\"#FECB52\"],\"font\":{\"color\":\"#2a3f5f\"},\"hovermode\":\"closest\",\"hoverlabel\":{\"align\":\"left\"},\"paper_bgcolor\":\"white\",\"plot_bgcolor\":\"#E5ECF6\",\"polar\":{\"bgcolor\":\"#E5ECF6\",\"angularaxis\":{\"gridcolor\":\"white\",\"linecolor\":\"white\",\"ticks\":\"\"},\"radialaxis\":{\"gridcolor\":\"white\",\"linecolor\":\"white\",\"ticks\":\"\"}},\"ternary\":{\"bgcolor\":\"#E5ECF6\",\"aaxis\":{\"gridcolor\":\"white\",\"linecolor\":\"white\",\"ticks\":\"\"},\"baxis\":{\"gridcolor\":\"white\",\"linecolor\":\"white\",\"ticks\":\"\"},\"caxis\":{\"gridcolor\":\"white\",\"linecolor\":\"white\",\"ticks\":\"\"}},\"coloraxis\":{\"colorbar\":{\"outlinewidth\":0,\"ticks\":\"\"}},\"colorscale\":{\"sequential\":[[0.0,\"#0d0887\"],[0.1111111111111111,\"#46039f\"],[0.2222222222222222,\"#7201a8\"],[0.3333333333333333,\"#9c179e\"],[0.4444444444444444,\"#bd3786\"],[0.5555555555555556,\"#d8576b\"],[0.6666666666666666,\"#ed7953\"],[0.7777777777777778,\"#fb9f3a\"],[0.8888888888888888,\"#fdca26\"],[1.0,\"#f0f921\"]],\"sequentialminus\":[[0.0,\"#0d0887\"],[0.1111111111111111,\"#46039f\"],[0.2222222222222222,\"#7201a8\"],[0.3333333333333333,\"#9c179e\"],[0.4444444444444444,\"#bd3786\"],[0.5555555555555556,\"#d8576b\"],[0.6666666666666666,\"#ed7953\"],[0.7777777777777778,\"#fb9f3a\"],[0.8888888888888888,\"#fdca26\"],[1.0,\"#f0f921\"]],\"diverging\":[[0,\"#8e0152\"],[0.1,\"#c51b7d\"],[0.2,\"#de77ae\"],[0.3,\"#f1b6da\"],[0.4,\"#fde0ef\"],[0.5,\"#f7f7f7\"],[0.6,\"#e6f5d0\"],[0.7,\"#b8e186\"],[0.8,\"#7fbc41\"],[0.9,\"#4d9221\"],[1,\"#276419\"]]},\"xaxis\":{\"gridcolor\":\"white\",\"linecolor\":\"white\",\"ticks\":\"\",\"title\":{\"standoff\":15},\"zerolinecolor\":\"white\",\"automargin\":true,\"zerolinewidth\":2},\"yaxis\":{\"gridcolor\":\"white\",\"linecolor\":\"white\",\"ticks\":\"\",\"title\":{\"standoff\":15},\"zerolinecolor\":\"white\",\"automargin\":true,\"zerolinewidth\":2},\"scene\":{\"xaxis\":{\"backgroundcolor\":\"#E5ECF6\",\"gridcolor\":\"white\",\"linecolor\":\"white\",\"showbackground\":true,\"ticks\":\"\",\"zerolinecolor\":\"white\",\"gridwidth\":2},\"yaxis\":{\"backgroundcolor\":\"#E5ECF6\",\"gridcolor\":\"white\",\"linecolor\":\"white\",\"showbackground\":true,\"ticks\":\"\",\"zerolinecolor\":\"white\",\"gridwidth\":2},\"zaxis\":{\"backgroundcolor\":\"#E5ECF6\",\"gridcolor\":\"white\",\"linecolor\":\"white\",\"showbackground\":true,\"ticks\":\"\",\"zerolinecolor\":\"white\",\"gridwidth\":2}},\"shapedefaults\":{\"line\":{\"color\":\"#2a3f5f\"}},\"annotationdefaults\":{\"arrowcolor\":\"#2a3f5f\",\"arrowhead\":0,\"arrowwidth\":1},\"geo\":{\"bgcolor\":\"white\",\"landcolor\":\"#E5ECF6\",\"subunitcolor\":\"white\",\"showland\":true,\"showlakes\":true,\"lakecolor\":\"white\"},\"title\":{\"x\":0.05},\"mapbox\":{\"style\":\"light\"}}},\"xaxis\":{\"anchor\":\"y\",\"domain\":[0.0,0.49],\"scaleanchor\":\"y\",\"constrain\":\"domain\"},\"yaxis\":{\"anchor\":\"x\",\"domain\":[0.0,1.0],\"autorange\":true,\"constrain\":\"domain\"},\"xaxis2\":{\"anchor\":\"y2\",\"domain\":[0.51,1.0],\"matches\":\"x\"},\"yaxis2\":{\"anchor\":\"x2\",\"domain\":[0.0,1.0],\"matches\":\"y\",\"showticklabels\":false},\"annotations\":[{\"font\":{},\"showarrow\":false,\"text\":\"Intersects\",\"x\":0.245,\"xanchor\":\"center\",\"xref\":\"paper\",\"y\":1.0,\"yanchor\":\"bottom\",\"yref\":\"paper\"},{\"font\":{},\"showarrow\":false,\"text\":\"Distance\",\"x\":0.755,\"xanchor\":\"center\",\"xref\":\"paper\",\"y\":1.0,\"yanchor\":\"bottom\",\"yref\":\"paper\"}],\"coloraxis\":{\"colorscale\":[[0.0,\"#000004\"],[0.1111111111111111,\"#180f3d\"],[0.2222222222222222,\"#440f76\"],[0.3333333333333333,\"#721f81\"],[0.4444444444444444,\"#9e2f7f\"],[0.5555555555555556,\"#cd4071\"],[0.6666666666666666,\"#f1605d\"],[0.7777777777777778,\"#fd9668\"],[0.8888888888888888,\"#feca8d\"],[1.0,\"#fcfdbf\"]],\"showscale\":false},\"margin\":{\"t\":60},\"width\":1000},                        {\"responsive\": true}                    ).then(function(){\n",
              "                            \n",
              "var gd = document.getElementById('2e33b70a-a113-45fd-a09f-1025e295d3d8');\n",
              "var x = new MutationObserver(function (mutations, observer) {{\n",
              "        var display = window.getComputedStyle(gd).display;\n",
              "        if (!display || display === 'none') {{\n",
              "            console.log([gd, 'removed!']);\n",
              "            Plotly.purge(gd);\n",
              "            observer.disconnect();\n",
              "        }}\n",
              "}});\n",
              "\n",
              "// Listen for the removal of the full notebook cells\n",
              "var notebookContainer = gd.closest('#notebook-container');\n",
              "if (notebookContainer) {{\n",
              "    x.observe(notebookContainer, {childList: true});\n",
              "}}\n",
              "\n",
              "// Listen for the clearing of the current output cell\n",
              "var outputEl = gd.closest('.output');\n",
              "if (outputEl) {{\n",
              "    x.observe(outputEl, {childList: true});\n",
              "}}\n",
              "\n",
              "                        })                };                            </script>        </div>\n",
              "</body>\n",
              "</html>"
            ]
          },
          "metadata": {}
        }
      ],
      "source": [
        "def raytrace_mesh(\n",
        "    rays: Float[Tensor, \"nrays rayPoints=2 dims=3\"],\n",
        "    triangles: Float[Tensor, \"ntriangles trianglePoints=3 dims=3\"]\n",
        ") -> Float[Tensor, \"nrays\"]:\n",
        "    '''\n",
        "    For each ray, return the distance to the closest intersecting triangle, or infinity.\n",
        "    '''\n",
        "    nrays = rays.shape[0]\n",
        "    ntriangles = triangles.shape[0]\n",
        "    Os, Ds = einops.repeat(rays, \"nrays pts dims -> pts nrays ntriangles dims\", ntriangles=ntriangles)\n",
        "    As, Bs, Cs = einops.repeat(triangles, \"ntriangles pts dims -> pts nrays ntriangles dims\", nrays=nrays)\n",
        "    assert Os.shape == As.shape == (nrays, ntriangles, 3)\n",
        "\n",
        "    mat = t.stack([-Ds, Bs-As, Cs-As], dim=-1)\n",
        "    assert mat.shape == (nrays, ntriangles, 3, 3)\n",
        "    dets = t.linalg.det(mat)\n",
        "    locations_of_singular_matrices = t.isclose(dets, t.tensor(0.0))\n",
        "    mat[locations_of_singular_matrices] = t.eye(3)\n",
        "    sol = t.linalg.solve(mat, Os - As)\n",
        "    s, u, v = sol.unbind(dim=-1)\n",
        "    # taking the Euclidean distance\n",
        "    intersections = s[..., None] * Ds\n",
        "    row_norms = t.linalg.vector_norm(intersections, ord=2, dim=-1)\n",
        "    distances = t.where((u >= 0) & (v >= 0) & (u + v <= 1) & ~locations_of_singular_matrices, row_norms, t.tensor(float(\"inf\")))\n",
        "    assert distances.shape == (nrays, ntriangles)\n",
        "    return t.min(distances, dim=-1)[0]\n",
        "\n",
        "\n",
        "\n",
        "\n",
        "num_pixels_y = 120\n",
        "num_pixels_z = 120\n",
        "y_limit = z_limit = 1\n",
        "\n",
        "rays = make_rays_2d(num_pixels_y, num_pixels_z, y_limit, z_limit)\n",
        "rays[:, 0] = t.tensor([-2, 0.0, 0.0])\n",
        "dists = raytrace_mesh(rays, triangles)\n",
        "intersects = t.isfinite(dists).view(num_pixels_y, num_pixels_z)\n",
        "dists_square = dists.view(num_pixels_y, num_pixels_z)\n",
        "img = t.stack([intersects, dists_square], dim=0)\n",
        "\n",
        "fig = px.imshow(img, facet_col=0, origin=\"lower\", color_continuous_scale=\"magma\", width=1000)\n",
        "fig.update_layout(coloraxis_showscale=False)\n",
        "for i, text in enumerate([\"Intersects\", \"Distance\"]):\n",
        "    fig.layout.annotations[i]['text'] = text\n",
        "fig.show()"
      ]
    },
    {
      "cell_type": "markdown",
      "source": [
        "Congratulations, you've now got to the end of the exercises! Read on for some more bonus material."
      ],
      "metadata": {
        "id": "nUjytPB34Hag"
      }
    },
    {
      "cell_type": "markdown",
      "source": [
        "# 4️⃣ Bonus"
      ],
      "metadata": {
        "id": "Zs8QHl4JAcUn"
      }
    },
    {
      "cell_type": "markdown",
      "source": [
        "## More raytracing"
      ],
      "metadata": {
        "id": "dASlCgACCI3q"
      }
    },
    {
      "cell_type": "markdown",
      "source": [
        "\n",
        "\n",
        "Here are a few bonus exercises for you to do with your time.\n",
        "\n",
        "- Vectorize further to make a video.\n",
        "    - Each frame will have its own rays coming from a slightly different position.\n",
        "    - Pan the camera around for some dramatic footage.\n",
        "    - One way to do it is using the `mediapy` library to render the video.\n",
        "- Try rendering on the GPU and see if you can make it faster.\n",
        "- Allow each triangle to have a corresponding RGB color value and render a colored image.\n",
        "- Use multiple rays per pixel and combine them somehow to have smoother edges.\n",
        "\n",
        "Since this is a very difficult exercise, it would be a great opportunity for you to wheel out GPT-4 and use it to generate code!\n",
        "\n",
        "We've also provided you with a handful of sample renders below.\n",
        "\n",
        "<details>\n",
        "<summary>Render animation (using Plotly)</summary>\n",
        "\n",
        "```python\n",
        "from typing import Callable\n",
        "from tqdm import tqdm\n",
        "\n",
        "def raytrace_mesh_video(\n",
        "    rays: TT[\"nrays\", \"points\": 2, \"ndims\": 3],\n",
        "    triangles: TT[\"ntriangles\", \"npoints\": 3, \"ndims\": 3],\n",
        "    rotation_matrix: Callable[[float], TT[3, 3]],\n",
        "    num_frames: int,\n",
        ") -> TT[\"nframes\", \"nrays\", bool]:\n",
        "    result = []\n",
        "    theta = t.tensor(2 * t.pi) / num_frames\n",
        "    R = rotation_matrix(theta)\n",
        "    for theta in tqdm(range(num_frames)):\n",
        "        triangles = triangles @ R\n",
        "        result.append(raytrace_mesh(rays, triangles))\n",
        "    return t.stack(result, dim=0)\n",
        "\n",
        "if MAIN:\n",
        "    num_pixels_y = 200\n",
        "    num_pixels_z = 200\n",
        "    y_limit = z_limit = 1\n",
        "    num_frames = 50\n",
        "\n",
        "    rotation_matrix = lambda theta: t.tensor([\n",
        "        [t.cos(theta), 0.0, t.sin(theta)],\n",
        "        [0.0, 1.0, 0.0],\n",
        "        [-t.sin(theta), 0.0, t.cos(theta)],\n",
        "    ])\n",
        "\n",
        "    rays = make_rays_2d(num_pixels_y, num_pixels_z, y_limit, z_limit)\n",
        "    rays[:, 0] = t.tensor([-2, 0.0, 0.0])\n",
        "    dists = raytrace_mesh_video(rays, triangles, rotation_matrix, num_frames)\n",
        "    dists_square = dists.view(num_frames, num_pixels_y, num_pixels_z)\n",
        "\n",
        "    fig = px.imshow(dists_square, animation_frame=0, origin=\"lower\", color_continuous_scale=\"viridis_r\")\n",
        "    # zmin=0, zmax=2, color_continuous_scale=\"Brwnyl\"\n",
        "    fig.update_layout(coloraxis_showscale=False)\n",
        "    fig.show()\n",
        "```\n",
        "</details>\n",
        "\n",
        "\n",
        "<details>\n",
        "<summary>Rendering on GPU</summary>\n",
        "\n",
        "```python\n",
        "from einops import repeat, reduce, rearrange\n",
        "\n",
        "def make_rays_2d_origin(\n",
        "    num_pixels_y: int, num_pixels_z: int, y_limit: float, z_limit: float, origin: t.Tensor\n",
        ") -> t.Tensor:\n",
        "    '''\n",
        "    num_pixels_y: The number of pixels in the y dimension\n",
        "    num_pixels_z: The number of pixels in the z dimension\n",
        "    y_limit: At x=1, the rays should extend from -y_limit to +y_limit, inclusive of both.\n",
        "    z_limit: At x=1, the rays should extend from -z_limit to +z_limit, inclusive of both.\n",
        "    Returns: shape (num_rays=num_pixels_y * num_pixels_z, num_points=2, num_dims=3).\n",
        "    '''\n",
        "    rays = t.zeros((num_pixels_y, num_pixels_z, 2, 3))\n",
        "    rays[:, :, 1, 0] = 1\n",
        "    rays[:, :, 1, 1] = repeat(\n",
        "        t.arange(num_pixels_y) * 2.0 * y_limit / (num_pixels_y - 1) - y_limit, \"y -> y z\", z=num_pixels_z\n",
        "    )\n",
        "    rays[:, :, 1, 2] = repeat(\n",
        "        t.arange(num_pixels_z) * 2.0 * z_limit / (num_pixels_z - 1) - z_limit, \"z -> y z\", y=num_pixels_y\n",
        "    )\n",
        "    rays[:, :, 0, :] = origin\n",
        "    return rearrange(rays, \"y z n d -> (y z) n d\", n=2, d=3)\n",
        "\n",
        "def raytrace_mesh_gpu(triangles: t.Tensor, rays: t.Tensor) -> t.Tensor:\n",
        "    '''For each ray, return the distance to the closest intersecting triangle, or infinity.\n",
        "    triangles: shape (n_triangles, n_points=3, n_dims=3)\n",
        "    rays: shape (n_pixels, n_points=2, n_dims=3)\n",
        "    return: shape (n_pixels, )\n",
        "    '''\n",
        "    n_triangles = triangles.size(0)\n",
        "    n_pixels = rays.size(0)\n",
        "    device = \"cuda\"\n",
        "    matrices = t.zeros((n_pixels, n_triangles, 3, 3)).to(device)\n",
        "    rays_gpu = rays.to(device)\n",
        "    matrices[:, :, :, 0] = repeat(rays_gpu[:, 0] - rays_gpu[:, 1], \"r d -> r t d\", t=n_triangles)\n",
        "    triangles_gpu = triangles.to(device)\n",
        "    matrices[:, :, :, 1] = repeat(triangles_gpu[:, 1] - triangles_gpu[:, 0], \"t d -> r t d\", r=n_pixels)\n",
        "    matrices[:, :, :, 2] = repeat(triangles_gpu[:, 2] - triangles_gpu[:, 0], \"t d -> r t d\", r=n_pixels)\n",
        "    bs = repeat(rays_gpu[:, 0], \"r d -> r t d\", t=n_triangles) - repeat(\n",
        "        triangles_gpu[:, 0], \"t d -> r t d\", r=n_pixels\n",
        "    )\n",
        "    mask = t.linalg.det(matrices) != 0\n",
        "    distances = t.full((n_pixels, n_triangles), float(\"inf\")).to(device)\n",
        "    solns = t.linalg.solve(matrices[mask], bs[mask])\n",
        "    distances[mask] = t.where(\n",
        "        (solns[:, 0] >= 0) & (solns[:, 1] >= 0) & (solns[:, 2] >= 0) & (solns[:, 1] + solns[:, 2] <= 1),\n",
        "        solns[:, 0],\n",
        "        t.tensor(float(\"inf\")).to(device),\n",
        "    )\n",
        "    return reduce(distances, \"r t -> r\", \"min\").to(\"cpu\")\n",
        "\n",
        "\n",
        "if MAIN:\n",
        "    num_pixels_y = 120\n",
        "    num_pixels_z = 120\n",
        "    y_limit = z_limit = 3\n",
        "    rays = make_rays_2d_origin(num_pixels_y, num_pixels_z, y_limit, z_limit, t.tensor([-3.0, 0, 0]))\n",
        "    intersections = raytrace_mesh_gpu(triangles, rays)\n",
        "    picture = rearrange(intersections, \"(y z) -> y z\", y=num_pixels_y, z=num_pixels_z)\n",
        "    \n",
        "    fig = px.imshow(picture, origin=\"lower\").update_layout(coloraxis_showscale=False)\n",
        "    fig.show()\n",
        "```\n",
        "</details>\n",
        "\n",
        "<details>\n",
        "<summary>Rendering with lighting</summary>\n",
        "\n",
        "```python\n",
        "import math\n",
        "\n",
        "def raytrace_mesh_lighting(\n",
        "    triangles: t.Tensor, rays: t.Tensor, light: t.Tensor, ambient_intensity: float, device: str = \"cpu\"\n",
        ") -> t.Tensor:\n",
        "    '''For each ray, return the shade of the nearest triangle.\n",
        "    triangles: shape (n_triangles, n_points=3, n_dims=3)\n",
        "    rays: shape (n_pixels, n_points=2, n_dims=3)\n",
        "    light: shape (n_dims=3, )\n",
        "    device: The device to place tensors on.\n",
        "    return: shape (n_pixels, )\n",
        "    '''\n",
        "    n_triangles = triangles.size(0)\n",
        "    n_pixels = rays.size(0)\n",
        "    triangles = triangles.to(device)\n",
        "    rays = rays.to(device)\n",
        "    light = light.to(device)\n",
        "\n",
        "    matrices = t.zeros((n_pixels, n_triangles, 3, 3)).to(device)\n",
        "    directions = rays[:, 1] - rays[:, 0]\n",
        "    matrices[:, :, :, 0] = repeat(-directions, \"r d -> r t d\", t=n_triangles)\n",
        "    matrices[:, :, :, 1] = repeat(triangles[:, 1] - triangles[:, 0], \"t d -> r t d\", r=n_pixels)\n",
        "    matrices[:, :, :, 2] = repeat(triangles[:, 2] - triangles[:, 0], \"t d -> r t d\", r=n_pixels)\n",
        "    bs = repeat(rays[:, 0], \"r d -> r t d\", t=n_triangles) - repeat(triangles[:, 0], \"t d -> r t d\", r=n_pixels)\n",
        "    mask = t.linalg.det(matrices) != 0\n",
        "    distances = t.full((n_pixels, n_triangles), float(\"inf\")).to(device)\n",
        "    solns = t.linalg.solve(matrices[mask], bs[mask])\n",
        "    distances[mask] = t.where(\n",
        "        (solns[:, 0] >= 0) & (solns[:, 1] >= 0) & (solns[:, 2] >= 0) & (solns[:, 1] + solns[:, 2] <= 1),\n",
        "        solns[:, 0],\n",
        "        t.tensor(float(\"inf\")).to(device),\n",
        "    )\n",
        "    closest_triangle = distances.argmin(1)\n",
        "\n",
        "    normals = t.cross(triangles[:, 1] - triangles[:, 0], triangles[:, 2] - triangles[:, 0], dim=1)\n",
        "    normals = t.nn.functional.normalize(normals, p=2.0, dim=1)\n",
        "    intensity = t.einsum(\"td,d->t\", normals, light).gather(0, closest_triangle)\n",
        "    side = t.einsum(\"rd,rd->r\", normals.gather(0, repeat(closest_triangle, \"r -> r d\", d=3)), directions)\n",
        "    intensity = t.maximum(t.sign(side) * intensity, t.zeros(())) + ambient_intensity\n",
        "    intensity = t.where(\n",
        "        distances.gather(1, closest_triangle.unsqueeze(1)).squeeze(1) == float(\"inf\"),\n",
        "        t.tensor(0.0).to(device),\n",
        "        intensity,\n",
        "    )\n",
        "\n",
        "    return intensity.to(\"cpu\")\n",
        "\n",
        "def make_rays_camera(\n",
        "    num_pixels_v: int,\n",
        "    num_pixels_w: int,\n",
        "    v_limit: float,\n",
        "    w_limit: float,\n",
        "    origin: t.Tensor,\n",
        "    screen_distance: float,\n",
        "    roll: float,\n",
        "    pitch: float,\n",
        "    yaw: float,\n",
        ") -> t.Tensor:\n",
        "    '''\n",
        "    num_pixels_y: The number of pixels in the y dimension\n",
        "    num_pixels_z: The number of pixels in the z dimension\n",
        "    y_limit: At x=1, the rays should extend from -y_limit to +y_limit, inclusive of both.\n",
        "    z_limit: At x=1, the rays should extend from -z_limit to +z_limit, inclusive of both.\n",
        "    Returns: shape (num_rays=num_pixels_y * num_pixels_z, num_points=2, num_dims=3).\n",
        "    '''\n",
        "\n",
        "    normal = t.tensor([math.cos(pitch) * math.cos(yaw), math.sin(pitch), math.cos(pitch) * math.sin(yaw)])\n",
        "    w_vec = t.nn.functional.normalize(t.tensor([normal[2], 0, -normal[0]]), p=2.0, dim=0)\n",
        "    v_vec = t.cross(normal, w_vec)\n",
        "    w_vec_r = math.cos(roll) * w_vec + math.sin(roll) * v_vec\n",
        "    v_vec_r = math.cos(roll) * v_vec - math.sin(roll) * w_vec\n",
        "\n",
        "    rays = t.zeros((num_pixels_y, num_pixels_z, 2, 3))\n",
        "    rays[:, :, 1, :] += repeat(origin + normal * screen_distance, \"d -> w v d\", w=num_pixels_w, v=num_pixels_v)\n",
        "    rays[:, :, 1, :] += repeat(\n",
        "        t.einsum(\"w, d -> w d\", (t.arange(num_pixels_w) * 2.0 * w_limit / (num_pixels_w - 1) - w_limit), w_vec_r),\n",
        "        \"w d -> w v d\",\n",
        "        v=num_pixels_v,\n",
        "    )\n",
        "    rays[:, :, 1, :] += repeat(\n",
        "        t.einsum(\"v, d -> v d\", t.arange(num_pixels_v) * 2.0 * v_limit / (num_pixels_v - 1) - v_limit, v_vec_r),\n",
        "        \"v d -> w v d\",\n",
        "        w=num_pixels_w,\n",
        "    )\n",
        "\n",
        "    rays[:, :, 0, :] = origin\n",
        "    return rearrange(rays, \"y z n d -> (y z) n d\", n=2, d=3)\n",
        "\n",
        "\n",
        "\n",
        "if MAIN:\n",
        "    num_pixels_y = 150\n",
        "    num_pixels_z = 150\n",
        "    y_limit = z_limit = 3\n",
        "    rays = make_rays_2d_origin(num_pixels_y, num_pixels_z, y_limit, z_limit, t.tensor([-3.0, 0, 0]))\n",
        "    light = t.tensor([0.0, -1.0, 1.0])\n",
        "    ambient_intensity = 0.5\n",
        "    intersections = raytrace_mesh_lighting(triangles, rays, light, ambient_intensity, \"cuda\")\n",
        "    picture = rearrange(intersections, \"(y z) -> y z\", y=num_pixels_y, z=num_pixels_z)\n",
        "    \n",
        "    fig = px.imshow(picture, origin=\"lower\", labels={\"x\": \"X\", \"y\": \"Y\"}, color_continuous_scale=\"magma\").update_layout(coloraxis_showscale=False)\n",
        "    fig.show()\n",
        "```\n",
        "\n",
        "```python\n",
        "def get_random_rotation_matrix(N, theta_max=t.pi):\n",
        "    mat = t.eye(N)\n",
        "    for i in range(N):\n",
        "        rot_mat = t.eye(N)\n",
        "        theta = (t.rand(1) - 0.5) * theta_max\n",
        "        rot_mat_2d = t.tensor([\n",
        "            [t.cos(theta), -t.sin(theta)],\n",
        "            [t.sin(theta), t.cos(theta)]\n",
        "        ])\n",
        "        if i == N - 1:\n",
        "            rot_mat[[-1, -1, 0, 0], [-1, 0, -1, 0]] = rot_mat_2d.flatten()\n",
        "        else:\n",
        "            rot_mat[i :i+2, i :i+2] = rot_mat_2d\n",
        "        mat = mat @ rot_mat\n",
        "    return mat\n",
        "\n",
        "if MAIN:\n",
        "    num_pixels_y = 150\n",
        "    num_pixels_z = 150\n",
        "    y_limit = z_limit = 3\n",
        "\n",
        "    rays = make_rays_camera(num_pixels_y, num_pixels_z, y_limit, z_limit, t.tensor([-1.0, 3.0, 0.0]), 3.0, 0.0, -1.0, 0.0)\n",
        "    light = t.tensor([0.0, -1.0, 1.0])\n",
        "    ambient_intensity = 0.5\n",
        "    intersections = raytrace_mesh_lighting(triangles, rays, light, ambient_intensity, \"cuda\")\n",
        "    picture = rearrange(intersections, \"(y z) -> y z\", y=num_pixels_y, z=num_pixels_z)\n",
        "    fig = px.imshow(picture, origin=\"lower\", labels={\"x\": \"X\", \"y\": \"Y\"}, color_continuous_scale=\"magma\").update_layout(coloraxis_showscale=False)\n",
        "    fig.show()\n",
        "```\n",
        "</details>\n",
        "\n",
        "<details>\n",
        "<summary>Rendering with lambert shading</summary>\n",
        "\n",
        "```python\n",
        "def raytrace_mesh_lambert(triangles: t.Tensor, rays: t.Tensor) -> t.Tensor:\n",
        "    '''For each ray, return the distance to the closest intersecting triangle, or infinity.\n",
        "    triangles: shape (n_triangles, n_points=3, n_dims=3)\n",
        "    rays: shape (n_pixels, n_points=2, n_dims=3)\n",
        "    return: shape (n_pixels, )\n",
        "    '''\n",
        "    # triangles = [triangle, point, coord]\n",
        "    # rays = [pixel, orig_dir, coord]\n",
        "\n",
        "    n_triangles = len(triangles)\n",
        "    n_pixels = len(rays)\n",
        "\n",
        "    rep_triangles = einops.repeat(triangles, \"triangle point coord -> pixel triangle point coord\", pixel=n_pixels)\n",
        "    rep_rays = einops.repeat(rays, \"pixel orig_dir coord -> pixel triangle orig_dir coord\", triangle=n_triangles)\n",
        "\n",
        "    O = rep_rays[:, :, 0, :]  # [pixel, triangle, coord]\n",
        "    D = rep_rays[:, :, 1, :]  # [pixel, triangle, coord]\n",
        "    A = rep_triangles[:, :, 0, :]  # [pixel, triangle, coord]\n",
        "    B = rep_triangles[:, :, 1, :]  # [pixel, triangle, coord]\n",
        "    C = rep_triangles[:, :, 2, :]  # [pixel, triangle, coord]\n",
        "    rhs = O - A  # [pixel, triangle, coord]\n",
        "    lhs = t.stack([-D, B - A, C - A], dim=3)  # [pixel, triangle, coord, suv]\n",
        "    dets = t.linalg.det(lhs)  # [pixel, triangle]\n",
        "    dets = dets < 1e-5\n",
        "    eyes = t.einsum(\"i j , k l -> i j k l\", [dets, t.eye(3)])\n",
        "    lhs += eyes\n",
        "    results = t.linalg.solve(lhs, rhs)  # [pixel, triangle, suv]\n",
        "    intersects = (\n",
        "        ((results[:, :, 1] + results[:, :, 2]) <= 1)\n",
        "        & (results[:, :, 0] >= 0)\n",
        "        & (results[:, :, 1] >= 0)\n",
        "        & (results[:, :, 2] >= 0)\n",
        "        & (dets == False)\n",
        "    )  # [pixel, triangle]\n",
        "    distances = t.where(intersects, results[:, :, 0].double(), t.inf)  # [pixel, triangle]\n",
        "\n",
        "    # Lambert shading (dot product of triangle's normal vector with light direction)\n",
        "    indices = t.argmin(distances, dim=1)\n",
        "    tri_vecs1 = triangles[:, 0, :] - triangles[:, 1, :]\n",
        "    tri_vecs2 = triangles[:, 1, :] - triangles[:, 2, :]\n",
        "    normvecs = t.cross(tri_vecs1, tri_vecs2, dim=1)  # [triangle coord]\n",
        "    normvecs -= normvecs.min(1, keepdim=True)[0]\n",
        "    normvecs /= normvecs.max(1, keepdim=True)[0]\n",
        "    lightvec = t.tensor([[0.0, 1.0, 1.0]] * n_triangles)\n",
        "    tri_lights = abs(t.einsum(\"t c , t c -> t\", [normvecs, lightvec]))  # triangle\n",
        "    pixel_lights = 1.0 / (einops.reduce(distances, \"pixel triangle -> pixel\", \"min\")) ** 2\n",
        "    pixel_lights *= tri_lights[indices]\n",
        "    return pixel_lights\n",
        "\n",
        "\n",
        "\n",
        "if MAIN:\n",
        "    rot_mat = get_random_rotation_matrix(N=3, theta_max=t.pi/3)\n",
        "    num_pixels_y = 200\n",
        "    num_pixels_z = 200\n",
        "    y_limit = z_limit = 1\n",
        "    rays = make_rays_2d(num_pixels_y, num_pixels_z, y_limit, z_limit)\n",
        "    rays[:, 0, 0] = -2\n",
        "    rays[0, :, 0]\n",
        "    result = raytrace_mesh_lambert(t.einsum(\"i j k, k l -> i j l\", [triangles, rot_mat]), rays)\n",
        "    result = result.reshape(num_pixels_y, num_pixels_z)\n",
        "    fig = px.imshow(result, origin=\"lower\", labels={\"x\": \"X\", \"y\": \"Y\"}, color_continuous_scale=\"magma\").update_layout(coloraxis_showscale=False)\n",
        "    fig.show()\n",
        "```\n",
        "</details>\n",
        "\n",
        "\n",
        "<details>\n",
        "<summary>Rendering with hollow triangles</summary>\n",
        "\n",
        "```python\n",
        "def raytrace_mesh_lambert_wireframe(triangles: t.Tensor, rays: t.Tensor, triangle_perim: float = 0) -> t.Tensor:\n",
        "    '''For each ray, return the distance to the closest intersecting triangle, or infinity.\n",
        "    triangles: shape (n_triangles, n_points=3, n_dims=3)\n",
        "    rays: shape (n_pixels, n_points=2, n_dims=3)\n",
        "    return: shape (n_pixels, )\n",
        "    '''\n",
        "    # triangles = [triangle, point, coord]\n",
        "    # rays = [pixel, orig_dir, coord]\n",
        "\n",
        "    n_triangles = len(triangles)\n",
        "    n_pixels = len(rays)\n",
        "\n",
        "    rep_triangles = einops.repeat(triangles, \"triangle point coord -> pixel triangle point coord\", pixel=n_pixels)\n",
        "    rep_rays = einops.repeat(rays, \"pixel orig_dir coord -> pixel triangle orig_dir coord\", triangle=n_triangles)\n",
        "\n",
        "    O = rep_rays[:, :, 0, :]  # [pixel, triangle, coord]\n",
        "    D = rep_rays[:, :, 1, :]  # [pixel, triangle, coord]\n",
        "    A = rep_triangles[:, :, 0, :]  # [pixel, triangle, coord]\n",
        "    B = rep_triangles[:, :, 1, :]  # [pixel, triangle, coord]\n",
        "    C = rep_triangles[:, :, 2, :]  # [pixel, triangle, coord]\n",
        "    rhs = O - A  # [pixel, triangle, coord]\n",
        "    lhs = t.stack([-D, B - A, C - A], dim=3)  # [pixel, triangle, coord, suv]\n",
        "    dets = t.linalg.det(lhs)  # [pixel, triangle]\n",
        "    dets = dets < 1e-5\n",
        "    eyes = t.einsum(\"i j , k l -> i j k l\", [dets, t.eye(3)])\n",
        "    lhs += eyes\n",
        "    results = t.linalg.solve(lhs, rhs)  # [pixel, triangle, suv]\n",
        "    intersects = (\n",
        "        ((results[:, :, 1] + results[:, :, 2]) <= 1)\n",
        "        & (results[:, :, 0] >= 0.0)\n",
        "        & (results[:, :, 1] >= 0.0)\n",
        "        & (results[:, :, 2] >= 0.0)\n",
        "        & (dets == False)\n",
        "    )  # [pixel, triangle]\n",
        "    intersects_perim = (\n",
        "        ((results[:, :, 1] + results[:, :, 2]) >= 1 - triangle_perim)\n",
        "        | (results[:, :, 1] <= triangle_perim)\n",
        "        | (results[:, :, 2] <= triangle_perim)\n",
        "    )\n",
        "    intersects = intersects & intersects_perim\n",
        "    distances = t.where(intersects, results[:, :, 0].double(), t.inf)  # [pixel, triangle]\n",
        "\n",
        "    # Lambert shading (dot product of triangle's normal vector with light direction)\n",
        "    indices = t.argmin(distances, dim=1)\n",
        "    tri_vecs1 = triangles[:, 0, :] - triangles[:, 1, :]\n",
        "    tri_vecs2 = triangles[:, 1, :] - triangles[:, 2, :]\n",
        "    normvecs = t.cross(tri_vecs1, tri_vecs2, dim=1)  # [triangle coord]\n",
        "    normvecs -= normvecs.min(1, keepdim=True)[0]\n",
        "    normvecs /= normvecs.max(1, keepdim=True)[0]\n",
        "    lightvec = t.tensor([[0.0, 1.0, 1.0]] * n_triangles)\n",
        "    tri_lights = abs(t.einsum(\"t c , t c -> t\", [normvecs, lightvec]))  # triangle\n",
        "    pixel_lights = 1.0 / (einops.reduce(distances, \"pixel triangle -> pixel\", \"min\")) ** 2\n",
        "    pixel_lights *= tri_lights[indices]\n",
        "    return pixel_lights\n",
        "\n",
        "\n",
        "if MAIN:\n",
        "    rot_mat = get_random_rotation_matrix(N=3, theta_max=t.pi/4)\n",
        "    num_pixels_y = 200\n",
        "    num_pixels_z = 200\n",
        "    y_limit = z_limit = 1\n",
        "\n",
        "    triangle_perim = 0.1\n",
        "\n",
        "    rays = make_rays_2d(num_pixels_y, num_pixels_z, y_limit, z_limit)\n",
        "    rays[:, 0, 0] = -2\n",
        "    rays[0, :, 0]\n",
        "    result = raytrace_mesh_lambert_wireframe(t.einsum(\"i j k, k l -> i j l\", [triangles, rot_mat]), rays, triangle_perim)\n",
        "    result = result.reshape(num_pixels_y, num_pixels_z)\n",
        "    fig = px.imshow(result, origin=\"lower\", labels={\"x\": \"X\", \"y\": \"Y\"}, color_continuous_scale=\"magma\").update_layout(coloraxis_showscale=False)\n",
        "    fig.show()\n",
        "```\n",
        "</details>\n"
      ],
      "metadata": {
        "id": "cOZ5dOyN4zuI"
      }
    },
    {
      "cell_type": "markdown",
      "metadata": {
        "id": "qgMWkFcrCWzG"
      },
      "source": [
        "## Testing with `pytest`\n"
      ]
    },
    {
      "cell_type": "markdown",
      "metadata": {
        "id": "WZwyWAnZCWzG"
      },
      "source": [
        "> *Note - this section was also just written with VSCode in mind, so it might be less suitable for Colab, and you might consider skipping it.*"
      ]
    },
    {
      "cell_type": "markdown",
      "metadata": {
        "id": "eUup9MBqCWzG"
      },
      "source": [
        "To wrap up today, we're going to have a further discussion of **testing**. So far, our test functions have been pretty simple - we imported a test from the `part1_ray_tracing/tests.py` file, and ran it to compare our answers to the answers in `part1_ray_tracing/solutions.py`. This works perfectly fine, but there are other Python libraries which can make testing easier and more powerful. In particular, two such libraries are `unittest` and `pytest`. Both these libraries provide extensive features for modularizing and running test functions, and have nice integrations with VSCode. `unittest` is very powerful, but also has a steep learning curve and isn't worth the trouble of learning during a 6 week course. However, `pytest` is very useful and easy to learn, so we'll spend some time here discussing it.\n",
        "\n",
        "The pytest framework makes it easy to write small, readable tests, and can scale to support complex functional testing for applications and libraries. Today we'll just discuss a few features which will be particularly useful for the kinds of tests we'll be writing, but you're welcome to explore more tests later on.\n",
        "\n",
        "*Important note - if you're working on Colab or a notebook for these exercises, your tests won't work, because in this setup we'll be importing answers from our test file, rather than importing tests from our answers file. For this reason, we won't be using pytest for the structured exercises in this course (in case anybody is following these exercises in a notebook), but you're strongly recommended to use pytest when you're working from `.py` files instead - which is strongly recommended during much of the bonus content.*\n",
        "\n",
        "First, look at `part1_ray_tracing/tests.py`. The tests in this file all follow a similar pattern: evaluate your function on some input, check it equals the solution. This is a clear sign that we can use modularization to simplify our code! Compare this file to `part1_ray_tracing/test_with_pytest.py`, which contains the same tests but refactored using pytest. The latter is clearly separated into three sections: one for library imports, one for defining the inputs we'll use for our test functions, and one where we define our test functions.\n",
        "\n",
        "### Parametrization\n",
        "\n",
        "We use `pytest.mark.parametrize` to parametrize our tests. This means we can run the same test a bunch of different times on different inputs. In the non-pytest version, we did this by defining different functions (e.g. `test_intersect_ray_1d` and `test_intersect_ray_1d_special_case`), but this isn't necessary here.\n",
        "\n",
        "The syntax of a function decorated by `pytest.mark.parametrize` is:\n",
        "\n",
        "```python\n",
        "@pytest.mark.parametrize(\"arg1, arg2, arg3\", [\n",
        "    (val1, val2, val3),\n",
        "    (val4, val5, val6),\n",
        "    ...\n",
        "])\n",
        "def test_function(arg1, arg2, arg3):\n",
        "    ...\n",
        "```\n",
        "\n",
        "This will result in running `test_function` multiple times, the first time with `arg1=val1, arg2=val2, arg3=val3`, and the second time with `arg1=val4, arg2=val5, arg3=val6`, etc. This is a much better way to write tests, because it makes it easy for us to add new test cases without having to write new functions.\n",
        "\n",
        "### How to run these tests?\n",
        "\n",
        "There are three ways to run the above tests:\n",
        "\n",
        "1. **From the terminal**\n",
        "\n",
        "You can run them from the command line using the pytest command. Open your terminal in VSCode at the bottom of the screen, make sure you're in the directory `chapter0_fundamentals`, then enter the command `pytest`. This will search the current directory (or subdirectories) for any python files with the prefix `test_`, and within that file run all functions with the prefix `test_` (i.e. all the tests for these exercises).\n",
        "\n",
        "You can also add more complicated commands, like:\n",
        "\n",
        "* `pytest test_intersect_ray_1d` to specify the file to run tests from\n",
        "* `pytest test_intersect_ray_1d::test_intersect_ray_1d` to specify the file and test function\n",
        "\n",
        "2. **From your Python file**\n",
        "\n",
        "To do this, you need to call `pytest.main` (make sure this is wrapped in an `if MAIN` block). The first argument of this function is a list of args to `pytest`. This has analogous syntax to the command line option, for instance here are a few ways you can do this:\n",
        "\n",
        "```python\n",
        "if MAIN:\n",
        "    pytest.main([])\n",
        "    pytest.main([\"test_part1_ray_tracing.py\"])\n",
        "    pytest.main([\"test_part1_ray_tracing.py::test_intersect_ray_1d\"])\n",
        "```\n",
        "\n",
        "3. **From VSCode's testing display**\n",
        "\n",
        "This is by far the most useful way to run test functions. VSCode provides a helpful interface to run all test functions in your directory, and see which of them have passed. First, press the test icon on the left hand sidebar (it will look like a triangular flask). If this is your first time, then you'll need to click on the **Configure Python Tests** button, then select `pytest` as your framework (you may have to install pytest when prompted). This should automatically perform test discovery for you, showing you all the test files & functions in your current directory in the left hand window (it detects this the same way pytest does, using the `test_` prefix). You can hover over tests or files to see options like \"run test(s)\" or debug test(s)\". When you run them, you'll see a tick or cross appear next to the test, indicating whether it passed or failed.\n",
        "\n",
        "This is a very useful interface when you're working on a large project, because as you make updates you can easily re-run all tests, then identify & fix problems.\n",
        "\n",
        "<details>\n",
        "<summary>Help - I get <code>Error discovering pytest tests</code></summary>\n",
        "\n",
        "Try opening your terminal (at the bottom of the screen) and running `pytest --collect-only`. This should print output that helps you diagnose the problem.\n",
        "\n",
        "One possible issue is changing directories within your python files (e.g. with `os.chdir`), because this can often confuse PyTest's search for tests.\n",
        "</details>\n"
      ]
    },
    {
      "cell_type": "markdown",
      "metadata": {
        "id": "cuzT96BeCWzG"
      },
      "source": [
        "<details>\n",
        "<summary>Aside - <code># type: ignore</code></summary>\n",
        "\n",
        "Note that the test file has the annotation `# type: ignore` at the end of an import line, at the top of the file. This is because VSCode's typechecker will complain when you try and import a file that doesn't exist yet! This line removes the type error, and allows you to write functions without all those annoying squiggly red lines! However, don't overuse this annotation, because it can often be a signal that you've made a mistake in your code, or else have followed a bad coding practice.\n",
        "\n",
        "</details>\n",
        "\n",
        "<details>\n",
        "<summary>Aside - named tuples</summary>\n",
        "\n",
        "Another way you can clean this code up is to use **named tuples**. These are an especially nice and Pythonic structure which maintains the features of a tuple, but also allows you to define instances & access elements by name. For instance, instead of:\n",
        "\n",
        "```python\n",
        "ray_segment_batch = (\n",
        "    solutions.rays1d,\n",
        "    solutions.segments\n",
        ")\n",
        "```\n",
        "\n",
        "you could have:\n",
        "\n",
        "```python\n",
        "from collections import namedtuple\n",
        "TestCase = namedtuple(\"TestCase\", \"rays segments\")\n",
        "\n",
        "ray_segment_batch = TestCase(\n",
        "    rays = solutions.rays1d,\n",
        "    segments = solutions.segments\n",
        ")\n",
        "```\n",
        "\n",
        "and this `ray_segment_batch` object would still be treated like a tensor when it's used in a parameterized test.\n",
        "\n",
        "</details>\n"
      ]
    }
  ],
  "metadata": {
    "colab": {
      "collapsed_sections": [
        "wt4msOEr_vCz",
        "oaXrqIWf3mM1",
        "AveuRVvb4RE5",
        "FLk88ucC4xAh"
      ],
      "provenance": [],
      "include_colab_link": true
    },
    "kernelspec": {
      "display_name": "Python 3",
      "name": "python3"
    },
    "language_info": {
      "codemirror_mode": {
        "name": "ipython",
        "version": 3
      },
      "file_extension": ".py",
      "mimetype": "text/x-python",
      "name": "python",
      "nbconvert_exporter": "python",
      "pygments_lexer": "ipython3",
      "version": "3.10.9"
    },
    "widgets": {
      "application/vnd.jupyter.widget-state+json": {
        "21f2b5fdc8e442c5b24e5419969e8855": {
          "model_module": "jupyterlab-plotly",
          "model_name": "FigureModel",
          "model_module_version": "^5.15.0",
          "state": {
            "_config": {
              "plotlyServerURL": "https://plot.ly"
            },
            "_data": [
              {
                "x": [],
                "y": [],
                "type": "scatter",
                "uid": "e94e87e2-0b0b-4a7f-92e7-f910518d79d0"
              }
            ],
            "_dom_classes": [],
            "_js2py_layoutDelta": null,
            "_js2py_pointsCallback": {},
            "_js2py_relayout": {},
            "_js2py_restyle": {},
            "_js2py_traceDeltas": null,
            "_js2py_update": {},
            "_last_layout_edit_id": 25,
            "_last_trace_edit_id": 25,
            "_layout": {
              "height": 500,
              "width": 600
            },
            "_model_module": "jupyterlab-plotly",
            "_model_module_version": "^5.15.0",
            "_model_name": "FigureModel",
            "_py2js_addTraces": null,
            "_py2js_animate": {},
            "_py2js_deleteTraces": {},
            "_py2js_moveTraces": {},
            "_py2js_relayout": null,
            "_py2js_removeLayoutProps": null,
            "_py2js_removeTraceProps": {},
            "_py2js_restyle": {},
            "_py2js_update": null,
            "_view_count": 1,
            "_view_module": "jupyterlab-plotly",
            "_view_module_version": "^5.15.0",
            "_view_name": "FigureView"
          }
        },
        "82eb4a7df34c447cb41d896b3c459691": {
          "model_module": "@jupyter-widgets/base",
          "model_name": "LayoutModel",
          "model_module_version": "1.2.0",
          "state": {
            "_model_module": "@jupyter-widgets/base",
            "_model_module_version": "1.2.0",
            "_model_name": "LayoutModel",
            "_view_count": null,
            "_view_module": "@jupyter-widgets/base",
            "_view_module_version": "1.2.0",
            "_view_name": "LayoutView",
            "align_content": null,
            "align_items": null,
            "align_self": null,
            "border": null,
            "bottom": null,
            "display": null,
            "flex": null,
            "flex_flow": null,
            "grid_area": null,
            "grid_auto_columns": null,
            "grid_auto_flow": null,
            "grid_auto_rows": null,
            "grid_column": null,
            "grid_gap": null,
            "grid_row": null,
            "grid_template_areas": null,
            "grid_template_columns": null,
            "grid_template_rows": null,
            "height": null,
            "justify_content": null,
            "justify_items": null,
            "left": null,
            "margin": null,
            "max_height": null,
            "max_width": null,
            "min_height": null,
            "min_width": null,
            "object_fit": null,
            "object_position": null,
            "order": null,
            "overflow": null,
            "overflow_x": null,
            "overflow_y": null,
            "padding": null,
            "right": null,
            "top": null,
            "visibility": null,
            "width": null
          }
        },
        "bd4245be8df94506889bdf4a688a3acd": {
          "model_module": "@jupyter-widgets/base",
          "model_name": "LayoutModel",
          "model_module_version": "1.2.0",
          "state": {
            "_model_module": "@jupyter-widgets/base",
            "_model_module_version": "1.2.0",
            "_model_name": "LayoutModel",
            "_view_count": null,
            "_view_module": "@jupyter-widgets/base",
            "_view_module_version": "1.2.0",
            "_view_name": "LayoutView",
            "align_content": null,
            "align_items": null,
            "align_self": null,
            "border": null,
            "bottom": null,
            "display": null,
            "flex": null,
            "flex_flow": null,
            "grid_area": null,
            "grid_auto_columns": null,
            "grid_auto_flow": null,
            "grid_auto_rows": null,
            "grid_column": null,
            "grid_gap": null,
            "grid_row": null,
            "grid_template_areas": null,
            "grid_template_columns": null,
            "grid_template_rows": null,
            "height": null,
            "justify_content": null,
            "justify_items": null,
            "left": null,
            "margin": null,
            "max_height": null,
            "max_width": null,
            "min_height": null,
            "min_width": null,
            "object_fit": null,
            "object_position": null,
            "order": null,
            "overflow": null,
            "overflow_x": null,
            "overflow_y": null,
            "padding": null,
            "right": null,
            "top": null,
            "visibility": null,
            "width": null
          }
        },
        "111e9868349d4cdaaf1dedf6e2671e3b": {
          "model_module": "@jupyter-widgets/controls",
          "model_name": "SliderStyleModel",
          "model_module_version": "1.5.0",
          "state": {
            "_model_module": "@jupyter-widgets/controls",
            "_model_module_version": "1.5.0",
            "_model_name": "SliderStyleModel",
            "_view_count": null,
            "_view_module": "@jupyter-widgets/base",
            "_view_module_version": "1.2.0",
            "_view_name": "StyleView",
            "description_width": "",
            "handle_color": null
          }
        },
        "e7ef3ab08e3d4f798cb78647860cd94d": {
          "model_module": "@jupyter-widgets/base",
          "model_name": "LayoutModel",
          "model_module_version": "1.2.0",
          "state": {
            "_model_module": "@jupyter-widgets/base",
            "_model_module_version": "1.2.0",
            "_model_name": "LayoutModel",
            "_view_count": null,
            "_view_module": "@jupyter-widgets/base",
            "_view_module_version": "1.2.0",
            "_view_name": "LayoutView",
            "align_content": null,
            "align_items": null,
            "align_self": null,
            "border": null,
            "bottom": null,
            "display": null,
            "flex": null,
            "flex_flow": null,
            "grid_area": null,
            "grid_auto_columns": null,
            "grid_auto_flow": null,
            "grid_auto_rows": null,
            "grid_column": null,
            "grid_gap": null,
            "grid_row": null,
            "grid_template_areas": null,
            "grid_template_columns": null,
            "grid_template_rows": null,
            "height": null,
            "justify_content": null,
            "justify_items": null,
            "left": null,
            "margin": null,
            "max_height": null,
            "max_width": null,
            "min_height": null,
            "min_width": null,
            "object_fit": null,
            "object_position": null,
            "order": null,
            "overflow": null,
            "overflow_x": null,
            "overflow_y": null,
            "padding": null,
            "right": null,
            "top": null,
            "visibility": null,
            "width": null
          }
        },
        "dc66515b6c114071a8983e4c6c8638d8": {
          "model_module": "@jupyter-widgets/controls",
          "model_name": "SliderStyleModel",
          "model_module_version": "1.5.0",
          "state": {
            "_model_module": "@jupyter-widgets/controls",
            "_model_module_version": "1.5.0",
            "_model_name": "SliderStyleModel",
            "_view_count": null,
            "_view_module": "@jupyter-widgets/base",
            "_view_module_version": "1.2.0",
            "_view_name": "StyleView",
            "description_width": "",
            "handle_color": null
          }
        },
        "8af1942d4a8c4147ac26f454f7e31651": {
          "model_module": "@jupyter-widgets/base",
          "model_name": "LayoutModel",
          "model_module_version": "1.2.0",
          "state": {
            "_model_module": "@jupyter-widgets/base",
            "_model_module_version": "1.2.0",
            "_model_name": "LayoutModel",
            "_view_count": null,
            "_view_module": "@jupyter-widgets/base",
            "_view_module_version": "1.2.0",
            "_view_name": "LayoutView",
            "align_content": null,
            "align_items": null,
            "align_self": null,
            "border": null,
            "bottom": null,
            "display": null,
            "flex": null,
            "flex_flow": null,
            "grid_area": null,
            "grid_auto_columns": null,
            "grid_auto_flow": null,
            "grid_auto_rows": null,
            "grid_column": null,
            "grid_gap": null,
            "grid_row": null,
            "grid_template_areas": null,
            "grid_template_columns": null,
            "grid_template_rows": null,
            "height": null,
            "justify_content": null,
            "justify_items": null,
            "left": null,
            "margin": null,
            "max_height": null,
            "max_width": null,
            "min_height": null,
            "min_width": null,
            "object_fit": null,
            "object_position": null,
            "order": null,
            "overflow": null,
            "overflow_x": null,
            "overflow_y": null,
            "padding": null,
            "right": null,
            "top": null,
            "visibility": null,
            "width": null
          }
        },
        "5c7cae986c034aa78b86b544da9f287a": {
          "model_module": "@jupyter-widgets/controls",
          "model_name": "VBoxModel",
          "model_module_version": "1.5.0",
          "state": {
            "_dom_classes": [
              "widget-interact"
            ],
            "_model_module": "@jupyter-widgets/controls",
            "_model_module_version": "1.5.0",
            "_model_name": "VBoxModel",
            "_view_count": null,
            "_view_module": "@jupyter-widgets/controls",
            "_view_module_version": "1.5.0",
            "_view_name": "VBoxView",
            "box_style": "",
            "children": [
              "IPY_MODEL_37cd309bf4c1492bae7d377e128975ed",
              "IPY_MODEL_940912f8e6fb4d50b45146e1e53cdcc8",
              "IPY_MODEL_9af9bae6f6a9485496c26e07013068ef"
            ],
            "layout": "IPY_MODEL_82eb4a7df34c447cb41d896b3c459691"
          }
        },
        "37cd309bf4c1492bae7d377e128975ed": {
          "model_module": "@jupyter-widgets/controls",
          "model_name": "IntSliderModel",
          "model_module_version": "1.5.0",
          "state": {
            "_dom_classes": [],
            "_model_module": "@jupyter-widgets/controls",
            "_model_module_version": "1.5.0",
            "_model_name": "IntSliderModel",
            "_view_count": null,
            "_view_module": "@jupyter-widgets/controls",
            "_view_module_version": "1.5.0",
            "_view_name": "IntSliderView",
            "continuous_update": true,
            "description": "seed",
            "description_tooltip": null,
            "disabled": false,
            "layout": "IPY_MODEL_bd4245be8df94506889bdf4a688a3acd",
            "max": 10,
            "min": 0,
            "orientation": "horizontal",
            "readout": true,
            "readout_format": "d",
            "step": 1,
            "style": "IPY_MODEL_111e9868349d4cdaaf1dedf6e2671e3b",
            "value": 6
          }
        },
        "940912f8e6fb4d50b45146e1e53cdcc8": {
          "model_module": "@jupyter-widgets/controls",
          "model_name": "FloatSliderModel",
          "model_module_version": "1.5.0",
          "state": {
            "_dom_classes": [],
            "_model_module": "@jupyter-widgets/controls",
            "_model_module_version": "1.5.0",
            "_model_name": "FloatSliderModel",
            "_view_count": null,
            "_view_module": "@jupyter-widgets/controls",
            "_view_module_version": "1.5.0",
            "_view_name": "FloatSliderView",
            "continuous_update": true,
            "description": "v",
            "description_tooltip": null,
            "disabled": false,
            "layout": "IPY_MODEL_e7ef3ab08e3d4f798cb78647860cd94d",
            "max": 2,
            "min": -2,
            "orientation": "horizontal",
            "readout": true,
            "readout_format": ".2f",
            "step": 0.01,
            "style": "IPY_MODEL_dc66515b6c114071a8983e4c6c8638d8",
            "value": -1.29
          }
        },
        "9af9bae6f6a9485496c26e07013068ef": {
          "model_module": "@jupyter-widgets/output",
          "model_name": "OutputModel",
          "model_module_version": "1.0.0",
          "state": {
            "_dom_classes": [],
            "_model_module": "@jupyter-widgets/output",
            "_model_module_version": "1.0.0",
            "_model_name": "OutputModel",
            "_view_count": null,
            "_view_module": "@jupyter-widgets/output",
            "_view_module_version": "1.0.0",
            "_view_name": "OutputView",
            "layout": "IPY_MODEL_8af1942d4a8c4147ac26f454f7e31651",
            "msg_id": "",
            "outputs": []
          }
        },
        "9a3ebd03cec94cf99c8d62e45552e8c6": {
          "model_module": "@jupyter-widgets/controls",
          "model_name": "VBoxModel",
          "model_module_version": "1.5.0",
          "state": {
            "_dom_classes": [
              "widget-interact"
            ],
            "_model_module": "@jupyter-widgets/controls",
            "_model_module_version": "1.5.0",
            "_model_name": "VBoxModel",
            "_view_count": null,
            "_view_module": "@jupyter-widgets/controls",
            "_view_module_version": "1.5.0",
            "_view_name": "VBoxView",
            "box_style": "",
            "children": [
              "IPY_MODEL_c0adf0aa34964d3b9f28ef8f0f246110",
              "IPY_MODEL_fa394b7e98cb4a29a6d28e01274e8662",
              "IPY_MODEL_1bb197498c754a68aa79abec6756a9d3"
            ],
            "layout": "IPY_MODEL_07522799439847edbc88e1863e674e6c"
          }
        },
        "c0adf0aa34964d3b9f28ef8f0f246110": {
          "model_module": "@jupyter-widgets/controls",
          "model_name": "FloatSliderModel",
          "model_module_version": "1.5.0",
          "state": {
            "_dom_classes": [],
            "_model_module": "@jupyter-widgets/controls",
            "_model_module_version": "1.5.0",
            "_model_name": "FloatSliderModel",
            "_view_count": null,
            "_view_module": "@jupyter-widgets/controls",
            "_view_module_version": "1.5.0",
            "_view_name": "FloatSliderView",
            "continuous_update": true,
            "description": "u",
            "description_tooltip": null,
            "disabled": false,
            "layout": "IPY_MODEL_02b3db8ead8f4a2db335409e8edab543",
            "max": 1.5,
            "min": -0.5,
            "orientation": "horizontal",
            "readout": true,
            "readout_format": ".2f",
            "step": 0.01,
            "style": "IPY_MODEL_a157075ae662422082e7a7a340ade264",
            "value": 0.44999999999999996
          }
        },
        "fa394b7e98cb4a29a6d28e01274e8662": {
          "model_module": "@jupyter-widgets/controls",
          "model_name": "FloatSliderModel",
          "model_module_version": "1.5.0",
          "state": {
            "_dom_classes": [],
            "_model_module": "@jupyter-widgets/controls",
            "_model_module_version": "1.5.0",
            "_model_name": "FloatSliderModel",
            "_view_count": null,
            "_view_module": "@jupyter-widgets/controls",
            "_view_module_version": "1.5.0",
            "_view_name": "FloatSliderView",
            "continuous_update": true,
            "description": "v",
            "description_tooltip": null,
            "disabled": false,
            "layout": "IPY_MODEL_5fdc913318de41c18226c624f862b7df",
            "max": 1.5,
            "min": -0.5,
            "orientation": "horizontal",
            "readout": true,
            "readout_format": ".2f",
            "step": 0.01,
            "style": "IPY_MODEL_767adcb902ee4657891370ab2d9bb7df",
            "value": 0.42000000000000004
          }
        },
        "1bb197498c754a68aa79abec6756a9d3": {
          "model_module": "@jupyter-widgets/output",
          "model_name": "OutputModel",
          "model_module_version": "1.0.0",
          "state": {
            "_dom_classes": [],
            "_model_module": "@jupyter-widgets/output",
            "_model_module_version": "1.0.0",
            "_model_name": "OutputModel",
            "_view_count": null,
            "_view_module": "@jupyter-widgets/output",
            "_view_module_version": "1.0.0",
            "_view_name": "OutputView",
            "layout": "IPY_MODEL_6f6c269efbed4f828121b876a5bfc8c7",
            "msg_id": "",
            "outputs": []
          }
        },
        "07522799439847edbc88e1863e674e6c": {
          "model_module": "@jupyter-widgets/base",
          "model_name": "LayoutModel",
          "model_module_version": "1.2.0",
          "state": {
            "_model_module": "@jupyter-widgets/base",
            "_model_module_version": "1.2.0",
            "_model_name": "LayoutModel",
            "_view_count": null,
            "_view_module": "@jupyter-widgets/base",
            "_view_module_version": "1.2.0",
            "_view_name": "LayoutView",
            "align_content": null,
            "align_items": null,
            "align_self": null,
            "border": null,
            "bottom": null,
            "display": null,
            "flex": null,
            "flex_flow": null,
            "grid_area": null,
            "grid_auto_columns": null,
            "grid_auto_flow": null,
            "grid_auto_rows": null,
            "grid_column": null,
            "grid_gap": null,
            "grid_row": null,
            "grid_template_areas": null,
            "grid_template_columns": null,
            "grid_template_rows": null,
            "height": null,
            "justify_content": null,
            "justify_items": null,
            "left": null,
            "margin": null,
            "max_height": null,
            "max_width": null,
            "min_height": null,
            "min_width": null,
            "object_fit": null,
            "object_position": null,
            "order": null,
            "overflow": null,
            "overflow_x": null,
            "overflow_y": null,
            "padding": null,
            "right": null,
            "top": null,
            "visibility": null,
            "width": null
          }
        },
        "02b3db8ead8f4a2db335409e8edab543": {
          "model_module": "@jupyter-widgets/base",
          "model_name": "LayoutModel",
          "model_module_version": "1.2.0",
          "state": {
            "_model_module": "@jupyter-widgets/base",
            "_model_module_version": "1.2.0",
            "_model_name": "LayoutModel",
            "_view_count": null,
            "_view_module": "@jupyter-widgets/base",
            "_view_module_version": "1.2.0",
            "_view_name": "LayoutView",
            "align_content": null,
            "align_items": null,
            "align_self": null,
            "border": null,
            "bottom": null,
            "display": null,
            "flex": null,
            "flex_flow": null,
            "grid_area": null,
            "grid_auto_columns": null,
            "grid_auto_flow": null,
            "grid_auto_rows": null,
            "grid_column": null,
            "grid_gap": null,
            "grid_row": null,
            "grid_template_areas": null,
            "grid_template_columns": null,
            "grid_template_rows": null,
            "height": null,
            "justify_content": null,
            "justify_items": null,
            "left": null,
            "margin": null,
            "max_height": null,
            "max_width": null,
            "min_height": null,
            "min_width": null,
            "object_fit": null,
            "object_position": null,
            "order": null,
            "overflow": null,
            "overflow_x": null,
            "overflow_y": null,
            "padding": null,
            "right": null,
            "top": null,
            "visibility": null,
            "width": null
          }
        },
        "a157075ae662422082e7a7a340ade264": {
          "model_module": "@jupyter-widgets/controls",
          "model_name": "SliderStyleModel",
          "model_module_version": "1.5.0",
          "state": {
            "_model_module": "@jupyter-widgets/controls",
            "_model_module_version": "1.5.0",
            "_model_name": "SliderStyleModel",
            "_view_count": null,
            "_view_module": "@jupyter-widgets/base",
            "_view_module_version": "1.2.0",
            "_view_name": "StyleView",
            "description_width": "",
            "handle_color": null
          }
        },
        "5fdc913318de41c18226c624f862b7df": {
          "model_module": "@jupyter-widgets/base",
          "model_name": "LayoutModel",
          "model_module_version": "1.2.0",
          "state": {
            "_model_module": "@jupyter-widgets/base",
            "_model_module_version": "1.2.0",
            "_model_name": "LayoutModel",
            "_view_count": null,
            "_view_module": "@jupyter-widgets/base",
            "_view_module_version": "1.2.0",
            "_view_name": "LayoutView",
            "align_content": null,
            "align_items": null,
            "align_self": null,
            "border": null,
            "bottom": null,
            "display": null,
            "flex": null,
            "flex_flow": null,
            "grid_area": null,
            "grid_auto_columns": null,
            "grid_auto_flow": null,
            "grid_auto_rows": null,
            "grid_column": null,
            "grid_gap": null,
            "grid_row": null,
            "grid_template_areas": null,
            "grid_template_columns": null,
            "grid_template_rows": null,
            "height": null,
            "justify_content": null,
            "justify_items": null,
            "left": null,
            "margin": null,
            "max_height": null,
            "max_width": null,
            "min_height": null,
            "min_width": null,
            "object_fit": null,
            "object_position": null,
            "order": null,
            "overflow": null,
            "overflow_x": null,
            "overflow_y": null,
            "padding": null,
            "right": null,
            "top": null,
            "visibility": null,
            "width": null
          }
        },
        "767adcb902ee4657891370ab2d9bb7df": {
          "model_module": "@jupyter-widgets/controls",
          "model_name": "SliderStyleModel",
          "model_module_version": "1.5.0",
          "state": {
            "_model_module": "@jupyter-widgets/controls",
            "_model_module_version": "1.5.0",
            "_model_name": "SliderStyleModel",
            "_view_count": null,
            "_view_module": "@jupyter-widgets/base",
            "_view_module_version": "1.2.0",
            "_view_name": "StyleView",
            "description_width": "",
            "handle_color": null
          }
        },
        "6f6c269efbed4f828121b876a5bfc8c7": {
          "model_module": "@jupyter-widgets/base",
          "model_name": "LayoutModel",
          "model_module_version": "1.2.0",
          "state": {
            "_model_module": "@jupyter-widgets/base",
            "_model_module_version": "1.2.0",
            "_model_name": "LayoutModel",
            "_view_count": null,
            "_view_module": "@jupyter-widgets/base",
            "_view_module_version": "1.2.0",
            "_view_name": "LayoutView",
            "align_content": null,
            "align_items": null,
            "align_self": null,
            "border": null,
            "bottom": null,
            "display": null,
            "flex": null,
            "flex_flow": null,
            "grid_area": null,
            "grid_auto_columns": null,
            "grid_auto_flow": null,
            "grid_auto_rows": null,
            "grid_column": null,
            "grid_gap": null,
            "grid_row": null,
            "grid_template_areas": null,
            "grid_template_columns": null,
            "grid_template_rows": null,
            "height": null,
            "justify_content": null,
            "justify_items": null,
            "left": null,
            "margin": null,
            "max_height": null,
            "max_width": null,
            "min_height": null,
            "min_width": null,
            "object_fit": null,
            "object_position": null,
            "order": null,
            "overflow": null,
            "overflow_x": null,
            "overflow_y": null,
            "padding": null,
            "right": null,
            "top": null,
            "visibility": null,
            "width": null
          }
        },
        "5baa3c0dc2d548ecaf515a227b02a5c3": {
          "model_module": "jupyterlab-plotly",
          "model_name": "FigureModel",
          "model_module_version": "^5.15.0",
          "state": {
            "_config": {
              "plotlyServerURL": "https://plot.ly"
            },
            "_data": [
              {
                "marker": {
                  "size": 12
                },
                "mode": "markers+text",
                "text": [
                  "A",
                  "B",
                  "C"
                ],
                "textfont": {
                  "size": 18
                },
                "textposition": "middle left",
                "x": {
                  "dtype": "float32",
                  "shape": [
                    3
                  ]
                },
                "y": {
                  "dtype": "float32",
                  "shape": [
                    3
                  ]
                },
                "type": "scatter",
                "uid": "c0a99bfa-a7bd-44cc-96cf-6587d404733a"
              },
              {
                "mode": "lines",
                "x": [
                  0,
                  3,
                  2,
                  0
                ],
                "y": [
                  0,
                  0.5,
                  3,
                  0
                ],
                "type": "scatter",
                "uid": "0e91dd9f-5b3c-4357-b4f9-98f13652e50f"
              },
              {
                "marker": {
                  "size": 12,
                  "symbol": "x"
                },
                "mode": "markers",
                "x": [],
                "y": [],
                "type": "scatter",
                "uid": "92104066-b429-4bbe-b4c3-3c76aad6f78f"
              }
            ],
            "_dom_classes": [],
            "_js2py_layoutDelta": null,
            "_js2py_pointsCallback": null,
            "_js2py_relayout": null,
            "_js2py_restyle": {},
            "_js2py_traceDeltas": null,
            "_js2py_update": {},
            "_last_layout_edit_id": 64,
            "_last_trace_edit_id": 55,
            "_layout": {
              "height": 600,
              "showlegend": false,
              "template": {
                "data": {
                  "barpolar": [
                    {
                      "marker": {
                        "line": {
                          "color": "white",
                          "width": 0.5
                        },
                        "pattern": {
                          "fillmode": "overlay",
                          "size": 10,
                          "solidity": 0.2
                        }
                      },
                      "type": "barpolar"
                    }
                  ],
                  "bar": [
                    {
                      "error_x": {
                        "color": "rgb(36,36,36)"
                      },
                      "error_y": {
                        "color": "rgb(36,36,36)"
                      },
                      "marker": {
                        "line": {
                          "color": "white",
                          "width": 0.5
                        },
                        "pattern": {
                          "fillmode": "overlay",
                          "size": 10,
                          "solidity": 0.2
                        }
                      },
                      "type": "bar"
                    }
                  ],
                  "carpet": [
                    {
                      "aaxis": {
                        "endlinecolor": "rgb(36,36,36)",
                        "gridcolor": "white",
                        "linecolor": "white",
                        "minorgridcolor": "white",
                        "startlinecolor": "rgb(36,36,36)"
                      },
                      "baxis": {
                        "endlinecolor": "rgb(36,36,36)",
                        "gridcolor": "white",
                        "linecolor": "white",
                        "minorgridcolor": "white",
                        "startlinecolor": "rgb(36,36,36)"
                      },
                      "type": "carpet"
                    }
                  ],
                  "choropleth": [
                    {
                      "colorbar": {
                        "outlinewidth": 1,
                        "tickcolor": "rgb(36,36,36)",
                        "ticks": "outside"
                      },
                      "type": "choropleth"
                    }
                  ],
                  "contourcarpet": [
                    {
                      "colorbar": {
                        "outlinewidth": 1,
                        "tickcolor": "rgb(36,36,36)",
                        "ticks": "outside"
                      },
                      "type": "contourcarpet"
                    }
                  ],
                  "contour": [
                    {
                      "colorbar": {
                        "outlinewidth": 1,
                        "tickcolor": "rgb(36,36,36)",
                        "ticks": "outside"
                      },
                      "colorscale": [
                        [
                          0,
                          "#440154"
                        ],
                        [
                          0.1111111111111111,
                          "#482878"
                        ],
                        [
                          0.2222222222222222,
                          "#3e4989"
                        ],
                        [
                          0.3333333333333333,
                          "#31688e"
                        ],
                        [
                          0.4444444444444444,
                          "#26828e"
                        ],
                        [
                          0.5555555555555556,
                          "#1f9e89"
                        ],
                        [
                          0.6666666666666666,
                          "#35b779"
                        ],
                        [
                          0.7777777777777778,
                          "#6ece58"
                        ],
                        [
                          0.8888888888888888,
                          "#b5de2b"
                        ],
                        [
                          1,
                          "#fde725"
                        ]
                      ],
                      "type": "contour"
                    }
                  ],
                  "heatmapgl": [
                    {
                      "colorbar": {
                        "outlinewidth": 1,
                        "tickcolor": "rgb(36,36,36)",
                        "ticks": "outside"
                      },
                      "colorscale": [
                        [
                          0,
                          "#440154"
                        ],
                        [
                          0.1111111111111111,
                          "#482878"
                        ],
                        [
                          0.2222222222222222,
                          "#3e4989"
                        ],
                        [
                          0.3333333333333333,
                          "#31688e"
                        ],
                        [
                          0.4444444444444444,
                          "#26828e"
                        ],
                        [
                          0.5555555555555556,
                          "#1f9e89"
                        ],
                        [
                          0.6666666666666666,
                          "#35b779"
                        ],
                        [
                          0.7777777777777778,
                          "#6ece58"
                        ],
                        [
                          0.8888888888888888,
                          "#b5de2b"
                        ],
                        [
                          1,
                          "#fde725"
                        ]
                      ],
                      "type": "heatmapgl"
                    }
                  ],
                  "heatmap": [
                    {
                      "colorbar": {
                        "outlinewidth": 1,
                        "tickcolor": "rgb(36,36,36)",
                        "ticks": "outside"
                      },
                      "colorscale": [
                        [
                          0,
                          "#440154"
                        ],
                        [
                          0.1111111111111111,
                          "#482878"
                        ],
                        [
                          0.2222222222222222,
                          "#3e4989"
                        ],
                        [
                          0.3333333333333333,
                          "#31688e"
                        ],
                        [
                          0.4444444444444444,
                          "#26828e"
                        ],
                        [
                          0.5555555555555556,
                          "#1f9e89"
                        ],
                        [
                          0.6666666666666666,
                          "#35b779"
                        ],
                        [
                          0.7777777777777778,
                          "#6ece58"
                        ],
                        [
                          0.8888888888888888,
                          "#b5de2b"
                        ],
                        [
                          1,
                          "#fde725"
                        ]
                      ],
                      "type": "heatmap"
                    }
                  ],
                  "histogram2dcontour": [
                    {
                      "colorbar": {
                        "outlinewidth": 1,
                        "tickcolor": "rgb(36,36,36)",
                        "ticks": "outside"
                      },
                      "colorscale": [
                        [
                          0,
                          "#440154"
                        ],
                        [
                          0.1111111111111111,
                          "#482878"
                        ],
                        [
                          0.2222222222222222,
                          "#3e4989"
                        ],
                        [
                          0.3333333333333333,
                          "#31688e"
                        ],
                        [
                          0.4444444444444444,
                          "#26828e"
                        ],
                        [
                          0.5555555555555556,
                          "#1f9e89"
                        ],
                        [
                          0.6666666666666666,
                          "#35b779"
                        ],
                        [
                          0.7777777777777778,
                          "#6ece58"
                        ],
                        [
                          0.8888888888888888,
                          "#b5de2b"
                        ],
                        [
                          1,
                          "#fde725"
                        ]
                      ],
                      "type": "histogram2dcontour"
                    }
                  ],
                  "histogram2d": [
                    {
                      "colorbar": {
                        "outlinewidth": 1,
                        "tickcolor": "rgb(36,36,36)",
                        "ticks": "outside"
                      },
                      "colorscale": [
                        [
                          0,
                          "#440154"
                        ],
                        [
                          0.1111111111111111,
                          "#482878"
                        ],
                        [
                          0.2222222222222222,
                          "#3e4989"
                        ],
                        [
                          0.3333333333333333,
                          "#31688e"
                        ],
                        [
                          0.4444444444444444,
                          "#26828e"
                        ],
                        [
                          0.5555555555555556,
                          "#1f9e89"
                        ],
                        [
                          0.6666666666666666,
                          "#35b779"
                        ],
                        [
                          0.7777777777777778,
                          "#6ece58"
                        ],
                        [
                          0.8888888888888888,
                          "#b5de2b"
                        ],
                        [
                          1,
                          "#fde725"
                        ]
                      ],
                      "type": "histogram2d"
                    }
                  ],
                  "histogram": [
                    {
                      "marker": {
                        "line": {
                          "color": "white",
                          "width": 0.6
                        }
                      },
                      "type": "histogram"
                    }
                  ],
                  "mesh3d": [
                    {
                      "colorbar": {
                        "outlinewidth": 1,
                        "tickcolor": "rgb(36,36,36)",
                        "ticks": "outside"
                      },
                      "type": "mesh3d"
                    }
                  ],
                  "parcoords": [
                    {
                      "line": {
                        "colorbar": {
                          "outlinewidth": 1,
                          "tickcolor": "rgb(36,36,36)",
                          "ticks": "outside"
                        }
                      },
                      "type": "parcoords"
                    }
                  ],
                  "pie": [
                    {
                      "automargin": true,
                      "type": "pie"
                    }
                  ],
                  "scatter3d": [
                    {
                      "line": {
                        "colorbar": {
                          "outlinewidth": 1,
                          "tickcolor": "rgb(36,36,36)",
                          "ticks": "outside"
                        }
                      },
                      "marker": {
                        "colorbar": {
                          "outlinewidth": 1,
                          "tickcolor": "rgb(36,36,36)",
                          "ticks": "outside"
                        }
                      },
                      "type": "scatter3d"
                    }
                  ],
                  "scattercarpet": [
                    {
                      "marker": {
                        "colorbar": {
                          "outlinewidth": 1,
                          "tickcolor": "rgb(36,36,36)",
                          "ticks": "outside"
                        }
                      },
                      "type": "scattercarpet"
                    }
                  ],
                  "scattergeo": [
                    {
                      "marker": {
                        "colorbar": {
                          "outlinewidth": 1,
                          "tickcolor": "rgb(36,36,36)",
                          "ticks": "outside"
                        }
                      },
                      "type": "scattergeo"
                    }
                  ],
                  "scattergl": [
                    {
                      "marker": {
                        "colorbar": {
                          "outlinewidth": 1,
                          "tickcolor": "rgb(36,36,36)",
                          "ticks": "outside"
                        }
                      },
                      "type": "scattergl"
                    }
                  ],
                  "scattermapbox": [
                    {
                      "marker": {
                        "colorbar": {
                          "outlinewidth": 1,
                          "tickcolor": "rgb(36,36,36)",
                          "ticks": "outside"
                        }
                      },
                      "type": "scattermapbox"
                    }
                  ],
                  "scatterpolargl": [
                    {
                      "marker": {
                        "colorbar": {
                          "outlinewidth": 1,
                          "tickcolor": "rgb(36,36,36)",
                          "ticks": "outside"
                        }
                      },
                      "type": "scatterpolargl"
                    }
                  ],
                  "scatterpolar": [
                    {
                      "marker": {
                        "colorbar": {
                          "outlinewidth": 1,
                          "tickcolor": "rgb(36,36,36)",
                          "ticks": "outside"
                        }
                      },
                      "type": "scatterpolar"
                    }
                  ],
                  "scatter": [
                    {
                      "fillpattern": {
                        "fillmode": "overlay",
                        "size": 10,
                        "solidity": 0.2
                      },
                      "type": "scatter"
                    }
                  ],
                  "scatterternary": [
                    {
                      "marker": {
                        "colorbar": {
                          "outlinewidth": 1,
                          "tickcolor": "rgb(36,36,36)",
                          "ticks": "outside"
                        }
                      },
                      "type": "scatterternary"
                    }
                  ],
                  "surface": [
                    {
                      "colorbar": {
                        "outlinewidth": 1,
                        "tickcolor": "rgb(36,36,36)",
                        "ticks": "outside"
                      },
                      "colorscale": [
                        [
                          0,
                          "#440154"
                        ],
                        [
                          0.1111111111111111,
                          "#482878"
                        ],
                        [
                          0.2222222222222222,
                          "#3e4989"
                        ],
                        [
                          0.3333333333333333,
                          "#31688e"
                        ],
                        [
                          0.4444444444444444,
                          "#26828e"
                        ],
                        [
                          0.5555555555555556,
                          "#1f9e89"
                        ],
                        [
                          0.6666666666666666,
                          "#35b779"
                        ],
                        [
                          0.7777777777777778,
                          "#6ece58"
                        ],
                        [
                          0.8888888888888888,
                          "#b5de2b"
                        ],
                        [
                          1,
                          "#fde725"
                        ]
                      ],
                      "type": "surface"
                    }
                  ],
                  "table": [
                    {
                      "cells": {
                        "fill": {
                          "color": "rgb(237,237,237)"
                        },
                        "line": {
                          "color": "white"
                        }
                      },
                      "header": {
                        "fill": {
                          "color": "rgb(217,217,217)"
                        },
                        "line": {
                          "color": "white"
                        }
                      },
                      "type": "table"
                    }
                  ]
                },
                "layout": {
                  "annotationdefaults": {
                    "arrowhead": 0,
                    "arrowwidth": 1
                  },
                  "autotypenumbers": "strict",
                  "coloraxis": {
                    "colorbar": {
                      "outlinewidth": 1,
                      "tickcolor": "rgb(36,36,36)",
                      "ticks": "outside"
                    }
                  },
                  "colorscale": {
                    "diverging": [
                      [
                        0,
                        "rgb(103,0,31)"
                      ],
                      [
                        0.1,
                        "rgb(178,24,43)"
                      ],
                      [
                        0.2,
                        "rgb(214,96,77)"
                      ],
                      [
                        0.3,
                        "rgb(244,165,130)"
                      ],
                      [
                        0.4,
                        "rgb(253,219,199)"
                      ],
                      [
                        0.5,
                        "rgb(247,247,247)"
                      ],
                      [
                        0.6,
                        "rgb(209,229,240)"
                      ],
                      [
                        0.7,
                        "rgb(146,197,222)"
                      ],
                      [
                        0.8,
                        "rgb(67,147,195)"
                      ],
                      [
                        0.9,
                        "rgb(33,102,172)"
                      ],
                      [
                        1,
                        "rgb(5,48,97)"
                      ]
                    ],
                    "sequential": [
                      [
                        0,
                        "#440154"
                      ],
                      [
                        0.1111111111111111,
                        "#482878"
                      ],
                      [
                        0.2222222222222222,
                        "#3e4989"
                      ],
                      [
                        0.3333333333333333,
                        "#31688e"
                      ],
                      [
                        0.4444444444444444,
                        "#26828e"
                      ],
                      [
                        0.5555555555555556,
                        "#1f9e89"
                      ],
                      [
                        0.6666666666666666,
                        "#35b779"
                      ],
                      [
                        0.7777777777777778,
                        "#6ece58"
                      ],
                      [
                        0.8888888888888888,
                        "#b5de2b"
                      ],
                      [
                        1,
                        "#fde725"
                      ]
                    ],
                    "sequentialminus": [
                      [
                        0,
                        "#440154"
                      ],
                      [
                        0.1111111111111111,
                        "#482878"
                      ],
                      [
                        0.2222222222222222,
                        "#3e4989"
                      ],
                      [
                        0.3333333333333333,
                        "#31688e"
                      ],
                      [
                        0.4444444444444444,
                        "#26828e"
                      ],
                      [
                        0.5555555555555556,
                        "#1f9e89"
                      ],
                      [
                        0.6666666666666666,
                        "#35b779"
                      ],
                      [
                        0.7777777777777778,
                        "#6ece58"
                      ],
                      [
                        0.8888888888888888,
                        "#b5de2b"
                      ],
                      [
                        1,
                        "#fde725"
                      ]
                    ]
                  },
                  "colorway": [
                    "#1F77B4",
                    "#FF7F0E",
                    "#2CA02C",
                    "#D62728",
                    "#9467BD",
                    "#8C564B",
                    "#E377C2",
                    "#7F7F7F",
                    "#BCBD22",
                    "#17BECF"
                  ],
                  "font": {
                    "color": "rgb(36,36,36)"
                  },
                  "geo": {
                    "bgcolor": "white",
                    "lakecolor": "white",
                    "landcolor": "white",
                    "showlakes": true,
                    "showland": true,
                    "subunitcolor": "white"
                  },
                  "hoverlabel": {
                    "align": "left"
                  },
                  "hovermode": "closest",
                  "mapbox": {
                    "style": "light"
                  },
                  "paper_bgcolor": "white",
                  "plot_bgcolor": "white",
                  "polar": {
                    "angularaxis": {
                      "gridcolor": "rgb(232,232,232)",
                      "linecolor": "rgb(36,36,36)",
                      "showgrid": false,
                      "showline": true,
                      "ticks": "outside"
                    },
                    "bgcolor": "white",
                    "radialaxis": {
                      "gridcolor": "rgb(232,232,232)",
                      "linecolor": "rgb(36,36,36)",
                      "showgrid": false,
                      "showline": true,
                      "ticks": "outside"
                    }
                  },
                  "scene": {
                    "xaxis": {
                      "backgroundcolor": "white",
                      "gridcolor": "rgb(232,232,232)",
                      "gridwidth": 2,
                      "linecolor": "rgb(36,36,36)",
                      "showbackground": true,
                      "showgrid": false,
                      "showline": true,
                      "ticks": "outside",
                      "zeroline": false,
                      "zerolinecolor": "rgb(36,36,36)"
                    },
                    "yaxis": {
                      "backgroundcolor": "white",
                      "gridcolor": "rgb(232,232,232)",
                      "gridwidth": 2,
                      "linecolor": "rgb(36,36,36)",
                      "showbackground": true,
                      "showgrid": false,
                      "showline": true,
                      "ticks": "outside",
                      "zeroline": false,
                      "zerolinecolor": "rgb(36,36,36)"
                    },
                    "zaxis": {
                      "backgroundcolor": "white",
                      "gridcolor": "rgb(232,232,232)",
                      "gridwidth": 2,
                      "linecolor": "rgb(36,36,36)",
                      "showbackground": true,
                      "showgrid": false,
                      "showline": true,
                      "ticks": "outside",
                      "zeroline": false,
                      "zerolinecolor": "rgb(36,36,36)"
                    }
                  },
                  "shapedefaults": {
                    "fillcolor": "black",
                    "line": {
                      "width": 0
                    },
                    "opacity": 0.3
                  },
                  "ternary": {
                    "aaxis": {
                      "gridcolor": "rgb(232,232,232)",
                      "linecolor": "rgb(36,36,36)",
                      "showgrid": false,
                      "showline": true,
                      "ticks": "outside"
                    },
                    "baxis": {
                      "gridcolor": "rgb(232,232,232)",
                      "linecolor": "rgb(36,36,36)",
                      "showgrid": false,
                      "showline": true,
                      "ticks": "outside"
                    },
                    "bgcolor": "white",
                    "caxis": {
                      "gridcolor": "rgb(232,232,232)",
                      "linecolor": "rgb(36,36,36)",
                      "showgrid": false,
                      "showline": true,
                      "ticks": "outside"
                    }
                  },
                  "title": {
                    "x": 0.05
                  },
                  "xaxis": {
                    "automargin": true,
                    "gridcolor": "rgb(232,232,232)",
                    "linecolor": "rgb(36,36,36)",
                    "showgrid": false,
                    "showline": true,
                    "ticks": "outside",
                    "title": {
                      "standoff": 15
                    },
                    "zeroline": false,
                    "zerolinecolor": "rgb(36,36,36)"
                  },
                  "yaxis": {
                    "automargin": true,
                    "gridcolor": "rgb(232,232,232)",
                    "linecolor": "rgb(36,36,36)",
                    "showgrid": false,
                    "showline": true,
                    "ticks": "outside",
                    "title": {
                      "standoff": 15
                    },
                    "zeroline": false,
                    "zerolinecolor": "rgb(36,36,36)"
                  }
                }
              },
              "title": {
                "text": "Barycentric coordinates illustration"
              },
              "width": 800,
              "xaxis": {
                "range": [
                  -3,
                  8
                ]
              },
              "yaxis": {
                "range": [
                  -2,
                  5.5
                ]
              }
            },
            "_model_module": "jupyterlab-plotly",
            "_model_module_version": "^5.15.0",
            "_model_name": "FigureModel",
            "_py2js_addTraces": {},
            "_py2js_animate": {},
            "_py2js_deleteTraces": {},
            "_py2js_moveTraces": {},
            "_py2js_relayout": null,
            "_py2js_removeLayoutProps": null,
            "_py2js_removeTraceProps": {},
            "_py2js_restyle": {},
            "_py2js_update": null,
            "_view_count": 1,
            "_view_module": "jupyterlab-plotly",
            "_view_module_version": "^5.15.0",
            "_view_name": "FigureView"
          }
        }
      }
    }
  },
  "nbformat": 4,
  "nbformat_minor": 0
}